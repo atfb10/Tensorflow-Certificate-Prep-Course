{
 "cells": [
  {
   "cell_type": "markdown",
   "id": "b7ad7bc4-1039-4067-a9d8-c12d786029fa",
   "metadata": {},
   "source": [
    "# Adam Forestier"
   ]
  },
  {
   "cell_type": "markdown",
   "id": "38629076-29d9-476a-aaa0-6393f915a7f5",
   "metadata": {},
   "source": [
    "## Last Updated: August 9, 2023"
   ]
  },
  {
   "cell_type": "code",
   "execution_count": 172,
   "id": "e076b7b6-aa68-4e12-a937-51c9fcd33144",
   "metadata": {},
   "outputs": [],
   "source": [
    "from matplotlib.image import imread\n",
    "import numpy as np\n",
    "import pandas as pd"
   ]
  },
  {
   "cell_type": "markdown",
   "id": "1f0b6ac2-a2e5-496c-b610-d80bb4d7277f",
   "metadata": {},
   "source": [
    "### Data Types\n",
    "* NumPy's main datatype is ndarray (n-dimensional array)\n",
    "  - Axis 0 refers to rows\n",
    "  - Axis 1 refers to columns\n",
    "  - Axis n refers to dimensions, or depth (think of it as list of matrixes)"
   ]
  },
  {
   "cell_type": "code",
   "execution_count": 173,
   "id": "cc981ceb-d750-4c3a-8c43-c70e964f4655",
   "metadata": {},
   "outputs": [],
   "source": [
    "# 1 dimensional array - vector\n",
    "a1 = np.array([1, 2, 3])"
   ]
  },
  {
   "cell_type": "code",
   "execution_count": 174,
   "id": "87189aac-c93d-4061-b91f-690477b87735",
   "metadata": {},
   "outputs": [
    {
     "data": {
      "text/plain": [
       "array([[ 3, 43,  2],\n",
       "       [99, 23,  1]])"
      ]
     },
     "execution_count": 174,
     "metadata": {},
     "output_type": "execute_result"
    }
   ],
   "source": [
    "# 2 dimensional array - matrix\n",
    "a2 = np.array([[3, 43, 2],\n",
    "               [99, 23, 1]])\n",
    "a2"
   ]
  },
  {
   "cell_type": "code",
   "execution_count": 175,
   "id": "7b5e6335-726f-4554-aa50-3b342f7b4dfb",
   "metadata": {},
   "outputs": [
    {
     "data": {
      "text/plain": [
       "array([[[21.  , 76.  , 88.  ],\n",
       "        [99.  , 82.  , 22.2 ],\n",
       "        [22.66, 21.4 ,  9.  ]],\n",
       "\n",
       "       [[ 1.  ,  2.  ,  3.  ],\n",
       "        [33.  ,  1.  , 23.  ],\n",
       "        [22.  , 90.  , 22.  ]]])"
      ]
     },
     "execution_count": 175,
     "metadata": {},
     "output_type": "execute_result"
    }
   ],
   "source": [
    "# 3 dimensional array\n",
    "a3 = np.array([[[21, 76, 88],\n",
    "                [99, 82, 22.2],\n",
    "                [22.66, 21.4, 9]],\n",
    "                [[1, 2, 3],\n",
    "                [33, 1, 23],\n",
    "                [22, 90, 22]]])\n",
    "a3"
   ]
  },
  {
   "cell_type": "markdown",
   "id": "7ed0a5a7-e882-48e3-a0f5-8078c2f7b4eb",
   "metadata": {},
   "source": [
    "### Attributes"
   ]
  },
  {
   "cell_type": "code",
   "execution_count": 176,
   "id": "4f531bfc-87fa-4910-8974-d65f84ac037f",
   "metadata": {},
   "outputs": [
    {
     "name": "stdout",
     "output_type": "stream",
     "text": [
      "a1 shape - (3,)\n",
      "a2 shape - (2, 3)\n",
      "a3 shape - (2, 3, 3)\n",
      "a1 dimensions - 1\n",
      "a2 dimensions - 2\n",
      "a3 dimensions - 3\n",
      "a1 datatype - 1\n",
      "a2 datatype - 2\n",
      "a3 datatype - 3\n",
      "a1 num elements - 3\n",
      "a2 num elements - 6\n",
      "a3 num elements - 18\n"
     ]
    }
   ],
   "source": [
    "print(f'a1 shape - {a1.shape}')\n",
    "print(f'a2 shape - {a2.shape}')\n",
    "print(f'a3 shape - {a3.shape}')\n",
    "print(f'a1 dimensions - {a1.ndim}')\n",
    "print(f'a2 dimensions - {a2.ndim}')\n",
    "print(f'a3 dimensions - {a3.ndim}')\n",
    "print(f'a1 datatype - {a1.ndim}')\n",
    "print(f'a2 datatype - {a2.ndim}')\n",
    "print(f'a3 datatype - {a3.ndim}')\n",
    "print(f'a1 num elements - {a1.size}')\n",
    "print(f'a2 num elements - {a2.size}')\n",
    "print(f'a3 num elements - {a3.size}')"
   ]
  },
  {
   "cell_type": "code",
   "execution_count": 177,
   "id": "f442a628-971a-41be-aad7-92ec4531723d",
   "metadata": {},
   "outputs": [
    {
     "data": {
      "text/html": [
       "<div>\n",
       "<style scoped>\n",
       "    .dataframe tbody tr th:only-of-type {\n",
       "        vertical-align: middle;\n",
       "    }\n",
       "\n",
       "    .dataframe tbody tr th {\n",
       "        vertical-align: top;\n",
       "    }\n",
       "\n",
       "    .dataframe thead th {\n",
       "        text-align: right;\n",
       "    }\n",
       "</style>\n",
       "<table border=\"1\" class=\"dataframe\">\n",
       "  <thead>\n",
       "    <tr style=\"text-align: right;\">\n",
       "      <th></th>\n",
       "      <th>0</th>\n",
       "      <th>1</th>\n",
       "      <th>2</th>\n",
       "    </tr>\n",
       "  </thead>\n",
       "  <tbody>\n",
       "    <tr>\n",
       "      <th>0</th>\n",
       "      <td>1.0</td>\n",
       "      <td>2.0</td>\n",
       "      <td>3.0</td>\n",
       "    </tr>\n",
       "    <tr>\n",
       "      <th>1</th>\n",
       "      <td>33.0</td>\n",
       "      <td>1.0</td>\n",
       "      <td>23.0</td>\n",
       "    </tr>\n",
       "    <tr>\n",
       "      <th>2</th>\n",
       "      <td>22.0</td>\n",
       "      <td>90.0</td>\n",
       "      <td>22.0</td>\n",
       "    </tr>\n",
       "  </tbody>\n",
       "</table>\n",
       "</div>"
      ],
      "text/plain": [
       "      0     1     2\n",
       "0   1.0   2.0   3.0\n",
       "1  33.0   1.0  23.0\n",
       "2  22.0  90.0  22.0"
      ]
     },
     "execution_count": 177,
     "metadata": {},
     "output_type": "execute_result"
    }
   ],
   "source": [
    "# Create dataframe from numpy ndarray\n",
    "df = pd.DataFrame(a2)\n",
    "df1 = pd.DataFrame(a3[1])\n",
    "df1"
   ]
  },
  {
   "cell_type": "markdown",
   "id": "1fc46fca-9a32-4fde-a526-4fb0e26c7851",
   "metadata": {},
   "source": [
    "### Creating arrays"
   ]
  },
  {
   "cell_type": "code",
   "execution_count": 178,
   "id": "e7178607-aad7-4833-897f-6d54e0147013",
   "metadata": {},
   "outputs": [
    {
     "data": {
      "text/plain": [
       "array([23.2, 33. ,  1. ])"
      ]
     },
     "execution_count": 178,
     "metadata": {},
     "output_type": "execute_result"
    }
   ],
   "source": [
    "# Manually enter\n",
    "sample_arr = np.array([23.2, 33, 1])\n",
    "sample_arr"
   ]
  },
  {
   "cell_type": "code",
   "execution_count": 179,
   "id": "c0d05d97-f018-4cd2-9b7b-09b68a40a0eb",
   "metadata": {},
   "outputs": [
    {
     "data": {
      "text/plain": [
       "array([[1., 1., 1.],\n",
       "       [1., 1., 1.],\n",
       "       [1., 1., 1.]])"
      ]
     },
     "execution_count": 179,
     "metadata": {},
     "output_type": "execute_result"
    }
   ],
   "source": [
    "# make ndarray of 1's by passing shape\n",
    "ones = np.ones((3, 3))\n",
    "ones"
   ]
  },
  {
   "cell_type": "code",
   "execution_count": 180,
   "id": "b9b6758f-1a9e-4bad-baea-8adfef093613",
   "metadata": {},
   "outputs": [
    {
     "data": {
      "text/plain": [
       "array([0, 3, 6, 9])"
      ]
     },
     "execution_count": 180,
     "metadata": {},
     "output_type": "execute_result"
    }
   ],
   "source": [
    "# Return evenly spaced array \n",
    "r_array = np.arange(0, 10, 3)\n",
    "r_array"
   ]
  },
  {
   "cell_type": "code",
   "execution_count": 181,
   "id": "af53cdd6-bc43-4c1d-bbb6-fcb82e0dbc5a",
   "metadata": {},
   "outputs": [
    {
     "name": "stdout",
     "output_type": "stream",
     "text": [
      "[[5 5 9 3 5]\n",
      " [1 9 1 9 3]\n",
      " [7 6 8 7 4]]\n"
     ]
    }
   ],
   "source": [
    "# Random - low, high, size\n",
    "rand_array = np.random.randint(low=0, high=10, size=(3, 5))\n",
    "print(rand_array)"
   ]
  },
  {
   "cell_type": "code",
   "execution_count": 182,
   "id": "58760708-ea05-4a4d-bc93-f7b3251130db",
   "metadata": {},
   "outputs": [
    {
     "data": {
      "text/plain": [
       "array([[0.38867729, 0.27134903, 0.82873751],\n",
       "       [0.35675333, 0.28093451, 0.54269608],\n",
       "       [0.14092422, 0.80219698, 0.07455064],\n",
       "       [0.98688694, 0.77224477, 0.19871568],\n",
       "       [0.00552212, 0.81546143, 0.70685734]])"
      ]
     },
     "execution_count": 182,
     "metadata": {},
     "output_type": "execute_result"
    }
   ],
   "source": [
    "# random between interval 0 and 1\n",
    "rand_arr2 = np.random.random((5, 3)) \n",
    "rand_arr2"
   ]
  },
  {
   "cell_type": "code",
   "execution_count": 183,
   "id": "dccb7a4f-6c98-491e-b539-52c684d5ba19",
   "metadata": {},
   "outputs": [
    {
     "data": {
      "text/plain": [
       "array([[[0.72900717, 0.77127035],\n",
       "        [0.07404465, 0.35846573],\n",
       "        [0.11586906, 0.86310343]],\n",
       "\n",
       "       [[0.62329813, 0.33089802],\n",
       "        [0.06355835, 0.31098232],\n",
       "        [0.32518332, 0.72960618]],\n",
       "\n",
       "       [[0.63755747, 0.88721274],\n",
       "        [0.47221493, 0.11959425],\n",
       "        [0.71324479, 0.76078505]],\n",
       "\n",
       "       [[0.5612772 , 0.77096718],\n",
       "        [0.4937956 , 0.52273283],\n",
       "        [0.42754102, 0.02541913]],\n",
       "\n",
       "       [[0.10789143, 0.03142919],\n",
       "        [0.63641041, 0.31435598],\n",
       "        [0.50857069, 0.90756647]]])"
      ]
     },
     "execution_count": 183,
     "metadata": {},
     "output_type": "execute_result"
    }
   ],
   "source": [
    "# random 3d array\n",
    "rand_arr3 = np.random.rand(5,3, 2)\n",
    "rand_arr3"
   ]
  },
  {
   "cell_type": "code",
   "execution_count": 184,
   "id": "ccacc8f2-b97c-4910-a016-f8ef418207f8",
   "metadata": {},
   "outputs": [
    {
     "data": {
      "text/plain": [
       "array([[61, 24, 81],\n",
       "       [70, 30, 92],\n",
       "       [96, 84, 84],\n",
       "       [97, 33, 12],\n",
       "       [31, 62, 11]])"
      ]
     },
     "execution_count": 184,
     "metadata": {},
     "output_type": "execute_result"
    }
   ],
   "source": [
    "# set seed - reproduce random numbers\n",
    "np.random.seed(42)\n",
    "rand_arr4 = np.random.randint(low=10, high=100, size=(5,3))\n",
    "rand_arr4"
   ]
  },
  {
   "cell_type": "markdown",
   "id": "77bcd8dd-9b5e-4906-a4ad-4ff19eafd22c",
   "metadata": {},
   "source": [
    "### Viewing arrays and matrices"
   ]
  },
  {
   "cell_type": "code",
   "execution_count": 185,
   "id": "bd36458b-c5e4-4152-b43d-1ba4d5a9523b",
   "metadata": {},
   "outputs": [
    {
     "data": {
      "text/plain": [
       "array([11, 12, 24, 30, 31, 33, 61, 62, 70, 81, 84, 92, 96, 97])"
      ]
     },
     "execution_count": 185,
     "metadata": {},
     "output_type": "execute_result"
    }
   ],
   "source": [
    "# Get unique elements from numpy array\n",
    "unique = np.unique(rand_arr4)\n",
    "unique"
   ]
  },
  {
   "cell_type": "code",
   "execution_count": 186,
   "id": "42a4f16b-f722-449d-9077-fa307bdbe0cd",
   "metadata": {},
   "outputs": [
    {
     "data": {
      "text/plain": [
       "1"
      ]
     },
     "execution_count": 186,
     "metadata": {},
     "output_type": "execute_result"
    }
   ],
   "source": [
    "# Indexing just like python lists\n",
    "a1[0]"
   ]
  },
  {
   "cell_type": "code",
   "execution_count": 187,
   "id": "6100d8ef-e054-4951-8866-44fa2c9587f5",
   "metadata": {},
   "outputs": [
    {
     "data": {
      "text/plain": [
       "array([ 3, 43,  2])"
      ]
     },
     "execution_count": 187,
     "metadata": {},
     "output_type": "execute_result"
    }
   ],
   "source": [
    "a2[0]"
   ]
  },
  {
   "cell_type": "code",
   "execution_count": 188,
   "id": "e4d3d493-4907-4232-be0f-f68d29871270",
   "metadata": {},
   "outputs": [
    {
     "data": {
      "text/plain": [
       "array([[21.  , 76.  , 88.  ],\n",
       "       [99.  , 82.  , 22.2 ],\n",
       "       [22.66, 21.4 ,  9.  ]])"
      ]
     },
     "execution_count": 188,
     "metadata": {},
     "output_type": "execute_result"
    }
   ],
   "source": [
    "a3[0]"
   ]
  },
  {
   "cell_type": "code",
   "execution_count": 189,
   "id": "0431058f-9f5d-4c80-8b2d-0333106b9080",
   "metadata": {},
   "outputs": [
    {
     "data": {
      "text/plain": [
       "2"
      ]
     },
     "execution_count": 189,
     "metadata": {},
     "output_type": "execute_result"
    }
   ],
   "source": [
    "a2[0][2]"
   ]
  },
  {
   "cell_type": "markdown",
   "id": "218bd8bc-ba9f-4703-a00b-5926e78b32bb",
   "metadata": {},
   "source": [
    "a3[0][2]"
   ]
  },
  {
   "cell_type": "code",
   "execution_count": 190,
   "id": "700d550c-a5d2-4823-918c-5e0c6a5f9760",
   "metadata": {},
   "outputs": [
    {
     "data": {
      "text/plain": [
       "array([[ 3],\n",
       "       [99]])"
      ]
     },
     "execution_count": 190,
     "metadata": {},
     "output_type": "execute_result"
    }
   ],
   "source": [
    "# Can get whole sections like python lists\n",
    "a2[:2, :1]"
   ]
  },
  {
   "cell_type": "markdown",
   "id": "39dd3ad2-2bdd-4ee8-870a-1e1f83463e45",
   "metadata": {},
   "source": [
    "### Manipulating Arrays"
   ]
  },
  {
   "cell_type": "code",
   "execution_count": 191,
   "id": "c57d494c-87c1-4e67-9a40-20d357d10eec",
   "metadata": {},
   "outputs": [
    {
     "data": {
      "text/plain": [
       "array([[19, 12, 17]])"
      ]
     },
     "execution_count": 191,
     "metadata": {},
     "output_type": "execute_result"
    }
   ],
   "source": [
    "# Arithmatic\n",
    "a0 = np.array([3, 2, 11])\n",
    "a1 = np.random.randint(low=5, high=25, size=(1, 3))\n",
    "a0 + a1"
   ]
  },
  {
   "cell_type": "code",
   "execution_count": 192,
   "id": "955b8f43-018a-4122-b4ca-562a25fbb0df",
   "metadata": {},
   "outputs": [
    {
     "data": {
      "text/plain": [
       "array([[-147, -110, -649]])"
      ]
     },
     "execution_count": 192,
     "metadata": {},
     "output_type": "execute_result"
    }
   ],
   "source": [
    "a0 * (a1 - 65)"
   ]
  },
  {
   "cell_type": "code",
   "execution_count": 193,
   "id": "075a543a-da32-4b3b-a90f-ac1c5dd1a81a",
   "metadata": {},
   "outputs": [
    {
     "data": {
      "text/plain": [
       "array([[5, 5, 0]])"
      ]
     },
     "execution_count": 193,
     "metadata": {},
     "output_type": "execute_result"
    }
   ],
   "source": [
    "# Floor division removes the decimals (rounds down)\n",
    "a1 // a0"
   ]
  },
  {
   "cell_type": "code",
   "execution_count": 194,
   "id": "034a6b0c-7e03-404e-b1da-1b2967f9ea42",
   "metadata": {},
   "outputs": [
    {
     "data": {
      "text/plain": [
       "array([  9,   4, 121])"
      ]
     },
     "execution_count": 194,
     "metadata": {},
     "output_type": "execute_result"
    }
   ],
   "source": [
    "# square two different ones\n",
    "squares = a1 ** 2\n",
    "squares = np.square(a0)\n",
    "squares"
   ]
  },
  {
   "cell_type": "code",
   "execution_count": 195,
   "id": "3277d066-00ae-4c6b-8a1e-3a20356aca6d",
   "metadata": {},
   "outputs": [
    {
     "data": {
      "text/plain": [
       "16"
      ]
     },
     "execution_count": 195,
     "metadata": {},
     "output_type": "execute_result"
    }
   ],
   "source": [
    "# Aggregation\n",
    "np.sum(a0)"
   ]
  },
  {
   "cell_type": "markdown",
   "id": "182aabde-8158-4c3b-857b-6def7b1e468a",
   "metadata": {},
   "source": [
    "Tips\n",
    "* Use Python methods on Python datatypes\n",
    "* Use NumPy methods on NumPy arrays\n",
    "* Use NumPy for numerical calculations. It is so much faster"
   ]
  },
  {
   "cell_type": "code",
   "execution_count": 196,
   "id": "4459c5d2-8647-44ec-b916-625b9c8333ba",
   "metadata": {},
   "outputs": [
    {
     "data": {
      "text/plain": [
       "array([0.18182497, 0.18340451, 0.30424224, 0.52475643, 0.43194502])"
      ]
     },
     "execution_count": 196,
     "metadata": {},
     "output_type": "execute_result"
    }
   ],
   "source": [
    "big_arr = np.random.random(1000000)\n",
    "big_arr[:5]"
   ]
  },
  {
   "cell_type": "code",
   "execution_count": 197,
   "id": "b315f765-f052-4181-8d36-2cd04a5fc323",
   "metadata": {},
   "outputs": [
    {
     "name": "stdout",
     "output_type": "stream",
     "text": [
      "82.1 ms ± 2.96 ms per loop (mean ± std. dev. of 7 runs, 10 loops each)\n",
      "812 µs ± 12.2 µs per loop (mean ± std. dev. of 7 runs, 1,000 loops each)\n"
     ]
    }
   ],
   "source": [
    "%timeit sum(big_arr) # Python's sum\n",
    "%timeit np.sum(big_arr) # Np's sum: WAY FASTER... 100x faster!!!"
   ]
  },
  {
   "cell_type": "markdown",
   "id": "b71de3ef-3843-4768-a9c2-6d66181097e0",
   "metadata": {},
   "source": [
    "Definitions\n",
    "* Standard Deviation: a measure of how spread out a group of numbers is from the mean. (It is the square root of variance)\n",
    "* Variance: Measure of the average degree to which each number is different from the mean"
   ]
  },
  {
   "cell_type": "code",
   "execution_count": 198,
   "id": "19aaa8c2-d127-4c2b-bbdc-0901b9a16417",
   "metadata": {},
   "outputs": [],
   "source": [
    "high_var_array = np.array([1, 100, 200, 23322, 2222, 18, 222222222, 99])\n",
    "low_var_array = np.array([1, 3, 2, 4, 5, 9, 5, 6])"
   ]
  },
  {
   "cell_type": "code",
   "execution_count": 199,
   "id": "73509195-4644-42a0-afed-c8528e669957",
   "metadata": {},
   "outputs": [
    {
     "data": {
      "text/plain": [
       "(5401054323514768.0, 5.484375)"
      ]
     },
     "execution_count": 199,
     "metadata": {},
     "output_type": "execute_result"
    }
   ],
   "source": [
    "# Variance\n",
    "np.var(high_var_array), np.var(low_var_array)"
   ]
  },
  {
   "cell_type": "code",
   "execution_count": 200,
   "id": "d1c97bd5-5b3f-4b6a-81bd-a0e534e9b2e0",
   "metadata": {},
   "outputs": [
    {
     "data": {
      "text/plain": [
       "(73491865.69624402, 2.341874249399399)"
      ]
     },
     "execution_count": 200,
     "metadata": {},
     "output_type": "execute_result"
    }
   ],
   "source": [
    "# std - average of how far away a new number in the array would be from the mean\n",
    "np.std(high_var_array), np.std(low_var_array)"
   ]
  },
  {
   "cell_type": "code",
   "execution_count": 201,
   "id": "48ccbfce-dbd9-4862-b06c-843b4dc9043c",
   "metadata": {},
   "outputs": [
    {
     "data": {
      "text/plain": [
       "(27781023.0, 4.375)"
      ]
     },
     "execution_count": 201,
     "metadata": {},
     "output_type": "execute_result"
    }
   ],
   "source": [
    "np.mean(high_var_array), np.mean(low_var_array)"
   ]
  },
  {
   "cell_type": "code",
   "execution_count": 202,
   "id": "c5899fdb-3d41-4b79-b4a1-e9ac3ed3300e",
   "metadata": {},
   "outputs": [
    {
     "data": {
      "text/plain": [
       "(array([7., 0., 0., 0., 0., 0., 0., 0., 0., 1.]),\n",
       " array([1.00000000e+00, 2.22222231e+07, 4.44444452e+07, 6.66666673e+07,\n",
       "        8.88888894e+07, 1.11111112e+08, 1.33333334e+08, 1.55555556e+08,\n",
       "        1.77777778e+08, 2.00000000e+08, 2.22222222e+08]),\n",
       " <BarContainer object of 10 artists>)"
      ]
     },
     "execution_count": 202,
     "metadata": {},
     "output_type": "execute_result"
    },
    {
     "data": {
      "image/png": "[encoded data removed]",
      "text/plain": [
       "<Figure size 640x480 with 1 Axes>"
      ]
     },
     "metadata": {},
     "output_type": "display_data"
    }
   ],
   "source": [
    "# Show spread of data\n",
    "%matplotlib inline\n",
    "import matplotlib.pyplot as plt\n",
    "plt.hist(high_var_array)"
   ]
  },
  {
   "cell_type": "code",
   "execution_count": 203,
   "id": "0f2fece2-2e9a-48c6-b296-4bed2d343da4",
   "metadata": {},
   "outputs": [
    {
     "data": {
      "text/plain": [
       "(array([1., 1., 1., 1., 0., 2., 1., 0., 0., 1.]),\n",
       " array([1. , 1.8, 2.6, 3.4, 4.2, 5. , 5.8, 6.6, 7.4, 8.2, 9. ]),\n",
       " <BarContainer object of 10 artists>)"
      ]
     },
     "execution_count": 203,
     "metadata": {},
     "output_type": "execute_result"
    },
    {
     "data": {
      "image/png": "[encoded data removed]",
      "text/plain": [
       "<Figure size 640x480 with 1 Axes>"
      ]
     },
     "metadata": {},
     "output_type": "display_data"
    }
   ],
   "source": [
    "# Show spread of data\n",
    "plt.hist(low_var_array)"
   ]
  },
  {
   "cell_type": "markdown",
   "id": "be1d7363-88d7-4ff1-9ce2-5ca567819d11",
   "metadata": {},
   "source": [
    "### Reshape and Transpose"
   ]
  },
  {
   "cell_type": "code",
   "execution_count": 204,
   "id": "23d8bcca-dbd2-41ec-a600-18c7c17f7744",
   "metadata": {},
   "outputs": [
    {
     "data": {
      "text/plain": [
       "((2, 3),\n",
       " array([[ 3, 43,  2],\n",
       "        [99, 23,  1]]))"
      ]
     },
     "execution_count": 204,
     "metadata": {},
     "output_type": "execute_result"
    }
   ],
   "source": [
    "a2.shape, a2"
   ]
  },
  {
   "cell_type": "code",
   "execution_count": 205,
   "id": "3e86fe9e-f7bb-434b-a024-d20fa74b53f3",
   "metadata": {},
   "outputs": [
    {
     "data": {
      "text/plain": [
       "array([[ 3, 43],\n",
       "       [ 2, 99],\n",
       "       [23,  1]])"
      ]
     },
     "execution_count": 205,
     "metadata": {},
     "output_type": "execute_result"
    }
   ],
   "source": [
    "# Reshape - reshapes matrix into new shape\n",
    "a2_1 = a2.reshape(3, 2)\n",
    "a2_1"
   ]
  },
  {
   "cell_type": "code",
   "execution_count": 206,
   "id": "e9531d89-7c02-4cc6-ba77-17cc7ff3d459",
   "metadata": {},
   "outputs": [
    {
     "data": {
      "text/plain": [
       "array([[ 3, 99],\n",
       "       [43, 23],\n",
       "       [ 2,  1]])"
      ]
     },
     "execution_count": 206,
     "metadata": {},
     "output_type": "execute_result"
    }
   ],
   "source": [
    "# Transpose - swaps rows and columns\n",
    "a2_t = a2.transpose()\n",
    "a2_t"
   ]
  },
  {
   "cell_type": "markdown",
   "id": "1e84bf79-7849-4eea-b2df-bce5b588c862",
   "metadata": {},
   "source": [
    "### Dot Product\n",
    "* returns the dot product of two arrays. For 2-D vectors, it is the equivalent to matrix multiplication. For 1-D array, it is the inner product of the vectors. For N-Dimensional array, it is a sum product over the last axis of a and the second-last axis of b\n",
    "* each element of row of first matrix, multiplied by each element of column in second matrix\n",
    "* Row length must match\n",
    "* Size of the resulting matrix is the same size as the columns of the 2 two matrices. Ex: 3x3, 3x2 -> 3x2"
   ]
  },
  {
   "cell_type": "code",
   "execution_count": 207,
   "id": "3f70fffc-7535-4963-852d-e0ed2d927eec",
   "metadata": {},
   "outputs": [
    {
     "data": {
      "text/plain": [
       "(array([[6, 3, 7],\n",
       "        [4, 6, 9],\n",
       "        [2, 6, 7],\n",
       "        [4, 3, 7],\n",
       "        [7, 2, 5]]),\n",
       " array([[4, 1, 7],\n",
       "        [5, 1, 4],\n",
       "        [0, 9, 5],\n",
       "        [8, 0, 9],\n",
       "        [2, 6, 3]]))"
      ]
     },
     "execution_count": 207,
     "metadata": {},
     "output_type": "execute_result"
    }
   ],
   "source": [
    "np.random.seed(42)\n",
    "mat1 = np.random.randint(10, size=(5,3))\n",
    "mat2 = np.random.randint(10, size=(5,3))\n",
    "mat1, mat2"
   ]
  },
  {
   "cell_type": "code",
   "execution_count": 208,
   "id": "ebc0a55f-79ef-408d-ae77-ce598c341680",
   "metadata": {},
   "outputs": [
    {
     "data": {
      "text/plain": [
       "array([[24,  3, 49],\n",
       "       [20,  6, 36],\n",
       "       [ 0, 54, 35],\n",
       "       [32,  0, 63],\n",
       "       [14, 12, 15]])"
      ]
     },
     "execution_count": 208,
     "metadata": {},
     "output_type": "execute_result"
    }
   ],
   "source": [
    "# element wise\n",
    "product = np.multiply(mat1, mat2)\n",
    "product"
   ]
  },
  {
   "cell_type": "code",
   "execution_count": 209,
   "id": "d0b6cda3-98df-4002-aadc-82ac5b96e7b9",
   "metadata": {},
   "outputs": [
    {
     "data": {
      "text/plain": [
       "array([[ 76,  61,  62, 111,  51],\n",
       "       [ 85,  62,  99, 113,  71],\n",
       "       [ 63,  44,  89,  79,  61],\n",
       "       [ 68,  51,  62,  95,  47],\n",
       "       [ 65,  57,  43, 101,  41]])"
      ]
     },
     "execution_count": 209,
     "metadata": {},
     "output_type": "execute_result"
    }
   ],
   "source": [
    "# Dot product\n",
    "mat2 = mat2.transpose()\n",
    "dot_prod = np.dot(mat1, mat2)\n",
    "dot_prod"
   ]
  },
  {
   "cell_type": "code",
   "execution_count": 210,
   "id": "aa4e93ef-b0f1-42b7-b24d-0cd2cb401434",
   "metadata": {},
   "outputs": [
    {
     "data": {
      "text/plain": [
       "(5, 5)"
      ]
     },
     "execution_count": 210,
     "metadata": {},
     "output_type": "execute_result"
    }
   ],
   "source": [
    "dot_prod.shape"
   ]
  },
  {
   "cell_type": "markdown",
   "id": "cea531ac-783b-4195-8164-8ef515f9d9da",
   "metadata": {},
   "source": [
    "### Comparison Operators"
   ]
  },
  {
   "cell_type": "code",
   "execution_count": 211,
   "id": "c69f683a-3bf9-4c33-89fe-9275e2e1f1ec",
   "metadata": {},
   "outputs": [
    {
     "data": {
      "text/plain": [
       "(array([[16, 10,  6]]),\n",
       " array([[ 3, 43,  2],\n",
       "        [99, 23,  1]]))"
      ]
     },
     "execution_count": 211,
     "metadata": {},
     "output_type": "execute_result"
    }
   ],
   "source": [
    "a1, a2"
   ]
  },
  {
   "cell_type": "code",
   "execution_count": 212,
   "id": "3f30d4f6-f98f-4a3a-9aec-6678c54f56a8",
   "metadata": {},
   "outputs": [
    {
     "data": {
      "text/plain": [
       "array([[ True, False,  True],\n",
       "       [False, False,  True]])"
      ]
     },
     "execution_count": 212,
     "metadata": {},
     "output_type": "execute_result"
    }
   ],
   "source": [
    "# Goes element by element and compares. Returns ndarray of booleans\n",
    "a1 > a2"
   ]
  },
  {
   "cell_type": "code",
   "execution_count": 213,
   "id": "a2a7cc5f-02e6-4e60-b77c-81fc40c49869",
   "metadata": {},
   "outputs": [
    {
     "data": {
      "text/plain": [
       "(array([[False,  True, False],\n",
       "        [ True,  True, False]]),\n",
       " array([[False, False, False],\n",
       "        [False, False, False]]))"
      ]
     },
     "execution_count": 213,
     "metadata": {},
     "output_type": "execute_result"
    }
   ],
   "source": [
    "# Goes element by element and compares. Returns ndarray of booleans\n",
    "bool_arr = a1 <= a2\n",
    "bool_arr1 = a1 == a2\n",
    "bool_arr, bool_arr1"
   ]
  },
  {
   "cell_type": "markdown",
   "id": "714e19a5-f17c-4f6f-b0ac-4d4c0177f06f",
   "metadata": {},
   "source": [
    "### Sorting Arrays"
   ]
  },
  {
   "cell_type": "code",
   "execution_count": 214,
   "id": "0346695d-a94f-4d34-b33b-2d638d919525",
   "metadata": {},
   "outputs": [
    {
     "data": {
      "text/plain": [
       "array([[63,  2, 50,  6, 20],\n",
       "       [72, 38, 17,  3, 88],\n",
       "       [59, 13,  8, 89, 52]])"
      ]
     },
     "execution_count": 214,
     "metadata": {},
     "output_type": "execute_result"
    }
   ],
   "source": [
    "random_array = np.random.randint(0, 100, size=(3,5))\n",
    "random_array"
   ]
  },
  {
   "cell_type": "code",
   "execution_count": 215,
   "id": "221fcae0-f708-4fd6-a0db-255a0b17df11",
   "metadata": {},
   "outputs": [
    {
     "data": {
      "text/plain": [
       "array([[ 2,  6, 20, 50, 63],\n",
       "       [ 3, 17, 38, 72, 88],\n",
       "       [ 8, 13, 52, 59, 89]])"
      ]
     },
     "execution_count": 215,
     "metadata": {},
     "output_type": "execute_result"
    }
   ],
   "source": [
    "# Sorts each row from least to greatest\n",
    "np.sort(random_array)"
   ]
  },
  {
   "cell_type": "code",
   "execution_count": 216,
   "id": "07d3ac7b-9e2d-4bbe-bf9a-9a002c39b182",
   "metadata": {},
   "outputs": [
    {
     "data": {
      "text/plain": [
       "array([[1, 3, 4, 2, 0],\n",
       "       [3, 2, 1, 0, 4],\n",
       "       [2, 1, 4, 0, 3]], dtype=int64)"
      ]
     },
     "execution_count": 216,
     "metadata": {},
     "output_type": "execute_result"
    }
   ],
   "source": [
    "# Get indices in order of what would lead to sorted array\n",
    "index_sorted_arr = np.argsort(random_array)\n",
    "index_sorted_arr"
   ]
  },
  {
   "cell_type": "code",
   "execution_count": 217,
   "id": "c925fd8e-9e31-42c7-83e7-703859ecf7fc",
   "metadata": {},
   "outputs": [
    {
     "data": {
      "text/plain": [
       "(2, 3)"
      ]
     },
     "execution_count": 217,
     "metadata": {},
     "output_type": "execute_result"
    }
   ],
   "source": [
    "# Find min & max index\n",
    "np.argmin(a1), np.argmax(a2)"
   ]
  },
  {
   "cell_type": "code",
   "execution_count": 218,
   "id": "e63fe332-b89f-4f5f-9ec0-275bfecab095",
   "metadata": {},
   "outputs": [
    {
     "data": {
      "text/plain": [
       "array([1, 3, 2], dtype=int64)"
      ]
     },
     "execution_count": 218,
     "metadata": {},
     "output_type": "execute_result"
    }
   ],
   "source": [
    "# Find min index along vertical axis for matrices\n",
    "np.argmin(random_array, axis=1)"
   ]
  },
  {
   "cell_type": "markdown",
   "id": "84018718-4b5d-4f1b-a369-8b2bb9fd0319",
   "metadata": {},
   "source": [
    "### Image into NP Array\n",
    "* NumPy in action!"
   ]
  },
  {
   "cell_type": "code",
   "execution_count": 219,
   "id": "fd5f2655-730f-4664-882b-4b718d4c58db",
   "metadata": {},
   "outputs": [
    {
     "name": "stdout",
     "output_type": "stream",
     "text": [
      "<class 'numpy.ndarray'>\n"
     ]
    },
    {
     "data": {
      "text/plain": [
       "(None, 8374272, 3)"
      ]
     },
     "execution_count": 219,
     "metadata": {},
     "output_type": "execute_result"
    }
   ],
   "source": [
    "# imread, reads an image into an array\n",
    "# Array stores red, green, blue color values\n",
    "valley = imread('the_valley.jpg')\n",
    "print(type(valley)), valley.size, valley.ndim "
   ]
  },
  {
   "cell_type": "code",
   "execution_count": 220,
   "id": "8ef1586a-97ba-4796-a30f-511ee4977d54",
   "metadata": {},
   "outputs": [
    {
     "data": {
      "text/plain": [
       "array([[[ 85, 135, 198],\n",
       "        [ 89, 140, 203],\n",
       "        [ 91, 142, 207],\n",
       "        ...,\n",
       "        [182, 208, 223],\n",
       "        [181, 207, 222],\n",
       "        [178, 204, 219]],\n",
       "\n",
       "       [[ 87, 137, 200],\n",
       "        [ 88, 139, 202],\n",
       "        [ 89, 140, 205],\n",
       "        ...,\n",
       "        [179, 205, 220],\n",
       "        [180, 206, 221],\n",
       "        [179, 205, 220]],\n",
       "\n",
       "       [[ 88, 138, 201],\n",
       "        [ 88, 139, 202],\n",
       "        [ 88, 139, 204],\n",
       "        ...,\n",
       "        [180, 206, 221],\n",
       "        [181, 207, 222],\n",
       "        [181, 207, 222]],\n",
       "\n",
       "       ...,\n",
       "\n",
       "       [[ 95,  96, 100],\n",
       "        [105, 111, 101],\n",
       "        [146, 159, 142],\n",
       "        ...,\n",
       "        [ 41,  28,  22],\n",
       "        [ 33,  22,  18],\n",
       "        [ 24,  13,  11]],\n",
       "\n",
       "       [[146, 149, 140],\n",
       "        [119, 125, 111],\n",
       "        [132, 144, 132],\n",
       "        ...,\n",
       "        [ 35,  26,  19],\n",
       "        [ 24,  16,  13],\n",
       "        [ 18,  10,   8]],\n",
       "\n",
       "       [[117, 121, 106],\n",
       "        [117, 124, 106],\n",
       "        [103, 114, 106],\n",
       "        ...,\n",
       "        [ 19,  14,   8],\n",
       "        [  9,   5,   2],\n",
       "        [  6,   5,   3]]], dtype=uint8)"
      ]
     },
     "execution_count": 220,
     "metadata": {},
     "output_type": "execute_result"
    }
   ],
   "source": [
    "valley"
   ]
  },
  {
   "cell_type": "code",
   "execution_count": null,
   "id": "09288944-922c-4cdc-935f-e52d49839c34",
   "metadata": {},
   "outputs": [],
   "source": []
  }
 ],
 "metadata": {
  "kernelspec": {
   "display_name": "Python 3 (ipykernel)",
   "language": "python",
   "name": "python3"
  },
  "language_info": {
   "codemirror_mode": {
    "name": "ipython",
    "version": 3
   },
   "file_extension": ".py",
   "mimetype": "text/x-python",
   "name": "python",
   "nbconvert_exporter": "python",
   "pygments_lexer": "ipython3",
   "version": "3.10.11"
  }
 },
 "nbformat": 4,
 "nbformat_minor": 5
}
