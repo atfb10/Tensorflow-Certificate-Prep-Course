{
 "cells": [
  {
   "cell_type": "markdown",
   "id": "b7ad7bc4-1039-4067-a9d8-c12d786029fa",
   "metadata": {},
   "source": [
    "# Adam Forestier"
   ]
  },
  {
   "cell_type": "markdown",
   "id": "38629076-29d9-476a-aaa0-6393f915a7f5",
   "metadata": {},
   "source": [
    "## Last Updated: August 9, 2023"
   ]
  },
  {
   "cell_type": "code",
   "execution_count": 2,
   "id": "e076b7b6-aa68-4e12-a937-51c9fcd33144",
   "metadata": {},
   "outputs": [],
   "source": [
    "import numpy as np\n",
    "import pandas as pd"
   ]
  },
  {
   "cell_type": "markdown",
   "id": "1f0b6ac2-a2e5-496c-b610-d80bb4d7277f",
   "metadata": {},
   "source": [
    "### Data Types\n",
    "* NumPy's main datatype is ndarray (n-dimensional array)\n",
    "  - Axis 0 refers to rows\n",
    "  - Axis 1 refers to columns\n",
    "  - Axis n refers to dimensions, or depth (think of it as list of matrixes)"
   ]
  },
  {
   "cell_type": "code",
   "execution_count": 3,
   "id": "cc981ceb-d750-4c3a-8c43-c70e964f4655",
   "metadata": {},
   "outputs": [],
   "source": [
    "# 1 dimensional array - vector\n",
    "a1 = np.array([1, 2, 3])"
   ]
  },
  {
   "cell_type": "code",
   "execution_count": 4,
   "id": "87189aac-c93d-4061-b91f-690477b87735",
   "metadata": {},
   "outputs": [
    {
     "data": {
      "text/plain": [
       "array([[ 3, 43,  2],\n",
       "       [99, 23,  1]])"
      ]
     },
     "execution_count": 4,
     "metadata": {},
     "output_type": "execute_result"
    }
   ],
   "source": [
    "# 2 dimensional array - matrix\n",
    "a2 = np.array([[3, 43, 2],\n",
    "               [99, 23, 1]])\n",
    "a2"
   ]
  },
  {
   "cell_type": "code",
   "execution_count": 5,
   "id": "7b5e6335-726f-4554-aa50-3b342f7b4dfb",
   "metadata": {},
   "outputs": [
    {
     "data": {
      "text/plain": [
       "array([[[21.  , 76.  , 88.  ],\n",
       "        [99.  , 82.  , 22.2 ],\n",
       "        [22.66, 21.4 ,  9.  ]],\n",
       "\n",
       "       [[ 1.  ,  2.  ,  3.  ],\n",
       "        [33.  ,  1.  , 23.  ],\n",
       "        [22.  , 90.  , 22.  ]]])"
      ]
     },
     "execution_count": 5,
     "metadata": {},
     "output_type": "execute_result"
    }
   ],
   "source": [
    "# 3 dimensional array\n",
    "a3 = np.array([[[21, 76, 88],\n",
    "                [99, 82, 22.2],\n",
    "                [22.66, 21.4, 9]],\n",
    "                [[1, 2, 3],\n",
    "                [33, 1, 23],\n",
    "                [22, 90, 22]]])\n",
    "a3"
   ]
  },
  {
   "cell_type": "markdown",
   "id": "7ed0a5a7-e882-48e3-a0f5-8078c2f7b4eb",
   "metadata": {},
   "source": [
    "### Attributes"
   ]
  },
  {
   "cell_type": "code",
   "execution_count": 6,
   "id": "4f531bfc-87fa-4910-8974-d65f84ac037f",
   "metadata": {},
   "outputs": [
    {
     "name": "stdout",
     "output_type": "stream",
     "text": [
      "a1 shape - (3,)\n",
      "a2 shape - (2, 3)\n",
      "a3 shape - (2, 3, 3)\n",
      "a1 dimensions - 1\n",
      "a2 dimensions - 2\n",
      "a3 dimensions - 3\n",
      "a1 datatype - 1\n",
      "a2 datatype - 2\n",
      "a3 datatype - 3\n",
      "a1 num elements - 3\n",
      "a2 num elements - 6\n",
      "a3 num elements - 18\n"
     ]
    }
   ],
   "source": [
    "print(f'a1 shape - {a1.shape}')\n",
    "print(f'a2 shape - {a2.shape}')\n",
    "print(f'a3 shape - {a3.shape}')\n",
    "print(f'a1 dimensions - {a1.ndim}')\n",
    "print(f'a2 dimensions - {a2.ndim}')\n",
    "print(f'a3 dimensions - {a3.ndim}')\n",
    "print(f'a1 datatype - {a1.ndim}')\n",
    "print(f'a2 datatype - {a2.ndim}')\n",
    "print(f'a3 datatype - {a3.ndim}')\n",
    "print(f'a1 num elements - {a1.size}')\n",
    "print(f'a2 num elements - {a2.size}')\n",
    "print(f'a3 num elements - {a3.size}')"
   ]
  },
  {
   "cell_type": "code",
   "execution_count": 7,
   "id": "f442a628-971a-41be-aad7-92ec4531723d",
   "metadata": {},
   "outputs": [
    {
     "data": {
      "text/html": [
       "<div>\n",
       "<style scoped>\n",
       "    .dataframe tbody tr th:only-of-type {\n",
       "        vertical-align: middle;\n",
       "    }\n",
       "\n",
       "    .dataframe tbody tr th {\n",
       "        vertical-align: top;\n",
       "    }\n",
       "\n",
       "    .dataframe thead th {\n",
       "        text-align: right;\n",
       "    }\n",
       "</style>\n",
       "<table border=\"1\" class=\"dataframe\">\n",
       "  <thead>\n",
       "    <tr style=\"text-align: right;\">\n",
       "      <th></th>\n",
       "      <th>0</th>\n",
       "      <th>1</th>\n",
       "      <th>2</th>\n",
       "    </tr>\n",
       "  </thead>\n",
       "  <tbody>\n",
       "    <tr>\n",
       "      <th>0</th>\n",
       "      <td>1.0</td>\n",
       "      <td>2.0</td>\n",
       "      <td>3.0</td>\n",
       "    </tr>\n",
       "    <tr>\n",
       "      <th>1</th>\n",
       "      <td>33.0</td>\n",
       "      <td>1.0</td>\n",
       "      <td>23.0</td>\n",
       "    </tr>\n",
       "    <tr>\n",
       "      <th>2</th>\n",
       "      <td>22.0</td>\n",
       "      <td>90.0</td>\n",
       "      <td>22.0</td>\n",
       "    </tr>\n",
       "  </tbody>\n",
       "</table>\n",
       "</div>"
      ],
      "text/plain": [
       "      0     1     2\n",
       "0   1.0   2.0   3.0\n",
       "1  33.0   1.0  23.0\n",
       "2  22.0  90.0  22.0"
      ]
     },
     "execution_count": 7,
     "metadata": {},
     "output_type": "execute_result"
    }
   ],
   "source": [
    "# Create dataframe from numpy ndarray\n",
    "df = pd.DataFrame(a2)\n",
    "df1 = pd.DataFrame(a3[1])\n",
    "df1"
   ]
  },
  {
   "cell_type": "markdown",
   "id": "1fc46fca-9a32-4fde-a526-4fb0e26c7851",
   "metadata": {},
   "source": [
    "### Creating arrays"
   ]
  },
  {
   "cell_type": "code",
   "execution_count": 8,
   "id": "e7178607-aad7-4833-897f-6d54e0147013",
   "metadata": {},
   "outputs": [
    {
     "data": {
      "text/plain": [
       "array([23.2, 33. ,  1. ])"
      ]
     },
     "execution_count": 8,
     "metadata": {},
     "output_type": "execute_result"
    }
   ],
   "source": [
    "# Manually enter\n",
    "sample_arr = np.array([23.2, 33, 1])\n",
    "sample_arr"
   ]
  },
  {
   "cell_type": "code",
   "execution_count": 9,
   "id": "c0d05d97-f018-4cd2-9b7b-09b68a40a0eb",
   "metadata": {},
   "outputs": [
    {
     "data": {
      "text/plain": [
       "array([[1., 1., 1.],\n",
       "       [1., 1., 1.],\n",
       "       [1., 1., 1.]])"
      ]
     },
     "execution_count": 9,
     "metadata": {},
     "output_type": "execute_result"
    }
   ],
   "source": [
    "# make ndarray of 1's by passing shape\n",
    "ones = np.ones((3, 3))\n",
    "ones"
   ]
  },
  {
   "cell_type": "code",
   "execution_count": 10,
   "id": "b9b6758f-1a9e-4bad-baea-8adfef093613",
   "metadata": {},
   "outputs": [
    {
     "data": {
      "text/plain": [
       "array([0, 3, 6, 9])"
      ]
     },
     "execution_count": 10,
     "metadata": {},
     "output_type": "execute_result"
    }
   ],
   "source": [
    "# Return evenly spaced array \n",
    "r_array = np.arange(0, 10, 3)\n",
    "r_array"
   ]
  },
  {
   "cell_type": "code",
   "execution_count": 11,
   "id": "af53cdd6-bc43-4c1d-bbb6-fcb82e0dbc5a",
   "metadata": {},
   "outputs": [
    {
     "name": "stdout",
     "output_type": "stream",
     "text": [
      "[[5 1 9 1 1]\n",
      " [8 3 2 8 0]\n",
      " [6 3 2 6 0]]\n"
     ]
    }
   ],
   "source": [
    "# Random - low, high, size\n",
    "rand_array = np.random.randint(low=0, high=10, size=(3, 5))\n",
    "print(rand_array)"
   ]
  },
  {
   "cell_type": "code",
   "execution_count": 12,
   "id": "58760708-ea05-4a4d-bc93-f7b3251130db",
   "metadata": {},
   "outputs": [
    {
     "data": {
      "text/plain": [
       "array([[0.63703044, 0.91493964, 0.82068891],\n",
       "       [0.00182158, 0.23007752, 0.93055798],\n",
       "       [0.76181905, 0.41001961, 0.02975573],\n",
       "       [0.39189716, 0.03797042, 0.79883289],\n",
       "       [0.94052269, 0.5655042 , 0.56158015]])"
      ]
     },
     "execution_count": 12,
     "metadata": {},
     "output_type": "execute_result"
    }
   ],
   "source": [
    "# random between interval 0 and 1\n",
    "rand_arr2 = np.random.random((5, 3)) \n",
    "rand_arr2"
   ]
  },
  {
   "cell_type": "code",
   "execution_count": 13,
   "id": "dccb7a4f-6c98-491e-b539-52c684d5ba19",
   "metadata": {},
   "outputs": [
    {
     "data": {
      "text/plain": [
       "array([[[0.39851648, 0.28470866],\n",
       "        [0.81031984, 0.05000178],\n",
       "        [0.8672611 , 0.46119326]],\n",
       "\n",
       "       [[0.56368172, 0.35536313],\n",
       "        [0.22880806, 0.9468766 ],\n",
       "        [0.7865197 , 0.92318471]],\n",
       "\n",
       "       [[0.94140531, 0.16001288],\n",
       "        [0.63898282, 0.48572248],\n",
       "        [0.64382331, 0.51285712]],\n",
       "\n",
       "       [[0.26021354, 0.73555145],\n",
       "        [0.2656072 , 0.96317211],\n",
       "        [0.32264256, 0.69427424]],\n",
       "\n",
       "       [[0.05872076, 0.85715781],\n",
       "        [0.65268184, 0.3118916 ],\n",
       "        [0.603927  , 0.89273798]]])"
      ]
     },
     "execution_count": 13,
     "metadata": {},
     "output_type": "execute_result"
    }
   ],
   "source": [
    "# random 3d array\n",
    "rand_arr3 = np.random.rand(5,3, 2)\n",
    "rand_arr3"
   ]
  },
  {
   "cell_type": "code",
   "execution_count": 14,
   "id": "ccacc8f2-b97c-4910-a016-f8ef418207f8",
   "metadata": {},
   "outputs": [
    {
     "data": {
      "text/plain": [
       "array([[61, 24, 81],\n",
       "       [70, 30, 92],\n",
       "       [96, 84, 84],\n",
       "       [97, 33, 12],\n",
       "       [31, 62, 11]])"
      ]
     },
     "execution_count": 14,
     "metadata": {},
     "output_type": "execute_result"
    }
   ],
   "source": [
    "# set seed - reproduce random numbers\n",
    "np.random.seed(42)\n",
    "rand_arr4 = np.random.randint(low=10, high=100, size=(5,3))\n",
    "rand_arr4"
   ]
  },
  {
   "cell_type": "markdown",
   "id": "77bcd8dd-9b5e-4906-a4ad-4ff19eafd22c",
   "metadata": {},
   "source": [
    "### Viewing arrays and matrices"
   ]
  },
  {
   "cell_type": "code",
   "execution_count": 15,
   "id": "bd36458b-c5e4-4152-b43d-1ba4d5a9523b",
   "metadata": {},
   "outputs": [
    {
     "data": {
      "text/plain": [
       "array([11, 12, 24, 30, 31, 33, 61, 62, 70, 81, 84, 92, 96, 97])"
      ]
     },
     "execution_count": 15,
     "metadata": {},
     "output_type": "execute_result"
    }
   ],
   "source": [
    "# Get unique elements from numpy array\n",
    "unique = np.unique(rand_arr4)\n",
    "unique"
   ]
  },
  {
   "cell_type": "code",
   "execution_count": 16,
   "id": "42a4f16b-f722-449d-9077-fa307bdbe0cd",
   "metadata": {},
   "outputs": [
    {
     "data": {
      "text/plain": [
       "1"
      ]
     },
     "execution_count": 16,
     "metadata": {},
     "output_type": "execute_result"
    }
   ],
   "source": [
    "# Indexing just like python lists\n",
    "a1[0]"
   ]
  },
  {
   "cell_type": "code",
   "execution_count": 17,
   "id": "6100d8ef-e054-4951-8866-44fa2c9587f5",
   "metadata": {},
   "outputs": [
    {
     "data": {
      "text/plain": [
       "array([ 3, 43,  2])"
      ]
     },
     "execution_count": 17,
     "metadata": {},
     "output_type": "execute_result"
    }
   ],
   "source": [
    "a2[0]"
   ]
  },
  {
   "cell_type": "code",
   "execution_count": 18,
   "id": "e4d3d493-4907-4232-be0f-f68d29871270",
   "metadata": {},
   "outputs": [
    {
     "data": {
      "text/plain": [
       "array([[21.  , 76.  , 88.  ],\n",
       "       [99.  , 82.  , 22.2 ],\n",
       "       [22.66, 21.4 ,  9.  ]])"
      ]
     },
     "execution_count": 18,
     "metadata": {},
     "output_type": "execute_result"
    }
   ],
   "source": [
    "a3[0]"
   ]
  },
  {
   "cell_type": "code",
   "execution_count": 19,
   "id": "0431058f-9f5d-4c80-8b2d-0333106b9080",
   "metadata": {},
   "outputs": [
    {
     "data": {
      "text/plain": [
       "2"
      ]
     },
     "execution_count": 19,
     "metadata": {},
     "output_type": "execute_result"
    }
   ],
   "source": [
    "a2[0][2]"
   ]
  },
  {
   "cell_type": "markdown",
   "id": "218bd8bc-ba9f-4703-a00b-5926e78b32bb",
   "metadata": {},
   "source": [
    "a3[0][2]"
   ]
  },
  {
   "cell_type": "code",
   "execution_count": 20,
   "id": "700d550c-a5d2-4823-918c-5e0c6a5f9760",
   "metadata": {},
   "outputs": [
    {
     "data": {
      "text/plain": [
       "array([[ 3],\n",
       "       [99]])"
      ]
     },
     "execution_count": 20,
     "metadata": {},
     "output_type": "execute_result"
    }
   ],
   "source": [
    "# Can get whole sections like python lists\n",
    "a2[:2, :1]"
   ]
  },
  {
   "cell_type": "markdown",
   "id": "39dd3ad2-2bdd-4ee8-870a-1e1f83463e45",
   "metadata": {},
   "source": [
    "### Manipulating Arrays"
   ]
  },
  {
   "cell_type": "code",
   "execution_count": 21,
   "id": "c57d494c-87c1-4e67-9a40-20d357d10eec",
   "metadata": {},
   "outputs": [
    {
     "data": {
      "text/plain": [
       "array([[19, 12, 17]])"
      ]
     },
     "execution_count": 21,
     "metadata": {},
     "output_type": "execute_result"
    }
   ],
   "source": [
    "# Arithmatic\n",
    "a0 = np.array([3, 2, 11])\n",
    "a1 = np.random.randint(low=5, high=25, size=(1, 3))\n",
    "a0 + a1"
   ]
  },
  {
   "cell_type": "code",
   "execution_count": 22,
   "id": "955b8f43-018a-4122-b4ca-562a25fbb0df",
   "metadata": {},
   "outputs": [
    {
     "data": {
      "text/plain": [
       "array([[-147, -110, -649]])"
      ]
     },
     "execution_count": 22,
     "metadata": {},
     "output_type": "execute_result"
    }
   ],
   "source": [
    "a0 * (a1 - 65)"
   ]
  },
  {
   "cell_type": "code",
   "execution_count": 23,
   "id": "075a543a-da32-4b3b-a90f-ac1c5dd1a81a",
   "metadata": {},
   "outputs": [
    {
     "data": {
      "text/plain": [
       "array([[5, 5, 0]])"
      ]
     },
     "execution_count": 23,
     "metadata": {},
     "output_type": "execute_result"
    }
   ],
   "source": [
    "# Floor division removes the decimals (rounds down)\n",
    "a1 // a0"
   ]
  },
  {
   "cell_type": "code",
   "execution_count": 24,
   "id": "034a6b0c-7e03-404e-b1da-1b2967f9ea42",
   "metadata": {},
   "outputs": [
    {
     "data": {
      "text/plain": [
       "array([  9,   4, 121])"
      ]
     },
     "execution_count": 24,
     "metadata": {},
     "output_type": "execute_result"
    }
   ],
   "source": [
    "# square two different ones\n",
    "squares = a1 ** 2\n",
    "squares = np.square(a0)\n",
    "squares"
   ]
  },
  {
   "cell_type": "code",
   "execution_count": 25,
   "id": "3277d066-00ae-4c6b-8a1e-3a20356aca6d",
   "metadata": {},
   "outputs": [
    {
     "data": {
      "text/plain": [
       "16"
      ]
     },
     "execution_count": 25,
     "metadata": {},
     "output_type": "execute_result"
    }
   ],
   "source": [
    "# Aggregation\n",
    "np.sum(a0)"
   ]
  },
  {
   "cell_type": "markdown",
   "id": "182aabde-8158-4c3b-857b-6def7b1e468a",
   "metadata": {},
   "source": [
    "Tips\n",
    "* Use Python methods on Python datatypes\n",
    "* Use NumPy methods on NumPy arrays\n",
    "* Use NumPy for numerical calculations. It is so much faster"
   ]
  },
  {
   "cell_type": "code",
   "execution_count": 26,
   "id": "4459c5d2-8647-44ec-b916-625b9c8333ba",
   "metadata": {},
   "outputs": [
    {
     "data": {
      "text/plain": [
       "array([0.18182497, 0.18340451, 0.30424224, 0.52475643, 0.43194502])"
      ]
     },
     "execution_count": 26,
     "metadata": {},
     "output_type": "execute_result"
    }
   ],
   "source": [
    "big_arr = np.random.random(1000000)\n",
    "big_arr[:5]"
   ]
  },
  {
   "cell_type": "code",
   "execution_count": 27,
   "id": "b315f765-f052-4181-8d36-2cd04a5fc323",
   "metadata": {},
   "outputs": [
    {
     "name": "stdout",
     "output_type": "stream",
     "text": [
      "93.2 ms ± 3.24 ms per loop (mean ± std. dev. of 7 runs, 10 loops each)\n",
      "1.05 ms ± 76.3 µs per loop (mean ± std. dev. of 7 runs, 1,000 loops each)\n"
     ]
    }
   ],
   "source": [
    "%timeit sum(big_arr) # Python's sum\n",
    "%timeit np.sum(big_arr) # Np's sum: WAY FASTER... 100x faster!!!"
   ]
  },
  {
   "cell_type": "markdown",
   "id": "b71de3ef-3843-4768-a9c2-6d66181097e0",
   "metadata": {},
   "source": [
    "Definitions\n",
    "* Standard Deviation: a measure of how spread out a group of numbers is from the mean. (It is the square root of variance)\n",
    "* Variance: Measure of the average degree to which each number is different from the mean"
   ]
  },
  {
   "cell_type": "code",
   "execution_count": 28,
   "id": "19aaa8c2-d127-4c2b-bbdc-0901b9a16417",
   "metadata": {},
   "outputs": [],
   "source": [
    "high_var_array = np.array([1, 100, 200, 23322, 2222, 18, 222222222, 99])\n",
    "low_var_array = np.array([1, 3, 2, 4, 5, 9, 5, 6])"
   ]
  },
  {
   "cell_type": "code",
   "execution_count": 29,
   "id": "73509195-4644-42a0-afed-c8528e669957",
   "metadata": {},
   "outputs": [
    {
     "data": {
      "text/plain": [
       "(5401054323514768.0, 5.484375)"
      ]
     },
     "execution_count": 29,
     "metadata": {},
     "output_type": "execute_result"
    }
   ],
   "source": [
    "# Variance\n",
    "np.var(high_var_array), np.var(low_var_array)"
   ]
  },
  {
   "cell_type": "code",
   "execution_count": 30,
   "id": "d1c97bd5-5b3f-4b6a-81bd-a0e534e9b2e0",
   "metadata": {},
   "outputs": [
    {
     "data": {
      "text/plain": [
       "(73491865.69624402, 2.341874249399399)"
      ]
     },
     "execution_count": 30,
     "metadata": {},
     "output_type": "execute_result"
    }
   ],
   "source": [
    "# std - average of how far away a new number in the array would be from the mean\n",
    "np.std(high_var_array), np.std(low_var_array)"
   ]
  },
  {
   "cell_type": "code",
   "execution_count": 31,
   "id": "48ccbfce-dbd9-4862-b06c-843b4dc9043c",
   "metadata": {},
   "outputs": [
    {
     "data": {
      "text/plain": [
       "(27781023.0, 4.375)"
      ]
     },
     "execution_count": 31,
     "metadata": {},
     "output_type": "execute_result"
    }
   ],
   "source": [
    "np.mean(high_var_array), np.mean(low_var_array)"
   ]
  },
  {
   "cell_type": "code",
   "execution_count": 32,
   "id": "c5899fdb-3d41-4b79-b4a1-e9ac3ed3300e",
   "metadata": {},
   "outputs": [
    {
     "data": {
      "text/plain": [
       "(array([7., 0., 0., 0., 0., 0., 0., 0., 0., 1.]),\n",
       " array([1.00000000e+00, 2.22222231e+07, 4.44444452e+07, 6.66666673e+07,\n",
       "        8.88888894e+07, 1.11111112e+08, 1.33333334e+08, 1.55555556e+08,\n",
       "        1.77777778e+08, 2.00000000e+08, 2.22222222e+08]),\n",
       " <BarContainer object of 10 artists>)"
      ]
     },
     "execution_count": 32,
     "metadata": {},
     "output_type": "execute_result"
    },
    {
     "data": {
      "image/png": "[encoded data removed]",
      "text/plain": [
       "<Figure size 640x480 with 1 Axes>"
      ]
     },
     "metadata": {},
     "output_type": "display_data"
    }
   ],
   "source": [
    "# Show spread of data\n",
    "%matplotlib inline\n",
    "import matplotlib.pyplot as plt\n",
    "plt.hist(high_var_array)"
   ]
  },
  {
   "cell_type": "code",
   "execution_count": 33,
   "id": "0f2fece2-2e9a-48c6-b296-4bed2d343da4",
   "metadata": {},
   "outputs": [
    {
     "data": {
      "text/plain": [
       "(array([1., 1., 1., 1., 0., 2., 1., 0., 0., 1.]),\n",
       " array([1. , 1.8, 2.6, 3.4, 4.2, 5. , 5.8, 6.6, 7.4, 8.2, 9. ]),\n",
       " <BarContainer object of 10 artists>)"
      ]
     },
     "execution_count": 33,
     "metadata": {},
     "output_type": "execute_result"
    },
    {
     "data": {
      "image/png": "[encoded data removed]",
      "text/plain": [
       "<Figure size 640x480 with 1 Axes>"
      ]
     },
     "metadata": {},
     "output_type": "display_data"
    }
   ],
   "source": [
    "# Show spread of data\n",
    "plt.hist(low_var_array)"
   ]
  },
  {
   "cell_type": "markdown",
   "id": "be1d7363-88d7-4ff1-9ce2-5ca567819d11",
   "metadata": {},
   "source": [
    "### Reshape and Transpose"
   ]
  },
  {
   "cell_type": "code",
   "execution_count": 45,
   "id": "23d8bcca-dbd2-41ec-a600-18c7c17f7744",
   "metadata": {},
   "outputs": [
    {
     "data": {
      "text/plain": [
       "((3, 2),\n",
       " array([[ 3, 43],\n",
       "        [ 2, 99],\n",
       "        [23,  1]]))"
      ]
     },
     "execution_count": 45,
     "metadata": {},
     "output_type": "execute_result"
    }
   ],
   "source": [
    "a2.shape, a2"
   ]
  },
  {
   "cell_type": "code",
   "execution_count": 46,
   "id": "3e86fe9e-f7bb-434b-a024-d20fa74b53f3",
   "metadata": {},
   "outputs": [
    {
     "data": {
      "text/plain": [
       "array([[ 3, 43],\n",
       "       [ 2, 99],\n",
       "       [23,  1]])"
      ]
     },
     "execution_count": 46,
     "metadata": {},
     "output_type": "execute_result"
    }
   ],
   "source": [
    "# Reshape - reshapes matrix into new shape\n",
    "a2_1 = a2.reshape(3, 2)\n",
    "a2_1"
   ]
  },
  {
   "cell_type": "code",
   "execution_count": 47,
   "id": "e9531d89-7c02-4cc6-ba77-17cc7ff3d459",
   "metadata": {},
   "outputs": [
    {
     "data": {
      "text/plain": [
       "array([[ 3,  2, 23],\n",
       "       [43, 99,  1]])"
      ]
     },
     "execution_count": 47,
     "metadata": {},
     "output_type": "execute_result"
    }
   ],
   "source": [
    "# Transpose - swaps rows and columns\n",
    "a2_t = a2.transpose()\n",
    "a2_t"
   ]
  }
 ],
 "metadata": {
  "kernelspec": {
   "display_name": "Python 3 (ipykernel)",
   "language": "python",
   "name": "python3"
  },
  "language_info": {
   "codemirror_mode": {
    "name": "ipython",
    "version": 3
   },
   "file_extension": ".py",
   "mimetype": "text/x-python",
   "name": "python",
   "nbconvert_exporter": "python",
   "pygments_lexer": "ipython3",
   "version": "3.10.11"
  }
 },
 "nbformat": 4,
 "nbformat_minor": 5
}
