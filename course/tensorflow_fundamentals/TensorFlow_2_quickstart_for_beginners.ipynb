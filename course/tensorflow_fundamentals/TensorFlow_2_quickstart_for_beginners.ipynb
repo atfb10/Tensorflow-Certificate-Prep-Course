{
  "nbformat": 4,
  "nbformat_minor": 0,
  "metadata": {
    "colab": {
      "provenance": []
    },
    "kernelspec": {
      "name": "python3",
      "display_name": "Python 3"
    },
    "language_info": {
      "name": "python"
    }
  },
  "cells": [
    {
      "cell_type": "markdown",
      "source": [
        "# Adam Forestier\n",
        "## Last Updated: September 20, 2023\n",
        "\n",
        "This File covers the following:\n",
        "- Google's beginner walkthrough to TensorFlow 2 from: https://www.tensorflow.org/tutorials/quickstart/beginner.\n",
        "- All credit to Google, I am just typing out the walkthrough and saving notes from their documentation"
      ],
      "metadata": {
        "id": "Cw_DehX5Khjf"
      }
    },
    {
      "cell_type": "code",
      "source": [
        "import tensorflow as tf"
      ],
      "metadata": {
        "id": "liVEanzNKuZi"
      },
      "execution_count": 45,
      "outputs": []
    },
    {
      "cell_type": "markdown",
      "source": [
        "### Load Dataset"
      ],
      "metadata": {
        "id": "lS6XWzUdrI9A"
      }
    },
    {
      "cell_type": "code",
      "source": [
        "data = tf.keras.datasets.mnist"
      ],
      "metadata": {
        "id": "TADXw5sqrY_Y"
      },
      "execution_count": 46,
      "outputs": []
    },
    {
      "cell_type": "markdown",
      "source": [
        "### Scale Data\n",
        "Load and prepare the MNIST dataset. The pixel values of the images range from 0 through 255. Scale these values to a range of 0 to 1 by dividing the values by 255.0. This also converts the sample data from integers to floating-point numbers"
      ],
      "metadata": {
        "id": "SWM-ts1arU4f"
      }
    },
    {
      "cell_type": "code",
      "source": [
        "(x_train, y_train), (x_test, y_test) = data.load_data()\n",
        "x_train = x_train / 255.0\n",
        "x_test = x_test / 255.0"
      ],
      "metadata": {
        "id": "-uOu39lUrrS4"
      },
      "execution_count": 47,
      "outputs": []
    },
    {
      "cell_type": "markdown",
      "source": [
        "### Build ML Model"
      ],
      "metadata": {
        "id": "15OItRlyr4Ua"
      }
    },
    {
      "cell_type": "code",
      "source": [
        "model = tf.keras.models.Sequential([\n",
        "  tf.keras.layers.Flatten(input_shape=(28, 28)),\n",
        "  tf.keras.layers.Dense(units=128, activation='relu'),\n",
        "  tf.keras.layers.Dropout(rate=0.2),\n",
        "  tf.keras.layers.Dense(units=10)\n",
        "])"
      ],
      "metadata": {
        "id": "gM_dGn8nsESU"
      },
      "execution_count": 48,
      "outputs": []
    },
    {
      "cell_type": "markdown",
      "source": [
        "Sequential is useful for stacking layers where each layer has one input tensor and one output tensor. Layers are functions with a known mathematical structure that can be reused and have trainable variables. Most TensorFlow models are composed of layers. This model uses the Flatten, Dense, and Dropout layers.\n",
        "\n",
        "For each example, the model returns a vector of logits or log-odds scores, one for each class."
      ],
      "metadata": {
        "id": "9ZP7X-BftMU1"
      }
    },
    {
      "cell_type": "code",
      "source": [
        "y_pred = model(x_train[:1]).numpy()\n",
        "y_pred"
      ],
      "metadata": {
        "colab": {
          "base_uri": "https://localhost:8080/"
        },
        "id": "ooEh7yPNtNIb",
        "outputId": "9f38ad9d-5673-437f-c33d-6ddfb8c4ef63"
      },
      "execution_count": 49,
      "outputs": [
        {
          "output_type": "execute_result",
          "data": {
            "text/plain": [
              "array([[ 0.81675273,  0.9600187 , -0.07746734, -0.5565133 , -0.9071664 ,\n",
              "        -0.44079536, -0.5822122 ,  0.01224104, -0.5827246 ,  0.77542925]],\n",
              "      dtype=float32)"
            ]
          },
          "metadata": {},
          "execution_count": 49
        }
      ]
    },
    {
      "cell_type": "markdown",
      "source": [
        "The tf.nn.softmax function converts these logits to probabilities for each class:"
      ],
      "metadata": {
        "id": "zpi6lx2htV3b"
      }
    },
    {
      "cell_type": "code",
      "source": [
        "tf.nn.softmax(logits=y_pred).numpy()"
      ],
      "metadata": {
        "colab": {
          "base_uri": "https://localhost:8080/"
        },
        "id": "xJRvaJr8tby2",
        "outputId": "1c73a5c7-4c06-4eae-f511-55d064b28a43"
      },
      "execution_count": 50,
      "outputs": [
        {
          "output_type": "execute_result",
          "data": {
            "text/plain": [
              "array([[0.193074  , 0.22281449, 0.07895306, 0.04890148, 0.03443779,\n",
              "        0.05490066, 0.04766077, 0.08636322, 0.04763636, 0.18525812]],\n",
              "      dtype=float32)"
            ]
          },
          "metadata": {},
          "execution_count": 50
        }
      ]
    },
    {
      "cell_type": "markdown",
      "source": [
        "Define a loss function for training using losses.SparseCategoricalCrossentropy:"
      ],
      "metadata": {
        "id": "vM8w3y94tkVE"
      }
    },
    {
      "cell_type": "code",
      "source": [
        "loss_function = tf.keras.losses.SparseCategoricalCrossentropy(from_logits=True)"
      ],
      "metadata": {
        "id": "VsiYnjbauWB5"
      },
      "execution_count": 51,
      "outputs": []
    },
    {
      "cell_type": "markdown",
      "source": [
        "The loss function takes a vector of ground truth values and a vector of logits and returns a scalar loss for each example. This loss is equal to the negative log probability of the true class: The loss is zero if the model is sure of the correct class.\n",
        "\n",
        "This untrained model gives probabilities close to random (1/10 for each class), so the initial loss should be close to -tf.math.log(1/10) ~= 2.3."
      ],
      "metadata": {
        "id": "Lxap8vLVueDC"
      }
    },
    {
      "cell_type": "code",
      "source": [
        "loss_function(y_true=y_train[:1], y_pred=y_pred).numpy()"
      ],
      "metadata": {
        "colab": {
          "base_uri": "https://localhost:8080/"
        },
        "id": "0123pQT1wXbF",
        "outputId": "762a589c-bf91-49ba-e042-4dba0f55b8b7"
      },
      "execution_count": 52,
      "outputs": [
        {
          "output_type": "execute_result",
          "data": {
            "text/plain": [
              "2.9022298"
            ]
          },
          "metadata": {},
          "execution_count": 52
        }
      ]
    },
    {
      "cell_type": "markdown",
      "source": [
        "Before you start training, configure and compile the model using Keras Model.compile. Set the optimizer class to adam, set the loss to the loss_fn function you defined earlier, and specify a metric to be evaluated for the model by setting the metrics parameter to accuracy"
      ],
      "metadata": {
        "id": "hNikojI0widj"
      }
    },
    {
      "cell_type": "code",
      "source": [
        "model.compile(optimizer='adam', loss=loss_function, metrics=['accuracy'])"
      ],
      "metadata": {
        "id": "73orBcDnw0TE"
      },
      "execution_count": 53,
      "outputs": []
    },
    {
      "cell_type": "markdown",
      "source": [
        "### Train and Evaluate Model\n",
        "\n",
        "Use Model.fit method to adjust your model parameters and minimize the loss"
      ],
      "metadata": {
        "id": "ebO4jGqCw7rP"
      }
    },
    {
      "cell_type": "code",
      "source": [
        "model.fit(x=x_train, y=y_train, epochs=5)"
      ],
      "metadata": {
        "colab": {
          "base_uri": "https://localhost:8080/"
        },
        "id": "tmMKEJt9xGTu",
        "outputId": "e03ec227-6d37-4271-afc5-c279de427683"
      },
      "execution_count": 54,
      "outputs": [
        {
          "output_type": "stream",
          "name": "stdout",
          "text": [
            "Epoch 1/5\n",
            "1875/1875 [==============================] - 9s 4ms/step - loss: 0.3015 - accuracy: 0.9115\n",
            "Epoch 2/5\n",
            "1875/1875 [==============================] - 8s 4ms/step - loss: 0.1457 - accuracy: 0.9566\n",
            "Epoch 3/5\n",
            "1875/1875 [==============================] - 9s 5ms/step - loss: 0.1096 - accuracy: 0.9671\n",
            "Epoch 4/5\n",
            "1875/1875 [==============================] - 8s 4ms/step - loss: 0.0877 - accuracy: 0.9726\n",
            "Epoch 5/5\n",
            "1875/1875 [==============================] - 9s 5ms/step - loss: 0.0733 - accuracy: 0.9774\n"
          ]
        },
        {
          "output_type": "execute_result",
          "data": {
            "text/plain": [
              "<keras.src.callbacks.History at 0x7ba9e8949870>"
            ]
          },
          "metadata": {},
          "execution_count": 54
        }
      ]
    },
    {
      "cell_type": "markdown",
      "source": [
        "The Model.evaluate method checks the model's performance, usually on a validation set or test set."
      ],
      "metadata": {
        "id": "diRhrB-tw-0U"
      }
    },
    {
      "cell_type": "code",
      "source": [
        "model.evaluate(x=x_test, y=y_test, verbose=2)"
      ],
      "metadata": {
        "colab": {
          "base_uri": "https://localhost:8080/"
        },
        "id": "JEy41roXxVgh",
        "outputId": "56ec3390-08ee-47e9-f117-0f94d6be5b57"
      },
      "execution_count": 55,
      "outputs": [
        {
          "output_type": "stream",
          "name": "stdout",
          "text": [
            "313/313 - 1s - loss: 0.0740 - accuracy: 0.9776 - 737ms/epoch - 2ms/step\n"
          ]
        },
        {
          "output_type": "execute_result",
          "data": {
            "text/plain": [
              "[0.07401582598686218, 0.9775999784469604]"
            ]
          },
          "metadata": {},
          "execution_count": 55
        }
      ]
    },
    {
      "cell_type": "markdown",
      "source": [
        "The image classifier is now trained to ~98% accuracy on this dataset"
      ],
      "metadata": {
        "id": "9DXfv151xiN-"
      }
    },
    {
      "cell_type": "markdown",
      "source": [
        "If you want your model to return a probabilyt, you can wrap the trained model and attach the softmax to it"
      ],
      "metadata": {
        "id": "amRUq_m_xkjQ"
      }
    },
    {
      "cell_type": "code",
      "source": [
        "probability_model = tf.keras.Sequential([\n",
        "    model,\n",
        "    tf.keras.layers.Softmax()\n",
        "])"
      ],
      "metadata": {
        "id": "I-RxgSJlxqeY"
      },
      "execution_count": 56,
      "outputs": []
    },
    {
      "cell_type": "code",
      "source": [
        "probability_model(x_test[:5])"
      ],
      "metadata": {
        "colab": {
          "base_uri": "https://localhost:8080/"
        },
        "id": "CdLOvEewxzwQ",
        "outputId": "1ff636f4-71eb-46bb-8a55-9cc52c1f28b8"
      },
      "execution_count": 57,
      "outputs": [
        {
          "output_type": "execute_result",
          "data": {
            "text/plain": [
              "<tf.Tensor: shape=(5, 10), dtype=float32, numpy=\n",
              "array([[3.76354272e-08, 5.39315981e-10, 1.60939635e-06, 2.08792218e-04,\n",
              "        1.65343832e-11, 9.13349368e-07, 1.11296938e-13, 9.99784172e-01,\n",
              "        3.29000585e-07, 4.05780020e-06],\n",
              "       [2.04308481e-08, 1.13999944e-04, 9.99804199e-01, 4.92126674e-05,\n",
              "        5.97379727e-15, 3.23519889e-05, 1.58236475e-07, 3.24885890e-14,\n",
              "        1.30341277e-07, 6.20811750e-15],\n",
              "       [8.42714769e-08, 9.99146104e-01, 3.00845655e-04, 6.82761765e-06,\n",
              "        2.07045923e-05, 2.00284126e-06, 7.69315466e-06, 3.80568876e-04,\n",
              "        1.33563633e-04, 1.60510240e-06],\n",
              "       [9.99847651e-01, 2.34843828e-11, 4.44821890e-05, 4.82203646e-08,\n",
              "        2.88531965e-07, 1.95465236e-05, 6.34968019e-05, 2.32823295e-05,\n",
              "        1.79512725e-07, 9.86362920e-07],\n",
              "       [4.14379713e-07, 2.79512169e-09, 3.49753122e-06, 1.66716940e-09,\n",
              "        9.98272061e-01, 3.06715748e-07, 2.48826012e-07, 2.77052721e-04,\n",
              "        1.21916671e-07, 1.44639926e-03]], dtype=float32)>"
            ]
          },
          "metadata": {},
          "execution_count": 57
        }
      ]
    }
  ]
}