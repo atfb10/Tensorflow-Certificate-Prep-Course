{
  "cells": [
    {
      "cell_type": "markdown",
      "metadata": {
        "id": "qvpuE3OZLTd4"
      },
      "source": [
        "# Adam Forestier\n",
        "## Last Updated: September 19, 2023\n",
        "\n",
        "This File covers the following:\n",
        "- Introduction to Tensors\n",
        "- Getting information from Tensors\n",
        "- Manipulating Tensors\n",
        "- Tensors & NumPy\n",
        "- Using @tf.function (a way to speed up regular Python functions)\n",
        "- Using GPUs with TensorFlow (or TPUs)"
      ]
    },
    {
      "cell_type": "markdown",
      "metadata": {
        "id": "MbusMpBnMVEo"
      },
      "source": [
        "### Introduction to Tensors"
      ]
    },
    {
      "cell_type": "code",
      "execution_count": 1,
      "metadata": {
        "id": "fnoLDlXzNBWN"
      },
      "outputs": [],
      "source": [
        "# Imports\n",
        "import numpy as np\n",
        "import pandas as pd\n",
        "import tensorflow as tf"
      ]
    },
    {
      "cell_type": "code",
      "execution_count": 2,
      "metadata": {
        "colab": {
          "base_uri": "https://localhost:8080/"
        },
        "id": "4zDjy0fHNoHf",
        "outputId": "6d219ef8-88a7-4be2-c07e-0279bc1520ad"
      },
      "outputs": [
        {
          "output_type": "stream",
          "name": "stdout",
          "text": [
            "2.13.0\n"
          ]
        }
      ],
      "source": [
        "print(tf.__version__)"
      ]
    },
    {
      "cell_type": "code",
      "execution_count": 3,
      "metadata": {
        "colab": {
          "base_uri": "https://localhost:8080/"
        },
        "id": "aC4FGr59Np3L",
        "outputId": "dc7c8daa-16bd-45c1-bf71-bc54bbf1ab11"
      },
      "outputs": [
        {
          "output_type": "execute_result",
          "data": {
            "text/plain": [
              "<tf.Tensor: shape=(), dtype=int32, numpy=7>"
            ]
          },
          "metadata": {},
          "execution_count": 3
        }
      ],
      "source": [
        "# Create tensors with tf.constant() - immutable\n",
        "scalar = tf.constant(7)\n",
        "scalar"
      ]
    },
    {
      "cell_type": "code",
      "execution_count": 4,
      "metadata": {
        "colab": {
          "base_uri": "https://localhost:8080/"
        },
        "id": "fyibf7E-OIs7",
        "outputId": "bca7a3ce-c4b2-42b0-d970-50cc0dabf5e3"
      },
      "outputs": [
        {
          "output_type": "execute_result",
          "data": {
            "text/plain": [
              "0"
            ]
          },
          "metadata": {},
          "execution_count": 4
        }
      ],
      "source": [
        "# Check num dimensions of tensor (ndim stands for number of dimensions)\n",
        "scalar.ndim"
      ]
    },
    {
      "cell_type": "code",
      "execution_count": 5,
      "metadata": {
        "colab": {
          "base_uri": "https://localhost:8080/"
        },
        "id": "e2g6AmLzOjgl",
        "outputId": "017401f3-7408-4b22-e191-73e803e55c46"
      },
      "outputs": [
        {
          "output_type": "execute_result",
          "data": {
            "text/plain": [
              "(<tf.Tensor: shape=(2,), dtype=int32, numpy=array([10, 10], dtype=int32)>,\n",
              " <tf.Tensor: shape=(2,), dtype=int32, numpy=array([12,  1], dtype=int32)>)"
            ]
          },
          "metadata": {},
          "execution_count": 5
        }
      ],
      "source": [
        "# Create a vector\n",
        "vector = tf.constant([10, 10])\n",
        "l = [12, 1]\n",
        "vector1 = tf.constant(l)\n",
        "vector, vector1"
      ]
    },
    {
      "cell_type": "code",
      "execution_count": 6,
      "metadata": {
        "colab": {
          "base_uri": "https://localhost:8080/"
        },
        "id": "InR-FThqOrYQ",
        "outputId": "7e57ff81-706d-4271-8a27-7720cc7a6b9d"
      },
      "outputs": [
        {
          "output_type": "execute_result",
          "data": {
            "text/plain": [
              "1"
            ]
          },
          "metadata": {},
          "execution_count": 6
        }
      ],
      "source": [
        "vector.ndim"
      ]
    },
    {
      "cell_type": "code",
      "execution_count": 7,
      "metadata": {
        "colab": {
          "base_uri": "https://localhost:8080/"
        },
        "id": "wPbFDPY_OsOa",
        "outputId": "48cb7d57-f600-4e04-f7d2-498c1edbda57"
      },
      "outputs": [
        {
          "output_type": "execute_result",
          "data": {
            "text/plain": [
              "<tf.Tensor: shape=(2, 2), dtype=int32, numpy=\n",
              "array([[10,  7],\n",
              "       [ 7, 10]], dtype=int32)>"
            ]
          },
          "metadata": {},
          "execution_count": 7
        }
      ],
      "source": [
        "# Create a matrix\n",
        "mat = tf.constant([[10, 7],\n",
        "                   [7, 10]])\n",
        "mat"
      ]
    },
    {
      "cell_type": "code",
      "execution_count": 8,
      "metadata": {
        "colab": {
          "base_uri": "https://localhost:8080/"
        },
        "id": "si3c9zKrO_9d",
        "outputId": "ab3a402b-ca9d-4558-a75e-41389ce4f105"
      },
      "outputs": [
        {
          "output_type": "execute_result",
          "data": {
            "text/plain": [
              "2"
            ]
          },
          "metadata": {},
          "execution_count": 8
        }
      ],
      "source": [
        "mat.ndim"
      ]
    },
    {
      "cell_type": "code",
      "execution_count": 9,
      "metadata": {
        "colab": {
          "base_uri": "https://localhost:8080/"
        },
        "id": "yYFJ0q2JPBqt",
        "outputId": "6b4aa3cf-1e01-4e17-f820-8e81d4384dd8"
      },
      "outputs": [
        {
          "output_type": "execute_result",
          "data": {
            "text/plain": [
              "<tf.Tensor: shape=(3, 2), dtype=float16, numpy=\n",
              "array([[11.1 , 22.23],\n",
              "       [ 9.  ,  9.99],\n",
              "       [22.31, 33.28]], dtype=float16)>"
            ]
          },
          "metadata": {},
          "execution_count": 9
        }
      ],
      "source": [
        "mat1 = tf.constant([[11.1, 22.23],\n",
        "                    [9., 9.99],\n",
        "                    [22.32, 33.29]], dtype=tf.float16)\n",
        "mat1"
      ]
    },
    {
      "cell_type": "code",
      "execution_count": 10,
      "metadata": {
        "colab": {
          "base_uri": "https://localhost:8080/"
        },
        "id": "yQ4JwK0xPgwi",
        "outputId": "0afda303-66ec-4d0c-f932-e5c89cd13500"
      },
      "outputs": [
        {
          "output_type": "execute_result",
          "data": {
            "text/plain": [
              "2"
            ]
          },
          "metadata": {},
          "execution_count": 10
        }
      ],
      "source": [
        "mat1.ndim"
      ]
    },
    {
      "cell_type": "code",
      "execution_count": 11,
      "metadata": {
        "colab": {
          "base_uri": "https://localhost:8080/"
        },
        "id": "608Wd1XjP8zd",
        "outputId": "b4dadd0e-c704-43f1-f66e-2a07a13b4039"
      },
      "outputs": [
        {
          "output_type": "execute_result",
          "data": {
            "text/plain": [
              "<tf.Tensor: shape=(3, 2, 3), dtype=int32, numpy=\n",
              "array([[[ 1,  2,  3],\n",
              "        [ 4,  5,  6]],\n",
              "\n",
              "       [[ 7,  8,  9],\n",
              "        [10, 11, 12]],\n",
              "\n",
              "       [[13, 14, 15],\n",
              "        [16, 17, 18]]], dtype=int32)>"
            ]
          },
          "metadata": {},
          "execution_count": 11
        }
      ],
      "source": [
        "tensor = tf.constant([[[1, 2, 3],\n",
        "                       [4,5,6]],\n",
        "                      [[7, 8, 9],\n",
        "                       [10, 11, 12]],\n",
        "                      [[13, 14, 15],\n",
        "                       [16, 17, 18]]])\n",
        "tensor"
      ]
    },
    {
      "cell_type": "code",
      "execution_count": 12,
      "metadata": {
        "colab": {
          "base_uri": "https://localhost:8080/"
        },
        "id": "RUgxh_IDQn9_",
        "outputId": "af76c614-bdd2-4740-c04c-03190b2f4def"
      },
      "outputs": [
        {
          "output_type": "execute_result",
          "data": {
            "text/plain": [
              "3"
            ]
          },
          "metadata": {},
          "execution_count": 12
        }
      ],
      "source": [
        "tensor.ndim"
      ]
    },
    {
      "cell_type": "markdown",
      "metadata": {
        "id": "6C9FhlEVQpzZ"
      },
      "source": [
        "* scalar - 0 dimensions; single number\n",
        "* vector - 1 dimension; a number with direction (e.g. wind speed & direction)\n",
        "* matrix - 2 dimensions a 2-dimensional array of numbers\n",
        "* tensor - 3 dimensions a n-dimensional array of numbers; where n can be any number. A 0-d tensor is a scalar, a 1-d tensor is a vector, a 2-d vector is a matrix"
      ]
    },
    {
      "cell_type": "code",
      "execution_count": 13,
      "metadata": {
        "colab": {
          "base_uri": "https://localhost:8080/"
        },
        "id": "Lac10scpReNI",
        "outputId": "2461dbd9-9928-442e-d386-38d04bb8096c"
      },
      "outputs": [
        {
          "output_type": "execute_result",
          "data": {
            "text/plain": [
              "(<tf.Variable 'Variable:0' shape=(2,) dtype=int32, numpy=array([10, 10], dtype=int32)>,\n",
              " <tf.Tensor: shape=(2,), dtype=int32, numpy=array([10, 10], dtype=int32)>)"
            ]
          },
          "metadata": {},
          "execution_count": 13
        }
      ],
      "source": [
        "# Creating tensors with tf.variable - a mutable tensor\n",
        "mutable = tf.Variable([10, 10])\n",
        "immutable = tf.constant([10, 10])\n",
        "mutable, immutable"
      ]
    },
    {
      "cell_type": "code",
      "execution_count": 14,
      "metadata": {
        "colab": {
          "base_uri": "https://localhost:8080/"
        },
        "id": "aQp-maAti_LO",
        "outputId": "b4285fc5-bf42-4742-f77b-6cb4674b30a6"
      },
      "outputs": [
        {
          "output_type": "execute_result",
          "data": {
            "text/plain": [
              "<tf.Variable 'Variable:0' shape=(2,) dtype=int32, numpy=array([ 7, 10], dtype=int32)>"
            ]
          },
          "metadata": {},
          "execution_count": 14
        }
      ],
      "source": [
        "# Change element in mutable tensor\n",
        "mutable[0].assign(7)\n",
        "mutable"
      ]
    },
    {
      "cell_type": "markdown",
      "metadata": {
        "id": "v0ohLc1lktrA"
      },
      "source": [
        "**NOTE** Rarely in practice will you need to decide to use tf.constant or tf.Variable to create tensors, as TensorFlow does this for you. However, if in doubt, use tf.constant & change it later if needed"
      ]
    },
    {
      "cell_type": "code",
      "execution_count": 15,
      "metadata": {
        "colab": {
          "base_uri": "https://localhost:8080/"
        },
        "id": "f2b7Stqajp0h",
        "outputId": "3ac2391f-e6dc-48ae-b28f-2fe02fedc43a"
      },
      "outputs": [
        {
          "output_type": "execute_result",
          "data": {
            "text/plain": [
              "(<tf.Tensor: shape=(3, 2), dtype=float32, numpy=\n",
              " array([[-0.7565803 , -0.06854702],\n",
              "        [ 0.07595026, -1.2573844 ],\n",
              "        [-0.23193765, -1.8107855 ]], dtype=float32)>,\n",
              " <tf.Tensor: shape=(3, 2), dtype=float32, numpy=\n",
              " array([[-0.7565803 , -0.06854702],\n",
              "        [ 0.07595026, -1.2573844 ],\n",
              "        [-0.23193765, -1.8107855 ]], dtype=float32)>,\n",
              " <tf.Tensor: shape=(3, 2), dtype=bool, numpy=\n",
              " array([[ True,  True],\n",
              "        [ True,  True],\n",
              "        [ True,  True]])>)"
            ]
          },
          "metadata": {},
          "execution_count": 15
        }
      ],
      "source": [
        "'''\n",
        "Creating Random Tensors\n",
        "\n",
        "Random tensors are tensors of some arbitrary size which contain random numbers\n",
        "'''\n",
        "\n",
        "# Set global set\n",
        "tf.random.set_seed(42)\n",
        "\n",
        "# set seed to make reproducable, uses Uniform distribution - distribution that has constant probability\n",
        "rand = tf.random.Generator.from_seed(42)\n",
        "\n",
        "# Normal distribution - function that represents the distribution of many random variables as a symmetric bell-shaped curve\n",
        "rand = rand.normal(shape=(3,2))  # random.normal - outputs random values from a normal distribution\n",
        "rand2 = tf.random.Generator.from_seed(42)\n",
        "rand2 = rand2.normal(shape=(3,2))\n",
        "\n",
        "# Show the two tensors, as well as an equality matrix. The matrix will be all True, because the random seed is\n",
        "# set to be identical for both variables\n",
        "rand, rand2, rand == rand2"
      ]
    },
    {
      "cell_type": "markdown",
      "source": [
        "###Shuffling Tensor Order - September 7, 2023\n",
        "- Why Shuffle?\n",
        "- Shuffle data so the inherent order doesn't affect learning"
      ],
      "metadata": {
        "id": "-xykA0UElHru"
      }
    },
    {
      "cell_type": "code",
      "source": [
        "# Create matrix to shuffle\n",
        "not_shuffled = tf.constant([[10, 7],\n",
        "                          [3, 4],\n",
        "                          [2, 5]])\n",
        "not_shuffled"
      ],
      "metadata": {
        "colab": {
          "base_uri": "https://localhost:8080/"
        },
        "id": "Ge3AlZ0zcG0f",
        "outputId": "6050131e-2793-4478-e01a-58bfc0fafc2b"
      },
      "execution_count": 16,
      "outputs": [
        {
          "output_type": "execute_result",
          "data": {
            "text/plain": [
              "<tf.Tensor: shape=(3, 2), dtype=int32, numpy=\n",
              "array([[10,  7],\n",
              "       [ 3,  4],\n",
              "       [ 2,  5]], dtype=int32)>"
            ]
          },
          "metadata": {},
          "execution_count": 16
        }
      ]
    },
    {
      "cell_type": "code",
      "source": [
        "'''\n",
        "Pseudo-randomly shuffle\n",
        "tf.random.shuffle() will randomly shuffle along its first dimension\n",
        "seed parameter is just for local operation\n",
        "If one wants have reproducable shuffles, global and local operation needs to be set for shuffling (I set it globally a few cells up)\n",
        "\n",
        "From docs: \"If both global & operation seed are set: both seeds are used in conjunction to determine order\"\n",
        "\n",
        "Why? Want to have reproducable results each time experiment is run\n",
        "'''\n",
        "tf.random.set_seed(42)\n",
        "shuffled = tf.random.shuffle(value=not_shuffled, seed=42)\n",
        "shuffled"
      ],
      "metadata": {
        "colab": {
          "base_uri": "https://localhost:8080/"
        },
        "id": "k8MIclrscQco",
        "outputId": "7351840a-57d1-42a0-8f65-ed59e72f3b36"
      },
      "execution_count": 17,
      "outputs": [
        {
          "output_type": "execute_result",
          "data": {
            "text/plain": [
              "<tf.Tensor: shape=(3, 2), dtype=int32, numpy=\n",
              "array([[10,  7],\n",
              "       [ 3,  4],\n",
              "       [ 2,  5]], dtype=int32)>"
            ]
          },
          "metadata": {},
          "execution_count": 17
        }
      ]
    },
    {
      "cell_type": "code",
      "source": [
        "# Exercise - create 5 random tensors and then shuffle\n",
        "tf.random.set_seed(42)\n",
        "rand_tensors = []\n",
        "i = 0\n",
        "while i < 5:\n",
        "  rand_generator = tf.random.Generator.from_seed(42)\n",
        "  rand_tensor = rand_generator.normal(shape=(3,2))\n",
        "  rand_tensors.append(rand_tensor)\n",
        "  i += 1\n",
        "\n",
        "i = 0\n",
        "for t in rand_tensors:\n",
        "  rand_tensors[i] = tf.random.shuffle(value=t, seed=42)\n",
        "  i += 1"
      ],
      "metadata": {
        "id": "kjsytNSMlrwQ"
      },
      "execution_count": 18,
      "outputs": []
    },
    {
      "cell_type": "markdown",
      "source": [
        "### Other Ways to Create Tensors"
      ],
      "metadata": {
        "id": "odgUyxginPGP"
      }
    },
    {
      "cell_type": "code",
      "source": [
        "# ones\n",
        "o = tf.ones(shape=(10, 7)) # Built in with Tensorflow"
      ],
      "metadata": {
        "id": "CkL5s2XPpHNz"
      },
      "execution_count": 19,
      "outputs": []
    },
    {
      "cell_type": "markdown",
      "source": [
        "**IMPORTANT** - the main difference between NumPy arrays & Tensorflow Tensors, is that tensors can be run on a GPU (much faster for numerical computing)"
      ],
      "metadata": {
        "id": "pzVZQdG4JftW"
      }
    },
    {
      "cell_type": "markdown",
      "source": [
        "**KEY** - use capital for matrix tensor, use lowercase for vector tensor"
      ],
      "metadata": {
        "id": "RFJHvIsvJ7rS"
      }
    },
    {
      "cell_type": "code",
      "source": [
        "# using np array\n",
        "A = np.array([[1, 2, 3], [4, 5, 6]])\n",
        "a = np.arange(1, 25, dtype=np.int32)\n",
        "\n",
        "# Easy, just pass as argument!\n",
        "X = tf.constant(A)\n",
        "x = tf.constant(a)\n",
        "\n",
        "# Change the shape!\n",
        "X2 = tf.constant(a, shape=(2,3,4)) # 2 matrices of 3 rows & 4 columns\n",
        "print(f'{X2} \\n\\n {x}')"
      ],
      "metadata": {
        "colab": {
          "base_uri": "https://localhost:8080/"
        },
        "id": "UvC8KSm4IyGO",
        "outputId": "68ab9b04-cf42-44cc-b251-2173a49bb286"
      },
      "execution_count": 20,
      "outputs": [
        {
          "output_type": "stream",
          "name": "stdout",
          "text": [
            "[[[ 1  2  3  4]\n",
            "  [ 5  6  7  8]\n",
            "  [ 9 10 11 12]]\n",
            "\n",
            " [[13 14 15 16]\n",
            "  [17 18 19 20]\n",
            "  [21 22 23 24]]] \n",
            "\n",
            " [ 1  2  3  4  5  6  7  8  9 10 11 12 13 14 15 16 17 18 19 20 21 22 23 24]\n"
          ]
        }
      ]
    },
    {
      "cell_type": "markdown",
      "source": [
        "### Attributes - Get Information from Tensors\n",
        "\n",
        "Key Attributes\n",
        "- Shape: Length of each of dimensions of tensor\n",
        "- Rank: Number of tensor dimensions. Scalar = 0, vector = 1, matrix = 2, tensor = 3\n",
        "- Axis or Dimension: Dimension of a tensor\n",
        "- Size: Total number of items in the tensor"
      ],
      "metadata": {
        "id": "H3vOWCFOJUFu"
      }
    },
    {
      "cell_type": "code",
      "source": [
        "# Create a rank 4 tensor\n",
        "rank_4_tensor = tf.zeros(shape=(2,3,4,5))\n",
        "rank_4_tensor"
      ],
      "metadata": {
        "colab": {
          "base_uri": "https://localhost:8080/"
        },
        "id": "MOouPNyJLUWt",
        "outputId": "0514f9bf-71a5-47e4-d697-b4a8b960626e"
      },
      "execution_count": 21,
      "outputs": [
        {
          "output_type": "execute_result",
          "data": {
            "text/plain": [
              "<tf.Tensor: shape=(2, 3, 4, 5), dtype=float32, numpy=\n",
              "array([[[[0., 0., 0., 0., 0.],\n",
              "         [0., 0., 0., 0., 0.],\n",
              "         [0., 0., 0., 0., 0.],\n",
              "         [0., 0., 0., 0., 0.]],\n",
              "\n",
              "        [[0., 0., 0., 0., 0.],\n",
              "         [0., 0., 0., 0., 0.],\n",
              "         [0., 0., 0., 0., 0.],\n",
              "         [0., 0., 0., 0., 0.]],\n",
              "\n",
              "        [[0., 0., 0., 0., 0.],\n",
              "         [0., 0., 0., 0., 0.],\n",
              "         [0., 0., 0., 0., 0.],\n",
              "         [0., 0., 0., 0., 0.]]],\n",
              "\n",
              "\n",
              "       [[[0., 0., 0., 0., 0.],\n",
              "         [0., 0., 0., 0., 0.],\n",
              "         [0., 0., 0., 0., 0.],\n",
              "         [0., 0., 0., 0., 0.]],\n",
              "\n",
              "        [[0., 0., 0., 0., 0.],\n",
              "         [0., 0., 0., 0., 0.],\n",
              "         [0., 0., 0., 0., 0.],\n",
              "         [0., 0., 0., 0., 0.]],\n",
              "\n",
              "        [[0., 0., 0., 0., 0.],\n",
              "         [0., 0., 0., 0., 0.],\n",
              "         [0., 0., 0., 0., 0.],\n",
              "         [0., 0., 0., 0., 0.]]]], dtype=float32)>"
            ]
          },
          "metadata": {},
          "execution_count": 21
        }
      ]
    },
    {
      "cell_type": "code",
      "source": [
        "# Attributes\n",
        "rank_4_tensor.shape, rank_4_tensor.ndim, tf.size(rank_4_tensor)"
      ],
      "metadata": {
        "colab": {
          "base_uri": "https://localhost:8080/"
        },
        "id": "v5wGHSKVNXEs",
        "outputId": "fda2489f-9740-45fb-eafa-e1665417595d"
      },
      "execution_count": 22,
      "outputs": [
        {
          "output_type": "execute_result",
          "data": {
            "text/plain": [
              "(TensorShape([2, 3, 4, 5]), 4, <tf.Tensor: shape=(), dtype=int32, numpy=120>)"
            ]
          },
          "metadata": {},
          "execution_count": 22
        }
      ]
    },
    {
      "cell_type": "code",
      "source": [
        "# Get various attributes of tensor\n",
        "print(f\"Datatype: {rank_4_tensor.dtype}\")\n",
        "print(f\"Number of dimensions (rank): {rank_4_tensor.ndim}\")\n",
        "print(f\"Shape: {rank_4_tensor.shape}\")\n",
        "print(f\"Elements along 0 axis: {rank_4_tensor.shape[0]}\")\n",
        "print(f\"Elements along last axis: {rank_4_tensor.shape[-1]}\")\n",
        "print(f\"Total elements: {tf.size(rank_4_tensor).numpy()}\") # Cleaner way to display size"
      ],
      "metadata": {
        "colab": {
          "base_uri": "https://localhost:8080/"
        },
        "id": "7f-konG0YFyZ",
        "outputId": "f4552754-d381-4d21-fc7d-c98b187a67ac"
      },
      "execution_count": 23,
      "outputs": [
        {
          "output_type": "stream",
          "name": "stdout",
          "text": [
            "Datatype: <dtype: 'float32'>\n",
            "Number of dimensions (rank): 4\n",
            "Shape: (2, 3, 4, 5)\n",
            "Elements along 0 axis: 2\n",
            "Elements along last axis: 5\n",
            "Total elements: 120\n"
          ]
        }
      ]
    },
    {
      "cell_type": "markdown",
      "source": [
        "###Indexing Tensors"
      ],
      "metadata": {
        "id": "8i-YEQNpY2vA"
      }
    },
    {
      "cell_type": "code",
      "source": [
        "# Get first 2 elemnts of each dimension\n",
        "rank_4_tensor[:2, :2, :2, :2]"
      ],
      "metadata": {
        "colab": {
          "base_uri": "https://localhost:8080/"
        },
        "id": "3IMgec0tsVSf",
        "outputId": "2b53cf1e-b343-4704-cb33-5e8b10aa3e22"
      },
      "execution_count": 24,
      "outputs": [
        {
          "output_type": "execute_result",
          "data": {
            "text/plain": [
              "<tf.Tensor: shape=(2, 2, 2, 2), dtype=float32, numpy=\n",
              "array([[[[0., 0.],\n",
              "         [0., 0.]],\n",
              "\n",
              "        [[0., 0.],\n",
              "         [0., 0.]]],\n",
              "\n",
              "\n",
              "       [[[0., 0.],\n",
              "         [0., 0.]],\n",
              "\n",
              "        [[0., 0.],\n",
              "         [0., 0.]]]], dtype=float32)>"
            ]
          },
          "metadata": {},
          "execution_count": 24
        }
      ]
    },
    {
      "cell_type": "code",
      "source": [
        "# Get the first dimension from each index except the final one\n",
        "rank_4_tensor[:1, :1, :1, :]"
      ],
      "metadata": {
        "colab": {
          "base_uri": "https://localhost:8080/"
        },
        "id": "-Y_X6-ShsbaH",
        "outputId": "8d98a9fa-c8aa-48c5-bda3-b1d5a8bada05"
      },
      "execution_count": 25,
      "outputs": [
        {
          "output_type": "execute_result",
          "data": {
            "text/plain": [
              "<tf.Tensor: shape=(1, 1, 1, 5), dtype=float32, numpy=array([[[[0., 0., 0., 0., 0.]]]], dtype=float32)>"
            ]
          },
          "metadata": {},
          "execution_count": 25
        }
      ]
    },
    {
      "cell_type": "code",
      "source": [
        "# Create a rank 2 tensor\n",
        "Mat = tf.constant([[10, 7],\n",
        "                   [12, 8]])\n",
        "Mat.shape, mat.ndim"
      ],
      "metadata": {
        "colab": {
          "base_uri": "https://localhost:8080/"
        },
        "id": "EJKuTtNMs2YB",
        "outputId": "49694e4e-ee3f-4c6c-a5a9-ce39cbb9f76f"
      },
      "execution_count": 26,
      "outputs": [
        {
          "output_type": "execute_result",
          "data": {
            "text/plain": [
              "(TensorShape([2, 2]), 2)"
            ]
          },
          "metadata": {},
          "execution_count": 26
        }
      ]
    },
    {
      "cell_type": "code",
      "source": [
        "# get last item of each row of rank 2 tensor\n",
        "# All rows, last item!\n",
        "Mat[:, -1]"
      ],
      "metadata": {
        "colab": {
          "base_uri": "https://localhost:8080/"
        },
        "id": "4niaQcTatoUu",
        "outputId": "e110f028-d802-49e6-9767-527ac884ad19"
      },
      "execution_count": 27,
      "outputs": [
        {
          "output_type": "execute_result",
          "data": {
            "text/plain": [
              "<tf.Tensor: shape=(2,), dtype=int32, numpy=array([7, 8], dtype=int32)>"
            ]
          },
          "metadata": {},
          "execution_count": 27
        }
      ]
    },
    {
      "cell_type": "code",
      "source": [
        "# Add in extra dimension\n",
        "'''\n",
        "... means: on every previous axis.\n",
        "    The more verbose equivalent would be tensor = mat[:, :, tf.newaxis]\n",
        "'''\n",
        "tensor = Mat[..., tf.newaxis]\n",
        "tensor"
      ],
      "metadata": {
        "colab": {
          "base_uri": "https://localhost:8080/"
        },
        "id": "QELpq8WhuFbT",
        "outputId": "574f2319-372a-4cd0-cc4f-bfce248e2572"
      },
      "execution_count": 28,
      "outputs": [
        {
          "output_type": "execute_result",
          "data": {
            "text/plain": [
              "<tf.Tensor: shape=(2, 2, 1), dtype=int32, numpy=\n",
              "array([[[10],\n",
              "        [ 7]],\n",
              "\n",
              "       [[12],\n",
              "        [ 8]]], dtype=int32)>"
            ]
          },
          "metadata": {},
          "execution_count": 28
        }
      ]
    },
    {
      "cell_type": "code",
      "source": [
        "# Add in extra dimension option 2\n",
        "tensor = tf.expand_dims(input=Mat, axis=-1)\n",
        "tensor"
      ],
      "metadata": {
        "colab": {
          "base_uri": "https://localhost:8080/"
        },
        "id": "tHST6TxYucQa",
        "outputId": "3e70ebab-0a7b-4d8a-bea1-7e3fb77c660e"
      },
      "execution_count": 29,
      "outputs": [
        {
          "output_type": "execute_result",
          "data": {
            "text/plain": [
              "<tf.Tensor: shape=(2, 2, 1), dtype=int32, numpy=\n",
              "array([[[10],\n",
              "        [ 7]],\n",
              "\n",
              "       [[12],\n",
              "        [ 8]]], dtype=int32)>"
            ]
          },
          "metadata": {},
          "execution_count": 29
        }
      ]
    },
    {
      "cell_type": "code",
      "source": [
        "# expand 0 axis\n",
        "tensor = tf.expand_dims(input=Mat, axis=0)\n",
        "tensor"
      ],
      "metadata": {
        "colab": {
          "base_uri": "https://localhost:8080/"
        },
        "id": "xZRswBPuvNIp",
        "outputId": "ce5f847a-3afd-4a64-b5b4-6de6f6f31253"
      },
      "execution_count": 30,
      "outputs": [
        {
          "output_type": "execute_result",
          "data": {
            "text/plain": [
              "<tf.Tensor: shape=(1, 2, 2), dtype=int32, numpy=\n",
              "array([[[10,  7],\n",
              "        [12,  8]]], dtype=int32)>"
            ]
          },
          "metadata": {},
          "execution_count": 30
        }
      ]
    },
    {
      "cell_type": "markdown",
      "source": [
        "### Manipulating Tensors (Tensor Operations)\n",
        "**Basic Operations**\n",
        "`+`, `-`, `*`, `/`"
      ],
      "metadata": {
        "id": "BZVF05m1vaWy"
      }
    },
    {
      "cell_type": "code",
      "source": [
        "# Add values\n",
        "tensor = tf.constant([[10, 7],\n",
        "                      [90, 79]])\n",
        "tensor + 10"
      ],
      "metadata": {
        "colab": {
          "base_uri": "https://localhost:8080/"
        },
        "id": "cmKVSitFvkQs",
        "outputId": "6854d6fb-57fa-4297-b56e-e821a1cfc66d"
      },
      "execution_count": 31,
      "outputs": [
        {
          "output_type": "execute_result",
          "data": {
            "text/plain": [
              "<tf.Tensor: shape=(2, 2), dtype=int32, numpy=\n",
              "array([[ 20,  17],\n",
              "       [100,  89]], dtype=int32)>"
            ]
          },
          "metadata": {},
          "execution_count": 31
        }
      ]
    },
    {
      "cell_type": "code",
      "source": [
        "# Multiple\n",
        "tensor * 7"
      ],
      "metadata": {
        "colab": {
          "base_uri": "https://localhost:8080/"
        },
        "id": "U7YeidXdwJtT",
        "outputId": "e2d200cc-ec49-4b93-d804-29e312799bb8"
      },
      "execution_count": 32,
      "outputs": [
        {
          "output_type": "execute_result",
          "data": {
            "text/plain": [
              "<tf.Tensor: shape=(2, 2), dtype=int32, numpy=\n",
              "array([[ 70,  49],\n",
              "       [630, 553]], dtype=int32)>"
            ]
          },
          "metadata": {},
          "execution_count": 32
        }
      ]
    },
    {
      "cell_type": "code",
      "source": [
        "# Subtract\n",
        "# Tensors can go into negatives\n",
        "tensor - 21"
      ],
      "metadata": {
        "colab": {
          "base_uri": "https://localhost:8080/"
        },
        "id": "yE9vxWs9wXiV",
        "outputId": "2714f831-d134-4371-fb2a-0f6ccb03769d"
      },
      "execution_count": 33,
      "outputs": [
        {
          "output_type": "execute_result",
          "data": {
            "text/plain": [
              "<tf.Tensor: shape=(2, 2), dtype=int32, numpy=\n",
              "array([[-11, -14],\n",
              "       [ 69,  58]], dtype=int32)>"
            ]
          },
          "metadata": {},
          "execution_count": 33
        }
      ]
    },
    {
      "cell_type": "code",
      "source": [
        "# can use tensorflow built-in functions too\n",
        "# IMPORTANT!!! ALWAYS USE BUILT IN LIBRARIES. MUCH FASTER\n",
        "tf.multiply(tensor, 10), tf.add(tensor, 2), tf.subtract(tensor, 88), tf.divide(tensor, 9)"
      ],
      "metadata": {
        "colab": {
          "base_uri": "https://localhost:8080/"
        },
        "id": "l-BQA2eYwbTY",
        "outputId": "dff621c5-c0c7-4f24-ca92-6c62ce025b67"
      },
      "execution_count": 34,
      "outputs": [
        {
          "output_type": "execute_result",
          "data": {
            "text/plain": [
              "(<tf.Tensor: shape=(2, 2), dtype=int32, numpy=\n",
              " array([[100,  70],\n",
              "        [900, 790]], dtype=int32)>,\n",
              " <tf.Tensor: shape=(2, 2), dtype=int32, numpy=\n",
              " array([[12,  9],\n",
              "        [92, 81]], dtype=int32)>,\n",
              " <tf.Tensor: shape=(2, 2), dtype=int32, numpy=\n",
              " array([[-78, -81],\n",
              "        [  2,  -9]], dtype=int32)>,\n",
              " <tf.Tensor: shape=(2, 2), dtype=float64, numpy=\n",
              " array([[ 1.11111111,  0.77777778],\n",
              "        [10.        ,  8.77777778]])>)"
            ]
          },
          "metadata": {},
          "execution_count": 34
        }
      ]
    },
    {
      "cell_type": "markdown",
      "source": [
        "### Matrix Multiplication - \"Dot Product\"\n",
        "\n",
        "In ML, matrix multiplication is of the most common tensor operations"
      ],
      "metadata": {
        "id": "qBQnMDa2wtub"
      }
    },
    {
      "cell_type": "markdown",
      "source": [
        "*Notes to self*\n",
        "- https://www.mathsisfun.com/algebra/matrix-multiplying.html\n",
        "- **Matrix B must have the same number of rows as Matrix A has Columns** AKA Inner Dimensions must match\n",
        "- The resulting matrix has the shape of the outer dimensions. AKA Matrix A's rows and Matrix B's columns\n",
        "- Example of math in Green notebook."
      ],
      "metadata": {
        "id": "WS-rFwkBw_WE"
      }
    },
    {
      "cell_type": "code",
      "source": [
        "# tf.linalg.matmul() multiplies Matrix A by Matrix B resulting in A * B\n",
        "MatA = tf.constant([[10, 23],\n",
        "                    [88, 45]])\n",
        "MatB = tf.constant([[10, 10],\n",
        "                    [1, 22]])\n",
        "Prod = tf.linalg.matmul(a=MatA, b=MatB)\n",
        "Prod"
      ],
      "metadata": {
        "colab": {
          "base_uri": "https://localhost:8080/"
        },
        "id": "TNHGtQEJQNlI",
        "outputId": "fb98a161-978e-41ee-ba64-cad6f0b87af8"
      },
      "execution_count": 35,
      "outputs": [
        {
          "output_type": "execute_result",
          "data": {
            "text/plain": [
              "<tf.Tensor: shape=(2, 2), dtype=int32, numpy=\n",
              "array([[ 123,  606],\n",
              "       [ 925, 1870]], dtype=int32)>"
            ]
          },
          "metadata": {},
          "execution_count": 35
        }
      ]
    },
    {
      "cell_type": "code",
      "source": [
        "# Matrix multiplication with Python operator \"@\" - learned something new!\n",
        "# NOTE: Still faster to use Tensorflow built-in libraries!\n",
        "Prod = MatA @ MatB\n",
        "Prod"
      ],
      "metadata": {
        "colab": {
          "base_uri": "https://localhost:8080/"
        },
        "id": "luf9EtQSQrxo",
        "outputId": "4f5ea7d0-2896-463f-910b-cf09df5771c1"
      },
      "execution_count": 36,
      "outputs": [
        {
          "output_type": "execute_result",
          "data": {
            "text/plain": [
              "<tf.Tensor: shape=(2, 2), dtype=int32, numpy=\n",
              "array([[ 123,  606],\n",
              "       [ 925, 1870]], dtype=int32)>"
            ]
          },
          "metadata": {},
          "execution_count": 36
        }
      ]
    },
    {
      "cell_type": "code",
      "source": [
        "# Two random tensors multiplied together\n",
        "rg = tf.random.Generator.from_seed(42)\n",
        "MatA = rg.normal(shape=(3, 3))\n",
        "rg = tf.random.Generator.from_seed(101)\n",
        "MatB = rg.normal(shape=(3, 2))\n",
        "tf.linalg.matmul(a=MatA, b=MatB)"
      ],
      "metadata": {
        "colab": {
          "base_uri": "https://localhost:8080/"
        },
        "id": "O7YeLFOYQ-C5",
        "outputId": "12607f1c-646b-485a-f369-e98b23a6ee8d"
      },
      "execution_count": 37,
      "outputs": [
        {
          "output_type": "execute_result",
          "data": {
            "text/plain": [
              "<tf.Tensor: shape=(3, 2), dtype=float32, numpy=\n",
              "array([[-0.06664589,  1.2771904 ],\n",
              "       [ 1.3243756 ,  2.3106525 ],\n",
              "       [ 0.886186  , -0.20474419]], dtype=float32)>"
            ]
          },
          "metadata": {},
          "execution_count": 37
        }
      ]
    },
    {
      "cell_type": "code",
      "source": [
        "# Example of two tensors to multiply without the same inner dimensions. must resphape\n",
        "A = tf.constant([[3, 2],\n",
        "                    [44, 22],\n",
        "                    [9, 2]])\n",
        "B = tf.constant([[44, 22],\n",
        "                 [89, 22],\n",
        "                 [67,22]])\n",
        "'''\n",
        "currently cannot multiply. 3 x 2 and 3 x 2 matrix multiplication does not work\n",
        "must reshape so that inner dimensions match\n",
        "'''\n",
        "B_r = tf.reshape(tensor=B, shape=(2,3))\n",
        "'''\n",
        "now we have 3 x 2 and 2 x 3. Inner dimensions align\n",
        "Resulting matrix will be the size of the outer dimensions (3 x 3)\n",
        "'''\n",
        "A, B_r"
      ],
      "metadata": {
        "colab": {
          "base_uri": "https://localhost:8080/"
        },
        "id": "oYwWcC0PSPNK",
        "outputId": "7f9a7f63-4705-454b-d0de-b31d57e2ebc2"
      },
      "execution_count": 38,
      "outputs": [
        {
          "output_type": "execute_result",
          "data": {
            "text/plain": [
              "(<tf.Tensor: shape=(3, 2), dtype=int32, numpy=\n",
              " array([[ 3,  2],\n",
              "        [44, 22],\n",
              "        [ 9,  2]], dtype=int32)>,\n",
              " <tf.Tensor: shape=(2, 3), dtype=int32, numpy=\n",
              " array([[44, 22, 89],\n",
              "        [22, 67, 22]], dtype=int32)>)"
            ]
          },
          "metadata": {},
          "execution_count": 38
        }
      ]
    },
    {
      "cell_type": "code",
      "source": [
        "# Resulting dot product\n",
        "tf.linalg.matmul(a=A, b=B_r)"
      ],
      "metadata": {
        "colab": {
          "base_uri": "https://localhost:8080/"
        },
        "id": "esAglxBH1DAA",
        "outputId": "16134a6a-5aca-404a-9036-8c872e5cba96"
      },
      "execution_count": 39,
      "outputs": [
        {
          "output_type": "execute_result",
          "data": {
            "text/plain": [
              "<tf.Tensor: shape=(3, 3), dtype=int32, numpy=\n",
              "array([[ 176,  200,  311],\n",
              "       [2420, 2442, 4400],\n",
              "       [ 440,  332,  845]], dtype=int32)>"
            ]
          },
          "metadata": {},
          "execution_count": 39
        }
      ]
    },
    {
      "cell_type": "markdown",
      "source": [
        "Transpose vs Reshape\n",
        "- **Transpose** - flips along axis\n",
        "- **Reshapes** - Shuffles values to get into correct shape\n",
        "- Lots of reshaping & transposing done to tensors\n",
        "- Generally: You do not have to choose, Tensorflow does transposing or reshaping behind the scenes for you\n",
        "- As a rule of thumb: if you need to choose for yourself, more often than not, you want to transpose"
      ],
      "metadata": {
        "id": "XkN8hOlG4xIZ"
      }
    },
    {
      "cell_type": "code",
      "source": [
        "# Use transpose to turn A into 2, 3 shape\n",
        "A_t = tf.transpose(a=A)\n",
        "\n",
        "# Show difference between reshape & transpose\n",
        "print(f'Original\\n {A}\\n\\n Transpose\\n{A_t}\\n\\n Reshape\\n{tf.reshape(tensor=A, shape=(2,3))}')"
      ],
      "metadata": {
        "colab": {
          "base_uri": "https://localhost:8080/"
        },
        "id": "V7KoUgq-5R1q",
        "outputId": "ad872f23-80af-4f12-818d-70d8fc126c3a"
      },
      "execution_count": 40,
      "outputs": [
        {
          "output_type": "stream",
          "name": "stdout",
          "text": [
            "Original\n",
            " [[ 3  2]\n",
            " [44 22]\n",
            " [ 9  2]]\n",
            "\n",
            " Transpose\n",
            "[[ 3 44  9]\n",
            " [ 2 22  2]]\n",
            "\n",
            " Reshape\n",
            "[[ 3  2 44]\n",
            " [22  9  2]]\n"
          ]
        }
      ]
    },
    {
      "cell_type": "code",
      "source": [
        "# Show difference again\n",
        "A = np.random.randint(low=1, high=10, size=(3,2))\n",
        "B = np.random.randint(low=1, high=10, size=(3,2))\n",
        "r1 = tf.linalg.matmul(a=tf.transpose(a=A), b=B)\n",
        "r2 = tf.linalg.matmul(a=tf.reshape(tensor=A, shape=(2,3)), b=B)\n",
        "print(f'Matrix A Transpose before dot\\n {r1}\\n\\n Matrix A Reshape before dot\\n{r2}')"
      ],
      "metadata": {
        "colab": {
          "base_uri": "https://localhost:8080/"
        },
        "id": "OVIoDkw7UhYD",
        "outputId": "6350eb30-9e70-4f7d-8c00-59c98ec6479b"
      },
      "execution_count": 41,
      "outputs": [
        {
          "output_type": "stream",
          "name": "stdout",
          "text": [
            "Matrix A Transpose before dot\n",
            " [[49 48]\n",
            " [97 98]]\n",
            "\n",
            " Matrix A Reshape before dot\n",
            "[[41 47]\n",
            " [89 82]]\n"
          ]
        }
      ]
    },
    {
      "cell_type": "markdown",
      "source": [
        "### Change datatype of tensor"
      ],
      "metadata": {
        "id": "QldH7_Hz5fla"
      }
    },
    {
      "cell_type": "code",
      "source": [
        "# Show datatypes\n",
        "v32 = tf.constant([1.7, 3.2])\n",
        "vint = tf.constant([1, 2])\n",
        "v32.dtype, vint.dtype"
      ],
      "metadata": {
        "colab": {
          "base_uri": "https://localhost:8080/"
        },
        "id": "-Sq4e-JOW429",
        "outputId": "29e85ea1-ac2a-4b03-b26b-56f2b955807a"
      },
      "execution_count": 42,
      "outputs": [
        {
          "output_type": "execute_result",
          "data": {
            "text/plain": [
              "(tf.float32, tf.int32)"
            ]
          },
          "metadata": {},
          "execution_count": 42
        }
      ]
    },
    {
      "cell_type": "code",
      "source": [
        "'''\n",
        "Change from default 32 bit precision to 16 bit precision using casting\n",
        "Modern hardware accelerators can before 16 bit dtype operations faster; potentially up to 2x faster!!! Tensor would take up half of the memory\n",
        "'''\n",
        "v16 = tf.cast(x=v32, dtype=tf.float16)\n",
        "v16, v32"
      ],
      "metadata": {
        "colab": {
          "base_uri": "https://localhost:8080/"
        },
        "id": "cr6CslEJXJz8",
        "outputId": "3b0ea51a-d7fb-4239-a055-937dae004fd9"
      },
      "execution_count": 43,
      "outputs": [
        {
          "output_type": "execute_result",
          "data": {
            "text/plain": [
              "(<tf.Tensor: shape=(2,), dtype=float16, numpy=array([1.7, 3.2], dtype=float16)>,\n",
              " <tf.Tensor: shape=(2,), dtype=float32, numpy=array([1.7, 3.2], dtype=float32)>)"
            ]
          },
          "metadata": {},
          "execution_count": 43
        }
      ]
    },
    {
      "cell_type": "code",
      "source": [
        "# Another - int to float\n",
        "v32_1 = tf.cast(x=vint, dtype=tf.float32)\n",
        "v32_1"
      ],
      "metadata": {
        "colab": {
          "base_uri": "https://localhost:8080/"
        },
        "id": "1cDEp9hkYS8M",
        "outputId": "d5f669bb-0d64-4fcf-a086-47f1c1211698"
      },
      "execution_count": 44,
      "outputs": [
        {
          "output_type": "execute_result",
          "data": {
            "text/plain": [
              "<tf.Tensor: shape=(2,), dtype=float32, numpy=array([1., 2.], dtype=float32)>"
            ]
          },
          "metadata": {},
          "execution_count": 44
        }
      ]
    },
    {
      "cell_type": "markdown",
      "source": [
        "### Tensor Aggregation\n",
        "\n",
        "Condensing from multiple values down to smaller amount of values"
      ],
      "metadata": {
        "id": "IMT2HlKs5o_i"
      }
    },
    {
      "cell_type": "code",
      "source": [
        "# Create some tensors\n",
        "A = tf.constant(np.random.randint(low=-11, high=20, size=(2, 3)))\n",
        "B = tf.constant(np.random.randint(low=-12, high=200, size=(2, 4)))\n",
        "C = tf.constant(np.random.randint(low=-122, high=20, size=(4, 2)))"
      ],
      "metadata": {
        "id": "N6plfdv85sfb"
      },
      "execution_count": 45,
      "outputs": []
    },
    {
      "cell_type": "code",
      "source": [
        "# Get absolute values\n",
        "A, tf.abs(x=A)"
      ],
      "metadata": {
        "colab": {
          "base_uri": "https://localhost:8080/"
        },
        "id": "Fi-wLNwbZS5t",
        "outputId": "0ebb1380-6812-44e5-f35f-22757a61b0b7"
      },
      "execution_count": 46,
      "outputs": [
        {
          "output_type": "execute_result",
          "data": {
            "text/plain": [
              "(<tf.Tensor: shape=(2, 3), dtype=int64, numpy=\n",
              " array([[17, -3, 13],\n",
              "        [10, 14, 11]])>,\n",
              " <tf.Tensor: shape=(2, 3), dtype=int64, numpy=\n",
              " array([[17,  3, 13],\n",
              "        [10, 14, 11]])>)"
            ]
          },
          "metadata": {},
          "execution_count": 46
        }
      ]
    },
    {
      "cell_type": "code",
      "source": [
        "# Min\n",
        "B, tf.math.reduce_min(input_tensor=B).numpy()"
      ],
      "metadata": {
        "colab": {
          "base_uri": "https://localhost:8080/"
        },
        "id": "9Jizw5sYhx1i",
        "outputId": "7fd7313c-9680-413a-d0b6-c30f82d454bc"
      },
      "execution_count": 47,
      "outputs": [
        {
          "output_type": "execute_result",
          "data": {
            "text/plain": [
              "(<tf.Tensor: shape=(2, 4), dtype=int64, numpy=\n",
              " array([[95, 93, -3,  1],\n",
              "        [62, 81, 56, 65]])>,\n",
              " -3)"
            ]
          },
          "metadata": {},
          "execution_count": 47
        }
      ]
    },
    {
      "cell_type": "code",
      "source": [
        "# Max\n",
        "C, tf.math.reduce_max(input_tensor=C).numpy()"
      ],
      "metadata": {
        "colab": {
          "base_uri": "https://localhost:8080/"
        },
        "id": "Y55JYGQVhyvx",
        "outputId": "788a89c6-d194-40d8-b8ef-c74baf43779a"
      },
      "execution_count": 48,
      "outputs": [
        {
          "output_type": "execute_result",
          "data": {
            "text/plain": [
              "(<tf.Tensor: shape=(4, 2), dtype=int64, numpy=\n",
              " array([[  10,    0],\n",
              "        [  14,  -80],\n",
              "        [ -89, -105],\n",
              "        [ -66,  -18]])>,\n",
              " 14)"
            ]
          },
          "metadata": {},
          "execution_count": 48
        }
      ]
    },
    {
      "cell_type": "code",
      "source": [
        "# Mean\n",
        "tf.math.reduce_mean(input_tensor=B).numpy()"
      ],
      "metadata": {
        "colab": {
          "base_uri": "https://localhost:8080/"
        },
        "id": "mGhpuM4nhdmA",
        "outputId": "6044a838-5455-4ccc-e296-b4ccc317dc20"
      },
      "execution_count": 49,
      "outputs": [
        {
          "output_type": "execute_result",
          "data": {
            "text/plain": [
              "56"
            ]
          },
          "metadata": {},
          "execution_count": 49
        }
      ]
    },
    {
      "cell_type": "code",
      "source": [
        "# Sum\n",
        "tf.math.reduce_sum(input_tensor=A).numpy()"
      ],
      "metadata": {
        "colab": {
          "base_uri": "https://localhost:8080/"
        },
        "id": "AgN9fg0jhvvI",
        "outputId": "428953f5-1dce-4b09-a4a1-f76444769a4a"
      },
      "execution_count": 50,
      "outputs": [
        {
          "output_type": "execute_result",
          "data": {
            "text/plain": [
              "62"
            ]
          },
          "metadata": {},
          "execution_count": 50
        }
      ]
    },
    {
      "cell_type": "code",
      "source": [
        "denom = tf.size(B).numpy()\n",
        "num = tf.math.reduce_sum(input_tensor=B)\n",
        "print(f'{num}/{denom}')\n",
        "(num/denom).numpy()"
      ],
      "metadata": {
        "colab": {
          "base_uri": "https://localhost:8080/"
        },
        "id": "kT5W4VBljHpX",
        "outputId": "82da8304-bd94-46a5-a8e7-c981fc0a44c3"
      },
      "execution_count": 51,
      "outputs": [
        {
          "output_type": "stream",
          "name": "stdout",
          "text": [
            "450/8\n"
          ]
        },
        {
          "output_type": "execute_result",
          "data": {
            "text/plain": [
              "56.25"
            ]
          },
          "metadata": {},
          "execution_count": 51
        }
      ]
    },
    {
      "cell_type": "code",
      "source": [
        "# Variance\n",
        "v = tf.math.reduce_variance(input_tensor=tf.cast(x=A, dtype=tf.float16)).numpy()\n",
        "v"
      ],
      "metadata": {
        "colab": {
          "base_uri": "https://localhost:8080/"
        },
        "id": "KNkkPjC9jNU_",
        "outputId": "ce3a1678-4214-4b43-c5ce-5fa39cea6846"
      },
      "execution_count": 52,
      "outputs": [
        {
          "output_type": "execute_result",
          "data": {
            "text/plain": [
              "40.56"
            ]
          },
          "metadata": {},
          "execution_count": 52
        }
      ]
    },
    {
      "cell_type": "code",
      "source": [
        "# Standard deviation\n",
        "opt1 = tf.math.reduce_std(input_tensor=tf.cast(x=A, dtype=tf.float16)).numpy() # Option a\n",
        "opt2 = tf.math.sqrt(x=v).numpy() # Option B\n",
        "opt1, opt2"
      ],
      "metadata": {
        "colab": {
          "base_uri": "https://localhost:8080/"
        },
        "id": "YIqoX91qkPKP",
        "outputId": "8a3fda3c-d4b7-402a-cf40-70b70e8da34b"
      },
      "execution_count": 53,
      "outputs": [
        {
          "output_type": "execute_result",
          "data": {
            "text/plain": [
              "(6.367, 6.367)"
            ]
          },
          "metadata": {},
          "execution_count": 53
        }
      ]
    },
    {
      "cell_type": "markdown",
      "source": [
        "### Positional Min & Max"
      ],
      "metadata": {
        "id": "r47fheqAkhsn"
      }
    },
    {
      "cell_type": "code",
      "source": [
        "# New tensor\n",
        "F = tf.random.uniform(shape=[50])\n",
        "F"
      ],
      "metadata": {
        "colab": {
          "base_uri": "https://localhost:8080/"
        },
        "id": "wYnITF_Al9ir",
        "outputId": "79c3f46f-38ab-424b-c7b7-fec1dd557723"
      },
      "execution_count": 54,
      "outputs": [
        {
          "output_type": "execute_result",
          "data": {
            "text/plain": [
              "<tf.Tensor: shape=(50,), dtype=float32, numpy=\n",
              "array([0.6645621 , 0.44100678, 0.3528825 , 0.46448255, 0.03366041,\n",
              "       0.68467236, 0.74011743, 0.8724445 , 0.22632635, 0.22319686,\n",
              "       0.3103881 , 0.7223358 , 0.13318717, 0.5480639 , 0.5746088 ,\n",
              "       0.8996835 , 0.00946367, 0.5212307 , 0.6345445 , 0.1993283 ,\n",
              "       0.72942245, 0.54583454, 0.10756552, 0.6767061 , 0.6602763 ,\n",
              "       0.33695042, 0.60141766, 0.21062577, 0.8527372 , 0.44062173,\n",
              "       0.9485276 , 0.23752594, 0.81179297, 0.5263394 , 0.494308  ,\n",
              "       0.21612847, 0.8457197 , 0.8718841 , 0.3083862 , 0.6868038 ,\n",
              "       0.23764038, 0.7817228 , 0.9671384 , 0.06870162, 0.79873943,\n",
              "       0.66028714, 0.5871513 , 0.16461694, 0.7381023 , 0.32054043],\n",
              "      dtype=float32)>"
            ]
          },
          "metadata": {},
          "execution_count": 54
        }
      ]
    },
    {
      "cell_type": "code",
      "source": [
        "tf.random.set_seed(42)\n",
        "F = tf.random.shuffle(value=F, seed=42)"
      ],
      "metadata": {
        "id": "a7QiaAmymSxn"
      },
      "execution_count": 55,
      "outputs": []
    },
    {
      "cell_type": "code",
      "source": [
        "# At what index does max value occur? argmax\n",
        "big_i = tf.math.argmax(input=F).numpy() # Returns index w/ the largeset value across axes of a tensor\n",
        "print(f'value at biggest index, {big_i} = {F[big_i]}')"
      ],
      "metadata": {
        "colab": {
          "base_uri": "https://localhost:8080/"
        },
        "id": "JC7766FUnctW",
        "outputId": "1b2fde0a-36dc-4e5b-b4c9-81efc48d8a1a"
      },
      "execution_count": 56,
      "outputs": [
        {
          "output_type": "stream",
          "name": "stdout",
          "text": [
            "value at biggest index, 28 = 0.967138409614563\n"
          ]
        }
      ]
    },
    {
      "cell_type": "code",
      "source": [
        "# At what index does min value occur? argmin\n",
        "lil_i = tf.math.argmin(input=F).numpy() # Returns index w/ the largeset value across axes of a tensor\n",
        "print(f'value at smallest index, {lil_i} = {F[lil_i]}')"
      ],
      "metadata": {
        "colab": {
          "base_uri": "https://localhost:8080/"
        },
        "id": "kwTOaYRnn4iu",
        "outputId": "7a23d7da-72d7-41f3-d53b-b876b92e3586"
      },
      "execution_count": 57,
      "outputs": [
        {
          "output_type": "stream",
          "name": "stdout",
          "text": [
            "value at smallest index, 29 = 0.009463667869567871\n"
          ]
        }
      ]
    },
    {
      "cell_type": "markdown",
      "source": [
        "### Squeezing a Tensor\n",
        "Removing all 1-dimension axes"
      ],
      "metadata": {
        "id": "RPmXI80JoUgl"
      }
    },
    {
      "cell_type": "code",
      "source": [
        "# Create tensor\n",
        "T = tf.random.uniform(shape=(1,1,1,1,50))\n",
        "T"
      ],
      "metadata": {
        "colab": {
          "base_uri": "https://localhost:8080/"
        },
        "id": "ossSEdCuosqK",
        "outputId": "26b6e4d8-ecb3-4139-8657-f968cd033159"
      },
      "execution_count": 58,
      "outputs": [
        {
          "output_type": "execute_result",
          "data": {
            "text/plain": [
              "<tf.Tensor: shape=(1, 1, 1, 1, 50), dtype=float32, numpy=\n",
              "array([[[[[0.6645621 , 0.44100678, 0.3528825 , 0.46448255, 0.03366041,\n",
              "           0.68467236, 0.74011743, 0.8724445 , 0.22632635, 0.22319686,\n",
              "           0.3103881 , 0.7223358 , 0.13318717, 0.5480639 , 0.5746088 ,\n",
              "           0.8996835 , 0.00946367, 0.5212307 , 0.6345445 , 0.1993283 ,\n",
              "           0.72942245, 0.54583454, 0.10756552, 0.6767061 , 0.6602763 ,\n",
              "           0.33695042, 0.60141766, 0.21062577, 0.8527372 , 0.44062173,\n",
              "           0.9485276 , 0.23752594, 0.81179297, 0.5263394 , 0.494308  ,\n",
              "           0.21612847, 0.8457197 , 0.8718841 , 0.3083862 , 0.6868038 ,\n",
              "           0.23764038, 0.7817228 , 0.9671384 , 0.06870162, 0.79873943,\n",
              "           0.66028714, 0.5871513 , 0.16461694, 0.7381023 , 0.32054043]]]]],\n",
              "      dtype=float32)>"
            ]
          },
          "metadata": {},
          "execution_count": 58
        }
      ]
    },
    {
      "cell_type": "code",
      "source": [
        "# squeeze\n",
        "T.shape"
      ],
      "metadata": {
        "colab": {
          "base_uri": "https://localhost:8080/"
        },
        "id": "dA3WbXb2p30H",
        "outputId": "9ef61dd7-2e49-4ebf-eed4-f60b681dd50b"
      },
      "execution_count": 59,
      "outputs": [
        {
          "output_type": "execute_result",
          "data": {
            "text/plain": [
              "TensorShape([1, 1, 1, 1, 50])"
            ]
          },
          "metadata": {},
          "execution_count": 59
        }
      ]
    },
    {
      "cell_type": "code",
      "source": [
        "# Reduce extra dimensions with squeeze!\n",
        "T_squeezed = tf.squeeze(input=T)\n",
        "T_squeezed"
      ],
      "metadata": {
        "colab": {
          "base_uri": "https://localhost:8080/"
        },
        "id": "A7lG7-sIp_o1",
        "outputId": "1c8d06da-6ac6-4967-f286-77ab6d7c502b"
      },
      "execution_count": 60,
      "outputs": [
        {
          "output_type": "execute_result",
          "data": {
            "text/plain": [
              "<tf.Tensor: shape=(50,), dtype=float32, numpy=\n",
              "array([0.6645621 , 0.44100678, 0.3528825 , 0.46448255, 0.03366041,\n",
              "       0.68467236, 0.74011743, 0.8724445 , 0.22632635, 0.22319686,\n",
              "       0.3103881 , 0.7223358 , 0.13318717, 0.5480639 , 0.5746088 ,\n",
              "       0.8996835 , 0.00946367, 0.5212307 , 0.6345445 , 0.1993283 ,\n",
              "       0.72942245, 0.54583454, 0.10756552, 0.6767061 , 0.6602763 ,\n",
              "       0.33695042, 0.60141766, 0.21062577, 0.8527372 , 0.44062173,\n",
              "       0.9485276 , 0.23752594, 0.81179297, 0.5263394 , 0.494308  ,\n",
              "       0.21612847, 0.8457197 , 0.8718841 , 0.3083862 , 0.6868038 ,\n",
              "       0.23764038, 0.7817228 , 0.9671384 , 0.06870162, 0.79873943,\n",
              "       0.66028714, 0.5871513 , 0.16461694, 0.7381023 , 0.32054043],\n",
              "      dtype=float32)>"
            ]
          },
          "metadata": {},
          "execution_count": 60
        }
      ]
    },
    {
      "cell_type": "code",
      "source": [
        "T_squeezed.shape"
      ],
      "metadata": {
        "colab": {
          "base_uri": "https://localhost:8080/"
        },
        "id": "SJUfcYu_qG9n",
        "outputId": "e703a90b-86cd-4f2b-e008-9a6f6a16eb72"
      },
      "execution_count": 61,
      "outputs": [
        {
          "output_type": "execute_result",
          "data": {
            "text/plain": [
              "TensorShape([50])"
            ]
          },
          "metadata": {},
          "execution_count": 61
        }
      ]
    },
    {
      "cell_type": "markdown",
      "source": [
        "### One-hot encoding tensors\n",
        "\n",
        "Numerical Encoding for Categorical Features\n",
        "- Creates column for each classification, with 0 for when it is not instance of that classification, 1 when it is instance of that classification"
      ],
      "metadata": {
        "id": "2SEMmKlHot6v"
      }
    },
    {
      "cell_type": "code",
      "source": [
        "# Create list\n",
        "l = [0,1,2,3]\n",
        "\n",
        "# One hot encode\n",
        "ohe = tf.one_hot(indices=l, depth=4)\n",
        "ohe"
      ],
      "metadata": {
        "colab": {
          "base_uri": "https://localhost:8080/"
        },
        "id": "D3apR-lxowt-",
        "outputId": "9281c131-bd05-4bd6-a253-f6589ca8cc40"
      },
      "execution_count": 62,
      "outputs": [
        {
          "output_type": "execute_result",
          "data": {
            "text/plain": [
              "<tf.Tensor: shape=(4, 4), dtype=float32, numpy=\n",
              "array([[1., 0., 0., 0.],\n",
              "       [0., 1., 0., 0.],\n",
              "       [0., 0., 1., 0.],\n",
              "       [0., 0., 0., 1.]], dtype=float32)>"
            ]
          },
          "metadata": {},
          "execution_count": 62
        }
      ]
    },
    {
      "cell_type": "code",
      "source": [
        "# Specify custom values for one hot encoding\n",
        "ohe = tf.one_hot(indices=l, depth=4, on_value=True, off_value=False)\n",
        "ohe_silly = tf.one_hot(indices=l, depth=4, on_value='cheese', off_value='bread')\n",
        "ohe, ohe_silly"
      ],
      "metadata": {
        "colab": {
          "base_uri": "https://localhost:8080/"
        },
        "id": "713EP8yyAhuz",
        "outputId": "40fa3af3-dfb1-40bb-8c34-6fbbcdc1fa14"
      },
      "execution_count": 63,
      "outputs": [
        {
          "output_type": "execute_result",
          "data": {
            "text/plain": [
              "(<tf.Tensor: shape=(4, 4), dtype=bool, numpy=\n",
              " array([[ True, False, False, False],\n",
              "        [False,  True, False, False],\n",
              "        [False, False,  True, False],\n",
              "        [False, False, False,  True]])>,\n",
              " <tf.Tensor: shape=(4, 4), dtype=string, numpy=\n",
              " array([[b'cheese', b'bread', b'bread', b'bread'],\n",
              "        [b'bread', b'cheese', b'bread', b'bread'],\n",
              "        [b'bread', b'bread', b'cheese', b'bread'],\n",
              "        [b'bread', b'bread', b'bread', b'cheese']], dtype=object)>)"
            ]
          },
          "metadata": {},
          "execution_count": 63
        }
      ]
    },
    {
      "cell_type": "markdown",
      "source": [
        "### More math operations"
      ],
      "metadata": {
        "id": "0DvMf0haozwP"
      }
    },
    {
      "cell_type": "code",
      "source": [
        "# create tensor\n",
        "H = tf.range(1, 10)\n",
        "H"
      ],
      "metadata": {
        "colab": {
          "base_uri": "https://localhost:8080/"
        },
        "id": "EIyWi1IKo7uP",
        "outputId": "ab93ddd8-ce27-43fb-c340-0cea2413df92"
      },
      "execution_count": 64,
      "outputs": [
        {
          "output_type": "execute_result",
          "data": {
            "text/plain": [
              "<tf.Tensor: shape=(9,), dtype=int32, numpy=array([1, 2, 3, 4, 5, 6, 7, 8, 9], dtype=int32)>"
            ]
          },
          "metadata": {},
          "execution_count": 64
        }
      ]
    },
    {
      "cell_type": "code",
      "source": [
        "# Square - performs on each element in tensor\n",
        "tf.math.square(x=H)"
      ],
      "metadata": {
        "colab": {
          "base_uri": "https://localhost:8080/"
        },
        "id": "av-P8ExbBgE7",
        "outputId": "3fed5ad0-e17b-42b9-bcd1-be6e6f607278"
      },
      "execution_count": 65,
      "outputs": [
        {
          "output_type": "execute_result",
          "data": {
            "text/plain": [
              "<tf.Tensor: shape=(9,), dtype=int32, numpy=array([ 1,  4,  9, 16, 25, 36, 49, 64, 81], dtype=int32)>"
            ]
          },
          "metadata": {},
          "execution_count": 65
        }
      ]
    },
    {
      "cell_type": "code",
      "source": [
        "# square root - performs on each element in tensor\n",
        "tf.math.sqrt(x=tf.cast(x=H, dtype=tf.float16))"
      ],
      "metadata": {
        "colab": {
          "base_uri": "https://localhost:8080/"
        },
        "id": "xWBA39EpBP07",
        "outputId": "7a398ec7-aa15-471e-e2b8-0a19006f9b66"
      },
      "execution_count": 66,
      "outputs": [
        {
          "output_type": "execute_result",
          "data": {
            "text/plain": [
              "<tf.Tensor: shape=(9,), dtype=float16, numpy=\n",
              "array([1.   , 1.414, 1.732, 2.   , 2.236, 2.45 , 2.646, 2.828, 3.   ],\n",
              "      dtype=float16)>"
            ]
          },
          "metadata": {},
          "execution_count": 66
        }
      ]
    },
    {
      "cell_type": "code",
      "source": [
        "# Log - performs on each element in tensor\n",
        "tf.math.log(x=tf.cast(x=H, dtype=tf.float16))"
      ],
      "metadata": {
        "colab": {
          "base_uri": "https://localhost:8080/"
        },
        "id": "ET_4ydESBlbC",
        "outputId": "09de852b-a4b2-4697-eef0-696717ab72e1"
      },
      "execution_count": 67,
      "outputs": [
        {
          "output_type": "execute_result",
          "data": {
            "text/plain": [
              "<tf.Tensor: shape=(9,), dtype=float16, numpy=\n",
              "array([0.    , 0.6934, 1.099 , 1.387 , 1.609 , 1.792 , 1.946 , 2.08  ,\n",
              "       2.197 ], dtype=float16)>"
            ]
          },
          "metadata": {},
          "execution_count": 67
        }
      ]
    },
    {
      "cell_type": "markdown",
      "source": [
        "### Tensorflow & NumPy compatibility\n",
        "\n",
        "Tensorflow interacts well with NumPy array\n",
        "- This is great, because if there is some functionality we want to perform with tensors, that is not supported by tensorflow, we can convert the tensor to a NumPy array, perform the operation, and then turn it back to a tensor!"
      ],
      "metadata": {
        "id": "DC9AqxUgo8PW"
      }
    },
    {
      "cell_type": "code",
      "source": [
        "# Create tensor from np array\n",
        "J = tf.constant(np.array([1.0, 32.0, 90.0]))\n",
        "J"
      ],
      "metadata": {
        "colab": {
          "base_uri": "https://localhost:8080/"
        },
        "id": "U_xnvNvnpAjW",
        "outputId": "ed12ea8d-07a8-4a76-8bbb-c3e7da391118"
      },
      "execution_count": 68,
      "outputs": [
        {
          "output_type": "execute_result",
          "data": {
            "text/plain": [
              "<tf.Tensor: shape=(3,), dtype=float64, numpy=array([ 1., 32., 90.])>"
            ]
          },
          "metadata": {},
          "execution_count": 68
        }
      ]
    },
    {
      "cell_type": "code",
      "source": [
        "# Convert tensor to np array\n",
        "np.array(J), type(np.array(J))"
      ],
      "metadata": {
        "colab": {
          "base_uri": "https://localhost:8080/"
        },
        "id": "uCAdjwxqFF_h",
        "outputId": "451949ab-a9b4-4f10-8122-dbe120964567"
      },
      "execution_count": 69,
      "outputs": [
        {
          "output_type": "execute_result",
          "data": {
            "text/plain": [
              "(array([ 1., 32., 90.]), numpy.ndarray)"
            ]
          },
          "metadata": {},
          "execution_count": 69
        }
      ]
    },
    {
      "cell_type": "code",
      "source": [
        "# Convert tensor J TO NP array option 2\n",
        "J.numpy(), type(J.numpy())"
      ],
      "metadata": {
        "colab": {
          "base_uri": "https://localhost:8080/"
        },
        "id": "EtNAG6JsFNkB",
        "outputId": "f1ec60fb-0b61-43b3-c218-5f5fec74bd48"
      },
      "execution_count": 70,
      "outputs": [
        {
          "output_type": "execute_result",
          "data": {
            "text/plain": [
              "(array([ 1., 32., 90.]), numpy.ndarray)"
            ]
          },
          "metadata": {},
          "execution_count": 70
        }
      ]
    },
    {
      "cell_type": "code",
      "source": [
        "# Default types. NP defaults to 64-bit precision, TF defaults to 32-bit precision\n",
        "# Key to note if there are datatype errors\n",
        "numpy_J = tf.constant(np.array([3., 7., 10.]))\n",
        "tensor_J = tf.constant([3., 7., 10.])\n",
        "numpy_J.dtype, tensor_J.dtype"
      ],
      "metadata": {
        "colab": {
          "base_uri": "https://localhost:8080/"
        },
        "id": "Dy55LEidFqKb",
        "outputId": "af272307-3b61-470d-8884-ec4b83573037"
      },
      "execution_count": 71,
      "outputs": [
        {
          "output_type": "execute_result",
          "data": {
            "text/plain": [
              "(tf.float64, tf.float32)"
            ]
          },
          "metadata": {},
          "execution_count": 71
        }
      ]
    },
    {
      "cell_type": "markdown",
      "source": [
        "### Making sure our tensor operations run really fast on GPUs\n",
        "- Numerical processing is MUCH faster on GPUs and TPUs"
      ],
      "metadata": {
        "id": "yhUvKC8upA82"
      }
    },
    {
      "cell_type": "code",
      "source": [
        "# Find access to hardware\n",
        "tf.config.list_physical_devices()"
      ],
      "metadata": {
        "colab": {
          "base_uri": "https://localhost:8080/"
        },
        "id": "mCpXGv0vpGMG",
        "outputId": "ab1a0377-9102-49c2-c9b2-c6cf09c5e579"
      },
      "execution_count": 72,
      "outputs": [
        {
          "output_type": "execute_result",
          "data": {
            "text/plain": [
              "[PhysicalDevice(name='/physical_device:CPU:0', device_type='CPU'),\n",
              " PhysicalDevice(name='/physical_device:GPU:0', device_type='GPU')]"
            ]
          },
          "metadata": {},
          "execution_count": 72
        }
      ]
    },
    {
      "cell_type": "markdown",
      "source": [
        "*Steps*\n",
        "1. Click Runtime\n",
        "2. Select \"change runtime type\" from the dropdown\n",
        "3. Select hardware accelerator\n",
        "4. Save\n",
        "5. Wait for colab notebook to connect to accelerator\n",
        "6. Rerun notebook/cells!"
      ],
      "metadata": {
        "id": "6xOj5ymHGjdG"
      }
    },
    {
      "cell_type": "code",
      "source": [
        "# Display type of GPU being used\n",
        "!nvidia-smi"
      ],
      "metadata": {
        "colab": {
          "base_uri": "https://localhost:8080/"
        },
        "id": "YoNnePooHwPe",
        "outputId": "7248ee73-846c-460f-b1e1-9ecb3c5cd34a"
      },
      "execution_count": 75,
      "outputs": [
        {
          "output_type": "stream",
          "name": "stdout",
          "text": [
            "Tue Sep 19 20:27:46 2023       \n",
            "+-----------------------------------------------------------------------------+\n",
            "| NVIDIA-SMI 525.105.17   Driver Version: 525.105.17   CUDA Version: 12.0     |\n",
            "|-------------------------------+----------------------+----------------------+\n",
            "| GPU  Name        Persistence-M| Bus-Id        Disp.A | Volatile Uncorr. ECC |\n",
            "| Fan  Temp  Perf  Pwr:Usage/Cap|         Memory-Usage | GPU-Util  Compute M. |\n",
            "|                               |                      |               MIG M. |\n",
            "|===============================+======================+======================|\n",
            "|   0  Tesla T4            Off  | 00000000:00:04.0 Off |                    0 |\n",
            "| N/A   51C    P0    28W /  70W |    553MiB / 15360MiB |      0%      Default |\n",
            "|                               |                      |                  N/A |\n",
            "+-------------------------------+----------------------+----------------------+\n",
            "                                                                               \n",
            "+-----------------------------------------------------------------------------+\n",
            "| Processes:                                                                  |\n",
            "|  GPU   GI   CI        PID   Type   Process name                  GPU Memory |\n",
            "|        ID   ID                                                   Usage      |\n",
            "|=============================================================================|\n",
            "+-----------------------------------------------------------------------------+\n"
          ]
        }
      ]
    },
    {
      "cell_type": "markdown",
      "source": [
        "**If you have access to a CUDA-enabled GPU, TensorFlow will automatically use it whenever possible!** No more additional setup needed"
      ],
      "metadata": {
        "id": "jxZOzFBhIDFF"
      }
    }
  ],
  "metadata": {
    "colab": {
      "provenance": [],
      "gpuType": "T4"
    },
    "kernelspec": {
      "display_name": "Python 3",
      "name": "python3"
    },
    "language_info": {
      "name": "python"
    },
    "accelerator": "GPU"
  },
  "nbformat": 4,
  "nbformat_minor": 0
}