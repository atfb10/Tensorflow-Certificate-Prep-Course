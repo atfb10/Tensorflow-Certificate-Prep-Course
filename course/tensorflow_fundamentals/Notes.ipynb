{
 "cells": [
  {
   "cell_type": "markdown",
   "id": "f4e10754-c1a3-41ab-9da3-1352aeabc135",
   "metadata": {},
   "source": [
    "# Adam Forestier\n",
    "## Last Updated August 21, 2023"
   ]
  },
  {
   "cell_type": "markdown",
   "id": "bed94d33-0f90-4c7a-8c0c-0c10829f692e",
   "metadata": {},
   "source": [
    "### What is Deep Learning"
   ]
  },
  {
   "cell_type": "markdown",
   "id": "c56ea367-c7d4-46ef-9159-e58a3a953b05",
   "metadata": {},
   "source": [
    "**Internet Definition**: type of ML based on artificial neural networks in which multiple layers of processing are used to extract progressively higher level features of data\n",
    "\n",
    "**Instructor ML Definition**: Turning data into numbers and finding patterns in those numbers"
   ]
  },
  {
   "cell_type": "markdown",
   "id": "59ebf56f-cdd8-46c1-b105-8cd977dc8423",
   "metadata": {},
   "source": [
    "### Why Use Deep Learning"
   ]
  },
  {
   "cell_type": "markdown",
   "id": "d0a08843-ace8-42ba-a122-000bea9e65c7",
   "metadata": {},
   "source": [
    "*Reason* For a complex, problem, can you think of all the rules?\n",
    "*Anti-Reason* If you can build a simple rule-based system that doesn't require ml, do that\" - Google Genius (Rule 1 of Google ML handbook)\n",
    "\n",
    "*What is deep learning good for?*\n",
    "- Problems w/ long lists of rules\n",
    "- Continually changing environments\n",
    "- Discovering insights w/in large collections of data\n",
    "\n",
    "\n",
    "*What is deep learning typically not good for?*\n",
    "- When you need explainability\n",
    "- When the traditional approach is a better option (if you can accomplish what you need w/ a simple rule based system)\n",
    "- When errors are unacceptable\n",
    "- When you do not have much data\n",
    "\n",
    "*ML vs Deep Learning*\n",
    "- ML typically works best in structured data\n",
    "- Deep learning typically works best with unstructured data (text, images, etc)\n",
    "- Structured Data Algorithms: Random Forest, Naive Bayes, KNN, SVM, Linear & Logistic Regression, Gradient-Boosted Trees, xgBoost, etc (often known as \"shallow\" algorithms)\n",
    "- Unstructured Data Algorithms: Neural networks, fully connected neural network, convulational neural network (cnn), recurrent neural network (rnn), transformer, etc. (first 4 neural networks are what this course focuses on) "
   ]
  },
  {
   "cell_type": "markdown",
   "id": "daf83070-79b7-46d8-9317-cdf14a8b1ad0",
   "metadata": {},
   "source": [
    "### What are Neural Networks"
   ]
  },
  {
   "cell_type": "markdown",
   "id": "0d023408-7099-4bf0-886e-a9090ce3f52b",
   "metadata": {},
   "source": [
    "**Internet Definition** network or circuit of neurons; in ML artificial neurons\n",
    "\n",
    "*Types of Learning*\n",
    "- **Supervised Learning**: data and labels\n",
    "- **Semi-supervised Learning**: Data and *some* labels\n",
    "- **Unsupervised Learning**: Only data & no labels\n",
    "- **Transfer Learning**: Taking what one deep learning model has learning about a set of data, and using it on a different problem with a different model.\n",
    "\n",
    "*Transfer Learning Example*: One model is trained on images of the world, and this model is used with a model that is training to differentiate images of food\n",
    "\n",
    "*Personal Note*: Course focused primarily on supervised learning & transfer learning"
   ]
  },
  {
   "cell_type": "markdown",
   "id": "02828443-ddf0-4168-8dff-23c540e58519",
   "metadata": {},
   "source": [
    "![Neural Network Explanation](neural_network_simple.jpg)"
   ]
  },
  {
   "cell_type": "markdown",
   "id": "6d495fc7-5527-4d88-89ea-8fed6bfc96de",
   "metadata": {},
   "source": [
    "![Neural Network Anatomy](n_network_anatomy.jpg)"
   ]
  },
  {
   "cell_type": "markdown",
   "id": "ce70caf1-3c04-46a6-b496-196a2a3cfa79",
   "metadata": {},
   "source": [
    "### What is Deep Learning Being Used for\n",
    "- Recommendation (Example: YouTube)\n",
    "- Translation (Example: Spanish to English)\n",
    "- Speech Recognition (Example: Siri) Also known as sequence to sequence\n",
    "- Computer Vision (Example: determining food by image) classification/regression\n",
    "- Natural Language Processing (NLP)"
   ]
  },
  {
   "cell_type": "markdown",
   "id": "80fe7657-0003-40b4-9e70-4c182feb5258",
   "metadata": {},
   "source": [
    "### What is & Why Use Tensorflow\n",
    "- End to end platform for ML\n",
    "- Write deep learning code in Python/other languages (able to run on a GPU/TPU)\n",
    "- Able to access many pre-build deep learning models (TensorFlow Hub)\n",
    "- Whole stack: preprocess data, model data, deploy model in your application\n",
    "- Designed and used in-house by Google; now open-source\n",
    "\n",
    "**TPU** - Tensor Processing Unit: An AI accelerated application-specific integrated circuit (ASIC) developed by Google specifically for neural network machine learning, particularly in Google's own Tensorflow software"
   ]
  },
  {
   "cell_type": "markdown",
   "id": "bc45f207-ca92-472d-8a66-4822d68e0411",
   "metadata": {},
   "source": [
    "### What is a Tensor\n",
    "**Tensor** - Some numerical way to represent information\n",
    "- the numerical representation input passed to neural network and the numerical representation output that comes out of a neural network"
   ]
  },
  {
   "cell_type": "markdown",
   "id": "da6143c1-b5d2-49cb-bdec-2f3231a3ea86",
   "metadata": {},
   "source": [
    "### Tensorflow Workflow\n",
    "1. Get Data ready (turn into tensors)\r",
    "2. \n",
    "Build or select a pre-trained mode\n",
    "3. \r\n",
    "Fit the model to the data and make prediction\n",
    "4. Evaluate the model\n",
    "5. Improve through Experimentation\n",
    "6. Save & Reload your trained modelmodel"
   ]
  }
 ],
 "metadata": {
  "kernelspec": {
   "display_name": "Python 3 (ipykernel)",
   "language": "python",
   "name": "python3"
  },
  "language_info": {
   "codemirror_mode": {
    "name": "ipython",
    "version": 3
   },
   "file_extension": ".py",
   "mimetype": "text/x-python",
   "name": "python",
   "nbconvert_exporter": "python",
   "pygments_lexer": "ipython3",
   "version": "3.10.11"
  }
 },
 "nbformat": 4,
 "nbformat_minor": 5
}
