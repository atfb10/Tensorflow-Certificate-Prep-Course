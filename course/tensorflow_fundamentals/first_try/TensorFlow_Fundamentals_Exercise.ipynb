{
  "nbformat": 4,
  "nbformat_minor": 0,
  "metadata": {
    "colab": {
      "provenance": [],
      "gpuType": "T4"
    },
    "kernelspec": {
      "name": "python3",
      "display_name": "Python 3"
    },
    "language_info": {
      "name": "python"
    },
    "accelerator": "GPU"
  },
  "cells": [
    {
      "cell_type": "markdown",
      "source": [
        "# Adam Forestier\n",
        "## Last Updated: September 19, 2023\n",
        "\n",
        "This File covers the following:\n",
        "- Exercises related to the lessons contained in Tensorflow_Fundamentals.ipynb"
      ],
      "metadata": {
        "id": "eDQX2tpZpLlk"
      }
    },
    {
      "cell_type": "code",
      "source": [
        "import numpy as np\n",
        "import pandas as pd\n",
        "import tensorflow as tf"
      ],
      "metadata": {
        "id": "1dyBkw3npcoj"
      },
      "execution_count": 4,
      "outputs": []
    },
    {
      "cell_type": "markdown",
      "source": [
        "**Exercises**\n",
        "1. Create a vector, scalar, matrix and tensor with values of your choosing using tf.constant().\n",
        "2. Find the shape, rank and size of the tensors you created in 1.\n",
        "3. Create two tensors containing random values between 0 and 1 with shape [5, 300].\n",
        "4. Multiply the two tensors you created in 3 using matrix multiplication.\n",
        "5. Multiply the two tensors you created in 3 using dot product.\n",
        "6. Create a tensor with random values between 0 and 1 with shape [224, 224, 3].\n",
        "7. Find the min and max values of the tensor you created in 6 along the first axis.\n",
        "8. Created a tensor with random values of shape [1, 224, 224, 3] then squeeze it to change the shape to [224, 224, 3].\n",
        "9. Create a tensor with shape [10] using your own choice of values, then find the index which has the maximum value.\n",
        "10. One-hot encode the tensor you created in 9."
      ],
      "metadata": {
        "id": "TIXHh5ojphu0"
      }
    },
    {
      "cell_type": "code",
      "source": [
        "#1.\n",
        "s = tf.constant(7)\n",
        "v = tf.constant([1, 2, 3])\n",
        "M = tf.constant([[1, 2, 3],\n",
        "                 [4, 5, 6]])\n",
        "T = tf.constant([[[1, 2, 3],\n",
        "                  [4, 5, 6],\n",
        "                  [7, 8, 9]],\n",
        "                 [[10, 11, 12],\n",
        "                  [13, 14, 15],\n",
        "                  [16, 17, 18]]])\n",
        "T"
      ],
      "metadata": {
        "colab": {
          "base_uri": "https://localhost:8080/"
        },
        "id": "miODx1wVKC_B",
        "outputId": "4374f496-8ab9-4cc4-90c8-784ee736c227"
      },
      "execution_count": 5,
      "outputs": [
        {
          "output_type": "execute_result",
          "data": {
            "text/plain": [
              "<tf.Tensor: shape=(2, 3, 3), dtype=int32, numpy=\n",
              "array([[[ 1,  2,  3],\n",
              "        [ 4,  5,  6],\n",
              "        [ 7,  8,  9]],\n",
              "\n",
              "       [[10, 11, 12],\n",
              "        [13, 14, 15],\n",
              "        [16, 17, 18]]], dtype=int32)>"
            ]
          },
          "metadata": {},
          "execution_count": 5
        }
      ]
    },
    {
      "cell_type": "code",
      "source": [
        "#2.\n",
        "tensors = [s, v, M, T]\n",
        "for t in tensors:\n",
        "  print(f'Shape: {t.shape}')\n",
        "  print(f'Rank: {t.ndim}')\n",
        "  print(f'Size: {tf.size(t).numpy()}\\n')"
      ],
      "metadata": {
        "colab": {
          "base_uri": "https://localhost:8080/"
        },
        "id": "slOAUp7RL1gS",
        "outputId": "bc7380cd-8b15-4144-cab1-35edc13eca35"
      },
      "execution_count": 8,
      "outputs": [
        {
          "output_type": "stream",
          "name": "stdout",
          "text": [
            "Shape: ()\n",
            "Rank: 0\n",
            "Size: 1\n",
            "\n",
            "Shape: (3,)\n",
            "Rank: 1\n",
            "Size: 3\n",
            "\n",
            "Shape: (2, 3)\n",
            "Rank: 2\n",
            "Size: 6\n",
            "\n",
            "Shape: (2, 3, 3)\n",
            "Rank: 3\n",
            "Size: 18\n",
            "\n"
          ]
        }
      ]
    },
    {
      "cell_type": "code",
      "source": [
        "#3.\n",
        "T1 = tf.constant(np.random.randint(low=5, high=300, size=(5, 300)))\n",
        "T2 = tf.constant(np.random.randint(low=5, high=300, size=(5, 300)))"
      ],
      "metadata": {
        "id": "f7JXNXivMquo"
      },
      "execution_count": 11,
      "outputs": []
    },
    {
      "cell_type": "code",
      "source": [
        "#4.\n",
        "tf.linalg.matmul(a=T1, b=T2, transpose_a=True)"
      ],
      "metadata": {
        "colab": {
          "base_uri": "https://localhost:8080/"
        },
        "id": "jR9QdAB-NHvQ",
        "outputId": "675536bd-33fb-46ad-90b2-1cccb6bea999"
      },
      "execution_count": 12,
      "outputs": [
        {
          "output_type": "execute_result",
          "data": {
            "text/plain": [
              "<tf.Tensor: shape=(300, 300), dtype=int64, numpy=\n",
              "array([[ 71617,  82851,  63678, ...,  59523, 100834,  89645],\n",
              "       [122742, 145902,  80761, ..., 100117, 137800, 147296],\n",
              "       [139881, 164461, 108000, ..., 134672, 164589, 149242],\n",
              "       ...,\n",
              "       [ 87271, 108705,  56764, ...,  69449, 111050, 107459],\n",
              "       [132190, 124286,  90203, ...,  97671, 120489, 148151],\n",
              "       [145661, 119429, 135707, ..., 122645, 143880, 151813]])>"
            ]
          },
          "metadata": {},
          "execution_count": 12
        }
      ]
    },
    {
      "cell_type": "code",
      "source": [
        "#5.\n",
        "T1 @ tf.reshape(tensor=T2, shape=(300,5))"
      ],
      "metadata": {
        "colab": {
          "base_uri": "https://localhost:8080/"
        },
        "id": "VOzXnTzlNc74",
        "outputId": "730bcf40-663c-4f5b-fb55-f49771bc6c43"
      },
      "execution_count": 13,
      "outputs": [
        {
          "output_type": "execute_result",
          "data": {
            "text/plain": [
              "<tf.Tensor: shape=(5, 5), dtype=int64, numpy=\n",
              "array([[6849523, 7065100, 7437786, 7122431, 7734930],\n",
              "       [6410871, 6999086, 6963534, 7230303, 7564830],\n",
              "       [6571793, 6735925, 7094243, 6984094, 7411396],\n",
              "       [6547281, 6507171, 6858012, 6816130, 7236817],\n",
              "       [7116885, 6834302, 7378120, 7315936, 7590128]])>"
            ]
          },
          "metadata": {},
          "execution_count": 13
        }
      ]
    },
    {
      "cell_type": "code",
      "source": [
        "#6.\n",
        "T = tf.random.uniform(shape=(224, 224, 3), minval=0, maxval=1)"
      ],
      "metadata": {
        "id": "ILq1L_1LNpln"
      },
      "execution_count": 26,
      "outputs": []
    },
    {
      "cell_type": "code",
      "source": [
        "# 7.\n",
        "print(f'Min along 1st axis: {tf.math.reduce_min(input_tensor=T[0])}')\n",
        "print(f'Max along 1st axis: {tf.math.reduce_max(input_tensor=T[1])}')"
      ],
      "metadata": {
        "colab": {
          "base_uri": "https://localhost:8080/"
        },
        "id": "HQ-xPEvXPVC3",
        "outputId": "29ce17ce-6fe3-4992-b86c-b7085de3ffda"
      },
      "execution_count": 33,
      "outputs": [
        {
          "output_type": "stream",
          "name": "stdout",
          "text": [
            "Min along 1st axis: 0.00015616416931152344\n",
            "Max along 1st axis: 0.9999549388885498\n"
          ]
        }
      ]
    },
    {
      "cell_type": "code",
      "source": [
        "#8.\n",
        "rg = tf.random.Generator.from_seed(42)\n",
        "T = rg.normal(shape=(1, 224, 224, 3))\n",
        "Sqz_T = tf.squeeze(input=T)\n",
        "Sqz_T.shape"
      ],
      "metadata": {
        "colab": {
          "base_uri": "https://localhost:8080/"
        },
        "id": "DsaaUJzqN3Gv",
        "outputId": "87aceeac-e184-4864-ddce-ba07b8f4022b"
      },
      "execution_count": 25,
      "outputs": [
        {
          "output_type": "execute_result",
          "data": {
            "text/plain": [
              "TensorShape([224, 224, 3])"
            ]
          },
          "metadata": {},
          "execution_count": 25
        }
      ]
    },
    {
      "cell_type": "code",
      "source": [
        "#9.\n",
        "T = tf.constant(value=np.random.randint(low=1, high=10, size=10), shape=(10))\n",
        "i_max = tf.math.argmax(input=T)\n",
        "i_max"
      ],
      "metadata": {
        "colab": {
          "base_uri": "https://localhost:8080/"
        },
        "id": "QXmQIyB6N3-_",
        "outputId": "57f93d2c-30fd-4aa0-b608-feb18165971e"
      },
      "execution_count": 17,
      "outputs": [
        {
          "output_type": "execute_result",
          "data": {
            "text/plain": [
              "<tf.Tensor: shape=(), dtype=int64, numpy=3>"
            ]
          },
          "metadata": {},
          "execution_count": 17
        }
      ]
    },
    {
      "cell_type": "code",
      "source": [
        "#10.\n",
        "hot = tf.one_hot(indices=T, depth=10)\n",
        "hot"
      ],
      "metadata": {
        "colab": {
          "base_uri": "https://localhost:8080/"
        },
        "id": "-4F6DUJBN5M_",
        "outputId": "2436cf00-2d64-40fb-e271-c78bab5720ad"
      },
      "execution_count": 20,
      "outputs": [
        {
          "output_type": "execute_result",
          "data": {
            "text/plain": [
              "<tf.Tensor: shape=(10, 10), dtype=float32, numpy=\n",
              "array([[0., 0., 0., 0., 0., 0., 1., 0., 0., 0.],\n",
              "       [0., 0., 0., 0., 0., 0., 0., 0., 1., 0.],\n",
              "       [0., 1., 0., 0., 0., 0., 0., 0., 0., 0.],\n",
              "       [0., 0., 0., 0., 0., 0., 0., 0., 0., 1.],\n",
              "       [0., 0., 0., 0., 0., 0., 1., 0., 0., 0.],\n",
              "       [0., 0., 0., 0., 0., 0., 0., 0., 1., 0.],\n",
              "       [0., 0., 0., 0., 0., 0., 0., 0., 1., 0.],\n",
              "       [0., 0., 0., 1., 0., 0., 0., 0., 0., 0.],\n",
              "       [0., 0., 0., 0., 0., 1., 0., 0., 0., 0.],\n",
              "       [0., 0., 0., 0., 0., 0., 0., 0., 1., 0.]], dtype=float32)>"
            ]
          },
          "metadata": {},
          "execution_count": 20
        }
      ]
    }
  ]
}