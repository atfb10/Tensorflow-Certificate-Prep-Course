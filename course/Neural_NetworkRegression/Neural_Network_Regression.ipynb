{
  "nbformat": 4,
  "nbformat_minor": 0,
  "metadata": {
    "colab": {
      "provenance": []
    },
    "kernelspec": {
      "name": "python3",
      "display_name": "Python 3"
    },
    "language_info": {
      "name": "python"
    },
    "accelerator": "TPU"
  },
  "cells": [
    {
      "cell_type": "markdown",
      "source": [
        "# Adam Forestier\n",
        "### Last Updated: October 13, 2023\n",
        "This file contains introduction to Neural Network Regression with Tensorflow II"
      ],
      "metadata": {
        "id": "URopB7l8M2hc"
      }
    },
    {
      "cell_type": "code",
      "source": [
        "import matplotlib.pyplot as plt\n",
        "import numpy as np\n",
        "import pandas as pd\n",
        "import seaborn as sns\n",
        "import tensorflow as tf\n",
        "\n",
        "from sklearn.compose import make_column_transformer\n",
        "from sklearn.ensemble import (AdaBoostRegressor, RandomForestRegressor)\n",
        "from sklearn.linear_model import ElasticNetCV\n",
        "from sklearn.metrics import mean_absolute_error\n",
        "from sklearn.model_selection import train_test_split\n",
        "from sklearn.preprocessing import (MinMaxScaler, OneHotEncoder)"
      ],
      "metadata": {
        "id": "yDW09a-PQNBc"
      },
      "execution_count": 369,
      "outputs": []
    },
    {
      "cell_type": "markdown",
      "source": [
        "## Example Regression Problems: How Much or How Many\n",
        "- How much will this house sell for\n",
        "- How many people will buy this app\n",
        "- How much will my health insurance be\n",
        "- How much should I save each week for fuel\n",
        "\n",
        "Definition: Predicting a numerical variable (dependent variable) based on other variables (independent variables)"
      ],
      "metadata": {
        "id": "hjCLB9WsQRCM"
      }
    },
    {
      "cell_type": "markdown",
      "source": [
        "### Regression Inputs & Outputs (I/0)\n",
        "- Input = Features (Numerically encode them)\n",
        "- Output = numerical prediction. Shape is often 1"
      ],
      "metadata": {
        "id": "7O1RqljaTvdq"
      }
    },
    {
      "cell_type": "markdown",
      "source": [
        "### Anatomy & Architecture of Neural Network Regression Models\n",
        "**Hyperparameters**\n",
        "- *Input Layer Shape* - Same shape as # of features\n",
        "- *Hidden Layers* - Problem specific (min = 1, max = unlimited)\n",
        "- *Neurons per hidden layer* - Problem specific, generally 10 to 100\n",
        "- *Output layer shape* - same shape as desired prediction shape (ex: 1 for house price)\n",
        "- *Hidden Activation* - Usually ReLU (rectified linear unit)\n",
        "- *Output Activation* - None, ReLU, logistic/tanh\n",
        "- *Loss Function* - Mean Square Error or Mean Absolute Error or Huber (combination of MAE/MSE)\n",
        "- *Optimizer* - SGD (Stochastic Gradient Descent) or Adam"
      ],
      "metadata": {
        "id": "K7vj46UfkPaG"
      }
    },
    {
      "cell_type": "code",
      "source": [
        "# Creating Sample Regression Data\n",
        "\n",
        "# NOTE: numpy default datatype is float64, tensorflow wants float 32.\n",
        "\n",
        "# Feature\n",
        "X = tf.constant(np.arange(-7.0, 14.0, 3), dtype='float32')\n",
        "\n",
        "# Label\n",
        "y = tf.constant(np.arange(3.0, 24.0, 3), dtype='float32')\n",
        "\n",
        "# Plot it\n",
        "sns.scatterplot(x=X, y=y)\n",
        "plt.title('y by X Example')\n",
        "plt.xlabel(xlabel='X sample data')\n",
        "plt.ylabel(ylabel='y sample data')"
      ],
      "metadata": {
        "colab": {
          "base_uri": "https://localhost:8080/",
          "height": 489
        },
        "id": "JFFCkXuDmHl4",
        "outputId": "ea8ac6ce-2b6a-4975-9686-335e223d6706"
      },
      "execution_count": 276,
      "outputs": [
        {
          "output_type": "execute_result",
          "data": {
            "text/plain": [
              "Text(0, 0.5, 'y sample data')"
            ]
          },
          "metadata": {},
          "execution_count": 276
        },
        {
          "output_type": "display_data",
          "data": {
            "text/plain": [
              "<Figure size 640x480 with 1 Axes>"
            ],
            "image/png": "[encoded data removed]"
          },
          "metadata": {}
        }
      ]
    },
    {
      "cell_type": "code",
      "source": [
        "# Show that y = X + 10 (this is the pattern)\n",
        "y == X + 10"
      ],
      "metadata": {
        "colab": {
          "base_uri": "https://localhost:8080/"
        },
        "id": "yTfSnmC9tst1",
        "outputId": "0cb1d10b-773a-43aa-ac4c-13b4fb3b8c1a"
      },
      "execution_count": 277,
      "outputs": [
        {
          "output_type": "execute_result",
          "data": {
            "text/plain": [
              "<tf.Tensor: shape=(7,), dtype=bool, numpy=array([ True,  True,  True,  True,  True,  True,  True])>"
            ]
          },
          "metadata": {},
          "execution_count": 277
        }
      ]
    },
    {
      "cell_type": "markdown",
      "source": [
        "**I/O NOTE** - in this specific example, I/O shape is 0 and 0. We are using 1 X value (scalar) to predict 1 y value (scalar). A scalar is a rank 0 tensor"
      ],
      "metadata": {
        "id": "pNcO2HFzwHgt"
      }
    },
    {
      "cell_type": "markdown",
      "source": [
        "## Steps in modeling in Tensorflow\n",
        "1. Get data ready (turn into tensors, scaling, etc)\n",
        "2. Build or pick a pretrained model to suit problem\n",
        "3. Fit the model to the data and make a prediction\n",
        "4. Evaluate the model\n",
        "5. Improve through experimentation\n",
        "6. Save and reload trained model\n",
        "\n",
        "###Even Simpler\n",
        "1. *Create a model* - define I/O layers, as well as hidden layers of a deep learning model.\n",
        "2. *Compile a model* - define a loss function (function which tells our model how wrong it is) and the optimizer (tells model how to improve the patterns it is learning) and evaluation metrics (what we use to interpret the performance of the model)\n",
        "3. *Fit a model* - letting the model try to find patterns between X & y"
      ],
      "metadata": {
        "id": "Hfwg3dJMyYz1"
      }
    },
    {
      "cell_type": "code",
      "source": [
        "# Let's see the process...\n",
        "tf.random.set_seed(seed=42)\n",
        "\n",
        "# create model using the Sequential API\n",
        "model = tf.keras.Sequential(layers=[\n",
        "  tf.keras.layers.Dense(units=1)\n",
        "])\n",
        "\n",
        "# can add layers instead of putting them in a tuple\n",
        "model2 = tf.keras.Sequential()\n",
        "model2.add(tf.keras.layers.Dense(units=1))\n",
        "\n",
        "# compile the model\n",
        "model.compile(\n",
        "    loss=tf.keras.losses.mae, # Loss function = mean absolute error,\n",
        "    optimizer=tf.keras.optimizers.SGD(), # stochastic gradient descent\n",
        "    metrics=['mae']\n",
        "  )\n",
        "\n",
        "# fit the model. Epochs = iterations\n",
        "model.fit(x=tf.expand_dims(input=X, axis=-1), y=y, epochs=5)"
      ],
      "metadata": {
        "colab": {
          "base_uri": "https://localhost:8080/"
        },
        "id": "5oKYezFCzsbx",
        "outputId": "af5bf320-b68a-4f72-ba19-4c79afcd527a"
      },
      "execution_count": 278,
      "outputs": [
        {
          "output_type": "stream",
          "name": "stdout",
          "text": [
            "Epoch 1/5\n",
            "1/1 [==============================] - 1s 595ms/step - loss: 11.3974 - mae: 11.3974\n",
            "Epoch 2/5\n",
            "1/1 [==============================] - 0s 13ms/step - loss: 11.3474 - mae: 11.3474\n",
            "Epoch 3/5\n",
            "1/1 [==============================] - 0s 16ms/step - loss: 11.2974 - mae: 11.2974\n",
            "Epoch 4/5\n",
            "1/1 [==============================] - 0s 11ms/step - loss: 11.2474 - mae: 11.2474\n",
            "Epoch 5/5\n",
            "1/1 [==============================] - 0s 9ms/step - loss: 11.1974 - mae: 11.1974\n"
          ]
        },
        {
          "output_type": "execute_result",
          "data": {
            "text/plain": [
              "<keras.callbacks.History at 0x7eca085820e0>"
            ]
          },
          "metadata": {},
          "execution_count": 278
        }
      ]
    },
    {
      "cell_type": "markdown",
      "source": [
        "**Mean Absolute Error** - measure of errors between labels & predictions. It is the mean of the absolute value between y_true & y_pred.\n",
        "\n",
        "**Mean Square Error** - Squares ther average errors"
      ],
      "metadata": {
        "id": "RJOoeRXA0Y0Z"
      }
    },
    {
      "cell_type": "markdown",
      "source": [
        "**Stochastic Gradient Descent (SGD)** is a fundamental optimization algorithm commonly used in machine learning and deep learning for training models. I'll explain it in a way that relates to programming and without assuming a deep statistical background.\n",
        "\n",
        "1. Optimization Goal:\n",
        "\n",
        "Imagine you have a mathematical model (like a neural network) with parameters that you want to adjust so that the model can make accurate predictions.\n",
        "SGD helps you find the best values for these parameters to minimize a cost or loss function. The goal is to find the parameters that make your model's predictions as close as possible to the actual target values.\n",
        "2. Iterative Process:\n",
        "\n",
        "SGD is an iterative algorithm. It updates the model's parameters in small steps, trying to improve the model's performance with each step.\n",
        "At each iteration, you process a random or shuffled subset of your data. This randomness is why it's called \"stochastic\" (random) gradient descent.\n",
        "3. Gradient Descent:\n",
        "\n",
        "In each iteration, you calculate the gradient of the cost function with respect to your model's parameters. Think of the gradient as the direction in which you should adjust your parameters to reduce the error.\n",
        "The gradient points in the direction of the steepest increase in the cost function. To minimize the cost, you want to move in the opposite direction, which means subtracting the gradient from your parameters.\n",
        "4. Learning Rate:\n",
        "\n",
        "SGD uses a hyperparameter called the learning rate. This value determines the size of the steps you take during parameter updates.\n",
        "If the learning rate is too large, you might overshoot the minimum and not converge. If it's too small, you might converge very slowly.\n",
        "Finding the right learning rate often involves experimentation.\n",
        "5. Updating Parameters:\n",
        "\n",
        "Once you have the gradient and the learning rate, you update your model's parameters. The new parameter values are calculated as:\n",
        "makefile\n",
        "Copy code\n",
        "new_parameter = old_parameter - (learning_rate * gradient)\n",
        "You repeat this process for each parameter in your model.\n",
        "6. Convergence:\n",
        "\n",
        "SGD continues iterating until a stopping condition is met. This condition can be a fixed number of iterations, a certain level of cost function improvement, or other criteria.\n",
        "Ideally, as you iterate, your cost function should decrease, and your model's performance should improve.\n",
        "7. Mini-Batch Size:\n",
        "\n",
        "In practice, you don't always use just one data point per iteration. Instead, you often use a mini-batch of data (a small random subset) to calculate the gradient and update the parameters. This can make the process more efficient and lead to faster convergence.\n",
        "In summary, think of SGD as a process where you iteratively adjust your model's parameters using small random subsets of your data. You move in the direction that decreases your prediction errors, guided by the gradient of a cost function. With each iteration, you get closer to the best parameters for your model, which results in better predictions."
      ],
      "metadata": {
        "id": "fk2akEQs08z-"
      }
    },
    {
      "cell_type": "code",
      "source": [
        "# Now let's use our fitted model to make a prediction!\n",
        "y_pred = model.predict(x=[17.0]) # Because y = X + 10, should be = 27\n",
        "y_pred # Lol this is terrible, but look at MAE! it is super high, need more epochs and need more data!"
      ],
      "metadata": {
        "colab": {
          "base_uri": "https://localhost:8080/"
        },
        "id": "3Dx1W_fn14Zj",
        "outputId": "cc089150-4e9d-4d7e-fd56-d3179e16da4d"
      },
      "execution_count": 279,
      "outputs": [
        {
          "output_type": "stream",
          "name": "stdout",
          "text": [
            "1/1 [==============================] - 0s 96ms/step\n"
          ]
        },
        {
          "output_type": "execute_result",
          "data": {
            "text/plain": [
              "array([[6.872108]], dtype=float32)"
            ]
          },
          "metadata": {},
          "execution_count": 279
        }
      ]
    },
    {
      "cell_type": "markdown",
      "source": [
        "### Improving our Model\n",
        "We can improve our model by altering the steps we took to create model\n",
        "1. **Create a model** - add more layers, increase number of hidden units (neurons), change the activation function of each layer\n",
        "2. **Compile a model** - change the optimization function or perhaps the learning rate of the optimization function\n",
        "3. **Fitting a model** - fit a model for more epochs or on more data"
      ],
      "metadata": {
        "id": "lEtSrZgc541Q"
      }
    },
    {
      "cell_type": "code",
      "source": [
        "# Improved model\n",
        "\n",
        "# Create the model\n",
        "tf.random.set_seed(seed=42)\n",
        "model = tf.keras.Sequential()\n",
        "\n",
        "# More neurons (hidden layers) with 100 hidden units\n",
        "model.add(layer=tf.keras.layers.Dense(units=100, activation='relu'))\n",
        "model.add(layer=tf.keras.layers.Dense(units=100, activation='relu'))\n",
        "model.add(layer=tf.keras.layers.Dense(units=100, activation='relu'))\n",
        "\n",
        "# Output layer\n",
        "model.add(layer=tf.keras.layers.Dense(units=1))\n",
        "\n",
        "# Compile the model\n",
        "model.compile(\n",
        "    optimizer=tf.keras.optimizers.Adam(learning_rate=.0135), # Optimizer changed to Adam. Lower learning rate (default = .01)\n",
        "    loss=tf.keras.losses.mae\n",
        ")\n",
        "\n",
        "model.fit(x=tf.expand_dims(input=X, axis=-1), y=y, epochs=100) # More iterations"
      ],
      "metadata": {
        "colab": {
          "base_uri": "https://localhost:8080/"
        },
        "id": "4RmL7Gr-6Nrq",
        "outputId": "b516e511-82b7-4206-cfd7-708f1dd0ae6f"
      },
      "execution_count": 280,
      "outputs": [
        {
          "output_type": "stream",
          "name": "stdout",
          "text": [
            "Epoch 1/100\n",
            "1/1 [==============================] - 1s 1s/step - loss: 12.0715\n",
            "Epoch 2/100\n",
            "1/1 [==============================] - 0s 10ms/step - loss: 9.4625\n",
            "Epoch 3/100\n",
            "1/1 [==============================] - 0s 9ms/step - loss: 6.6118\n",
            "Epoch 4/100\n",
            "1/1 [==============================] - 0s 9ms/step - loss: 4.5237\n",
            "Epoch 5/100\n",
            "1/1 [==============================] - 0s 13ms/step - loss: 5.2756\n",
            "Epoch 6/100\n",
            "1/1 [==============================] - 0s 9ms/step - loss: 4.2568\n",
            "Epoch 7/100\n",
            "1/1 [==============================] - 0s 9ms/step - loss: 3.8884\n",
            "Epoch 8/100\n",
            "1/1 [==============================] - 0s 10ms/step - loss: 4.7079\n",
            "Epoch 9/100\n",
            "1/1 [==============================] - 0s 10ms/step - loss: 4.1700\n",
            "Epoch 10/100\n",
            "1/1 [==============================] - 0s 11ms/step - loss: 3.4651\n",
            "Epoch 11/100\n",
            "1/1 [==============================] - 0s 11ms/step - loss: 4.1269\n",
            "Epoch 12/100\n",
            "1/1 [==============================] - 0s 11ms/step - loss: 4.6345\n",
            "Epoch 13/100\n",
            "1/1 [==============================] - 0s 11ms/step - loss: 4.0034\n",
            "Epoch 14/100\n",
            "1/1 [==============================] - 0s 9ms/step - loss: 3.4328\n",
            "Epoch 15/100\n",
            "1/1 [==============================] - 0s 11ms/step - loss: 3.1540\n",
            "Epoch 16/100\n",
            "1/1 [==============================] - 0s 11ms/step - loss: 3.7303\n",
            "Epoch 17/100\n",
            "1/1 [==============================] - 0s 11ms/step - loss: 3.4420\n",
            "Epoch 18/100\n",
            "1/1 [==============================] - 0s 10ms/step - loss: 2.5253\n",
            "Epoch 19/100\n",
            "1/1 [==============================] - 0s 15ms/step - loss: 2.7292\n",
            "Epoch 20/100\n",
            "1/1 [==============================] - 0s 10ms/step - loss: 3.0849\n",
            "Epoch 21/100\n",
            "1/1 [==============================] - 0s 10ms/step - loss: 2.4152\n",
            "Epoch 22/100\n",
            "1/1 [==============================] - 0s 10ms/step - loss: 1.5252\n",
            "Epoch 23/100\n",
            "1/1 [==============================] - 0s 11ms/step - loss: 2.1456\n",
            "Epoch 24/100\n",
            "1/1 [==============================] - 0s 10ms/step - loss: 1.9355\n",
            "Epoch 25/100\n",
            "1/1 [==============================] - 0s 10ms/step - loss: 1.3764\n",
            "Epoch 26/100\n",
            "1/1 [==============================] - 0s 10ms/step - loss: 1.7194\n",
            "Epoch 27/100\n",
            "1/1 [==============================] - 0s 10ms/step - loss: 2.5838\n",
            "Epoch 28/100\n",
            "1/1 [==============================] - 0s 11ms/step - loss: 1.8438\n",
            "Epoch 29/100\n",
            "1/1 [==============================] - 0s 13ms/step - loss: 1.2401\n",
            "Epoch 30/100\n",
            "1/1 [==============================] - 0s 10ms/step - loss: 2.2526\n",
            "Epoch 31/100\n",
            "1/1 [==============================] - 0s 11ms/step - loss: 2.1754\n",
            "Epoch 32/100\n",
            "1/1 [==============================] - 0s 11ms/step - loss: 1.1968\n",
            "Epoch 33/100\n",
            "1/1 [==============================] - 0s 11ms/step - loss: 1.2565\n",
            "Epoch 34/100\n",
            "1/1 [==============================] - 0s 10ms/step - loss: 1.7381\n",
            "Epoch 35/100\n",
            "1/1 [==============================] - 0s 10ms/step - loss: 0.8433\n",
            "Epoch 36/100\n",
            "1/1 [==============================] - 0s 10ms/step - loss: 0.9567\n",
            "Epoch 37/100\n",
            "1/1 [==============================] - 0s 10ms/step - loss: 1.0953\n",
            "Epoch 38/100\n",
            "1/1 [==============================] - 0s 10ms/step - loss: 0.6626\n",
            "Epoch 39/100\n",
            "1/1 [==============================] - 0s 10ms/step - loss: 0.7875\n",
            "Epoch 40/100\n",
            "1/1 [==============================] - 0s 9ms/step - loss: 0.5641\n",
            "Epoch 41/100\n",
            "1/1 [==============================] - 0s 15ms/step - loss: 0.6989\n",
            "Epoch 42/100\n",
            "1/1 [==============================] - 0s 11ms/step - loss: 0.7767\n",
            "Epoch 43/100\n",
            "1/1 [==============================] - 0s 11ms/step - loss: 0.4592\n",
            "Epoch 44/100\n",
            "1/1 [==============================] - 0s 14ms/step - loss: 1.1088\n",
            "Epoch 45/100\n",
            "1/1 [==============================] - 0s 12ms/step - loss: 0.5658\n",
            "Epoch 46/100\n",
            "1/1 [==============================] - 0s 10ms/step - loss: 1.0253\n",
            "Epoch 47/100\n",
            "1/1 [==============================] - 0s 13ms/step - loss: 1.3326\n",
            "Epoch 48/100\n",
            "1/1 [==============================] - 0s 8ms/step - loss: 0.7516\n",
            "Epoch 49/100\n",
            "1/1 [==============================] - 0s 10ms/step - loss: 0.8952\n",
            "Epoch 50/100\n",
            "1/1 [==============================] - 0s 14ms/step - loss: 1.2643\n",
            "Epoch 51/100\n",
            "1/1 [==============================] - 0s 12ms/step - loss: 0.5264\n",
            "Epoch 52/100\n",
            "1/1 [==============================] - 0s 10ms/step - loss: 0.9999\n",
            "Epoch 53/100\n",
            "1/1 [==============================] - 0s 11ms/step - loss: 1.4266\n",
            "Epoch 54/100\n",
            "1/1 [==============================] - 0s 14ms/step - loss: 1.1349\n",
            "Epoch 55/100\n",
            "1/1 [==============================] - 0s 11ms/step - loss: 0.3593\n",
            "Epoch 56/100\n",
            "1/1 [==============================] - 0s 14ms/step - loss: 1.2461\n",
            "Epoch 57/100\n",
            "1/1 [==============================] - 0s 12ms/step - loss: 1.6054\n",
            "Epoch 58/100\n",
            "1/1 [==============================] - 0s 11ms/step - loss: 1.0227\n",
            "Epoch 59/100\n",
            "1/1 [==============================] - 0s 11ms/step - loss: 0.3633\n",
            "Epoch 60/100\n",
            "1/1 [==============================] - 0s 10ms/step - loss: 0.7544\n",
            "Epoch 61/100\n",
            "1/1 [==============================] - 0s 10ms/step - loss: 0.5351\n",
            "Epoch 62/100\n",
            "1/1 [==============================] - 0s 9ms/step - loss: 0.5356\n",
            "Epoch 63/100\n",
            "1/1 [==============================] - 0s 10ms/step - loss: 0.5452\n",
            "Epoch 64/100\n",
            "1/1 [==============================] - 0s 11ms/step - loss: 0.4811\n",
            "Epoch 65/100\n",
            "1/1 [==============================] - 0s 11ms/step - loss: 0.4784\n",
            "Epoch 66/100\n",
            "1/1 [==============================] - 0s 10ms/step - loss: 0.4237\n",
            "Epoch 67/100\n",
            "1/1 [==============================] - 0s 11ms/step - loss: 0.5200\n",
            "Epoch 68/100\n",
            "1/1 [==============================] - 0s 11ms/step - loss: 0.2726\n",
            "Epoch 69/100\n",
            "1/1 [==============================] - 0s 12ms/step - loss: 0.3824\n",
            "Epoch 70/100\n",
            "1/1 [==============================] - 0s 11ms/step - loss: 0.3640\n",
            "Epoch 71/100\n",
            "1/1 [==============================] - 0s 11ms/step - loss: 0.5083\n",
            "Epoch 72/100\n",
            "1/1 [==============================] - 0s 11ms/step - loss: 0.2050\n",
            "Epoch 73/100\n",
            "1/1 [==============================] - 0s 11ms/step - loss: 0.4185\n",
            "Epoch 74/100\n",
            "1/1 [==============================] - 0s 10ms/step - loss: 0.2613\n",
            "Epoch 75/100\n",
            "1/1 [==============================] - 0s 10ms/step - loss: 0.6543\n",
            "Epoch 76/100\n",
            "1/1 [==============================] - 0s 10ms/step - loss: 0.4954\n",
            "Epoch 77/100\n",
            "1/1 [==============================] - 0s 11ms/step - loss: 0.4039\n",
            "Epoch 78/100\n",
            "1/1 [==============================] - 0s 11ms/step - loss: 0.4285\n",
            "Epoch 79/100\n",
            "1/1 [==============================] - 0s 11ms/step - loss: 0.5108\n",
            "Epoch 80/100\n",
            "1/1 [==============================] - 0s 11ms/step - loss: 0.3129\n",
            "Epoch 81/100\n",
            "1/1 [==============================] - 0s 12ms/step - loss: 0.6629\n",
            "Epoch 82/100\n",
            "1/1 [==============================] - 0s 10ms/step - loss: 0.6787\n",
            "Epoch 83/100\n",
            "1/1 [==============================] - 0s 11ms/step - loss: 0.2034\n",
            "Epoch 84/100\n",
            "1/1 [==============================] - 0s 12ms/step - loss: 0.2838\n",
            "Epoch 85/100\n",
            "1/1 [==============================] - 0s 11ms/step - loss: 0.5923\n",
            "Epoch 86/100\n",
            "1/1 [==============================] - 0s 11ms/step - loss: 0.6178\n",
            "Epoch 87/100\n",
            "1/1 [==============================] - 0s 15ms/step - loss: 0.1622\n",
            "Epoch 88/100\n",
            "1/1 [==============================] - 0s 11ms/step - loss: 0.9606\n",
            "Epoch 89/100\n",
            "1/1 [==============================] - 0s 10ms/step - loss: 1.0463\n",
            "Epoch 90/100\n",
            "1/1 [==============================] - 0s 10ms/step - loss: 0.3473\n",
            "Epoch 91/100\n",
            "1/1 [==============================] - 0s 16ms/step - loss: 0.9099\n",
            "Epoch 92/100\n",
            "1/1 [==============================] - 0s 22ms/step - loss: 1.3938\n",
            "Epoch 93/100\n",
            "1/1 [==============================] - 0s 13ms/step - loss: 1.2676\n",
            "Epoch 94/100\n",
            "1/1 [==============================] - 0s 13ms/step - loss: 0.5694\n",
            "Epoch 95/100\n",
            "1/1 [==============================] - 0s 10ms/step - loss: 0.8999\n",
            "Epoch 96/100\n",
            "1/1 [==============================] - 0s 13ms/step - loss: 1.2495\n",
            "Epoch 97/100\n",
            "1/1 [==============================] - 0s 16ms/step - loss: 1.0350\n",
            "Epoch 98/100\n",
            "1/1 [==============================] - 0s 11ms/step - loss: 0.4728\n",
            "Epoch 99/100\n",
            "1/1 [==============================] - 0s 16ms/step - loss: 1.1590\n",
            "Epoch 100/100\n",
            "1/1 [==============================] - 0s 9ms/step - loss: 1.2268\n"
          ]
        },
        {
          "output_type": "execute_result",
          "data": {
            "text/plain": [
              "<keras.callbacks.History at 0x7eca102c8310>"
            ]
          },
          "metadata": {},
          "execution_count": 280
        }
      ]
    },
    {
      "cell_type": "code",
      "source": [
        "# Now, let's make a prediction\n",
        "model.predict(x=[17.0]) # Expecting 27.0"
      ],
      "metadata": {
        "colab": {
          "base_uri": "https://localhost:8080/"
        },
        "id": "tVn6VqX2sHdM",
        "outputId": "d38753a2-4d1e-4cf9-969d-f12407bac296"
      },
      "execution_count": 281,
      "outputs": [
        {
          "output_type": "stream",
          "name": "stdout",
          "text": [
            "1/1 [==============================] - 0s 87ms/step\n"
          ]
        },
        {
          "output_type": "execute_result",
          "data": {
            "text/plain": [
              "array([[25.64676]], dtype=float32)"
            ]
          },
          "metadata": {},
          "execution_count": 281
        }
      ]
    },
    {
      "cell_type": "markdown",
      "source": [
        "Pretty Darn Good!"
      ],
      "metadata": {
        "id": "rcbSY3e2wpOR"
      }
    },
    {
      "cell_type": "markdown",
      "source": [
        "**Common Ways to Improve a Deep Learning Model**\n",
        "- Adding Layers\n",
        "- Increase number of hidden units\n",
        "- Change the activation functions\n",
        "- Change the optimization function\n",
        "- Change the learning rate (The most important hyperparameter of many neural networks)\n",
        "- Fitting over more epochs"
      ],
      "metadata": {
        "id": "3QjVO5jst4vK"
      }
    },
    {
      "cell_type": "markdown",
      "source": [
        "### Evaluating a Model\n",
        "\"Visualize, Visualize, Visualize\":\n",
        "- The data: what data are we working with? What does it look like?\n",
        "- The model itself: what does our model look like?\n",
        "- Training of model: how does a model perform while it learns?\n",
        "- The predictions of the model: how do the predictions of the model line up against the ground truth?\n",
        "\n"
      ],
      "metadata": {
        "id": "G_yYcNWpv_z5"
      }
    },
    {
      "cell_type": "code",
      "source": [
        "# Let's try a bigger dataset to visualize\n",
        "X = tf.range(-100, 100, 4)\n",
        "y = X + 10\n",
        "\n",
        "sns.scatterplot(x=X, y=y)"
      ],
      "metadata": {
        "colab": {
          "base_uri": "https://localhost:8080/",
          "height": 447
        },
        "id": "JNJ7mqaOwB0I",
        "outputId": "903f3d7b-aa9f-4d80-e52f-e36c305153bb"
      },
      "execution_count": 282,
      "outputs": [
        {
          "output_type": "execute_result",
          "data": {
            "text/plain": [
              "<Axes: >"
            ]
          },
          "metadata": {},
          "execution_count": 282
        },
        {
          "output_type": "display_data",
          "data": {
            "text/plain": [
              "<Figure size 640x480 with 1 Axes>"
            ],
            "image/png": "[encoded data removed]"
          },
          "metadata": {}
        }
      ]
    },
    {
      "cell_type": "markdown",
      "source": [
        "### The 3 Datasets\n",
        "1. **Training set** - model learns from this data. Typically 70 to 80% of data you have available\n",
        "2. **Validation set** - the model gets tuned on this data. Typicall 10 to 15% of data you have available\n",
        "3. **Test set** - model gets evaluated on this data to test what it has learned. Typically 10-15% of total data available\n",
        "\n",
        "Sometimes, only have training set and test set\n",
        "\n",
        "**Generalization** - Ability for a ml model to perform on data it hasn't seen before"
      ],
      "metadata": {
        "id": "SKCkX77Z0ZDB"
      }
    },
    {
      "cell_type": "code",
      "source": [
        "# Split data  80/20 train and test sets\n",
        "test_percent = len(X) * .2\n",
        "train_precent = len(X) * .8\n",
        "X_train, X_test, y_train, y_test = X[:int(len(X) * .8)], X[int(len(X) * .8):], y[:int(len(y) * .8)], y[int(len(y) * .8):]"
      ],
      "metadata": {
        "id": "hX5ro-e6dSOo"
      },
      "execution_count": 283,
      "outputs": []
    },
    {
      "cell_type": "code",
      "source": [
        "# Visualize the data\n",
        "plt.figure(figsize=(10,7))\n",
        "\n",
        "# Plot training data in blue, test in red\n",
        "plt.scatter(X_train, y_train, color='blue', label='Training Data', marker='o')\n",
        "plt.scatter(X_test, y_test, color='red', label='Testing Data', marker='*')\n",
        "plt.legend"
      ],
      "metadata": {
        "colab": {
          "base_uri": "https://localhost:8080/",
          "height": 616
        },
        "id": "U--XTgMsg-c9",
        "outputId": "94ddd541-d0be-4ced-e9c6-6d347a59fe62"
      },
      "execution_count": 284,
      "outputs": [
        {
          "output_type": "execute_result",
          "data": {
            "text/plain": [
              "<function matplotlib.pyplot.legend(*args, **kwargs)>"
            ]
          },
          "metadata": {},
          "execution_count": 284
        },
        {
          "output_type": "display_data",
          "data": {
            "text/plain": [
              "<Figure size 1000x700 with 1 Axes>"
            ],
            "image/png": "[encoded data removed]"
          },
          "metadata": {}
        }
      ]
    },
    {
      "cell_type": "code",
      "source": [
        "# Create model with split data\n",
        "\n",
        "my_model = tf.keras.Sequential([\n",
        "    tf.keras.layers.Dense(units=1) # 1 output layer; 1 X, 1 y\n",
        "])\n",
        "\n",
        "my_model.compile(loss=tf.keras.losses.mae,\n",
        "              optimizer=tf.keras.optimizers.SGD(),\n",
        "              metrics=['mae'])\n",
        "\n",
        "# model.fit(x=tf.expand_dims(X, axis=-1), y=y, epochs=100)"
      ],
      "metadata": {
        "id": "2HZ_G-mAj8Ob"
      },
      "execution_count": 285,
      "outputs": []
    },
    {
      "cell_type": "code",
      "source": [
        "# Let's create model which builds automatically by defining the input shape argument in the first layer\n",
        "tf.random.set_seed(seed=42)\n",
        "\n",
        "# NOTE: You need to set input_shape if you want the model summary before fitting\n",
        "my_model = tf.keras.Sequential([\n",
        "    tf.keras.layers.Dense(1, input_shape=[1]) # 1 input_shape is 1, because it is 1 input for 1 output\n",
        "])\n",
        "\n",
        "my_model.compile(loss=tf.keras.losses.mae,\n",
        "              optimizer=tf.keras.optimizers.SGD(),\n",
        "              metrics=['mae'])\n",
        "\n",
        "# Call model summary\n",
        "my_model.summary()"
      ],
      "metadata": {
        "colab": {
          "base_uri": "https://localhost:8080/"
        },
        "id": "thkRFf1Fs3Mf",
        "outputId": "237d3322-06cc-4fe3-884f-ed6ae2b0d374"
      },
      "execution_count": 286,
      "outputs": [
        {
          "output_type": "stream",
          "name": "stdout",
          "text": [
            "Model: \"sequential_57\"\n",
            "_________________________________________________________________\n",
            " Layer (type)                Output Shape              Param #   \n",
            "=================================================================\n",
            " dense_110 (Dense)           (None, 1)                 2         \n",
            "                                                                 \n",
            "=================================================================\n",
            "Total params: 2\n",
            "Trainable params: 2\n",
            "Non-trainable params: 0\n",
            "_________________________________________________________________\n"
          ]
        }
      ]
    },
    {
      "cell_type": "markdown",
      "source": [
        "- **Total Params** - total number of parameters in the model\n",
        "- **Trainable Params** -These are the parameters (patterns) the model can update as it trains\n",
        "- **Non-Trainable Params** - These parameters aren't updated during training (this is typical when you bring in already learned patterns or parameters from other models during *transfer learning*)"
      ],
      "metadata": {
        "id": "2ovMnZfGt3As"
      }
    },
    {
      "cell_type": "code",
      "source": [
        "# Fit model to training data\n",
        "my_model.fit(x=tf.expand_dims(X_train, axis=-1), y=y_train, verbose=1, epochs=100)"
      ],
      "metadata": {
        "colab": {
          "base_uri": "https://localhost:8080/"
        },
        "id": "6-tE1XoTum9j",
        "outputId": "5422aadf-2a62-4d69-a667-fca1441d48d5"
      },
      "execution_count": 287,
      "outputs": [
        {
          "output_type": "stream",
          "name": "stdout",
          "text": [
            "Epoch 1/100\n",
            "2/2 [==============================] - 0s 18ms/step - loss: 79.2457 - mae: 79.2457\n",
            "Epoch 2/100\n",
            "2/2 [==============================] - 0s 6ms/step - loss: 43.8731 - mae: 43.8731\n",
            "Epoch 3/100\n",
            "2/2 [==============================] - 0s 6ms/step - loss: 11.1148 - mae: 11.1148\n",
            "Epoch 4/100\n",
            "2/2 [==============================] - 0s 7ms/step - loss: 9.3307 - mae: 9.3307\n",
            "Epoch 5/100\n",
            "2/2 [==============================] - 0s 6ms/step - loss: 10.1997 - mae: 10.1997\n",
            "Epoch 6/100\n",
            "2/2 [==============================] - 0s 6ms/step - loss: 9.4620 - mae: 9.4620\n",
            "Epoch 7/100\n",
            "2/2 [==============================] - 0s 6ms/step - loss: 8.6001 - mae: 8.6001\n",
            "Epoch 8/100\n",
            "2/2 [==============================] - 0s 7ms/step - loss: 9.0687 - mae: 9.0687\n",
            "Epoch 9/100\n",
            "2/2 [==============================] - 0s 6ms/step - loss: 18.7828 - mae: 18.7828\n",
            "Epoch 10/100\n",
            "2/2 [==============================] - 0s 8ms/step - loss: 10.1480 - mae: 10.1480\n",
            "Epoch 11/100\n",
            "2/2 [==============================] - 0s 7ms/step - loss: 8.4251 - mae: 8.4251\n",
            "Epoch 12/100\n",
            "2/2 [==============================] - 0s 11ms/step - loss: 10.6954 - mae: 10.6954\n",
            "Epoch 13/100\n",
            "2/2 [==============================] - 0s 7ms/step - loss: 9.8246 - mae: 9.8246\n",
            "Epoch 14/100\n",
            "2/2 [==============================] - 0s 7ms/step - loss: 16.0401 - mae: 16.0401\n",
            "Epoch 15/100\n",
            "2/2 [==============================] - 0s 6ms/step - loss: 11.4123 - mae: 11.4123\n",
            "Epoch 16/100\n",
            "2/2 [==============================] - 0s 7ms/step - loss: 8.5650 - mae: 8.5650\n",
            "Epoch 17/100\n",
            "2/2 [==============================] - 0s 9ms/step - loss: 13.6686 - mae: 13.6686\n",
            "Epoch 18/100\n",
            "2/2 [==============================] - 0s 7ms/step - loss: 11.4991 - mae: 11.4991\n",
            "Epoch 19/100\n",
            "2/2 [==============================] - 0s 7ms/step - loss: 17.9168 - mae: 17.9168\n",
            "Epoch 20/100\n",
            "2/2 [==============================] - 0s 8ms/step - loss: 15.0515 - mae: 15.0515\n",
            "Epoch 21/100\n",
            "2/2 [==============================] - 0s 8ms/step - loss: 10.9195 - mae: 10.9195\n",
            "Epoch 22/100\n",
            "2/2 [==============================] - 0s 8ms/step - loss: 8.6777 - mae: 8.6777\n",
            "Epoch 23/100\n",
            "2/2 [==============================] - 0s 9ms/step - loss: 9.6915 - mae: 9.6915\n",
            "Epoch 24/100\n",
            "2/2 [==============================] - 0s 11ms/step - loss: 8.5994 - mae: 8.5994\n",
            "Epoch 25/100\n",
            "2/2 [==============================] - 0s 7ms/step - loss: 11.5863 - mae: 11.5863\n",
            "Epoch 26/100\n",
            "2/2 [==============================] - 0s 9ms/step - loss: 15.1873 - mae: 15.1873\n",
            "Epoch 27/100\n",
            "2/2 [==============================] - 0s 7ms/step - loss: 12.0746 - mae: 12.0746\n",
            "Epoch 28/100\n",
            "2/2 [==============================] - 0s 8ms/step - loss: 13.3699 - mae: 13.3699\n",
            "Epoch 29/100\n",
            "2/2 [==============================] - 0s 7ms/step - loss: 9.6231 - mae: 9.6231\n",
            "Epoch 30/100\n",
            "2/2 [==============================] - 0s 7ms/step - loss: 17.1527 - mae: 17.1527\n",
            "Epoch 31/100\n",
            "2/2 [==============================] - 0s 10ms/step - loss: 22.9224 - mae: 22.9224\n",
            "Epoch 32/100\n",
            "2/2 [==============================] - 0s 7ms/step - loss: 7.9377 - mae: 7.9377\n",
            "Epoch 33/100\n",
            "2/2 [==============================] - 0s 9ms/step - loss: 14.1219 - mae: 14.1219\n",
            "Epoch 34/100\n",
            "2/2 [==============================] - 0s 6ms/step - loss: 12.3624 - mae: 12.3624\n",
            "Epoch 35/100\n",
            "2/2 [==============================] - 0s 7ms/step - loss: 8.2915 - mae: 8.2915\n",
            "Epoch 36/100\n",
            "2/2 [==============================] - 0s 6ms/step - loss: 10.5197 - mae: 10.5197\n",
            "Epoch 37/100\n",
            "2/2 [==============================] - 0s 6ms/step - loss: 10.1611 - mae: 10.1611\n",
            "Epoch 38/100\n",
            "2/2 [==============================] - 0s 6ms/step - loss: 11.3666 - mae: 11.3666\n",
            "Epoch 39/100\n",
            "2/2 [==============================] - 0s 7ms/step - loss: 14.7460 - mae: 14.7460\n",
            "Epoch 40/100\n",
            "2/2 [==============================] - 0s 7ms/step - loss: 12.8764 - mae: 12.8764\n",
            "Epoch 41/100\n",
            "2/2 [==============================] - 0s 6ms/step - loss: 9.2640 - mae: 9.2640\n",
            "Epoch 42/100\n",
            "2/2 [==============================] - 0s 6ms/step - loss: 11.0433 - mae: 11.0433\n",
            "Epoch 43/100\n",
            "2/2 [==============================] - 0s 6ms/step - loss: 8.3575 - mae: 8.3575\n",
            "Epoch 44/100\n",
            "2/2 [==============================] - 0s 6ms/step - loss: 13.0936 - mae: 13.0936\n",
            "Epoch 45/100\n",
            "2/2 [==============================] - 0s 6ms/step - loss: 13.6630 - mae: 13.6630\n",
            "Epoch 46/100\n",
            "2/2 [==============================] - 0s 6ms/step - loss: 8.2903 - mae: 8.2903\n",
            "Epoch 47/100\n",
            "2/2 [==============================] - 0s 6ms/step - loss: 8.7576 - mae: 8.7576\n",
            "Epoch 48/100\n",
            "2/2 [==============================] - 0s 6ms/step - loss: 10.0621 - mae: 10.0621\n",
            "Epoch 49/100\n",
            "2/2 [==============================] - 0s 7ms/step - loss: 8.5428 - mae: 8.5428\n",
            "Epoch 50/100\n",
            "2/2 [==============================] - 0s 9ms/step - loss: 9.0500 - mae: 9.0500\n",
            "Epoch 51/100\n",
            "2/2 [==============================] - 0s 7ms/step - loss: 9.4004 - mae: 9.4004\n",
            "Epoch 52/100\n",
            "2/2 [==============================] - 0s 8ms/step - loss: 14.2159 - mae: 14.2159\n",
            "Epoch 53/100\n",
            "2/2 [==============================] - 0s 7ms/step - loss: 14.8797 - mae: 14.8797\n",
            "Epoch 54/100\n",
            "2/2 [==============================] - 0s 7ms/step - loss: 14.8151 - mae: 14.8151\n",
            "Epoch 55/100\n",
            "2/2 [==============================] - 0s 8ms/step - loss: 12.5969 - mae: 12.5969\n",
            "Epoch 56/100\n",
            "2/2 [==============================] - 0s 8ms/step - loss: 7.6017 - mae: 7.6017\n",
            "Epoch 57/100\n",
            "2/2 [==============================] - 0s 7ms/step - loss: 8.8262 - mae: 8.8262\n",
            "Epoch 58/100\n",
            "2/2 [==============================] - 0s 6ms/step - loss: 8.4097 - mae: 8.4097\n",
            "Epoch 59/100\n",
            "2/2 [==============================] - 0s 7ms/step - loss: 9.2095 - mae: 9.2095\n",
            "Epoch 60/100\n",
            "2/2 [==============================] - 0s 9ms/step - loss: 9.1486 - mae: 9.1486\n",
            "Epoch 61/100\n",
            "2/2 [==============================] - 0s 9ms/step - loss: 10.6956 - mae: 10.6956\n",
            "Epoch 62/100\n",
            "2/2 [==============================] - 0s 8ms/step - loss: 7.4533 - mae: 7.4533\n",
            "Epoch 63/100\n",
            "2/2 [==============================] - 0s 8ms/step - loss: 10.5329 - mae: 10.5329\n",
            "Epoch 64/100\n",
            "2/2 [==============================] - 0s 8ms/step - loss: 12.1302 - mae: 12.1302\n",
            "Epoch 65/100\n",
            "2/2 [==============================] - 0s 7ms/step - loss: 9.4654 - mae: 9.4654\n",
            "Epoch 66/100\n",
            "2/2 [==============================] - 0s 7ms/step - loss: 11.5334 - mae: 11.5334\n",
            "Epoch 67/100\n",
            "2/2 [==============================] - 0s 7ms/step - loss: 8.0542 - mae: 8.0542\n",
            "Epoch 68/100\n",
            "2/2 [==============================] - 0s 9ms/step - loss: 8.5837 - mae: 8.5837\n",
            "Epoch 69/100\n",
            "2/2 [==============================] - 0s 9ms/step - loss: 12.2661 - mae: 12.2661\n",
            "Epoch 70/100\n",
            "2/2 [==============================] - 0s 8ms/step - loss: 8.9740 - mae: 8.9740\n",
            "Epoch 71/100\n",
            "2/2 [==============================] - 0s 7ms/step - loss: 9.9485 - mae: 9.9485\n",
            "Epoch 72/100\n",
            "2/2 [==============================] - 0s 7ms/step - loss: 9.9878 - mae: 9.9878\n",
            "Epoch 73/100\n",
            "2/2 [==============================] - 0s 8ms/step - loss: 12.4519 - mae: 12.4519\n",
            "Epoch 74/100\n",
            "2/2 [==============================] - 0s 8ms/step - loss: 10.5941 - mae: 10.5941\n",
            "Epoch 75/100\n",
            "2/2 [==============================] - 0s 8ms/step - loss: 9.6459 - mae: 9.6459\n",
            "Epoch 76/100\n",
            "2/2 [==============================] - 0s 10ms/step - loss: 11.1119 - mae: 11.1119\n",
            "Epoch 77/100\n",
            "2/2 [==============================] - 0s 13ms/step - loss: 8.2936 - mae: 8.2936\n",
            "Epoch 78/100\n",
            "2/2 [==============================] - 0s 12ms/step - loss: 8.9843 - mae: 8.9843\n",
            "Epoch 79/100\n",
            "2/2 [==============================] - 0s 7ms/step - loss: 19.8036 - mae: 19.8036\n",
            "Epoch 80/100\n",
            "2/2 [==============================] - 0s 9ms/step - loss: 17.8225 - mae: 17.8225\n",
            "Epoch 81/100\n",
            "2/2 [==============================] - 0s 7ms/step - loss: 7.0995 - mae: 7.0995\n",
            "Epoch 82/100\n",
            "2/2 [==============================] - 0s 10ms/step - loss: 10.4237 - mae: 10.4237\n",
            "Epoch 83/100\n",
            "2/2 [==============================] - 0s 7ms/step - loss: 9.8467 - mae: 9.8467\n",
            "Epoch 84/100\n",
            "2/2 [==============================] - 0s 7ms/step - loss: 7.9557 - mae: 7.9557\n",
            "Epoch 85/100\n",
            "2/2 [==============================] - 0s 8ms/step - loss: 9.4649 - mae: 9.4649\n",
            "Epoch 86/100\n",
            "2/2 [==============================] - 0s 7ms/step - loss: 9.5085 - mae: 9.5085\n",
            "Epoch 87/100\n",
            "2/2 [==============================] - 0s 7ms/step - loss: 11.4511 - mae: 11.4511\n",
            "Epoch 88/100\n",
            "2/2 [==============================] - 0s 7ms/step - loss: 9.9519 - mae: 9.9519\n",
            "Epoch 89/100\n",
            "2/2 [==============================] - 0s 9ms/step - loss: 7.2707 - mae: 7.2707\n",
            "Epoch 90/100\n",
            "2/2 [==============================] - 0s 8ms/step - loss: 12.7110 - mae: 12.7110\n",
            "Epoch 91/100\n",
            "2/2 [==============================] - 0s 9ms/step - loss: 7.3303 - mae: 7.3303\n",
            "Epoch 92/100\n",
            "2/2 [==============================] - 0s 8ms/step - loss: 7.6943 - mae: 7.6943\n",
            "Epoch 93/100\n",
            "2/2 [==============================] - 0s 7ms/step - loss: 7.1369 - mae: 7.1369\n",
            "Epoch 94/100\n",
            "2/2 [==============================] - 0s 7ms/step - loss: 12.5591 - mae: 12.5591\n",
            "Epoch 95/100\n",
            "2/2 [==============================] - 0s 7ms/step - loss: 9.9370 - mae: 9.9370\n",
            "Epoch 96/100\n",
            "2/2 [==============================] - 0s 8ms/step - loss: 9.1586 - mae: 9.1586\n",
            "Epoch 97/100\n",
            "2/2 [==============================] - 0s 8ms/step - loss: 12.1020 - mae: 12.1020\n",
            "Epoch 98/100\n",
            "2/2 [==============================] - 0s 8ms/step - loss: 9.0819 - mae: 9.0819\n",
            "Epoch 99/100\n",
            "2/2 [==============================] - 0s 8ms/step - loss: 8.5148 - mae: 8.5148\n",
            "Epoch 100/100\n",
            "2/2 [==============================] - 0s 8ms/step - loss: 14.4705 - mae: 14.4705\n"
          ]
        },
        {
          "output_type": "execute_result",
          "data": {
            "text/plain": [
              "<keras.callbacks.History at 0x7eca0ee60e50>"
            ]
          },
          "metadata": {},
          "execution_count": 287
        }
      ]
    },
    {
      "cell_type": "code",
      "source": [
        "# Let's see model summary with more layers and name argument\n",
        "model = tf.keras.Sequential([\n",
        "    tf.keras.layers.Dense(10, input_shape=[1], name='input_layer'),\n",
        "    tf.keras.layers.Dense(100, activation='relu', name='hidden_layer'),\n",
        "    tf.keras.layers.Dense(1, name='output_layer')\n",
        "    ], name='test_model')\n",
        "\n",
        "model.compile(loss=tf.keras.losses.mae,\n",
        "              optimizer=tf.keras.optimizers.SGD(learning_rate=.1),\n",
        "              metrics=['mae'])\n",
        "\n",
        "model.summary()"
      ],
      "metadata": {
        "colab": {
          "base_uri": "https://localhost:8080/"
        },
        "id": "RMitBzRQyjmh",
        "outputId": "4bdea5b2-ef38-40ae-b6f7-d717ad7b1c39"
      },
      "execution_count": 288,
      "outputs": [
        {
          "output_type": "stream",
          "name": "stdout",
          "text": [
            "Model: \"test_model\"\n",
            "_________________________________________________________________\n",
            " Layer (type)                Output Shape              Param #   \n",
            "=================================================================\n",
            " input_layer (Dense)         (None, 10)                20        \n",
            "                                                                 \n",
            " hidden_layer (Dense)        (None, 100)               1100      \n",
            "                                                                 \n",
            " output_layer (Dense)        (None, 1)                 101       \n",
            "                                                                 \n",
            "=================================================================\n",
            "Total params: 1,221\n",
            "Trainable params: 1,221\n",
            "Non-trainable params: 0\n",
            "_________________________________________________________________\n"
          ]
        }
      ]
    },
    {
      "cell_type": "markdown",
      "source": [
        "**Plot model!** - really cool\n",
        "\n"
      ],
      "metadata": {
        "id": "CV297e6CqJSj"
      }
    },
    {
      "cell_type": "code",
      "source": [
        "tf.keras.utils.plot_model(model=model, show_shapes=True)"
      ],
      "metadata": {
        "colab": {
          "base_uri": "https://localhost:8080/",
          "height": 422
        },
        "id": "R_dKQUJfqPjn",
        "outputId": "e4d9ea05-8b75-4e49-9063-26781c342256"
      },
      "execution_count": 289,
      "outputs": [
        {
          "output_type": "execute_result",
          "data": {
            "image/png": "[encoded data removed]",
            "text/plain": [
              "<IPython.core.display.Image object>"
            ]
          },
          "metadata": {},
          "execution_count": 289
        }
      ]
    },
    {
      "cell_type": "markdown",
      "source": [
        "### Visualize model's predictions\n",
        "\n",
        "To visualize predictions, its a good idea to plot them against the ground truth"
      ],
      "metadata": {
        "id": "KWpK6nUHqfvM"
      }
    },
    {
      "cell_type": "code",
      "source": [
        "# Make Model and get y_pred\n",
        "# Let's try a bigger dataset to visualize\n",
        "X = tf.range(-100, 100, 4)\n",
        "y = X + 10\n",
        "\n",
        "# Split data  80/20 train and test sets\n",
        "X_train, X_test, y_train, y_test = X[:int(len(X) * .8)], X[int(len(X) * .8):], y[:int(len(y) * .8)], y[int(len(y) * .8):]\n",
        "\n",
        "# Create the model\n",
        "tf.random.set_seed(seed=42)\n",
        "model = tf.keras.Sequential()\n",
        "\n",
        "# More neurons (hidden layers) with 100 hidden units\n",
        "model.add(layer=tf.keras.layers.Dense(units=100, activation='relu'))\n",
        "model.add(layer=tf.keras.layers.Dense(units=100, activation='relu'))\n",
        "model.add(layer=tf.keras.layers.Dense(units=100, activation='relu'))\n",
        "\n",
        "# Output layer\n",
        "model.add(layer=tf.keras.layers.Dense(units=1))\n",
        "\n",
        "# Compile the model\n",
        "model.compile(\n",
        "    optimizer=tf.keras.optimizers.Adam(learning_rate=.0135), # Optimizer changed to Adam. Lower learning rate (default = .01)\n",
        "    loss=tf.keras.losses.mae\n",
        ")\n",
        "\n",
        "model.fit(x=tf.expand_dims(input=X_train, axis=-1), y=y_train, epochs=100) # More iterations"
      ],
      "metadata": {
        "colab": {
          "base_uri": "https://localhost:8080/"
        },
        "id": "TdKHtJCW-lOb",
        "outputId": "37b39236-d14a-4368-e202-4f410d506357"
      },
      "execution_count": 290,
      "outputs": [
        {
          "output_type": "stream",
          "name": "stdout",
          "text": [
            "Epoch 1/100\n",
            "2/2 [==============================] - 1s 13ms/step - loss: 38.6947\n",
            "Epoch 2/100\n",
            "2/2 [==============================] - 0s 7ms/step - loss: 11.5085\n",
            "Epoch 3/100\n",
            "2/2 [==============================] - 0s 7ms/step - loss: 12.6310\n",
            "Epoch 4/100\n",
            "2/2 [==============================] - 0s 7ms/step - loss: 21.3902\n",
            "Epoch 5/100\n",
            "2/2 [==============================] - 0s 9ms/step - loss: 13.3298\n",
            "Epoch 6/100\n",
            "2/2 [==============================] - 0s 10ms/step - loss: 6.7397\n",
            "Epoch 7/100\n",
            "2/2 [==============================] - 0s 9ms/step - loss: 6.6119\n",
            "Epoch 8/100\n",
            "2/2 [==============================] - 0s 7ms/step - loss: 8.2263\n",
            "Epoch 9/100\n",
            "2/2 [==============================] - 0s 9ms/step - loss: 6.5688\n",
            "Epoch 10/100\n",
            "2/2 [==============================] - 0s 8ms/step - loss: 6.4789\n",
            "Epoch 11/100\n",
            "2/2 [==============================] - 0s 9ms/step - loss: 5.4201\n",
            "Epoch 12/100\n",
            "2/2 [==============================] - 0s 8ms/step - loss: 5.4406\n",
            "Epoch 13/100\n",
            "2/2 [==============================] - 0s 10ms/step - loss: 3.9194\n",
            "Epoch 14/100\n",
            "2/2 [==============================] - 0s 7ms/step - loss: 4.1456\n",
            "Epoch 15/100\n",
            "2/2 [==============================] - 0s 7ms/step - loss: 4.4878\n",
            "Epoch 16/100\n",
            "2/2 [==============================] - 0s 7ms/step - loss: 4.4346\n",
            "Epoch 17/100\n",
            "2/2 [==============================] - 0s 8ms/step - loss: 5.0832\n",
            "Epoch 18/100\n",
            "2/2 [==============================] - 0s 9ms/step - loss: 4.1841\n",
            "Epoch 19/100\n",
            "2/2 [==============================] - 0s 11ms/step - loss: 7.0548\n",
            "Epoch 20/100\n",
            "2/2 [==============================] - 0s 10ms/step - loss: 4.3849\n",
            "Epoch 21/100\n",
            "2/2 [==============================] - 0s 7ms/step - loss: 5.6051\n",
            "Epoch 22/100\n",
            "2/2 [==============================] - 0s 7ms/step - loss: 4.7320\n",
            "Epoch 23/100\n",
            "2/2 [==============================] - 0s 7ms/step - loss: 5.4000\n",
            "Epoch 24/100\n",
            "2/2 [==============================] - 0s 8ms/step - loss: 6.6091\n",
            "Epoch 25/100\n",
            "2/2 [==============================] - 0s 8ms/step - loss: 7.8045\n",
            "Epoch 26/100\n",
            "2/2 [==============================] - 0s 10ms/step - loss: 3.7105\n",
            "Epoch 27/100\n",
            "2/2 [==============================] - 0s 8ms/step - loss: 6.9735\n",
            "Epoch 28/100\n",
            "2/2 [==============================] - 0s 10ms/step - loss: 5.1832\n",
            "Epoch 29/100\n",
            "2/2 [==============================] - 0s 10ms/step - loss: 7.1122\n",
            "Epoch 30/100\n",
            "2/2 [==============================] - 0s 9ms/step - loss: 4.6976\n",
            "Epoch 31/100\n",
            "2/2 [==============================] - 0s 10ms/step - loss: 2.6761\n",
            "Epoch 32/100\n",
            "2/2 [==============================] - 0s 9ms/step - loss: 3.1666\n",
            "Epoch 33/100\n",
            "2/2 [==============================] - 0s 9ms/step - loss: 3.2148\n",
            "Epoch 34/100\n",
            "2/2 [==============================] - 0s 9ms/step - loss: 3.1773\n",
            "Epoch 35/100\n",
            "2/2 [==============================] - 0s 8ms/step - loss: 2.5863\n",
            "Epoch 36/100\n",
            "2/2 [==============================] - 0s 8ms/step - loss: 2.7267\n",
            "Epoch 37/100\n",
            "2/2 [==============================] - 0s 11ms/step - loss: 1.5428\n",
            "Epoch 38/100\n",
            "2/2 [==============================] - 0s 11ms/step - loss: 2.0060\n",
            "Epoch 39/100\n",
            "2/2 [==============================] - 0s 14ms/step - loss: 4.2248\n",
            "Epoch 40/100\n",
            "2/2 [==============================] - 0s 9ms/step - loss: 4.0391\n",
            "Epoch 41/100\n",
            "2/2 [==============================] - 0s 10ms/step - loss: 2.4001\n",
            "Epoch 42/100\n",
            "2/2 [==============================] - 0s 8ms/step - loss: 9.4390\n",
            "Epoch 43/100\n",
            "2/2 [==============================] - 0s 8ms/step - loss: 8.3167\n",
            "Epoch 44/100\n",
            "2/2 [==============================] - 0s 7ms/step - loss: 3.5995\n",
            "Epoch 45/100\n",
            "2/2 [==============================] - 0s 11ms/step - loss: 6.5299\n",
            "Epoch 46/100\n",
            "2/2 [==============================] - 0s 10ms/step - loss: 2.6504\n",
            "Epoch 47/100\n",
            "2/2 [==============================] - 0s 8ms/step - loss: 7.0694\n",
            "Epoch 48/100\n",
            "2/2 [==============================] - 0s 9ms/step - loss: 2.9873\n",
            "Epoch 49/100\n",
            "2/2 [==============================] - 0s 7ms/step - loss: 8.2478\n",
            "Epoch 50/100\n",
            "2/2 [==============================] - 0s 9ms/step - loss: 6.9958\n",
            "Epoch 51/100\n",
            "2/2 [==============================] - 0s 8ms/step - loss: 9.1964\n",
            "Epoch 52/100\n",
            "2/2 [==============================] - 0s 6ms/step - loss: 5.4607\n",
            "Epoch 53/100\n",
            "2/2 [==============================] - 0s 7ms/step - loss: 7.3457\n",
            "Epoch 54/100\n",
            "2/2 [==============================] - 0s 9ms/step - loss: 7.8363\n",
            "Epoch 55/100\n",
            "2/2 [==============================] - 0s 7ms/step - loss: 5.1970\n",
            "Epoch 56/100\n",
            "2/2 [==============================] - 0s 7ms/step - loss: 5.2525\n",
            "Epoch 57/100\n",
            "2/2 [==============================] - 0s 7ms/step - loss: 4.2090\n",
            "Epoch 58/100\n",
            "2/2 [==============================] - 0s 8ms/step - loss: 3.4842\n",
            "Epoch 59/100\n",
            "2/2 [==============================] - 0s 10ms/step - loss: 3.0344\n",
            "Epoch 60/100\n",
            "2/2 [==============================] - 0s 7ms/step - loss: 2.1973\n",
            "Epoch 61/100\n",
            "2/2 [==============================] - 0s 10ms/step - loss: 2.0763\n",
            "Epoch 62/100\n",
            "2/2 [==============================] - 0s 8ms/step - loss: 2.6291\n",
            "Epoch 63/100\n",
            "2/2 [==============================] - 0s 7ms/step - loss: 1.3973\n",
            "Epoch 64/100\n",
            "2/2 [==============================] - 0s 7ms/step - loss: 1.0139\n",
            "Epoch 65/100\n",
            "2/2 [==============================] - 0s 6ms/step - loss: 1.0770\n",
            "Epoch 66/100\n",
            "2/2 [==============================] - 0s 7ms/step - loss: 1.8154\n",
            "Epoch 67/100\n",
            "2/2 [==============================] - 0s 7ms/step - loss: 1.0927\n",
            "Epoch 68/100\n",
            "2/2 [==============================] - 0s 6ms/step - loss: 3.3318\n",
            "Epoch 69/100\n",
            "2/2 [==============================] - 0s 7ms/step - loss: 2.6040\n",
            "Epoch 70/100\n",
            "2/2 [==============================] - 0s 7ms/step - loss: 2.0578\n",
            "Epoch 71/100\n",
            "2/2 [==============================] - 0s 6ms/step - loss: 2.0942\n",
            "Epoch 72/100\n",
            "2/2 [==============================] - 0s 7ms/step - loss: 0.7756\n",
            "Epoch 73/100\n",
            "2/2 [==============================] - 0s 8ms/step - loss: 2.3901\n",
            "Epoch 74/100\n",
            "2/2 [==============================] - 0s 8ms/step - loss: 1.9182\n",
            "Epoch 75/100\n",
            "2/2 [==============================] - 0s 8ms/step - loss: 3.6489\n",
            "Epoch 76/100\n",
            "2/2 [==============================] - 0s 7ms/step - loss: 2.9611\n",
            "Epoch 77/100\n",
            "2/2 [==============================] - 0s 7ms/step - loss: 1.7657\n",
            "Epoch 78/100\n",
            "2/2 [==============================] - 0s 7ms/step - loss: 4.8987\n",
            "Epoch 79/100\n",
            "2/2 [==============================] - 0s 7ms/step - loss: 2.4732\n",
            "Epoch 80/100\n",
            "2/2 [==============================] - 0s 7ms/step - loss: 2.9078\n",
            "Epoch 81/100\n",
            "2/2 [==============================] - 0s 8ms/step - loss: 3.0600\n",
            "Epoch 82/100\n",
            "2/2 [==============================] - 0s 8ms/step - loss: 3.8143\n",
            "Epoch 83/100\n",
            "2/2 [==============================] - 0s 7ms/step - loss: 1.8210\n",
            "Epoch 84/100\n",
            "2/2 [==============================] - 0s 6ms/step - loss: 1.5454\n",
            "Epoch 85/100\n",
            "2/2 [==============================] - 0s 8ms/step - loss: 1.5244\n",
            "Epoch 86/100\n",
            "2/2 [==============================] - 0s 7ms/step - loss: 2.6946\n",
            "Epoch 87/100\n",
            "2/2 [==============================] - 0s 7ms/step - loss: 2.2911\n",
            "Epoch 88/100\n",
            "2/2 [==============================] - 0s 7ms/step - loss: 2.1196\n",
            "Epoch 89/100\n",
            "2/2 [==============================] - 0s 8ms/step - loss: 4.4331\n",
            "Epoch 90/100\n",
            "2/2 [==============================] - 0s 10ms/step - loss: 2.3128\n",
            "Epoch 91/100\n",
            "2/2 [==============================] - 0s 8ms/step - loss: 3.1058\n",
            "Epoch 92/100\n",
            "2/2 [==============================] - 0s 7ms/step - loss: 1.9979\n",
            "Epoch 93/100\n",
            "2/2 [==============================] - 0s 7ms/step - loss: 3.0477\n",
            "Epoch 94/100\n",
            "2/2 [==============================] - 0s 8ms/step - loss: 1.4820\n",
            "Epoch 95/100\n",
            "2/2 [==============================] - 0s 7ms/step - loss: 1.9055\n",
            "Epoch 96/100\n",
            "2/2 [==============================] - 0s 7ms/step - loss: 1.0493\n",
            "Epoch 97/100\n",
            "2/2 [==============================] - 0s 7ms/step - loss: 1.3110\n",
            "Epoch 98/100\n",
            "2/2 [==============================] - 0s 12ms/step - loss: 1.2248\n",
            "Epoch 99/100\n",
            "2/2 [==============================] - 0s 9ms/step - loss: 1.0447\n",
            "Epoch 100/100\n",
            "2/2 [==============================] - 0s 8ms/step - loss: 0.7262\n"
          ]
        },
        {
          "output_type": "execute_result",
          "data": {
            "text/plain": [
              "<keras.callbacks.History at 0x7eca086db820>"
            ]
          },
          "metadata": {},
          "execution_count": 290
        }
      ]
    },
    {
      "cell_type": "code",
      "source": [
        "# Predictions\n",
        "y_pred = model.predict(x=X_test)"
      ],
      "metadata": {
        "colab": {
          "base_uri": "https://localhost:8080/"
        },
        "id": "ACvu__9AAEd2",
        "outputId": "38466484-cc8a-4146-8c1d-cb5ca2b11221"
      },
      "execution_count": 291,
      "outputs": [
        {
          "output_type": "stream",
          "name": "stdout",
          "text": [
            "1/1 [==============================] - 0s 77ms/step\n"
          ]
        }
      ]
    },
    {
      "cell_type": "code",
      "source": [
        "# Function to plot\n",
        "def compare_train_test_pred(train_labels=y_train, train_data=X_train, test_labels=y_test, test_data=X_test, y_pred=y_pred):\n",
        "  '''\n",
        "  plots training data, test data & compares predictions to ground truth\n",
        "  '''\n",
        "  plt.figure(figsize=(10,7))\n",
        "  plt.scatter(train_data, train_labels, c='b', label='training data')\n",
        "  plt.scatter(test_data, test_labels, c='g', label='test data')\n",
        "  plt.scatter(test_data, y_pred, c='r', label='predictions')\n",
        "  plt.legend()"
      ],
      "metadata": {
        "id": "EbJ0SJjXAMLi"
      },
      "execution_count": 292,
      "outputs": []
    },
    {
      "cell_type": "code",
      "source": [
        "# Plot em'!\n",
        "compare_train_test_pred()"
      ],
      "metadata": {
        "colab": {
          "base_uri": "https://localhost:8080/",
          "height": 599
        },
        "id": "PJa4lRQoByQn",
        "outputId": "4cc8bdbe-7beb-4c22-cdbe-47e981049fe0"
      },
      "execution_count": 293,
      "outputs": [
        {
          "output_type": "display_data",
          "data": {
            "text/plain": [
              "<Figure size 1000x700 with 1 Axes>"
            ],
            "image/png": "[encoded data removed]"
          },
          "metadata": {}
        }
      ]
    },
    {
      "cell_type": "markdown",
      "source": [
        "### Evaluating model with regression metrics\n",
        "- **Mean Absolute Error**: Average Absolute Error - *tf.keras.losses.MAE()*\n",
        "- **Mean Square Error**: Square of average errors. Use when larger errors are more significant than smaller errors. **Highlights Outliers** - *tf.keras.losses.MSE()*\n",
        "- **Huber** - Combination of MSE & MAE. Less sensitive to outliers than MSE - *tf.keras.losses.Huber()*"
      ],
      "metadata": {
        "id": "4dKvkGxjCa1L"
      }
    },
    {
      "cell_type": "code",
      "source": [
        "# Evaluate model on test using .evaluate\n",
        "\n",
        "'''\n",
        "returns the loss value & metrics values for the model in test mode\n",
        "You set the loss & metrics when you compile the model\n",
        "'''\n",
        "model.evaluate(x=X_test, y=y_test)"
      ],
      "metadata": {
        "colab": {
          "base_uri": "https://localhost:8080/"
        },
        "id": "IfxUovpbEk5h",
        "outputId": "1e7e4818-06d4-45ce-a3e7-bcbb88918887"
      },
      "execution_count": 294,
      "outputs": [
        {
          "output_type": "stream",
          "name": "stdout",
          "text": [
            "1/1 [==============================] - 0s 177ms/step - loss: 2.8204\n"
          ]
        },
        {
          "output_type": "execute_result",
          "data": {
            "text/plain": [
              "2.820441484451294"
            ]
          },
          "metadata": {},
          "execution_count": 294
        }
      ]
    },
    {
      "cell_type": "markdown",
      "source": [
        "Before gathering metrics, we must make sure that the y_test and y_pred vectors are the same shape"
      ],
      "metadata": {
        "id": "CET41J0JIl61"
      }
    },
    {
      "cell_type": "code",
      "source": [
        "tf.constant(y_pred), y_test"
      ],
      "metadata": {
        "colab": {
          "base_uri": "https://localhost:8080/"
        },
        "id": "ZLowAj-YIuBp",
        "outputId": "170c266c-94d6-4cab-d556-93fd7326968d"
      },
      "execution_count": 295,
      "outputs": [
        {
          "output_type": "execute_result",
          "data": {
            "text/plain": [
              "(<tf.Tensor: shape=(10, 1), dtype=float32, numpy=\n",
              " array([[ 72.243904],\n",
              "        [ 76.371605],\n",
              "        [ 80.49934 ],\n",
              "        [ 84.62771 ],\n",
              "        [ 88.75607 ],\n",
              "        [ 92.88444 ],\n",
              "        [ 97.012794],\n",
              "        [101.14116 ],\n",
              "        [105.26953 ],\n",
              "        [109.397896]], dtype=float32)>,\n",
              " <tf.Tensor: shape=(10,), dtype=int32, numpy=array([ 70,  74,  78,  82,  86,  90,  94,  98, 102, 106], dtype=int32)>)"
            ]
          },
          "metadata": {},
          "execution_count": 295
        }
      ]
    },
    {
      "cell_type": "markdown",
      "source": [
        "**Key Notes**\n",
        "- predictions are 10, 1 and test is 10! They must be the same shape to evaluate!\n",
        "- Additionally: need to convert y_pred to a Tensor dtype!\n",
        "- Convert to y_pred to tensor and then squeeze the tensor to get rid of the 1 dimension!\n"
      ],
      "metadata": {
        "id": "naTKFzAxI2a0"
      }
    },
    {
      "cell_type": "code",
      "source": [
        "y_pred = tf.constant(y_pred)\n",
        "y_pred= tf.squeeze(input=y_pred)\n",
        "y_pred"
      ],
      "metadata": {
        "colab": {
          "base_uri": "https://localhost:8080/"
        },
        "id": "UuVFsArxNuvc",
        "outputId": "4e4866dc-358f-4adb-830d-07249618f91a"
      },
      "execution_count": 296,
      "outputs": [
        {
          "output_type": "execute_result",
          "data": {
            "text/plain": [
              "<tf.Tensor: shape=(10,), dtype=float32, numpy=\n",
              "array([ 72.243904,  76.371605,  80.49934 ,  84.62771 ,  88.75607 ,\n",
              "        92.88444 ,  97.012794, 101.14116 , 105.26953 , 109.397896],\n",
              "      dtype=float32)>"
            ]
          },
          "metadata": {},
          "execution_count": 296
        }
      ]
    },
    {
      "cell_type": "code",
      "source": [
        "# Now that y_pred and y_true are the same shape Calculate the mean absolute error\n",
        "mae = tf.keras.losses.MAE(y_true=y_test, y_pred=y_pred)\n",
        "mae"
      ],
      "metadata": {
        "colab": {
          "base_uri": "https://localhost:8080/"
        },
        "id": "vOMg__eLHGET",
        "outputId": "83e60f3e-7d13-45e4-ac3c-829872f9cbbd"
      },
      "execution_count": 297,
      "outputs": [
        {
          "output_type": "execute_result",
          "data": {
            "text/plain": [
              "<tf.Tensor: shape=(), dtype=float32, numpy=2.8204446>"
            ]
          },
          "metadata": {},
          "execution_count": 297
        }
      ]
    },
    {
      "cell_type": "markdown",
      "source": [
        "EagerTensor is a class in the TensorFlow Python framework that represents a tensor that is evaluated immediately.\n",
        "This is in contrast to a graph tensor, which is a tensor that is not evaluated until it is needed.\n",
        "EagerTensors are useful for debugging and interactive development.\n",
        "Can turn into a NumPy array by calling .numpy()"
      ],
      "metadata": {
        "id": "_YC8RqgCHf3a"
      }
    },
    {
      "cell_type": "code",
      "source": [
        "# Calculate the mean square error too!\n",
        "mse = tf.keras.losses.MSE(y_true=y_test, y_pred=y_pred).numpy()\n",
        "mse"
      ],
      "metadata": {
        "colab": {
          "base_uri": "https://localhost:8080/"
        },
        "id": "WwWgR8pqHwSU",
        "outputId": "a1736ccf-3e97-466f-f045-f95255009a23"
      },
      "execution_count": 298,
      "outputs": [
        {
          "output_type": "execute_result",
          "data": {
            "text/plain": [
              "8.09064"
            ]
          },
          "metadata": {},
          "execution_count": 298
        }
      ]
    },
    {
      "cell_type": "code",
      "source": [
        "print(f'MSE: {mse}\\nMAE: {mae.numpy()}')"
      ],
      "metadata": {
        "colab": {
          "base_uri": "https://localhost:8080/"
        },
        "id": "Ad7zjgucO9w9",
        "outputId": "5b92c0ad-cab8-4e92-c1d3-13f9119be743"
      },
      "execution_count": 299,
      "outputs": [
        {
          "output_type": "stream",
          "name": "stdout",
          "text": [
            "MSE: 8.0906400680542\n",
            "MAE: 2.8204445838928223\n"
          ]
        }
      ]
    },
    {
      "cell_type": "code",
      "source": [
        "# make function to get MAE & MSE\n",
        "def mae_mse(y_true=y_test, y_pred=y_pred) -> tuple:\n",
        "  '''\n",
        "  returns mae and mse in form of tuple given y_true and y_pred arguments\n",
        "  '''\n",
        "  mae = tf.keras.losses.MAE(y_true=y_test, y_pred=y_pred).numpy()\n",
        "  mse = tf.keras.losses.MSE(y_true=y_test, y_pred=y_pred).numpy()\n",
        "  return (mae, mse)"
      ],
      "metadata": {
        "id": "8VbJPPVTPLwB"
      },
      "execution_count": 300,
      "outputs": []
    },
    {
      "cell_type": "code",
      "source": [
        "mae, mse = mae_mse()\n",
        "mae, mse"
      ],
      "metadata": {
        "colab": {
          "base_uri": "https://localhost:8080/"
        },
        "id": "ekLH0qdTP1q-",
        "outputId": "bd0ae63f-3daa-4992-b8fe-86e5417049d2"
      },
      "execution_count": 301,
      "outputs": [
        {
          "output_type": "execute_result",
          "data": {
            "text/plain": [
              "(2.8204446, 8.09064)"
            ]
          },
          "metadata": {},
          "execution_count": 301
        }
      ]
    },
    {
      "cell_type": "markdown",
      "source": [
        "### Experimentation to improve Model\n",
        "Experiment, Experiment, Experiment <br>\n",
        "'''\n",
        "Build a model -> fit it -> evaluate it -> tweak it -> repeat\n",
        "'''\n",
        "1. Get more data\n",
        "2. Make model more complex (more layers or more hidden units in layers)\n",
        "3. Train for longer\n",
        "\n",
        "**KEY** - Always start with small, simple models and build complexity as needed\n"
      ],
      "metadata": {
        "id": "cwC70t8VQHQ8"
      }
    },
    {
      "cell_type": "code",
      "source": [
        "X = tf.range(-100, 100, 4)\n",
        "y = X + 10\n",
        "\n",
        "# Split data\n",
        "d_split = int(len(X) * .8)\n",
        "X_train, y_train = X[:d_split], y[:d_split]\n",
        "X_test, y_test = X[d_split:], y[d_split:]"
      ],
      "metadata": {
        "id": "6cVFkDsMuwJ2"
      },
      "execution_count": 302,
      "outputs": []
    },
    {
      "cell_type": "markdown",
      "source": [
        "Let's do 3 experiments:\n",
        "1. 1 layer, 100 epochs\n",
        "2. 2 layers, 100 epochs\n",
        "3. 2 layers, 500 epochs"
      ],
      "metadata": {
        "id": "M_g7Ya3Sv_Cd"
      }
    },
    {
      "cell_type": "code",
      "source": [
        "# Set seed\n",
        "tf.random.set_seed(42)\n",
        "\n",
        "# Create model\n",
        "model1 = tf.keras.Sequential([\n",
        "    tf.keras.layers.Dense(units=1)\n",
        "])\n",
        "\n",
        "# compile model\n",
        "model1.compile(\n",
        "    loss=tf.keras.losses.mae,\n",
        "    optimizer=tf.keras.optimizers.SGD(),\n",
        "    metrics=['mae']\n",
        ")\n",
        "\n",
        "# fit the model\n",
        "model1.fit(x=tf.expand_dims(X_train, axis=-1), y=y_train, epochs=100)"
      ],
      "metadata": {
        "colab": {
          "base_uri": "https://localhost:8080/"
        },
        "id": "tPmgqKNUwUbq",
        "outputId": "bdf2d6ca-deb1-4c86-de11-410298c7bf59"
      },
      "execution_count": 303,
      "outputs": [
        {
          "output_type": "stream",
          "name": "stdout",
          "text": [
            "Epoch 1/100\n",
            "2/2 [==============================] - 1s 16ms/step - loss: 14.9846 - mae: 14.9846\n",
            "Epoch 2/100\n",
            "2/2 [==============================] - 0s 8ms/step - loss: 8.3855 - mae: 8.3855\n",
            "Epoch 3/100\n",
            "2/2 [==============================] - 0s 8ms/step - loss: 10.5274 - mae: 10.5274\n",
            "Epoch 4/100\n",
            "2/2 [==============================] - 0s 8ms/step - loss: 13.0360 - mae: 13.0360\n",
            "Epoch 5/100\n",
            "2/2 [==============================] - 0s 7ms/step - loss: 12.0920 - mae: 12.0920\n",
            "Epoch 6/100\n",
            "2/2 [==============================] - 0s 7ms/step - loss: 9.3528 - mae: 9.3528\n",
            "Epoch 7/100\n",
            "2/2 [==============================] - 0s 7ms/step - loss: 8.5049 - mae: 8.5049\n",
            "Epoch 8/100\n",
            "2/2 [==============================] - 0s 8ms/step - loss: 9.0337 - mae: 9.0337\n",
            "Epoch 9/100\n",
            "2/2 [==============================] - 0s 8ms/step - loss: 18.5974 - mae: 18.5974\n",
            "Epoch 10/100\n",
            "2/2 [==============================] - 0s 9ms/step - loss: 10.0247 - mae: 10.0247\n",
            "Epoch 11/100\n",
            "2/2 [==============================] - 0s 10ms/step - loss: 8.3600 - mae: 8.3600\n",
            "Epoch 12/100\n",
            "2/2 [==============================] - 0s 9ms/step - loss: 10.5912 - mae: 10.5912\n",
            "Epoch 13/100\n",
            "2/2 [==============================] - 0s 11ms/step - loss: 9.7655 - mae: 9.7655\n",
            "Epoch 14/100\n",
            "2/2 [==============================] - 0s 10ms/step - loss: 15.8466 - mae: 15.8466\n",
            "Epoch 15/100\n",
            "2/2 [==============================] - 0s 8ms/step - loss: 11.5287 - mae: 11.5287\n",
            "Epoch 16/100\n",
            "2/2 [==============================] - 0s 8ms/step - loss: 8.4969 - mae: 8.4969\n",
            "Epoch 17/100\n",
            "2/2 [==============================] - 0s 11ms/step - loss: 13.5424 - mae: 13.5424\n",
            "Epoch 18/100\n",
            "2/2 [==============================] - 0s 8ms/step - loss: 11.3488 - mae: 11.3488\n",
            "Epoch 19/100\n",
            "2/2 [==============================] - 0s 7ms/step - loss: 18.0422 - mae: 18.0422\n",
            "Epoch 20/100\n",
            "2/2 [==============================] - 0s 8ms/step - loss: 15.1759 - mae: 15.1759\n",
            "Epoch 21/100\n",
            "2/2 [==============================] - 0s 7ms/step - loss: 11.1256 - mae: 11.1256\n",
            "Epoch 22/100\n",
            "2/2 [==============================] - 0s 7ms/step - loss: 8.2494 - mae: 8.2494\n",
            "Epoch 23/100\n",
            "2/2 [==============================] - 0s 7ms/step - loss: 9.4362 - mae: 9.4362\n",
            "Epoch 24/100\n",
            "2/2 [==============================] - 0s 7ms/step - loss: 7.6797 - mae: 7.6797\n",
            "Epoch 25/100\n",
            "2/2 [==============================] - 0s 7ms/step - loss: 13.0155 - mae: 13.0155\n",
            "Epoch 26/100\n",
            "2/2 [==============================] - 0s 7ms/step - loss: 16.5456 - mae: 16.5456\n",
            "Epoch 27/100\n",
            "2/2 [==============================] - 0s 10ms/step - loss: 13.2684 - mae: 13.2684\n",
            "Epoch 28/100\n",
            "2/2 [==============================] - 0s 9ms/step - loss: 14.3878 - mae: 14.3878\n",
            "Epoch 29/100\n",
            "2/2 [==============================] - 0s 10ms/step - loss: 10.1003 - mae: 10.1003\n",
            "Epoch 30/100\n",
            "2/2 [==============================] - 0s 12ms/step - loss: 16.5401 - mae: 16.5401\n",
            "Epoch 31/100\n",
            "2/2 [==============================] - 0s 11ms/step - loss: 23.4595 - mae: 23.4595\n",
            "Epoch 32/100\n",
            "2/2 [==============================] - 0s 9ms/step - loss: 7.3601 - mae: 7.3601\n",
            "Epoch 33/100\n",
            "2/2 [==============================] - 0s 11ms/step - loss: 9.7915 - mae: 9.7915\n",
            "Epoch 34/100\n",
            "2/2 [==============================] - 0s 9ms/step - loss: 12.2369 - mae: 12.2369\n",
            "Epoch 35/100\n",
            "2/2 [==============================] - 0s 12ms/step - loss: 11.1608 - mae: 11.1608\n",
            "Epoch 36/100\n",
            "2/2 [==============================] - 0s 8ms/step - loss: 13.3957 - mae: 13.3957\n",
            "Epoch 37/100\n",
            "2/2 [==============================] - 0s 10ms/step - loss: 9.4390 - mae: 9.4390\n",
            "Epoch 38/100\n",
            "2/2 [==============================] - 0s 9ms/step - loss: 10.0889 - mae: 10.0889\n",
            "Epoch 39/100\n",
            "2/2 [==============================] - 0s 9ms/step - loss: 8.9660 - mae: 8.9660\n",
            "Epoch 40/100\n",
            "2/2 [==============================] - 0s 12ms/step - loss: 9.5937 - mae: 9.5937\n",
            "Epoch 41/100\n",
            "2/2 [==============================] - 0s 8ms/step - loss: 10.5548 - mae: 10.5548\n",
            "Epoch 42/100\n",
            "2/2 [==============================] - 0s 8ms/step - loss: 10.6079 - mae: 10.6079\n",
            "Epoch 43/100\n",
            "2/2 [==============================] - 0s 8ms/step - loss: 7.2016 - mae: 7.2016\n",
            "Epoch 44/100\n",
            "2/2 [==============================] - 0s 9ms/step - loss: 8.0082 - mae: 8.0082\n",
            "Epoch 45/100\n",
            "2/2 [==============================] - 0s 8ms/step - loss: 9.8094 - mae: 9.8094\n",
            "Epoch 46/100\n",
            "2/2 [==============================] - 0s 8ms/step - loss: 8.8896 - mae: 8.8896\n",
            "Epoch 47/100\n",
            "2/2 [==============================] - 0s 9ms/step - loss: 7.5571 - mae: 7.5571\n",
            "Epoch 48/100\n",
            "2/2 [==============================] - 0s 8ms/step - loss: 8.5256 - mae: 8.5256\n",
            "Epoch 49/100\n",
            "2/2 [==============================] - 0s 8ms/step - loss: 10.0205 - mae: 10.0205\n",
            "Epoch 50/100\n",
            "2/2 [==============================] - 0s 9ms/step - loss: 8.9724 - mae: 8.9724\n",
            "Epoch 51/100\n",
            "2/2 [==============================] - 0s 9ms/step - loss: 10.6971 - mae: 10.6971\n",
            "Epoch 52/100\n",
            "2/2 [==============================] - 0s 8ms/step - loss: 15.2533 - mae: 15.2533\n",
            "Epoch 53/100\n",
            "2/2 [==============================] - 0s 9ms/step - loss: 14.2844 - mae: 14.2844\n",
            "Epoch 54/100\n",
            "2/2 [==============================] - 0s 8ms/step - loss: 21.5389 - mae: 21.5389\n",
            "Epoch 55/100\n",
            "2/2 [==============================] - 0s 8ms/step - loss: 16.0441 - mae: 16.0441\n",
            "Epoch 56/100\n",
            "2/2 [==============================] - 0s 9ms/step - loss: 10.2381 - mae: 10.2381\n",
            "Epoch 57/100\n",
            "2/2 [==============================] - 0s 10ms/step - loss: 9.7859 - mae: 9.7859\n",
            "Epoch 58/100\n",
            "2/2 [==============================] - 0s 8ms/step - loss: 9.0678 - mae: 9.0678\n",
            "Epoch 59/100\n",
            "2/2 [==============================] - 0s 8ms/step - loss: 8.2734 - mae: 8.2734\n",
            "Epoch 60/100\n",
            "2/2 [==============================] - 0s 10ms/step - loss: 9.3647 - mae: 9.3647\n",
            "Epoch 61/100\n",
            "2/2 [==============================] - 0s 8ms/step - loss: 11.1932 - mae: 11.1932\n",
            "Epoch 62/100\n",
            "2/2 [==============================] - 0s 9ms/step - loss: 12.0247 - mae: 12.0247\n",
            "Epoch 63/100\n",
            "2/2 [==============================] - 0s 7ms/step - loss: 7.2639 - mae: 7.2639\n",
            "Epoch 64/100\n",
            "2/2 [==============================] - 0s 10ms/step - loss: 12.4588 - mae: 12.4588\n",
            "Epoch 65/100\n",
            "2/2 [==============================] - 0s 10ms/step - loss: 10.5291 - mae: 10.5291\n",
            "Epoch 66/100\n",
            "2/2 [==============================] - 0s 11ms/step - loss: 15.5576 - mae: 15.5576\n",
            "Epoch 67/100\n",
            "2/2 [==============================] - 0s 11ms/step - loss: 9.9703 - mae: 9.9703\n",
            "Epoch 68/100\n",
            "2/2 [==============================] - 0s 13ms/step - loss: 8.6988 - mae: 8.6988\n",
            "Epoch 69/100\n",
            "2/2 [==============================] - 0s 12ms/step - loss: 13.4328 - mae: 13.4328\n",
            "Epoch 70/100\n",
            "2/2 [==============================] - 0s 10ms/step - loss: 7.4593 - mae: 7.4593\n",
            "Epoch 71/100\n",
            "2/2 [==============================] - 0s 9ms/step - loss: 12.2559 - mae: 12.2559\n",
            "Epoch 72/100\n",
            "2/2 [==============================] - 0s 13ms/step - loss: 8.4984 - mae: 8.4984\n",
            "Epoch 73/100\n",
            "2/2 [==============================] - 0s 11ms/step - loss: 7.0266 - mae: 7.0266\n",
            "Epoch 74/100\n",
            "2/2 [==============================] - 0s 9ms/step - loss: 9.8764 - mae: 9.8764\n",
            "Epoch 75/100\n",
            "2/2 [==============================] - 0s 9ms/step - loss: 9.9542 - mae: 9.9542\n",
            "Epoch 76/100\n",
            "2/2 [==============================] - 0s 9ms/step - loss: 10.1140 - mae: 10.1140\n",
            "Epoch 77/100\n",
            "2/2 [==============================] - 0s 12ms/step - loss: 12.9911 - mae: 12.9911\n",
            "Epoch 78/100\n",
            "2/2 [==============================] - 0s 9ms/step - loss: 10.8821 - mae: 10.8821\n",
            "Epoch 79/100\n",
            "2/2 [==============================] - 0s 14ms/step - loss: 15.3581 - mae: 15.3581\n",
            "Epoch 80/100\n",
            "2/2 [==============================] - 0s 9ms/step - loss: 11.7276 - mae: 11.7276\n",
            "Epoch 81/100\n",
            "2/2 [==============================] - 0s 13ms/step - loss: 9.2301 - mae: 9.2301\n",
            "Epoch 82/100\n",
            "2/2 [==============================] - 0s 11ms/step - loss: 12.8225 - mae: 12.8225\n",
            "Epoch 83/100\n",
            "2/2 [==============================] - 0s 10ms/step - loss: 10.2752 - mae: 10.2752\n",
            "Epoch 84/100\n",
            "2/2 [==============================] - 0s 9ms/step - loss: 10.6022 - mae: 10.6022\n",
            "Epoch 85/100\n",
            "2/2 [==============================] - 0s 8ms/step - loss: 9.3112 - mae: 9.3112\n",
            "Epoch 86/100\n",
            "2/2 [==============================] - 0s 17ms/step - loss: 9.1598 - mae: 9.1598\n",
            "Epoch 87/100\n",
            "2/2 [==============================] - 0s 11ms/step - loss: 11.8951 - mae: 11.8951\n",
            "Epoch 88/100\n",
            "2/2 [==============================] - 0s 11ms/step - loss: 10.5053 - mae: 10.5053\n",
            "Epoch 89/100\n",
            "2/2 [==============================] - 0s 12ms/step - loss: 7.2301 - mae: 7.2301\n",
            "Epoch 90/100\n",
            "2/2 [==============================] - 0s 15ms/step - loss: 12.6322 - mae: 12.6322\n",
            "Epoch 91/100\n",
            "2/2 [==============================] - 0s 11ms/step - loss: 7.2757 - mae: 7.2757\n",
            "Epoch 92/100\n",
            "2/2 [==============================] - 0s 8ms/step - loss: 7.6348 - mae: 7.6348\n",
            "Epoch 93/100\n",
            "2/2 [==============================] - 0s 10ms/step - loss: 7.0994 - mae: 7.0994\n",
            "Epoch 94/100\n",
            "2/2 [==============================] - 0s 8ms/step - loss: 12.4844 - mae: 12.4844\n",
            "Epoch 95/100\n",
            "2/2 [==============================] - 0s 11ms/step - loss: 9.8594 - mae: 9.8594\n",
            "Epoch 96/100\n",
            "2/2 [==============================] - 0s 12ms/step - loss: 9.1405 - mae: 9.1405\n",
            "Epoch 97/100\n",
            "2/2 [==============================] - 0s 10ms/step - loss: 12.1168 - mae: 12.1168\n",
            "Epoch 98/100\n",
            "2/2 [==============================] - 0s 7ms/step - loss: 9.0067 - mae: 9.0067\n",
            "Epoch 99/100\n",
            "2/2 [==============================] - 0s 7ms/step - loss: 8.4921 - mae: 8.4921\n",
            "Epoch 100/100\n",
            "2/2 [==============================] - 0s 7ms/step - loss: 14.5144 - mae: 14.5144\n"
          ]
        },
        {
          "output_type": "execute_result",
          "data": {
            "text/plain": [
              "<keras.callbacks.History at 0x7eca0fc3e6b0>"
            ]
          },
          "metadata": {},
          "execution_count": 303
        }
      ]
    },
    {
      "cell_type": "code",
      "source": [
        "# Make and plot predictions for model 1\n",
        "y_pred1 = model1.predict(x=X_test)\n",
        "compare_train_test_pred(y_pred=y_pred1)"
      ],
      "metadata": {
        "colab": {
          "base_uri": "https://localhost:8080/",
          "height": 616
        },
        "id": "wuu0QkoBwCKh",
        "outputId": "8b7554fe-b0fd-47cc-d594-7f2693a241cf"
      },
      "execution_count": 304,
      "outputs": [
        {
          "output_type": "stream",
          "name": "stdout",
          "text": [
            "1/1 [==============================] - 0s 83ms/step\n"
          ]
        },
        {
          "output_type": "display_data",
          "data": {
            "text/plain": [
              "<Figure size 1000x700 with 1 Axes>"
            ],
            "image/png": "[encoded data removed]"
          },
          "metadata": {}
        }
      ]
    },
    {
      "cell_type": "code",
      "source": [
        "# Calculate model_1 evaluation metrics\n",
        "y_pred1 = tf.constant(tf.squeeze(y_pred1))\n",
        "mae1, mse1 = mae_mse(y_pred=y_pred1)\n",
        "mae1, mse1"
      ],
      "metadata": {
        "colab": {
          "base_uri": "https://localhost:8080/"
        },
        "id": "RXoY8ZY4yGFL",
        "outputId": "5325fb3b-4d9f-43b8-cb92-c06dd7ed9162"
      },
      "execution_count": 305,
      "outputs": [
        {
          "output_type": "execute_result",
          "data": {
            "text/plain": [
              "(30.402811, 934.5719)"
            ]
          },
          "metadata": {},
          "execution_count": 305
        }
      ]
    },
    {
      "cell_type": "code",
      "source": [
        "# Update compare function to do squeezing, practice by rewriting\n",
        "def model_mae_mse(y_true=y_test, y_pred=y_pred) -> tuple:\n",
        "  y_pred = tf.constant(tf.squeeze(y_pred))\n",
        "  mae = tf.keras.losses.MAE(y_true=y_true, y_pred=y_pred).numpy()\n",
        "  mse = tf.keras.losses.MSE(y_true=y_true, y_pred=y_pred).numpy()\n",
        "  return (mae, mse)"
      ],
      "metadata": {
        "id": "CJkB93-Fyuwt"
      },
      "execution_count": 306,
      "outputs": []
    },
    {
      "cell_type": "code",
      "source": [
        "# Calculate model1 evaluation metrics w/out need to squeeze (done in function)\n",
        "mae1, mse1 = model_mae_mse(y_true=y_test, y_pred=y_pred1)\n",
        "mae1, mse1"
      ],
      "metadata": {
        "colab": {
          "base_uri": "https://localhost:8080/"
        },
        "id": "YkB-Ly14zaei",
        "outputId": "f57a109f-3796-456e-b5cf-4910870a26e0"
      },
      "execution_count": 307,
      "outputs": [
        {
          "output_type": "execute_result",
          "data": {
            "text/plain": [
              "(30.402811, 934.5719)"
            ]
          },
          "metadata": {},
          "execution_count": 307
        }
      ]
    },
    {
      "cell_type": "code",
      "source": [
        "# Model 2\n",
        "tf.random.set_seed(seed=42)\n",
        "\n",
        "# Create model\n",
        "model2 = tf.keras.Sequential([\n",
        "    tf.keras.layers.Dense(units=10, activation=tf.nn.relu),\n",
        "    tf.keras.layers.Dense(1)\n",
        "])\n",
        "\n",
        "# Compile model\n",
        "model2.compile(\n",
        "    loss=tf.keras.losses.MAE,\n",
        "    optimizer=tf.keras.optimizers.SGD(),\n",
        "    metrics=['mse']\n",
        ")\n",
        "\n",
        "# Fit model\n",
        "model2.fit(x=tf.expand_dims(input=X_train, axis=-1), y=y_train, epochs=100, verbose=0)"
      ],
      "metadata": {
        "colab": {
          "base_uri": "https://localhost:8080/"
        },
        "id": "H4Min9bg0Dgf",
        "outputId": "c1617b9d-86bb-433e-948e-5b5912534b64"
      },
      "execution_count": 308,
      "outputs": [
        {
          "output_type": "execute_result",
          "data": {
            "text/plain": [
              "<keras.callbacks.History at 0x7eca0fb7bd90>"
            ]
          },
          "metadata": {},
          "execution_count": 308
        }
      ]
    },
    {
      "cell_type": "code",
      "source": [
        "# Plot\n",
        "y_pred2 = model2.predict(x=X_test)\n",
        "compare_train_test_pred(y_pred=y_pred2)"
      ],
      "metadata": {
        "colab": {
          "base_uri": "https://localhost:8080/",
          "height": 616
        },
        "id": "eTJzFkRI1BLz",
        "outputId": "3b335f5f-d71f-4385-f84b-9158750d7473"
      },
      "execution_count": 309,
      "outputs": [
        {
          "output_type": "stream",
          "name": "stdout",
          "text": [
            "1/1 [==============================] - 0s 90ms/step\n"
          ]
        },
        {
          "output_type": "display_data",
          "data": {
            "text/plain": [
              "<Figure size 1000x700 with 1 Axes>"
            ],
            "image/png": "[encoded data removed]"
          },
          "metadata": {}
        }
      ]
    },
    {
      "cell_type": "code",
      "source": [
        "# MAE & MSE\n",
        "mae2, mse2 = model_mae_mse(y_pred=y_pred2)\n",
        "mae2, mse2"
      ],
      "metadata": {
        "colab": {
          "base_uri": "https://localhost:8080/"
        },
        "id": "WV0PLYku1R5N",
        "outputId": "1abd8a04-74d6-4842-e048-94509f79b76c"
      },
      "execution_count": 310,
      "outputs": [
        {
          "output_type": "execute_result",
          "data": {
            "text/plain": [
              "(13.773933, 190.15044)"
            ]
          },
          "metadata": {},
          "execution_count": 310
        }
      ]
    },
    {
      "cell_type": "code",
      "source": [
        "# Model 3\n",
        "\n",
        "tf.random.set_seed(seed=42)\n",
        "\n",
        "# Create model\n",
        "model3 = tf.keras.Sequential([\n",
        "    tf.keras.layers.Dense(units=50, activation=tf.math.tanh),\n",
        "    tf.keras.layers.Dense(1)\n",
        "])\n",
        "\n",
        "# Compile model\n",
        "model3.compile(\n",
        "    loss=tf.keras.losses.MSE,\n",
        "    optimizer=tf.keras.optimizers.SGD(),\n",
        "    metrics=['mae']\n",
        ")\n",
        "\n",
        "# fit model\n",
        "model3.fit(x=tf.expand_dims(X_train, axis=-1), y=y_train, epochs=500)"
      ],
      "metadata": {
        "colab": {
          "base_uri": "https://localhost:8080/"
        },
        "id": "vCP2yfb-13Tw",
        "outputId": "14402cdc-086c-41b9-9b30-f09bdb472ab6"
      },
      "execution_count": 311,
      "outputs": [
        {
          "output_type": "stream",
          "name": "stdout",
          "text": [
            "Epoch 1/500\n",
            "2/2 [==============================] - 1s 13ms/step - loss: 1932.9553 - mae: 36.8603\n",
            "Epoch 2/500\n",
            "2/2 [==============================] - 0s 9ms/step - loss: 1349.1829 - mae: 30.1633\n",
            "Epoch 3/500\n",
            "2/2 [==============================] - 0s 6ms/step - loss: 675.1476 - mae: 21.5025\n",
            "Epoch 4/500\n",
            "2/2 [==============================] - 0s 8ms/step - loss: 1169.1635 - mae: 27.5346\n",
            "Epoch 5/500\n",
            "2/2 [==============================] - 0s 8ms/step - loss: 602.7349 - mae: 20.6964\n",
            "Epoch 6/500\n",
            "2/2 [==============================] - 0s 7ms/step - loss: 694.0410 - mae: 22.2267\n",
            "Epoch 7/500\n",
            "2/2 [==============================] - 0s 8ms/step - loss: 742.0963 - mae: 22.7769\n",
            "Epoch 8/500\n",
            "2/2 [==============================] - 0s 8ms/step - loss: 618.6001 - mae: 20.6989\n",
            "Epoch 9/500\n",
            "2/2 [==============================] - 0s 11ms/step - loss: 706.2916 - mae: 22.1005\n",
            "Epoch 10/500\n",
            "2/2 [==============================] - 0s 8ms/step - loss: 725.5616 - mae: 21.7954\n",
            "Epoch 11/500\n",
            "2/2 [==============================] - 0s 9ms/step - loss: 610.3123 - mae: 20.6069\n",
            "Epoch 12/500\n",
            "2/2 [==============================] - 0s 9ms/step - loss: 628.5433 - mae: 20.8110\n",
            "Epoch 13/500\n",
            "2/2 [==============================] - 0s 13ms/step - loss: 679.0477 - mae: 21.8101\n",
            "Epoch 14/500\n",
            "2/2 [==============================] - 0s 10ms/step - loss: 837.6580 - mae: 24.1308\n",
            "Epoch 15/500\n",
            "2/2 [==============================] - 0s 8ms/step - loss: 622.0107 - mae: 20.7008\n",
            "Epoch 16/500\n",
            "2/2 [==============================] - 0s 14ms/step - loss: 630.1566 - mae: 20.6065\n",
            "Epoch 17/500\n",
            "2/2 [==============================] - 0s 8ms/step - loss: 620.5375 - mae: 20.6649\n",
            "Epoch 18/500\n",
            "2/2 [==============================] - 0s 9ms/step - loss: 689.9313 - mae: 21.4636\n",
            "Epoch 19/500\n",
            "2/2 [==============================] - 0s 10ms/step - loss: 615.8163 - mae: 20.6109\n",
            "Epoch 20/500\n",
            "2/2 [==============================] - 0s 8ms/step - loss: 640.7583 - mae: 21.0132\n",
            "Epoch 21/500\n",
            "2/2 [==============================] - 0s 8ms/step - loss: 667.1437 - mae: 21.7049\n",
            "Epoch 22/500\n",
            "2/2 [==============================] - 0s 7ms/step - loss: 619.7622 - mae: 20.6230\n",
            "Epoch 23/500\n",
            "2/2 [==============================] - 0s 7ms/step - loss: 649.9654 - mae: 21.0120\n",
            "Epoch 24/500\n",
            "2/2 [==============================] - 0s 7ms/step - loss: 760.6601 - mae: 22.6986\n",
            "Epoch 25/500\n",
            "2/2 [==============================] - 0s 8ms/step - loss: 613.7653 - mae: 20.5225\n",
            "Epoch 26/500\n",
            "2/2 [==============================] - 0s 9ms/step - loss: 644.3055 - mae: 21.2211\n",
            "Epoch 27/500\n",
            "2/2 [==============================] - 0s 8ms/step - loss: 645.7759 - mae: 21.0589\n",
            "Epoch 28/500\n",
            "2/2 [==============================] - 0s 8ms/step - loss: 643.2995 - mae: 20.7705\n",
            "Epoch 29/500\n",
            "2/2 [==============================] - 0s 10ms/step - loss: 628.2551 - mae: 20.7313\n",
            "Epoch 30/500\n",
            "2/2 [==============================] - 0s 8ms/step - loss: 964.9423 - mae: 26.6519\n",
            "Epoch 31/500\n",
            "2/2 [==============================] - 0s 10ms/step - loss: 988.7738 - mae: 25.2275\n",
            "Epoch 32/500\n",
            "2/2 [==============================] - 0s 8ms/step - loss: 656.1360 - mae: 21.2731\n",
            "Epoch 33/500\n",
            "2/2 [==============================] - 0s 8ms/step - loss: 636.3878 - mae: 20.7927\n",
            "Epoch 34/500\n",
            "2/2 [==============================] - 0s 8ms/step - loss: 628.3486 - mae: 20.6159\n",
            "Epoch 35/500\n",
            "2/2 [==============================] - 0s 6ms/step - loss: 687.1818 - mae: 21.6043\n",
            "Epoch 36/500\n",
            "2/2 [==============================] - 0s 7ms/step - loss: 635.2065 - mae: 20.8193\n",
            "Epoch 37/500\n",
            "2/2 [==============================] - 0s 7ms/step - loss: 694.9707 - mae: 21.2509\n",
            "Epoch 38/500\n",
            "2/2 [==============================] - 0s 7ms/step - loss: 618.0921 - mae: 20.6819\n",
            "Epoch 39/500\n",
            "2/2 [==============================] - 0s 8ms/step - loss: 638.1510 - mae: 20.7152\n",
            "Epoch 40/500\n",
            "2/2 [==============================] - 0s 8ms/step - loss: 643.4855 - mae: 21.1571\n",
            "Epoch 41/500\n",
            "2/2 [==============================] - 0s 9ms/step - loss: 611.6963 - mae: 20.5662\n",
            "Epoch 42/500\n",
            "2/2 [==============================] - 0s 9ms/step - loss: 613.6588 - mae: 20.5098\n",
            "Epoch 43/500\n",
            "2/2 [==============================] - 0s 8ms/step - loss: 625.0027 - mae: 20.6246\n",
            "Epoch 44/500\n",
            "2/2 [==============================] - 0s 9ms/step - loss: 682.9551 - mae: 21.7429\n",
            "Epoch 45/500\n",
            "2/2 [==============================] - 0s 8ms/step - loss: 626.2116 - mae: 20.7217\n",
            "Epoch 46/500\n",
            "2/2 [==============================] - 0s 10ms/step - loss: 643.8129 - mae: 21.1508\n",
            "Epoch 47/500\n",
            "2/2 [==============================] - 0s 7ms/step - loss: 807.6067 - mae: 22.3772\n",
            "Epoch 48/500\n",
            "2/2 [==============================] - 0s 6ms/step - loss: 663.0165 - mae: 21.3904\n",
            "Epoch 49/500\n",
            "2/2 [==============================] - 0s 8ms/step - loss: 681.8116 - mae: 21.9737\n",
            "Epoch 50/500\n",
            "2/2 [==============================] - 0s 7ms/step - loss: 709.9460 - mae: 21.6573\n",
            "Epoch 51/500\n",
            "2/2 [==============================] - 0s 8ms/step - loss: 649.3644 - mae: 20.7721\n",
            "Epoch 52/500\n",
            "2/2 [==============================] - 0s 8ms/step - loss: 796.2249 - mae: 21.8874\n",
            "Epoch 53/500\n",
            "2/2 [==============================] - 0s 7ms/step - loss: 622.3218 - mae: 20.7131\n",
            "Epoch 54/500\n",
            "2/2 [==============================] - 0s 7ms/step - loss: 786.8315 - mae: 22.8099\n",
            "Epoch 55/500\n",
            "2/2 [==============================] - 0s 6ms/step - loss: 714.3768 - mae: 21.9082\n",
            "Epoch 56/500\n",
            "2/2 [==============================] - 0s 6ms/step - loss: 610.7728 - mae: 20.5019\n",
            "Epoch 57/500\n",
            "2/2 [==============================] - 0s 6ms/step - loss: 612.5802 - mae: 20.5167\n",
            "Epoch 58/500\n",
            "2/2 [==============================] - 0s 6ms/step - loss: 682.8675 - mae: 21.7312\n",
            "Epoch 59/500\n",
            "2/2 [==============================] - 0s 7ms/step - loss: 693.1050 - mae: 21.9309\n",
            "Epoch 60/500\n",
            "2/2 [==============================] - 0s 7ms/step - loss: 655.2577 - mae: 21.0167\n",
            "Epoch 61/500\n",
            "2/2 [==============================] - 0s 8ms/step - loss: 626.6505 - mae: 20.5597\n",
            "Epoch 62/500\n",
            "2/2 [==============================] - 0s 7ms/step - loss: 612.8542 - mae: 20.5553\n",
            "Epoch 63/500\n",
            "2/2 [==============================] - 0s 7ms/step - loss: 626.1305 - mae: 20.6196\n",
            "Epoch 64/500\n",
            "2/2 [==============================] - 0s 6ms/step - loss: 611.2889 - mae: 20.5074\n",
            "Epoch 65/500\n",
            "2/2 [==============================] - 0s 6ms/step - loss: 619.8251 - mae: 20.4750\n",
            "Epoch 66/500\n",
            "2/2 [==============================] - 0s 8ms/step - loss: 641.0531 - mae: 21.0668\n",
            "Epoch 67/500\n",
            "2/2 [==============================] - 0s 7ms/step - loss: 613.2192 - mae: 20.5498\n",
            "Epoch 68/500\n",
            "2/2 [==============================] - 0s 7ms/step - loss: 645.5427 - mae: 20.9456\n",
            "Epoch 69/500\n",
            "2/2 [==============================] - 0s 7ms/step - loss: 642.4465 - mae: 21.1808\n",
            "Epoch 70/500\n",
            "2/2 [==============================] - 0s 8ms/step - loss: 651.2882 - mae: 21.1975\n",
            "Epoch 71/500\n",
            "2/2 [==============================] - 0s 7ms/step - loss: 631.1512 - mae: 20.8038\n",
            "Epoch 72/500\n",
            "2/2 [==============================] - 0s 7ms/step - loss: 640.2195 - mae: 21.0756\n",
            "Epoch 73/500\n",
            "2/2 [==============================] - 0s 7ms/step - loss: 651.0175 - mae: 21.2290\n",
            "Epoch 74/500\n",
            "2/2 [==============================] - 0s 7ms/step - loss: 842.5093 - mae: 23.4879\n",
            "Epoch 75/500\n",
            "2/2 [==============================] - 0s 7ms/step - loss: 632.1498 - mae: 20.9371\n",
            "Epoch 76/500\n",
            "2/2 [==============================] - 0s 8ms/step - loss: 619.8140 - mae: 20.9257\n",
            "Epoch 77/500\n",
            "2/2 [==============================] - 0s 8ms/step - loss: 613.8305 - mae: 20.5111\n",
            "Epoch 78/500\n",
            "2/2 [==============================] - 0s 7ms/step - loss: 614.4572 - mae: 20.5976\n",
            "Epoch 79/500\n",
            "2/2 [==============================] - 0s 7ms/step - loss: 683.5446 - mae: 20.8896\n",
            "Epoch 80/500\n",
            "2/2 [==============================] - 0s 7ms/step - loss: 758.3117 - mae: 22.7338\n",
            "Epoch 81/500\n",
            "2/2 [==============================] - 0s 7ms/step - loss: 651.7661 - mae: 21.0704\n",
            "Epoch 82/500\n",
            "2/2 [==============================] - 0s 7ms/step - loss: 977.7619 - mae: 24.2810\n",
            "Epoch 83/500\n",
            "2/2 [==============================] - 0s 7ms/step - loss: 740.6320 - mae: 22.2290\n",
            "Epoch 84/500\n",
            "2/2 [==============================] - 0s 7ms/step - loss: 767.3947 - mae: 22.1750\n",
            "Epoch 85/500\n",
            "2/2 [==============================] - 0s 8ms/step - loss: 750.1468 - mae: 22.7330\n",
            "Epoch 86/500\n",
            "2/2 [==============================] - 0s 7ms/step - loss: 624.7464 - mae: 20.7467\n",
            "Epoch 87/500\n",
            "2/2 [==============================] - 0s 9ms/step - loss: 636.6732 - mae: 20.7853\n",
            "Epoch 88/500\n",
            "2/2 [==============================] - 0s 8ms/step - loss: 809.2607 - mae: 22.6005\n",
            "Epoch 89/500\n",
            "2/2 [==============================] - 0s 8ms/step - loss: 620.7146 - mae: 20.5488\n",
            "Epoch 90/500\n",
            "2/2 [==============================] - 0s 8ms/step - loss: 631.5967 - mae: 20.9123\n",
            "Epoch 91/500\n",
            "2/2 [==============================] - 0s 7ms/step - loss: 619.8477 - mae: 20.6545\n",
            "Epoch 92/500\n",
            "2/2 [==============================] - 0s 7ms/step - loss: 698.5128 - mae: 21.4402\n",
            "Epoch 93/500\n",
            "2/2 [==============================] - 0s 7ms/step - loss: 620.7051 - mae: 20.7216\n",
            "Epoch 94/500\n",
            "2/2 [==============================] - 0s 7ms/step - loss: 624.4120 - mae: 20.6556\n",
            "Epoch 95/500\n",
            "2/2 [==============================] - 0s 8ms/step - loss: 623.0128 - mae: 20.6240\n",
            "Epoch 96/500\n",
            "2/2 [==============================] - 0s 7ms/step - loss: 619.5856 - mae: 20.5525\n",
            "Epoch 97/500\n",
            "2/2 [==============================] - 0s 8ms/step - loss: 657.7816 - mae: 21.0445\n",
            "Epoch 98/500\n",
            "2/2 [==============================] - 0s 7ms/step - loss: 639.4669 - mae: 20.7932\n",
            "Epoch 99/500\n",
            "2/2 [==============================] - 0s 7ms/step - loss: 625.3845 - mae: 20.7251\n",
            "Epoch 100/500\n",
            "2/2 [==============================] - 0s 9ms/step - loss: 713.8016 - mae: 21.8562\n",
            "Epoch 101/500\n",
            "2/2 [==============================] - 0s 8ms/step - loss: 644.8051 - mae: 21.0477\n",
            "Epoch 102/500\n",
            "2/2 [==============================] - 0s 8ms/step - loss: 614.8220 - mae: 20.4738\n",
            "Epoch 103/500\n",
            "2/2 [==============================] - 0s 7ms/step - loss: 616.8097 - mae: 20.6835\n",
            "Epoch 104/500\n",
            "2/2 [==============================] - 0s 7ms/step - loss: 643.3795 - mae: 21.2737\n",
            "Epoch 105/500\n",
            "2/2 [==============================] - 0s 7ms/step - loss: 614.1302 - mae: 20.5560\n",
            "Epoch 106/500\n",
            "2/2 [==============================] - 0s 7ms/step - loss: 632.5645 - mae: 20.7033\n",
            "Epoch 107/500\n",
            "2/2 [==============================] - 0s 7ms/step - loss: 636.0892 - mae: 20.4674\n",
            "Epoch 108/500\n",
            "2/2 [==============================] - 0s 7ms/step - loss: 674.0632 - mae: 21.8468\n",
            "Epoch 109/500\n",
            "2/2 [==============================] - 0s 7ms/step - loss: 691.2673 - mae: 21.3210\n",
            "Epoch 110/500\n",
            "2/2 [==============================] - 0s 7ms/step - loss: 691.7626 - mae: 21.7376\n",
            "Epoch 111/500\n",
            "2/2 [==============================] - 0s 8ms/step - loss: 621.8088 - mae: 20.7420\n",
            "Epoch 112/500\n",
            "2/2 [==============================] - 0s 8ms/step - loss: 625.5367 - mae: 20.7053\n",
            "Epoch 113/500\n",
            "2/2 [==============================] - 0s 9ms/step - loss: 627.7861 - mae: 20.5495\n",
            "Epoch 114/500\n",
            "2/2 [==============================] - 0s 8ms/step - loss: 684.6798 - mae: 21.4945\n",
            "Epoch 115/500\n",
            "2/2 [==============================] - 0s 7ms/step - loss: 615.2867 - mae: 20.6011\n",
            "Epoch 116/500\n",
            "2/2 [==============================] - 0s 7ms/step - loss: 631.6833 - mae: 20.8621\n",
            "Epoch 117/500\n",
            "2/2 [==============================] - 0s 6ms/step - loss: 612.0599 - mae: 20.5479\n",
            "Epoch 118/500\n",
            "2/2 [==============================] - 0s 8ms/step - loss: 616.3699 - mae: 20.5717\n",
            "Epoch 119/500\n",
            "2/2 [==============================] - 0s 7ms/step - loss: 632.5298 - mae: 20.8062\n",
            "Epoch 120/500\n",
            "2/2 [==============================] - 0s 7ms/step - loss: 766.9388 - mae: 22.7559\n",
            "Epoch 121/500\n",
            "2/2 [==============================] - 0s 7ms/step - loss: 624.0034 - mae: 20.8129\n",
            "Epoch 122/500\n",
            "2/2 [==============================] - 0s 11ms/step - loss: 774.0495 - mae: 22.1851\n",
            "Epoch 123/500\n",
            "2/2 [==============================] - 0s 7ms/step - loss: 854.6691 - mae: 24.2503\n",
            "Epoch 124/500\n",
            "2/2 [==============================] - 0s 8ms/step - loss: 637.2645 - mae: 20.8430\n",
            "Epoch 125/500\n",
            "2/2 [==============================] - 0s 7ms/step - loss: 616.1485 - mae: 20.6516\n",
            "Epoch 126/500\n",
            "2/2 [==============================] - 0s 7ms/step - loss: 615.4598 - mae: 20.5761\n",
            "Epoch 127/500\n",
            "2/2 [==============================] - 0s 8ms/step - loss: 614.2477 - mae: 20.6171\n",
            "Epoch 128/500\n",
            "2/2 [==============================] - 0s 7ms/step - loss: 612.9204 - mae: 20.5225\n",
            "Epoch 129/500\n",
            "2/2 [==============================] - 0s 7ms/step - loss: 620.1661 - mae: 20.5300\n",
            "Epoch 130/500\n",
            "2/2 [==============================] - 0s 8ms/step - loss: 613.0525 - mae: 20.5209\n",
            "Epoch 131/500\n",
            "2/2 [==============================] - 0s 7ms/step - loss: 617.7424 - mae: 20.5623\n",
            "Epoch 132/500\n",
            "2/2 [==============================] - 0s 6ms/step - loss: 686.2061 - mae: 21.3753\n",
            "Epoch 133/500\n",
            "2/2 [==============================] - 0s 10ms/step - loss: 634.9221 - mae: 20.8269\n",
            "Epoch 134/500\n",
            "2/2 [==============================] - 0s 11ms/step - loss: 626.5745 - mae: 20.5720\n",
            "Epoch 135/500\n",
            "2/2 [==============================] - 0s 7ms/step - loss: 623.8881 - mae: 20.8328\n",
            "Epoch 136/500\n",
            "2/2 [==============================] - 0s 7ms/step - loss: 753.6002 - mae: 22.3586\n",
            "Epoch 137/500\n",
            "2/2 [==============================] - 0s 8ms/step - loss: 816.6925 - mae: 23.2060\n",
            "Epoch 138/500\n",
            "2/2 [==============================] - 0s 6ms/step - loss: 631.3528 - mae: 20.7390\n",
            "Epoch 139/500\n",
            "2/2 [==============================] - 0s 7ms/step - loss: 613.8391 - mae: 20.5474\n",
            "Epoch 140/500\n",
            "2/2 [==============================] - 0s 7ms/step - loss: 658.8556 - mae: 20.9822\n",
            "Epoch 141/500\n",
            "2/2 [==============================] - 0s 7ms/step - loss: 669.4564 - mae: 21.4136\n",
            "Epoch 142/500\n",
            "2/2 [==============================] - 0s 7ms/step - loss: 692.7711 - mae: 22.1234\n",
            "Epoch 143/500\n",
            "2/2 [==============================] - 0s 8ms/step - loss: 611.8256 - mae: 20.5765\n",
            "Epoch 144/500\n",
            "2/2 [==============================] - 0s 7ms/step - loss: 614.6323 - mae: 20.5609\n",
            "Epoch 145/500\n",
            "2/2 [==============================] - 0s 7ms/step - loss: 619.5452 - mae: 20.6087\n",
            "Epoch 146/500\n",
            "2/2 [==============================] - 0s 8ms/step - loss: 811.8909 - mae: 23.5262\n",
            "Epoch 147/500\n",
            "2/2 [==============================] - 0s 9ms/step - loss: 925.6396 - mae: 24.8665\n",
            "Epoch 148/500\n",
            "2/2 [==============================] - 0s 9ms/step - loss: 749.7260 - mae: 22.8330\n",
            "Epoch 149/500\n",
            "2/2 [==============================] - 0s 8ms/step - loss: 662.2902 - mae: 21.4765\n",
            "Epoch 150/500\n",
            "2/2 [==============================] - 0s 8ms/step - loss: 639.5009 - mae: 20.9111\n",
            "Epoch 151/500\n",
            "2/2 [==============================] - 0s 8ms/step - loss: 612.9010 - mae: 20.5666\n",
            "Epoch 152/500\n",
            "2/2 [==============================] - 0s 7ms/step - loss: 632.1483 - mae: 20.7660\n",
            "Epoch 153/500\n",
            "2/2 [==============================] - 0s 7ms/step - loss: 666.7498 - mae: 20.6618\n",
            "Epoch 154/500\n",
            "2/2 [==============================] - 0s 8ms/step - loss: 676.0826 - mae: 21.1455\n",
            "Epoch 155/500\n",
            "2/2 [==============================] - 0s 8ms/step - loss: 624.9041 - mae: 20.6807\n",
            "Epoch 156/500\n",
            "2/2 [==============================] - 0s 11ms/step - loss: 783.4319 - mae: 22.6790\n",
            "Epoch 157/500\n",
            "2/2 [==============================] - 0s 8ms/step - loss: 681.7152 - mae: 21.5332\n",
            "Epoch 158/500\n",
            "2/2 [==============================] - 0s 7ms/step - loss: 671.1341 - mae: 21.5643\n",
            "Epoch 159/500\n",
            "2/2 [==============================] - 0s 7ms/step - loss: 621.5918 - mae: 20.4618\n",
            "Epoch 160/500\n",
            "2/2 [==============================] - 0s 8ms/step - loss: 641.0472 - mae: 20.8334\n",
            "Epoch 161/500\n",
            "2/2 [==============================] - 0s 7ms/step - loss: 647.2383 - mae: 21.0471\n",
            "Epoch 162/500\n",
            "2/2 [==============================] - 0s 7ms/step - loss: 708.6592 - mae: 22.2632\n",
            "Epoch 163/500\n",
            "2/2 [==============================] - 0s 7ms/step - loss: 706.8673 - mae: 22.2697\n",
            "Epoch 164/500\n",
            "2/2 [==============================] - 0s 8ms/step - loss: 629.9730 - mae: 20.8419\n",
            "Epoch 165/500\n",
            "2/2 [==============================] - 0s 7ms/step - loss: 766.4871 - mae: 22.6672\n",
            "Epoch 166/500\n",
            "2/2 [==============================] - 0s 7ms/step - loss: 670.6318 - mae: 21.4386\n",
            "Epoch 167/500\n",
            "2/2 [==============================] - 0s 8ms/step - loss: 623.6803 - mae: 20.5364\n",
            "Epoch 168/500\n",
            "2/2 [==============================] - 0s 7ms/step - loss: 615.3187 - mae: 20.5802\n",
            "Epoch 169/500\n",
            "2/2 [==============================] - 0s 8ms/step - loss: 634.8723 - mae: 20.8035\n",
            "Epoch 170/500\n",
            "2/2 [==============================] - 0s 7ms/step - loss: 730.0020 - mae: 22.0352\n",
            "Epoch 171/500\n",
            "2/2 [==============================] - 0s 8ms/step - loss: 644.2781 - mae: 20.9286\n",
            "Epoch 172/500\n",
            "2/2 [==============================] - 0s 7ms/step - loss: 741.2503 - mae: 21.2719\n",
            "Epoch 173/500\n",
            "2/2 [==============================] - 0s 7ms/step - loss: 621.2242 - mae: 20.6828\n",
            "Epoch 174/500\n",
            "2/2 [==============================] - 0s 7ms/step - loss: 658.3047 - mae: 20.8704\n",
            "Epoch 175/500\n",
            "2/2 [==============================] - 0s 7ms/step - loss: 653.7192 - mae: 20.8777\n",
            "Epoch 176/500\n",
            "2/2 [==============================] - 0s 7ms/step - loss: 724.0238 - mae: 22.8055\n",
            "Epoch 177/500\n",
            "2/2 [==============================] - 0s 8ms/step - loss: 732.0104 - mae: 22.4272\n",
            "Epoch 178/500\n",
            "2/2 [==============================] - 0s 7ms/step - loss: 613.9681 - mae: 20.5701\n",
            "Epoch 179/500\n",
            "2/2 [==============================] - 0s 7ms/step - loss: 701.3698 - mae: 21.6088\n",
            "Epoch 180/500\n",
            "2/2 [==============================] - 0s 7ms/step - loss: 757.0200 - mae: 22.7215\n",
            "Epoch 181/500\n",
            "2/2 [==============================] - 0s 8ms/step - loss: 619.4825 - mae: 20.6784\n",
            "Epoch 182/500\n",
            "2/2 [==============================] - 0s 7ms/step - loss: 661.4658 - mae: 20.9301\n",
            "Epoch 183/500\n",
            "2/2 [==============================] - 0s 8ms/step - loss: 661.8563 - mae: 20.8139\n",
            "Epoch 184/500\n",
            "2/2 [==============================] - 0s 7ms/step - loss: 767.1346 - mae: 22.3108\n",
            "Epoch 185/500\n",
            "2/2 [==============================] - 0s 7ms/step - loss: 657.7121 - mae: 21.6281\n",
            "Epoch 186/500\n",
            "2/2 [==============================] - 0s 7ms/step - loss: 612.4692 - mae: 20.5110\n",
            "Epoch 187/500\n",
            "2/2 [==============================] - 0s 7ms/step - loss: 617.5555 - mae: 20.6118\n",
            "Epoch 188/500\n",
            "2/2 [==============================] - 0s 7ms/step - loss: 644.4493 - mae: 20.7336\n",
            "Epoch 189/500\n",
            "2/2 [==============================] - 0s 7ms/step - loss: 705.0266 - mae: 21.7249\n",
            "Epoch 190/500\n",
            "2/2 [==============================] - 0s 8ms/step - loss: 623.6240 - mae: 20.8084\n",
            "Epoch 191/500\n",
            "2/2 [==============================] - 0s 7ms/step - loss: 618.8011 - mae: 20.6686\n",
            "Epoch 192/500\n",
            "2/2 [==============================] - 0s 8ms/step - loss: 624.6694 - mae: 20.5366\n",
            "Epoch 193/500\n",
            "2/2 [==============================] - 0s 7ms/step - loss: 649.4352 - mae: 20.9520\n",
            "Epoch 194/500\n",
            "2/2 [==============================] - 0s 8ms/step - loss: 637.4292 - mae: 20.9430\n",
            "Epoch 195/500\n",
            "2/2 [==============================] - 0s 9ms/step - loss: 739.3680 - mae: 21.6735\n",
            "Epoch 196/500\n",
            "2/2 [==============================] - 0s 10ms/step - loss: 623.8856 - mae: 20.6153\n",
            "Epoch 197/500\n",
            "2/2 [==============================] - 0s 10ms/step - loss: 617.7007 - mae: 20.6303\n",
            "Epoch 198/500\n",
            "2/2 [==============================] - 0s 9ms/step - loss: 688.8923 - mae: 21.7286\n",
            "Epoch 199/500\n",
            "2/2 [==============================] - 0s 7ms/step - loss: 744.8167 - mae: 22.5593\n",
            "Epoch 200/500\n",
            "2/2 [==============================] - 0s 7ms/step - loss: 663.2189 - mae: 21.3000\n",
            "Epoch 201/500\n",
            "2/2 [==============================] - 0s 7ms/step - loss: 651.9409 - mae: 21.4313\n",
            "Epoch 202/500\n",
            "2/2 [==============================] - 0s 7ms/step - loss: 618.5241 - mae: 20.6226\n",
            "Epoch 203/500\n",
            "2/2 [==============================] - 0s 7ms/step - loss: 687.3303 - mae: 21.9005\n",
            "Epoch 204/500\n",
            "2/2 [==============================] - 0s 6ms/step - loss: 816.2502 - mae: 23.2860\n",
            "Epoch 205/500\n",
            "2/2 [==============================] - 0s 8ms/step - loss: 612.9816 - mae: 20.4934\n",
            "Epoch 206/500\n",
            "2/2 [==============================] - 0s 7ms/step - loss: 636.3888 - mae: 20.9995\n",
            "Epoch 207/500\n",
            "2/2 [==============================] - 0s 7ms/step - loss: 661.5587 - mae: 21.5473\n",
            "Epoch 208/500\n",
            "2/2 [==============================] - 0s 7ms/step - loss: 655.7958 - mae: 21.2816\n",
            "Epoch 209/500\n",
            "2/2 [==============================] - 0s 8ms/step - loss: 825.2830 - mae: 23.3071\n",
            "Epoch 210/500\n",
            "2/2 [==============================] - 0s 7ms/step - loss: 712.6979 - mae: 21.3746\n",
            "Epoch 211/500\n",
            "2/2 [==============================] - 0s 8ms/step - loss: 652.3581 - mae: 21.2645\n",
            "Epoch 212/500\n",
            "2/2 [==============================] - 0s 7ms/step - loss: 678.5612 - mae: 21.2476\n",
            "Epoch 213/500\n",
            "2/2 [==============================] - 0s 7ms/step - loss: 871.3587 - mae: 23.7718\n",
            "Epoch 214/500\n",
            "2/2 [==============================] - 0s 7ms/step - loss: 618.7980 - mae: 20.6026\n",
            "Epoch 215/500\n",
            "2/2 [==============================] - 0s 8ms/step - loss: 635.8719 - mae: 20.8126\n",
            "Epoch 216/500\n",
            "2/2 [==============================] - 0s 7ms/step - loss: 770.2902 - mae: 22.8678\n",
            "Epoch 217/500\n",
            "2/2 [==============================] - 0s 8ms/step - loss: 654.0948 - mae: 21.1469\n",
            "Epoch 218/500\n",
            "2/2 [==============================] - 0s 7ms/step - loss: 1143.5781 - mae: 27.9487\n",
            "Epoch 219/500\n",
            "2/2 [==============================] - 0s 8ms/step - loss: 1061.6188 - mae: 26.3278\n",
            "Epoch 220/500\n",
            "2/2 [==============================] - 0s 7ms/step - loss: 695.9999 - mae: 21.7117\n",
            "Epoch 221/500\n",
            "2/2 [==============================] - 0s 7ms/step - loss: 986.6250 - mae: 25.5196\n",
            "Epoch 222/500\n",
            "2/2 [==============================] - 0s 7ms/step - loss: 701.4567 - mae: 21.9611\n",
            "Epoch 223/500\n",
            "2/2 [==============================] - 0s 7ms/step - loss: 836.9614 - mae: 22.8683\n",
            "Epoch 224/500\n",
            "2/2 [==============================] - 0s 7ms/step - loss: 649.1401 - mae: 21.0391\n",
            "Epoch 225/500\n",
            "2/2 [==============================] - 0s 7ms/step - loss: 776.0007 - mae: 22.4503\n",
            "Epoch 226/500\n",
            "2/2 [==============================] - 0s 7ms/step - loss: 719.5687 - mae: 21.6479\n",
            "Epoch 227/500\n",
            "2/2 [==============================] - 0s 7ms/step - loss: 617.6288 - mae: 20.6966\n",
            "Epoch 228/500\n",
            "2/2 [==============================] - 0s 7ms/step - loss: 624.1544 - mae: 20.6004\n",
            "Epoch 229/500\n",
            "2/2 [==============================] - 0s 7ms/step - loss: 632.8747 - mae: 20.8102\n",
            "Epoch 230/500\n",
            "2/2 [==============================] - 0s 8ms/step - loss: 656.6818 - mae: 20.9945\n",
            "Epoch 231/500\n",
            "2/2 [==============================] - 0s 8ms/step - loss: 611.7251 - mae: 20.5503\n",
            "Epoch 232/500\n",
            "2/2 [==============================] - 0s 7ms/step - loss: 634.6840 - mae: 20.8507\n",
            "Epoch 233/500\n",
            "2/2 [==============================] - 0s 8ms/step - loss: 689.3292 - mae: 22.0557\n",
            "Epoch 234/500\n",
            "2/2 [==============================] - 0s 8ms/step - loss: 614.6678 - mae: 20.5640\n",
            "Epoch 235/500\n",
            "2/2 [==============================] - 0s 7ms/step - loss: 636.7299 - mae: 20.7842\n",
            "Epoch 236/500\n",
            "2/2 [==============================] - 0s 7ms/step - loss: 620.2101 - mae: 20.6575\n",
            "Epoch 237/500\n",
            "2/2 [==============================] - 0s 8ms/step - loss: 727.7345 - mae: 22.1403\n",
            "Epoch 238/500\n",
            "2/2 [==============================] - 0s 8ms/step - loss: 616.7686 - mae: 20.4666\n",
            "Epoch 239/500\n",
            "2/2 [==============================] - 0s 8ms/step - loss: 614.8757 - mae: 20.6221\n",
            "Epoch 240/500\n",
            "2/2 [==============================] - 0s 7ms/step - loss: 630.5730 - mae: 20.8580\n",
            "Epoch 241/500\n",
            "2/2 [==============================] - 0s 8ms/step - loss: 617.9100 - mae: 20.4851\n",
            "Epoch 242/500\n",
            "2/2 [==============================] - 0s 8ms/step - loss: 663.6719 - mae: 21.5769\n",
            "Epoch 243/500\n",
            "2/2 [==============================] - 0s 10ms/step - loss: 619.0732 - mae: 20.6833\n",
            "Epoch 244/500\n",
            "2/2 [==============================] - 0s 7ms/step - loss: 694.3387 - mae: 21.5583\n",
            "Epoch 245/500\n",
            "2/2 [==============================] - 0s 7ms/step - loss: 636.3846 - mae: 21.0777\n",
            "Epoch 246/500\n",
            "2/2 [==============================] - 0s 7ms/step - loss: 616.8351 - mae: 20.4980\n",
            "Epoch 247/500\n",
            "2/2 [==============================] - 0s 7ms/step - loss: 638.5029 - mae: 20.7421\n",
            "Epoch 248/500\n",
            "2/2 [==============================] - 0s 8ms/step - loss: 718.8760 - mae: 22.2164\n",
            "Epoch 249/500\n",
            "2/2 [==============================] - 0s 7ms/step - loss: 644.0344 - mae: 20.6338\n",
            "Epoch 250/500\n",
            "2/2 [==============================] - 0s 8ms/step - loss: 628.6088 - mae: 20.6510\n",
            "Epoch 251/500\n",
            "2/2 [==============================] - 0s 8ms/step - loss: 681.1847 - mae: 21.3252\n",
            "Epoch 252/500\n",
            "2/2 [==============================] - 0s 7ms/step - loss: 925.0927 - mae: 24.5667\n",
            "Epoch 253/500\n",
            "2/2 [==============================] - 0s 7ms/step - loss: 619.2883 - mae: 20.5105\n",
            "Epoch 254/500\n",
            "2/2 [==============================] - 0s 7ms/step - loss: 616.6122 - mae: 20.5986\n",
            "Epoch 255/500\n",
            "2/2 [==============================] - 0s 7ms/step - loss: 666.4821 - mae: 21.1587\n",
            "Epoch 256/500\n",
            "2/2 [==============================] - 0s 7ms/step - loss: 646.5792 - mae: 20.8381\n",
            "Epoch 257/500\n",
            "2/2 [==============================] - 0s 7ms/step - loss: 646.1103 - mae: 20.6787\n",
            "Epoch 258/500\n",
            "2/2 [==============================] - 0s 10ms/step - loss: 621.6820 - mae: 20.6252\n",
            "Epoch 259/500\n",
            "2/2 [==============================] - 0s 9ms/step - loss: 722.4108 - mae: 22.1799\n",
            "Epoch 260/500\n",
            "2/2 [==============================] - 0s 9ms/step - loss: 916.0155 - mae: 24.0260\n",
            "Epoch 261/500\n",
            "2/2 [==============================] - 0s 7ms/step - loss: 615.1066 - mae: 20.4716\n",
            "Epoch 262/500\n",
            "2/2 [==============================] - 0s 7ms/step - loss: 611.9674 - mae: 20.5520\n",
            "Epoch 263/500\n",
            "2/2 [==============================] - 0s 7ms/step - loss: 629.2211 - mae: 20.6478\n",
            "Epoch 264/500\n",
            "2/2 [==============================] - 0s 9ms/step - loss: 626.0910 - mae: 20.7110\n",
            "Epoch 265/500\n",
            "2/2 [==============================] - 0s 8ms/step - loss: 665.1155 - mae: 20.9989\n",
            "Epoch 266/500\n",
            "2/2 [==============================] - 0s 7ms/step - loss: 737.8219 - mae: 22.8784\n",
            "Epoch 267/500\n",
            "2/2 [==============================] - 0s 7ms/step - loss: 804.7047 - mae: 22.8151\n",
            "Epoch 268/500\n",
            "2/2 [==============================] - 0s 8ms/step - loss: 706.1165 - mae: 21.9722\n",
            "Epoch 269/500\n",
            "2/2 [==============================] - 0s 7ms/step - loss: 795.4250 - mae: 22.3735\n",
            "Epoch 270/500\n",
            "2/2 [==============================] - 0s 7ms/step - loss: 635.4442 - mae: 20.9713\n",
            "Epoch 271/500\n",
            "2/2 [==============================] - 0s 7ms/step - loss: 697.8700 - mae: 21.8106\n",
            "Epoch 272/500\n",
            "2/2 [==============================] - 0s 7ms/step - loss: 627.2127 - mae: 21.0601\n",
            "Epoch 273/500\n",
            "2/2 [==============================] - 0s 7ms/step - loss: 622.9428 - mae: 20.8273\n",
            "Epoch 274/500\n",
            "2/2 [==============================] - 0s 6ms/step - loss: 623.0284 - mae: 20.6343\n",
            "Epoch 275/500\n",
            "2/2 [==============================] - 0s 7ms/step - loss: 638.3033 - mae: 20.5710\n",
            "Epoch 276/500\n",
            "2/2 [==============================] - 0s 7ms/step - loss: 624.6014 - mae: 20.6704\n",
            "Epoch 277/500\n",
            "2/2 [==============================] - 0s 8ms/step - loss: 725.1274 - mae: 21.6599\n",
            "Epoch 278/500\n",
            "2/2 [==============================] - 0s 8ms/step - loss: 620.6567 - mae: 20.6225\n",
            "Epoch 279/500\n",
            "2/2 [==============================] - 0s 7ms/step - loss: 619.1340 - mae: 20.6874\n",
            "Epoch 280/500\n",
            "2/2 [==============================] - 0s 7ms/step - loss: 632.8386 - mae: 20.9167\n",
            "Epoch 281/500\n",
            "2/2 [==============================] - 0s 7ms/step - loss: 615.7963 - mae: 20.6263\n",
            "Epoch 282/500\n",
            "2/2 [==============================] - 0s 8ms/step - loss: 634.6479 - mae: 20.7347\n",
            "Epoch 283/500\n",
            "2/2 [==============================] - 0s 7ms/step - loss: 621.3265 - mae: 20.7777\n",
            "Epoch 284/500\n",
            "2/2 [==============================] - 0s 7ms/step - loss: 667.3687 - mae: 21.1880\n",
            "Epoch 285/500\n",
            "2/2 [==============================] - 0s 7ms/step - loss: 618.5726 - mae: 20.6039\n",
            "Epoch 286/500\n",
            "2/2 [==============================] - 0s 8ms/step - loss: 661.4897 - mae: 21.1197\n",
            "Epoch 287/500\n",
            "2/2 [==============================] - 0s 9ms/step - loss: 614.8024 - mae: 20.6444\n",
            "Epoch 288/500\n",
            "2/2 [==============================] - 0s 8ms/step - loss: 630.2855 - mae: 20.7524\n",
            "Epoch 289/500\n",
            "2/2 [==============================] - 0s 8ms/step - loss: 801.7920 - mae: 22.8315\n",
            "Epoch 290/500\n",
            "2/2 [==============================] - 0s 8ms/step - loss: 658.9155 - mae: 21.0969\n",
            "Epoch 291/500\n",
            "2/2 [==============================] - 0s 8ms/step - loss: 743.5030 - mae: 21.5196\n",
            "Epoch 292/500\n",
            "2/2 [==============================] - 0s 9ms/step - loss: 667.0000 - mae: 21.7307\n",
            "Epoch 293/500\n",
            "2/2 [==============================] - 0s 8ms/step - loss: 658.5450 - mae: 21.5550\n",
            "Epoch 294/500\n",
            "2/2 [==============================] - 0s 8ms/step - loss: 629.3794 - mae: 20.7776\n",
            "Epoch 295/500\n",
            "2/2 [==============================] - 0s 8ms/step - loss: 656.3711 - mae: 20.6456\n",
            "Epoch 296/500\n",
            "2/2 [==============================] - 0s 8ms/step - loss: 651.0008 - mae: 21.0064\n",
            "Epoch 297/500\n",
            "2/2 [==============================] - 0s 8ms/step - loss: 809.8438 - mae: 22.7144\n",
            "Epoch 298/500\n",
            "2/2 [==============================] - 0s 12ms/step - loss: 727.1166 - mae: 22.8910\n",
            "Epoch 299/500\n",
            "2/2 [==============================] - 0s 9ms/step - loss: 618.5707 - mae: 20.4947\n",
            "Epoch 300/500\n",
            "2/2 [==============================] - 0s 9ms/step - loss: 612.8951 - mae: 20.5441\n",
            "Epoch 301/500\n",
            "2/2 [==============================] - 0s 8ms/step - loss: 621.1440 - mae: 20.6211\n",
            "Epoch 302/500\n",
            "2/2 [==============================] - 0s 8ms/step - loss: 633.5052 - mae: 20.9119\n",
            "Epoch 303/500\n",
            "2/2 [==============================] - 0s 8ms/step - loss: 613.5077 - mae: 20.5840\n",
            "Epoch 304/500\n",
            "2/2 [==============================] - 0s 8ms/step - loss: 659.9711 - mae: 21.3821\n",
            "Epoch 305/500\n",
            "2/2 [==============================] - 0s 8ms/step - loss: 670.8869 - mae: 21.2742\n",
            "Epoch 306/500\n",
            "2/2 [==============================] - 0s 8ms/step - loss: 621.3777 - mae: 20.4370\n",
            "Epoch 307/500\n",
            "2/2 [==============================] - 0s 8ms/step - loss: 615.3960 - mae: 20.5395\n",
            "Epoch 308/500\n",
            "2/2 [==============================] - 0s 7ms/step - loss: 625.1966 - mae: 20.7009\n",
            "Epoch 309/500\n",
            "2/2 [==============================] - 0s 8ms/step - loss: 643.7692 - mae: 20.9896\n",
            "Epoch 310/500\n",
            "2/2 [==============================] - 0s 8ms/step - loss: 647.4793 - mae: 21.0176\n",
            "Epoch 311/500\n",
            "2/2 [==============================] - 0s 8ms/step - loss: 767.5516 - mae: 22.1227\n",
            "Epoch 312/500\n",
            "2/2 [==============================] - 0s 8ms/step - loss: 753.5457 - mae: 22.5063\n",
            "Epoch 313/500\n",
            "2/2 [==============================] - 0s 8ms/step - loss: 650.6907 - mae: 21.3471\n",
            "Epoch 314/500\n",
            "2/2 [==============================] - 0s 13ms/step - loss: 645.2100 - mae: 21.1009\n",
            "Epoch 315/500\n",
            "2/2 [==============================] - 0s 8ms/step - loss: 679.3696 - mae: 21.2401\n",
            "Epoch 316/500\n",
            "2/2 [==============================] - 0s 8ms/step - loss: 624.5756 - mae: 20.7121\n",
            "Epoch 317/500\n",
            "2/2 [==============================] - 0s 8ms/step - loss: 813.0332 - mae: 23.2029\n",
            "Epoch 318/500\n",
            "2/2 [==============================] - 0s 10ms/step - loss: 674.7918 - mae: 20.7920\n",
            "Epoch 319/500\n",
            "2/2 [==============================] - 0s 7ms/step - loss: 614.8701 - mae: 20.5633\n",
            "Epoch 320/500\n",
            "2/2 [==============================] - 0s 10ms/step - loss: 639.9104 - mae: 20.9485\n",
            "Epoch 321/500\n",
            "2/2 [==============================] - 0s 8ms/step - loss: 624.5293 - mae: 20.6088\n",
            "Epoch 322/500\n",
            "2/2 [==============================] - 0s 8ms/step - loss: 628.0708 - mae: 20.7948\n",
            "Epoch 323/500\n",
            "2/2 [==============================] - 0s 8ms/step - loss: 611.1115 - mae: 20.5079\n",
            "Epoch 324/500\n",
            "2/2 [==============================] - 0s 7ms/step - loss: 615.0806 - mae: 20.5258\n",
            "Epoch 325/500\n",
            "2/2 [==============================] - 0s 7ms/step - loss: 615.6484 - mae: 20.6394\n",
            "Epoch 326/500\n",
            "2/2 [==============================] - 0s 7ms/step - loss: 643.6718 - mae: 20.9187\n",
            "Epoch 327/500\n",
            "2/2 [==============================] - 0s 8ms/step - loss: 628.8446 - mae: 20.6638\n",
            "Epoch 328/500\n",
            "2/2 [==============================] - 0s 8ms/step - loss: 738.3364 - mae: 22.2666\n",
            "Epoch 329/500\n",
            "2/2 [==============================] - 0s 11ms/step - loss: 616.0200 - mae: 20.5291\n",
            "Epoch 330/500\n",
            "2/2 [==============================] - 0s 8ms/step - loss: 620.8182 - mae: 20.7245\n",
            "Epoch 331/500\n",
            "2/2 [==============================] - 0s 7ms/step - loss: 689.5458 - mae: 21.9928\n",
            "Epoch 332/500\n",
            "2/2 [==============================] - 0s 8ms/step - loss: 619.8029 - mae: 20.6292\n",
            "Epoch 333/500\n",
            "2/2 [==============================] - 0s 8ms/step - loss: 667.8112 - mae: 21.3644\n",
            "Epoch 334/500\n",
            "2/2 [==============================] - 0s 8ms/step - loss: 663.7707 - mae: 21.4807\n",
            "Epoch 335/500\n",
            "2/2 [==============================] - 0s 7ms/step - loss: 629.1371 - mae: 20.7543\n",
            "Epoch 336/500\n",
            "2/2 [==============================] - 0s 7ms/step - loss: 854.4279 - mae: 24.4954\n",
            "Epoch 337/500\n",
            "2/2 [==============================] - 0s 7ms/step - loss: 678.1951 - mae: 21.3078\n",
            "Epoch 338/500\n",
            "2/2 [==============================] - 0s 8ms/step - loss: 745.2520 - mae: 22.9800\n",
            "Epoch 339/500\n",
            "2/2 [==============================] - 0s 8ms/step - loss: 811.3328 - mae: 23.1255\n",
            "Epoch 340/500\n",
            "2/2 [==============================] - 0s 7ms/step - loss: 627.6395 - mae: 20.9997\n",
            "Epoch 341/500\n",
            "2/2 [==============================] - 0s 7ms/step - loss: 625.8834 - mae: 20.4871\n",
            "Epoch 342/500\n",
            "2/2 [==============================] - 0s 8ms/step - loss: 707.0013 - mae: 22.1066\n",
            "Epoch 343/500\n",
            "2/2 [==============================] - 0s 9ms/step - loss: 714.6964 - mae: 22.0818\n",
            "Epoch 344/500\n",
            "2/2 [==============================] - 0s 8ms/step - loss: 685.5553 - mae: 20.9872\n",
            "Epoch 345/500\n",
            "2/2 [==============================] - 0s 8ms/step - loss: 696.2294 - mae: 21.5957\n",
            "Epoch 346/500\n",
            "2/2 [==============================] - 0s 9ms/step - loss: 620.0248 - mae: 20.5660\n",
            "Epoch 347/500\n",
            "2/2 [==============================] - 0s 8ms/step - loss: 692.4700 - mae: 21.4805\n",
            "Epoch 348/500\n",
            "2/2 [==============================] - 0s 8ms/step - loss: 626.7554 - mae: 20.7449\n",
            "Epoch 349/500\n",
            "2/2 [==============================] - 0s 8ms/step - loss: 658.0144 - mae: 21.1266\n",
            "Epoch 350/500\n",
            "2/2 [==============================] - 0s 8ms/step - loss: 616.3643 - mae: 20.6228\n",
            "Epoch 351/500\n",
            "2/2 [==============================] - 0s 8ms/step - loss: 640.8719 - mae: 20.5670\n",
            "Epoch 352/500\n",
            "2/2 [==============================] - 0s 8ms/step - loss: 710.4794 - mae: 22.5667\n",
            "Epoch 353/500\n",
            "2/2 [==============================] - 0s 7ms/step - loss: 614.1823 - mae: 20.5393\n",
            "Epoch 354/500\n",
            "2/2 [==============================] - 0s 7ms/step - loss: 624.8134 - mae: 20.6945\n",
            "Epoch 355/500\n",
            "2/2 [==============================] - 0s 8ms/step - loss: 746.7194 - mae: 22.1143\n",
            "Epoch 356/500\n",
            "2/2 [==============================] - 0s 7ms/step - loss: 615.4489 - mae: 20.5386\n",
            "Epoch 357/500\n",
            "2/2 [==============================] - 0s 8ms/step - loss: 651.3798 - mae: 21.2176\n",
            "Epoch 358/500\n",
            "2/2 [==============================] - 0s 8ms/step - loss: 646.0658 - mae: 20.5708\n",
            "Epoch 359/500\n",
            "2/2 [==============================] - 0s 7ms/step - loss: 629.9642 - mae: 20.9293\n",
            "Epoch 360/500\n",
            "2/2 [==============================] - 0s 7ms/step - loss: 619.2051 - mae: 20.6380\n",
            "Epoch 361/500\n",
            "2/2 [==============================] - 0s 7ms/step - loss: 676.3386 - mae: 21.8857\n",
            "Epoch 362/500\n",
            "2/2 [==============================] - 0s 7ms/step - loss: 620.3583 - mae: 20.6111\n",
            "Epoch 363/500\n",
            "2/2 [==============================] - 0s 7ms/step - loss: 810.4581 - mae: 23.6963\n",
            "Epoch 364/500\n",
            "2/2 [==============================] - 0s 10ms/step - loss: 878.9372 - mae: 23.7304\n",
            "Epoch 365/500\n",
            "2/2 [==============================] - 0s 8ms/step - loss: 614.8590 - mae: 20.5874\n",
            "Epoch 366/500\n",
            "2/2 [==============================] - 0s 11ms/step - loss: 627.4855 - mae: 20.8137\n",
            "Epoch 367/500\n",
            "2/2 [==============================] - 0s 8ms/step - loss: 680.4543 - mae: 21.3766\n",
            "Epoch 368/500\n",
            "2/2 [==============================] - 0s 7ms/step - loss: 717.6130 - mae: 21.7509\n",
            "Epoch 369/500\n",
            "2/2 [==============================] - 0s 8ms/step - loss: 615.6193 - mae: 20.4518\n",
            "Epoch 370/500\n",
            "2/2 [==============================] - 0s 8ms/step - loss: 617.4324 - mae: 20.6361\n",
            "Epoch 371/500\n",
            "2/2 [==============================] - 0s 8ms/step - loss: 628.5262 - mae: 20.5987\n",
            "Epoch 372/500\n",
            "2/2 [==============================] - 0s 8ms/step - loss: 653.1807 - mae: 20.9533\n",
            "Epoch 373/500\n",
            "2/2 [==============================] - 0s 7ms/step - loss: 636.3334 - mae: 20.9212\n",
            "Epoch 374/500\n",
            "2/2 [==============================] - 0s 7ms/step - loss: 765.9515 - mae: 22.7794\n",
            "Epoch 375/500\n",
            "2/2 [==============================] - 0s 8ms/step - loss: 679.9977 - mae: 21.2663\n",
            "Epoch 376/500\n",
            "2/2 [==============================] - 0s 7ms/step - loss: 622.6581 - mae: 20.7116\n",
            "Epoch 377/500\n",
            "2/2 [==============================] - 0s 7ms/step - loss: 661.3013 - mae: 21.1468\n",
            "Epoch 378/500\n",
            "2/2 [==============================] - 0s 10ms/step - loss: 620.0544 - mae: 20.5357\n",
            "Epoch 379/500\n",
            "2/2 [==============================] - 0s 13ms/step - loss: 743.1605 - mae: 22.2189\n",
            "Epoch 380/500\n",
            "2/2 [==============================] - 0s 12ms/step - loss: 768.7527 - mae: 22.7751\n",
            "Epoch 381/500\n",
            "2/2 [==============================] - 0s 7ms/step - loss: 640.2235 - mae: 20.9288\n",
            "Epoch 382/500\n",
            "2/2 [==============================] - 0s 7ms/step - loss: 623.1666 - mae: 20.8032\n",
            "Epoch 383/500\n",
            "2/2 [==============================] - 0s 8ms/step - loss: 718.1818 - mae: 22.6270\n",
            "Epoch 384/500\n",
            "2/2 [==============================] - 0s 7ms/step - loss: 854.3566 - mae: 24.0232\n",
            "Epoch 385/500\n",
            "2/2 [==============================] - 0s 6ms/step - loss: 707.1901 - mae: 21.7144\n",
            "Epoch 386/500\n",
            "2/2 [==============================] - 0s 7ms/step - loss: 652.6234 - mae: 21.4419\n",
            "Epoch 387/500\n",
            "2/2 [==============================] - 0s 7ms/step - loss: 612.7152 - mae: 20.5290\n",
            "Epoch 388/500\n",
            "2/2 [==============================] - 0s 7ms/step - loss: 622.4299 - mae: 20.5961\n",
            "Epoch 389/500\n",
            "2/2 [==============================] - 0s 7ms/step - loss: 612.1260 - mae: 20.5432\n",
            "Epoch 390/500\n",
            "2/2 [==============================] - 0s 7ms/step - loss: 619.1564 - mae: 20.5552\n",
            "Epoch 391/500\n",
            "2/2 [==============================] - 0s 8ms/step - loss: 629.4106 - mae: 20.8663\n",
            "Epoch 392/500\n",
            "2/2 [==============================] - 0s 7ms/step - loss: 614.6400 - mae: 20.5244\n",
            "Epoch 393/500\n",
            "2/2 [==============================] - 0s 7ms/step - loss: 646.8148 - mae: 21.1865\n",
            "Epoch 394/500\n",
            "2/2 [==============================] - 0s 7ms/step - loss: 615.7984 - mae: 20.5660\n",
            "Epoch 395/500\n",
            "2/2 [==============================] - 0s 7ms/step - loss: 684.6670 - mae: 21.5356\n",
            "Epoch 396/500\n",
            "2/2 [==============================] - 0s 7ms/step - loss: 627.8868 - mae: 20.5773\n",
            "Epoch 397/500\n",
            "2/2 [==============================] - 0s 7ms/step - loss: 612.6890 - mae: 20.5262\n",
            "Epoch 398/500\n",
            "2/2 [==============================] - 0s 6ms/step - loss: 627.8642 - mae: 20.5399\n",
            "Epoch 399/500\n",
            "2/2 [==============================] - 0s 7ms/step - loss: 613.6622 - mae: 20.4808\n",
            "Epoch 400/500\n",
            "2/2 [==============================] - 0s 8ms/step - loss: 619.7050 - mae: 20.6152\n",
            "Epoch 401/500\n",
            "2/2 [==============================] - 0s 7ms/step - loss: 717.3517 - mae: 22.1404\n",
            "Epoch 402/500\n",
            "2/2 [==============================] - 0s 10ms/step - loss: 612.9211 - mae: 20.5397\n",
            "Epoch 403/500\n",
            "2/2 [==============================] - 0s 7ms/step - loss: 615.0967 - mae: 20.4614\n",
            "Epoch 404/500\n",
            "2/2 [==============================] - 0s 7ms/step - loss: 622.4728 - mae: 20.6677\n",
            "Epoch 405/500\n",
            "2/2 [==============================] - 0s 7ms/step - loss: 621.2952 - mae: 20.6798\n",
            "Epoch 406/500\n",
            "2/2 [==============================] - 0s 7ms/step - loss: 622.0347 - mae: 20.5275\n",
            "Epoch 407/500\n",
            "2/2 [==============================] - 0s 7ms/step - loss: 648.1381 - mae: 20.6102\n",
            "Epoch 408/500\n",
            "2/2 [==============================] - 0s 6ms/step - loss: 622.9178 - mae: 20.6597\n",
            "Epoch 409/500\n",
            "2/2 [==============================] - 0s 6ms/step - loss: 621.7506 - mae: 20.6474\n",
            "Epoch 410/500\n",
            "2/2 [==============================] - 0s 6ms/step - loss: 736.3748 - mae: 21.9232\n",
            "Epoch 411/500\n",
            "2/2 [==============================] - 0s 6ms/step - loss: 619.3658 - mae: 20.7059\n",
            "Epoch 412/500\n",
            "2/2 [==============================] - 0s 6ms/step - loss: 652.9960 - mae: 20.9379\n",
            "Epoch 413/500\n",
            "2/2 [==============================] - 0s 7ms/step - loss: 666.9448 - mae: 21.0922\n",
            "Epoch 414/500\n",
            "2/2 [==============================] - 0s 7ms/step - loss: 615.5800 - mae: 20.6007\n",
            "Epoch 415/500\n",
            "2/2 [==============================] - 0s 7ms/step - loss: 639.1945 - mae: 20.7633\n",
            "Epoch 416/500\n",
            "2/2 [==============================] - 0s 6ms/step - loss: 711.1791 - mae: 21.9628\n",
            "Epoch 417/500\n",
            "2/2 [==============================] - 0s 7ms/step - loss: 622.7106 - mae: 20.6465\n",
            "Epoch 418/500\n",
            "2/2 [==============================] - 0s 6ms/step - loss: 734.5261 - mae: 21.1655\n",
            "Epoch 419/500\n",
            "2/2 [==============================] - 0s 6ms/step - loss: 637.2574 - mae: 20.8342\n",
            "Epoch 420/500\n",
            "2/2 [==============================] - 0s 7ms/step - loss: 695.9384 - mae: 21.6787\n",
            "Epoch 421/500\n",
            "2/2 [==============================] - 0s 8ms/step - loss: 611.0770 - mae: 20.5069\n",
            "Epoch 422/500\n",
            "2/2 [==============================] - 0s 7ms/step - loss: 616.3254 - mae: 20.5825\n",
            "Epoch 423/500\n",
            "2/2 [==============================] - 0s 7ms/step - loss: 631.1851 - mae: 20.5816\n",
            "Epoch 424/500\n",
            "2/2 [==============================] - 0s 7ms/step - loss: 627.3693 - mae: 20.9479\n",
            "Epoch 425/500\n",
            "2/2 [==============================] - 0s 7ms/step - loss: 615.8826 - mae: 20.6637\n",
            "Epoch 426/500\n",
            "2/2 [==============================] - 0s 7ms/step - loss: 624.2322 - mae: 20.9534\n",
            "Epoch 427/500\n",
            "2/2 [==============================] - 0s 8ms/step - loss: 627.6932 - mae: 20.7947\n",
            "Epoch 428/500\n",
            "2/2 [==============================] - 0s 7ms/step - loss: 619.0389 - mae: 20.5104\n",
            "Epoch 429/500\n",
            "2/2 [==============================] - 0s 8ms/step - loss: 695.5864 - mae: 21.8414\n",
            "Epoch 430/500\n",
            "2/2 [==============================] - 0s 7ms/step - loss: 661.0701 - mae: 21.4123\n",
            "Epoch 431/500\n",
            "2/2 [==============================] - 0s 7ms/step - loss: 687.2620 - mae: 21.3291\n",
            "Epoch 432/500\n",
            "2/2 [==============================] - 0s 7ms/step - loss: 657.6487 - mae: 21.0414\n",
            "Epoch 433/500\n",
            "2/2 [==============================] - 0s 7ms/step - loss: 680.9990 - mae: 21.7475\n",
            "Epoch 434/500\n",
            "2/2 [==============================] - 0s 7ms/step - loss: 757.0965 - mae: 22.9791\n",
            "Epoch 435/500\n",
            "2/2 [==============================] - 0s 8ms/step - loss: 628.3354 - mae: 20.7365\n",
            "Epoch 436/500\n",
            "2/2 [==============================] - 0s 8ms/step - loss: 653.9200 - mae: 20.7249\n",
            "Epoch 437/500\n",
            "2/2 [==============================] - 0s 7ms/step - loss: 986.8428 - mae: 26.0215\n",
            "Epoch 438/500\n",
            "2/2 [==============================] - 0s 11ms/step - loss: 678.3468 - mae: 21.2946\n",
            "Epoch 439/500\n",
            "2/2 [==============================] - 0s 7ms/step - loss: 863.9043 - mae: 22.8937\n",
            "Epoch 440/500\n",
            "2/2 [==============================] - 0s 7ms/step - loss: 624.3800 - mae: 20.9665\n",
            "Epoch 441/500\n",
            "2/2 [==============================] - 0s 9ms/step - loss: 666.0116 - mae: 20.9664\n",
            "Epoch 442/500\n",
            "2/2 [==============================] - 0s 7ms/step - loss: 620.4116 - mae: 20.6114\n",
            "Epoch 443/500\n",
            "2/2 [==============================] - 0s 7ms/step - loss: 617.7482 - mae: 20.8122\n",
            "Epoch 444/500\n",
            "2/2 [==============================] - 0s 9ms/step - loss: 619.5435 - mae: 20.6878\n",
            "Epoch 445/500\n",
            "2/2 [==============================] - 0s 6ms/step - loss: 690.8417 - mae: 21.3772\n",
            "Epoch 446/500\n",
            "2/2 [==============================] - 0s 9ms/step - loss: 616.3052 - mae: 20.4274\n",
            "Epoch 447/500\n",
            "2/2 [==============================] - 0s 7ms/step - loss: 609.2153 - mae: 20.4957\n",
            "Epoch 448/500\n",
            "2/2 [==============================] - 0s 7ms/step - loss: 826.3976 - mae: 23.7724\n",
            "Epoch 449/500\n",
            "2/2 [==============================] - 0s 7ms/step - loss: 652.3824 - mae: 21.3897\n",
            "Epoch 450/500\n",
            "2/2 [==============================] - 0s 7ms/step - loss: 621.5897 - mae: 20.6960\n",
            "Epoch 451/500\n",
            "2/2 [==============================] - 0s 8ms/step - loss: 637.4536 - mae: 21.1956\n",
            "Epoch 452/500\n",
            "2/2 [==============================] - 0s 8ms/step - loss: 784.6945 - mae: 22.6095\n",
            "Epoch 453/500\n",
            "2/2 [==============================] - 0s 7ms/step - loss: 650.1276 - mae: 21.1763\n",
            "Epoch 454/500\n",
            "2/2 [==============================] - 0s 8ms/step - loss: 820.7331 - mae: 23.7035\n",
            "Epoch 455/500\n",
            "2/2 [==============================] - 0s 9ms/step - loss: 622.9533 - mae: 20.7761\n",
            "Epoch 456/500\n",
            "2/2 [==============================] - 0s 8ms/step - loss: 696.6714 - mae: 21.5180\n",
            "Epoch 457/500\n",
            "2/2 [==============================] - 0s 7ms/step - loss: 613.1685 - mae: 20.5519\n",
            "Epoch 458/500\n",
            "2/2 [==============================] - 0s 7ms/step - loss: 625.2650 - mae: 20.6162\n",
            "Epoch 459/500\n",
            "2/2 [==============================] - 0s 7ms/step - loss: 625.3044 - mae: 20.2262\n",
            "Epoch 460/500\n",
            "2/2 [==============================] - 0s 7ms/step - loss: 614.8727 - mae: 20.4636\n",
            "Epoch 461/500\n",
            "2/2 [==============================] - 0s 7ms/step - loss: 666.5530 - mae: 20.9582\n",
            "Epoch 462/500\n",
            "2/2 [==============================] - 0s 7ms/step - loss: 649.7536 - mae: 20.7385\n",
            "Epoch 463/500\n",
            "2/2 [==============================] - 0s 7ms/step - loss: 730.4810 - mae: 21.9290\n",
            "Epoch 464/500\n",
            "2/2 [==============================] - 0s 8ms/step - loss: 619.2921 - mae: 20.7048\n",
            "Epoch 465/500\n",
            "2/2 [==============================] - 0s 7ms/step - loss: 708.9461 - mae: 22.5973\n",
            "Epoch 466/500\n",
            "2/2 [==============================] - 0s 7ms/step - loss: 624.3703 - mae: 20.5634\n",
            "Epoch 467/500\n",
            "2/2 [==============================] - 0s 8ms/step - loss: 634.7816 - mae: 20.9563\n",
            "Epoch 468/500\n",
            "2/2 [==============================] - 0s 7ms/step - loss: 630.1743 - mae: 20.8052\n",
            "Epoch 469/500\n",
            "2/2 [==============================] - 0s 8ms/step - loss: 779.5697 - mae: 22.1445\n",
            "Epoch 470/500\n",
            "2/2 [==============================] - 0s 8ms/step - loss: 654.9106 - mae: 21.2503\n",
            "Epoch 471/500\n",
            "2/2 [==============================] - 0s 7ms/step - loss: 685.9650 - mae: 21.3497\n",
            "Epoch 472/500\n",
            "2/2 [==============================] - 0s 7ms/step - loss: 904.9035 - mae: 24.4953\n",
            "Epoch 473/500\n",
            "2/2 [==============================] - 0s 7ms/step - loss: 625.3284 - mae: 20.7337\n",
            "Epoch 474/500\n",
            "2/2 [==============================] - 0s 8ms/step - loss: 748.7947 - mae: 21.7604\n",
            "Epoch 475/500\n",
            "2/2 [==============================] - 0s 8ms/step - loss: 658.6385 - mae: 21.3273\n",
            "Epoch 476/500\n",
            "2/2 [==============================] - 0s 7ms/step - loss: 663.7546 - mae: 20.5303\n",
            "Epoch 477/500\n",
            "2/2 [==============================] - 0s 11ms/step - loss: 713.6801 - mae: 22.1766\n",
            "Epoch 478/500\n",
            "2/2 [==============================] - 0s 7ms/step - loss: 619.1063 - mae: 20.7414\n",
            "Epoch 479/500\n",
            "2/2 [==============================] - 0s 7ms/step - loss: 650.2263 - mae: 21.2568\n",
            "Epoch 480/500\n",
            "2/2 [==============================] - 0s 8ms/step - loss: 615.1937 - mae: 20.5745\n",
            "Epoch 481/500\n",
            "2/2 [==============================] - 0s 7ms/step - loss: 653.0013 - mae: 20.9697\n",
            "Epoch 482/500\n",
            "2/2 [==============================] - 0s 7ms/step - loss: 616.7662 - mae: 20.5761\n",
            "Epoch 483/500\n",
            "2/2 [==============================] - 0s 8ms/step - loss: 655.5426 - mae: 21.0934\n",
            "Epoch 484/500\n",
            "2/2 [==============================] - 0s 13ms/step - loss: 724.1949 - mae: 22.3414\n",
            "Epoch 485/500\n",
            "2/2 [==============================] - 0s 8ms/step - loss: 620.9474 - mae: 20.5340\n",
            "Epoch 486/500\n",
            "2/2 [==============================] - 0s 9ms/step - loss: 660.5610 - mae: 21.2880\n",
            "Epoch 487/500\n",
            "2/2 [==============================] - 0s 9ms/step - loss: 767.0565 - mae: 22.1713\n",
            "Epoch 488/500\n",
            "2/2 [==============================] - 0s 7ms/step - loss: 711.8939 - mae: 21.7573\n",
            "Epoch 489/500\n",
            "2/2 [==============================] - 0s 7ms/step - loss: 735.5912 - mae: 22.2883\n",
            "Epoch 490/500\n",
            "2/2 [==============================] - 0s 7ms/step - loss: 678.8578 - mae: 21.5140\n",
            "Epoch 491/500\n",
            "2/2 [==============================] - 0s 7ms/step - loss: 642.4480 - mae: 20.7680\n",
            "Epoch 492/500\n",
            "2/2 [==============================] - 0s 13ms/step - loss: 612.4722 - mae: 20.5025\n",
            "Epoch 493/500\n",
            "2/2 [==============================] - 0s 8ms/step - loss: 615.2539 - mae: 20.5797\n",
            "Epoch 494/500\n",
            "2/2 [==============================] - 0s 7ms/step - loss: 663.0275 - mae: 20.9190\n",
            "Epoch 495/500\n",
            "2/2 [==============================] - 0s 7ms/step - loss: 722.2101 - mae: 22.3358\n",
            "Epoch 496/500\n",
            "2/2 [==============================] - 0s 7ms/step - loss: 700.4254 - mae: 21.3471\n",
            "Epoch 497/500\n",
            "2/2 [==============================] - 0s 7ms/step - loss: 643.8798 - mae: 21.0779\n",
            "Epoch 498/500\n",
            "2/2 [==============================] - 0s 7ms/step - loss: 616.6700 - mae: 20.5461\n",
            "Epoch 499/500\n",
            "2/2 [==============================] - 0s 6ms/step - loss: 629.1830 - mae: 20.7783\n",
            "Epoch 500/500\n",
            "2/2 [==============================] - 0s 7ms/step - loss: 758.0310 - mae: 23.1878\n"
          ]
        },
        {
          "output_type": "execute_result",
          "data": {
            "text/plain": [
              "<keras.callbacks.History at 0x7eca160d6440>"
            ]
          },
          "metadata": {},
          "execution_count": 311
        }
      ]
    },
    {
      "cell_type": "code",
      "source": [
        "y_pred3 = model3.predict(x=X_test)\n",
        "compare_train_test_pred(y_pred=y_pred3)"
      ],
      "metadata": {
        "colab": {
          "base_uri": "https://localhost:8080/",
          "height": 616
        },
        "id": "JPyK8TLP3Cpx",
        "outputId": "ef9b3909-a697-456f-988c-f6d9e381bb16"
      },
      "execution_count": 312,
      "outputs": [
        {
          "output_type": "stream",
          "name": "stdout",
          "text": [
            "1/1 [==============================] - 0s 120ms/step\n"
          ]
        },
        {
          "output_type": "display_data",
          "data": {
            "text/plain": [
              "<Figure size 1000x700 with 1 Axes>"
            ],
            "image/png": "[encoded data removed]"
          },
          "metadata": {}
        }
      ]
    },
    {
      "cell_type": "code",
      "source": [
        "mae3, mse3 = model_mae_mse(y_pred=y_pred3)\n",
        "mae3, mse3"
      ],
      "metadata": {
        "colab": {
          "base_uri": "https://localhost:8080/"
        },
        "id": "q2bNNPi33OWt",
        "outputId": "05f571e5-9a2d-4205-bc24-1c8d6466329b"
      },
      "execution_count": 313,
      "outputs": [
        {
          "output_type": "execute_result",
          "data": {
            "text/plain": [
              "(35.74558, 1409.7465)"
            ]
          },
          "metadata": {},
          "execution_count": 313
        }
      ]
    },
    {
      "cell_type": "markdown",
      "source": [
        "**Model 3 is overfit!**"
      ],
      "metadata": {
        "id": "Y4J52Juz3rq7"
      }
    },
    {
      "cell_type": "markdown",
      "source": [
        "### Comparing the Results of our Experiments"
      ],
      "metadata": {
        "id": "tthB_O863vAp"
      }
    },
    {
      "cell_type": "code",
      "source": [
        "# Create Data frame to easily compare results\n",
        "mod_results = [\n",
        "    ['model1', mae1, mse1],\n",
        "    ['model2', mae2, mse2],\n",
        "    ['model3', mae3, mse3]\n",
        "  ]\n",
        "model_results_df = pd.DataFrame(data=mod_results, columns=['Model', 'MAE', 'MSE'])\n",
        "model_results_df"
      ],
      "metadata": {
        "colab": {
          "base_uri": "https://localhost:8080/",
          "height": 143
        },
        "id": "5TYE8Hq8E1XC",
        "outputId": "e6b70967-bc12-4ac5-ae46-0722b51dec75"
      },
      "execution_count": 314,
      "outputs": [
        {
          "output_type": "execute_result",
          "data": {
            "text/plain": [
              "    Model        MAE          MSE\n",
              "0  model1  30.402811   934.571899\n",
              "1  model2  13.773933   190.150436\n",
              "2  model3  35.745579  1409.746460"
            ],
            "text/html": [
              "\n",
              "  <div id=\"df-b97c248a-b411-4c39-8a00-a9e85ca7b5d7\" class=\"colab-df-container\">\n",
              "    <div>\n",
              "<style scoped>\n",
              "    .dataframe tbody tr th:only-of-type {\n",
              "        vertical-align: middle;\n",
              "    }\n",
              "\n",
              "    .dataframe tbody tr th {\n",
              "        vertical-align: top;\n",
              "    }\n",
              "\n",
              "    .dataframe thead th {\n",
              "        text-align: right;\n",
              "    }\n",
              "</style>\n",
              "<table border=\"1\" class=\"dataframe\">\n",
              "  <thead>\n",
              "    <tr style=\"text-align: right;\">\n",
              "      <th></th>\n",
              "      <th>Model</th>\n",
              "      <th>MAE</th>\n",
              "      <th>MSE</th>\n",
              "    </tr>\n",
              "  </thead>\n",
              "  <tbody>\n",
              "    <tr>\n",
              "      <th>0</th>\n",
              "      <td>model1</td>\n",
              "      <td>30.402811</td>\n",
              "      <td>934.571899</td>\n",
              "    </tr>\n",
              "    <tr>\n",
              "      <th>1</th>\n",
              "      <td>model2</td>\n",
              "      <td>13.773933</td>\n",
              "      <td>190.150436</td>\n",
              "    </tr>\n",
              "    <tr>\n",
              "      <th>2</th>\n",
              "      <td>model3</td>\n",
              "      <td>35.745579</td>\n",
              "      <td>1409.746460</td>\n",
              "    </tr>\n",
              "  </tbody>\n",
              "</table>\n",
              "</div>\n",
              "    <div class=\"colab-df-buttons\">\n",
              "\n",
              "  <div class=\"colab-df-container\">\n",
              "    <button class=\"colab-df-convert\" onclick=\"convertToInteractive('df-b97c248a-b411-4c39-8a00-a9e85ca7b5d7')\"\n",
              "            title=\"Convert this dataframe to an interactive table.\"\n",
              "            style=\"display:none;\">\n",
              "\n",
              "  <svg xmlns=\"http://www.w3.org/2000/svg\" height=\"24px\" viewBox=\"0 -960 960 960\">\n",
              "    <path d=\"M120-120v-720h720v720H120Zm60-500h600v-160H180v160Zm220 220h160v-160H400v160Zm0 220h160v-160H400v160ZM180-400h160v-160H180v160Zm440 0h160v-160H620v160ZM180-180h160v-160H180v160Zm440 0h160v-160H620v160Z\"/>\n",
              "  </svg>\n",
              "    </button>\n",
              "\n",
              "  <style>\n",
              "    .colab-df-container {\n",
              "      display:flex;\n",
              "      gap: 12px;\n",
              "    }\n",
              "\n",
              "    .colab-df-convert {\n",
              "      background-color: #E8F0FE;\n",
              "      border: none;\n",
              "      border-radius: 50%;\n",
              "      cursor: pointer;\n",
              "      display: none;\n",
              "      fill: #1967D2;\n",
              "      height: 32px;\n",
              "      padding: 0 0 0 0;\n",
              "      width: 32px;\n",
              "    }\n",
              "\n",
              "    .colab-df-convert:hover {\n",
              "      background-color: #E2EBFA;\n",
              "      box-shadow: 0px 1px 2px rgba(60, 64, 67, 0.3), 0px 1px 3px 1px rgba(60, 64, 67, 0.15);\n",
              "      fill: #174EA6;\n",
              "    }\n",
              "\n",
              "    .colab-df-buttons div {\n",
              "      margin-bottom: 4px;\n",
              "    }\n",
              "\n",
              "    [theme=dark] .colab-df-convert {\n",
              "      background-color: #3B4455;\n",
              "      fill: #D2E3FC;\n",
              "    }\n",
              "\n",
              "    [theme=dark] .colab-df-convert:hover {\n",
              "      background-color: #434B5C;\n",
              "      box-shadow: 0px 1px 3px 1px rgba(0, 0, 0, 0.15);\n",
              "      filter: drop-shadow(0px 1px 2px rgba(0, 0, 0, 0.3));\n",
              "      fill: #FFFFFF;\n",
              "    }\n",
              "  </style>\n",
              "\n",
              "    <script>\n",
              "      const buttonEl =\n",
              "        document.querySelector('#df-b97c248a-b411-4c39-8a00-a9e85ca7b5d7 button.colab-df-convert');\n",
              "      buttonEl.style.display =\n",
              "        google.colab.kernel.accessAllowed ? 'block' : 'none';\n",
              "\n",
              "      async function convertToInteractive(key) {\n",
              "        const element = document.querySelector('#df-b97c248a-b411-4c39-8a00-a9e85ca7b5d7');\n",
              "        const dataTable =\n",
              "          await google.colab.kernel.invokeFunction('convertToInteractive',\n",
              "                                                    [key], {});\n",
              "        if (!dataTable) return;\n",
              "\n",
              "        const docLinkHtml = 'Like what you see? Visit the ' +\n",
              "          '<a target=\"_blank\" href=https://colab.research.google.com/notebooks/data_table.ipynb>data table notebook</a>'\n",
              "          + ' to learn more about interactive tables.';\n",
              "        element.innerHTML = '';\n",
              "        dataTable['output_type'] = 'display_data';\n",
              "        await google.colab.output.renderOutput(dataTable, element);\n",
              "        const docLink = document.createElement('div');\n",
              "        docLink.innerHTML = docLinkHtml;\n",
              "        element.appendChild(docLink);\n",
              "      }\n",
              "    </script>\n",
              "  </div>\n",
              "\n",
              "\n",
              "<div id=\"df-84b9b7a4-654e-4f35-869d-7f33f3ec0b38\">\n",
              "  <button class=\"colab-df-quickchart\" onclick=\"quickchart('df-84b9b7a4-654e-4f35-869d-7f33f3ec0b38')\"\n",
              "            title=\"Suggest charts.\"\n",
              "            style=\"display:none;\">\n",
              "\n",
              "<svg xmlns=\"http://www.w3.org/2000/svg\" height=\"24px\"viewBox=\"0 0 24 24\"\n",
              "     width=\"24px\">\n",
              "    <g>\n",
              "        <path d=\"M19 3H5c-1.1 0-2 .9-2 2v14c0 1.1.9 2 2 2h14c1.1 0 2-.9 2-2V5c0-1.1-.9-2-2-2zM9 17H7v-7h2v7zm4 0h-2V7h2v10zm4 0h-2v-4h2v4z\"/>\n",
              "    </g>\n",
              "</svg>\n",
              "  </button>\n",
              "\n",
              "<style>\n",
              "  .colab-df-quickchart {\n",
              "      --bg-color: #E8F0FE;\n",
              "      --fill-color: #1967D2;\n",
              "      --hover-bg-color: #E2EBFA;\n",
              "      --hover-fill-color: #174EA6;\n",
              "      --disabled-fill-color: #AAA;\n",
              "      --disabled-bg-color: #DDD;\n",
              "  }\n",
              "\n",
              "  [theme=dark] .colab-df-quickchart {\n",
              "      --bg-color: #3B4455;\n",
              "      --fill-color: #D2E3FC;\n",
              "      --hover-bg-color: #434B5C;\n",
              "      --hover-fill-color: #FFFFFF;\n",
              "      --disabled-bg-color: #3B4455;\n",
              "      --disabled-fill-color: #666;\n",
              "  }\n",
              "\n",
              "  .colab-df-quickchart {\n",
              "    background-color: var(--bg-color);\n",
              "    border: none;\n",
              "    border-radius: 50%;\n",
              "    cursor: pointer;\n",
              "    display: none;\n",
              "    fill: var(--fill-color);\n",
              "    height: 32px;\n",
              "    padding: 0;\n",
              "    width: 32px;\n",
              "  }\n",
              "\n",
              "  .colab-df-quickchart:hover {\n",
              "    background-color: var(--hover-bg-color);\n",
              "    box-shadow: 0 1px 2px rgba(60, 64, 67, 0.3), 0 1px 3px 1px rgba(60, 64, 67, 0.15);\n",
              "    fill: var(--button-hover-fill-color);\n",
              "  }\n",
              "\n",
              "  .colab-df-quickchart-complete:disabled,\n",
              "  .colab-df-quickchart-complete:disabled:hover {\n",
              "    background-color: var(--disabled-bg-color);\n",
              "    fill: var(--disabled-fill-color);\n",
              "    box-shadow: none;\n",
              "  }\n",
              "\n",
              "  .colab-df-spinner {\n",
              "    border: 2px solid var(--fill-color);\n",
              "    border-color: transparent;\n",
              "    border-bottom-color: var(--fill-color);\n",
              "    animation:\n",
              "      spin 1s steps(1) infinite;\n",
              "  }\n",
              "\n",
              "  @keyframes spin {\n",
              "    0% {\n",
              "      border-color: transparent;\n",
              "      border-bottom-color: var(--fill-color);\n",
              "      border-left-color: var(--fill-color);\n",
              "    }\n",
              "    20% {\n",
              "      border-color: transparent;\n",
              "      border-left-color: var(--fill-color);\n",
              "      border-top-color: var(--fill-color);\n",
              "    }\n",
              "    30% {\n",
              "      border-color: transparent;\n",
              "      border-left-color: var(--fill-color);\n",
              "      border-top-color: var(--fill-color);\n",
              "      border-right-color: var(--fill-color);\n",
              "    }\n",
              "    40% {\n",
              "      border-color: transparent;\n",
              "      border-right-color: var(--fill-color);\n",
              "      border-top-color: var(--fill-color);\n",
              "    }\n",
              "    60% {\n",
              "      border-color: transparent;\n",
              "      border-right-color: var(--fill-color);\n",
              "    }\n",
              "    80% {\n",
              "      border-color: transparent;\n",
              "      border-right-color: var(--fill-color);\n",
              "      border-bottom-color: var(--fill-color);\n",
              "    }\n",
              "    90% {\n",
              "      border-color: transparent;\n",
              "      border-bottom-color: var(--fill-color);\n",
              "    }\n",
              "  }\n",
              "</style>\n",
              "\n",
              "  <script>\n",
              "    async function quickchart(key) {\n",
              "      const quickchartButtonEl =\n",
              "        document.querySelector('#' + key + ' button');\n",
              "      quickchartButtonEl.disabled = true;  // To prevent multiple clicks.\n",
              "      quickchartButtonEl.classList.add('colab-df-spinner');\n",
              "      try {\n",
              "        const charts = await google.colab.kernel.invokeFunction(\n",
              "            'suggestCharts', [key], {});\n",
              "      } catch (error) {\n",
              "        console.error('Error during call to suggestCharts:', error);\n",
              "      }\n",
              "      quickchartButtonEl.classList.remove('colab-df-spinner');\n",
              "      quickchartButtonEl.classList.add('colab-df-quickchart-complete');\n",
              "    }\n",
              "    (() => {\n",
              "      let quickchartButtonEl =\n",
              "        document.querySelector('#df-84b9b7a4-654e-4f35-869d-7f33f3ec0b38 button');\n",
              "      quickchartButtonEl.style.display =\n",
              "        google.colab.kernel.accessAllowed ? 'block' : 'none';\n",
              "    })();\n",
              "  </script>\n",
              "</div>\n",
              "    </div>\n",
              "  </div>\n"
            ]
          },
          "metadata": {},
          "execution_count": 314
        }
      ]
    },
    {
      "cell_type": "code",
      "source": [
        "model2.summary()"
      ],
      "metadata": {
        "colab": {
          "base_uri": "https://localhost:8080/"
        },
        "id": "00qohnSiE76Y",
        "outputId": "46c5bd02-82ba-410b-e0d2-f6ccd00cbc50"
      },
      "execution_count": 315,
      "outputs": [
        {
          "output_type": "stream",
          "name": "stdout",
          "text": [
            "Model: \"sequential_60\"\n",
            "_________________________________________________________________\n",
            " Layer (type)                Output Shape              Param #   \n",
            "=================================================================\n",
            " dense_116 (Dense)           (None, 10)                20        \n",
            "                                                                 \n",
            " dense_117 (Dense)           (None, 1)                 11        \n",
            "                                                                 \n",
            "=================================================================\n",
            "Total params: 31\n",
            "Trainable params: 31\n",
            "Non-trainable params: 0\n",
            "_________________________________________________________________\n"
          ]
        }
      ]
    },
    {
      "cell_type": "markdown",
      "source": [
        "**NOTE**: Minimize time between experiments. May 1 small change, run and see results. Iterate quickly to find out what works and what doesn't <br><br>\n",
        "\n",
        "As you build more models, you'll want to look into using:\n",
        "- **Tensorboard** - Component of TF library to help track model experiment results\n",
        "- **Weights and Biases** - tool for tracking all kinds of ML experiments (plugs straight into TensorBoard"
      ],
      "metadata": {
        "id": "hkEef7GQKxGf"
      }
    },
    {
      "cell_type": "markdown",
      "source": [
        "### Save & Load Tensorflow Models\n",
        "\n",
        "2 Main formats:\n",
        "1. SavedModel format - Use if staying in TensorFlow environment\n",
        "2. HDF5 format  - Use if going outside of TensorFlow environment"
      ],
      "metadata": {
        "id": "Lz-5sme_E8AC"
      }
    },
    {
      "cell_type": "code",
      "source": [
        "# SavedModel format\n",
        "model2.save(\"model_2_SavedModel_Format\")"
      ],
      "metadata": {
        "id": "cVJVPYcrKvJA",
        "colab": {
          "base_uri": "https://localhost:8080/"
        },
        "outputId": "a96b2a87-6600-4ebe-b1d4-a12ab024bae5"
      },
      "execution_count": 316,
      "outputs": [
        {
          "output_type": "stream",
          "name": "stderr",
          "text": [
            "WARNING:absl:Found untraced functions such as _update_step_xla while saving (showing 1 of 1). These functions will not be directly callable after loading.\n"
          ]
        }
      ]
    },
    {
      "cell_type": "code",
      "source": [
        "# Save in HDF5 format\n",
        "model2.save(\"model_2_HTF5_format.h5\")"
      ],
      "metadata": {
        "id": "xexP1-YnE8Jz"
      },
      "execution_count": 317,
      "outputs": []
    },
    {
      "cell_type": "code",
      "source": [
        "# Load SavedModel\n",
        "loaded_model = tf.keras.models.load_model('/content/model_2_SavedModel_Format')\n",
        "\n",
        "# Show it loaded\n",
        "loaded_model.summary()"
      ],
      "metadata": {
        "id": "sboPzvG6E8Ou",
        "colab": {
          "base_uri": "https://localhost:8080/"
        },
        "outputId": "a3638caf-3ffe-4aac-ff2a-96bf0e1609d2"
      },
      "execution_count": 318,
      "outputs": [
        {
          "output_type": "stream",
          "name": "stdout",
          "text": [
            "Model: \"sequential_60\"\n",
            "_________________________________________________________________\n",
            " Layer (type)                Output Shape              Param #   \n",
            "=================================================================\n",
            " dense_116 (Dense)           (None, 10)                20        \n",
            "                                                                 \n",
            " dense_117 (Dense)           (None, 1)                 11        \n",
            "                                                                 \n",
            "=================================================================\n",
            "Total params: 31\n",
            "Trainable params: 31\n",
            "Non-trainable params: 0\n",
            "_________________________________________________________________\n"
          ]
        }
      ]
    },
    {
      "cell_type": "code",
      "source": [
        "# show the predictions are the same for model2 as for loaded model\n",
        "y_pred_loaded = loaded_model.predict(x=X_test)\n",
        "y_pred_loaded == y_pred2"
      ],
      "metadata": {
        "colab": {
          "base_uri": "https://localhost:8080/"
        },
        "id": "zkDFtWaVJ8YS",
        "outputId": "a13fe3e4-7f5e-480b-a1ce-d005f2ba5547"
      },
      "execution_count": 319,
      "outputs": [
        {
          "output_type": "stream",
          "name": "stdout",
          "text": [
            "1/1 [==============================] - 0s 107ms/step\n"
          ]
        },
        {
          "output_type": "execute_result",
          "data": {
            "text/plain": [
              "array([[ True],\n",
              "       [ True],\n",
              "       [ True],\n",
              "       [ True],\n",
              "       [ True],\n",
              "       [ True],\n",
              "       [ True],\n",
              "       [ True],\n",
              "       [ True],\n",
              "       [ True]])"
            ]
          },
          "metadata": {},
          "execution_count": 319
        }
      ]
    },
    {
      "cell_type": "code",
      "source": [
        "# Load in model usign .h5 model\n",
        "loaded_model_h5 = tf.keras.models.load_model('/content/model_2_HTF5_format.h5')\n",
        "test_load_pred = loaded_model_h5.predict(x=X_test)\n",
        "test_load_pred == y_pred2"
      ],
      "metadata": {
        "colab": {
          "base_uri": "https://localhost:8080/"
        },
        "id": "_P80p_XrK1aQ",
        "outputId": "c1e0e549-10d3-4cec-d5a5-9f923efb95c4"
      },
      "execution_count": 320,
      "outputs": [
        {
          "output_type": "stream",
          "name": "stdout",
          "text": [
            "1/1 [==============================] - 0s 84ms/step\n"
          ]
        },
        {
          "output_type": "execute_result",
          "data": {
            "text/plain": [
              "array([[ True],\n",
              "       [ True],\n",
              "       [ True],\n",
              "       [ True],\n",
              "       [ True],\n",
              "       [ True],\n",
              "       [ True],\n",
              "       [ True],\n",
              "       [ True],\n",
              "       [ True]])"
            ]
          },
          "metadata": {},
          "execution_count": 320
        }
      ]
    },
    {
      "cell_type": "markdown",
      "source": [
        "Quick side tangent - how to download files in Google colab using code (not sure why I wouldn't just right click and download, but fun to know!)"
      ],
      "metadata": {
        "id": "1q3W370jE8WO"
      }
    },
    {
      "cell_type": "code",
      "source": [
        "from google.colab import files\n",
        "# files.download('/content/model.png')"
      ],
      "metadata": {
        "id": "GJ30FjQBFKfa"
      },
      "execution_count": 321,
      "outputs": []
    },
    {
      "cell_type": "markdown",
      "source": [
        "### Putting it Together"
      ],
      "metadata": {
        "id": "9jlNdYS2FQ2s"
      }
    },
    {
      "cell_type": "markdown",
      "source": [
        "###### Part 1: preparing a\n",
        "*Medical Charge Dataset* - Predict charges based on age, sex, bmi, children, smoker, region"
      ],
      "metadata": {
        "id": "NTtufGOyLWlT"
      }
    },
    {
      "cell_type": "code",
      "source": [
        "# Import dataset\n",
        "df = pd.read_csv('https://raw.githubusercontent.com/stedy/Machine-Learning-with-R-datasets/master/insurance.csv')\n",
        "df.head()"
      ],
      "metadata": {
        "id": "44hbwEu_LZGr",
        "colab": {
          "base_uri": "https://localhost:8080/",
          "height": 206
        },
        "outputId": "8f56a37d-ea0a-438a-c9d9-a3004d2ccbf8"
      },
      "execution_count": 322,
      "outputs": [
        {
          "output_type": "execute_result",
          "data": {
            "text/plain": [
              "   age     sex     bmi  children smoker     region      charges\n",
              "0   19  female  27.900         0    yes  southwest  16884.92400\n",
              "1   18    male  33.770         1     no  southeast   1725.55230\n",
              "2   28    male  33.000         3     no  southeast   4449.46200\n",
              "3   33    male  22.705         0     no  northwest  21984.47061\n",
              "4   32    male  28.880         0     no  northwest   3866.85520"
            ],
            "text/html": [
              "\n",
              "  <div id=\"df-f0a7f735-0db6-4868-bfae-c9622dfab9a1\" class=\"colab-df-container\">\n",
              "    <div>\n",
              "<style scoped>\n",
              "    .dataframe tbody tr th:only-of-type {\n",
              "        vertical-align: middle;\n",
              "    }\n",
              "\n",
              "    .dataframe tbody tr th {\n",
              "        vertical-align: top;\n",
              "    }\n",
              "\n",
              "    .dataframe thead th {\n",
              "        text-align: right;\n",
              "    }\n",
              "</style>\n",
              "<table border=\"1\" class=\"dataframe\">\n",
              "  <thead>\n",
              "    <tr style=\"text-align: right;\">\n",
              "      <th></th>\n",
              "      <th>age</th>\n",
              "      <th>sex</th>\n",
              "      <th>bmi</th>\n",
              "      <th>children</th>\n",
              "      <th>smoker</th>\n",
              "      <th>region</th>\n",
              "      <th>charges</th>\n",
              "    </tr>\n",
              "  </thead>\n",
              "  <tbody>\n",
              "    <tr>\n",
              "      <th>0</th>\n",
              "      <td>19</td>\n",
              "      <td>female</td>\n",
              "      <td>27.900</td>\n",
              "      <td>0</td>\n",
              "      <td>yes</td>\n",
              "      <td>southwest</td>\n",
              "      <td>16884.92400</td>\n",
              "    </tr>\n",
              "    <tr>\n",
              "      <th>1</th>\n",
              "      <td>18</td>\n",
              "      <td>male</td>\n",
              "      <td>33.770</td>\n",
              "      <td>1</td>\n",
              "      <td>no</td>\n",
              "      <td>southeast</td>\n",
              "      <td>1725.55230</td>\n",
              "    </tr>\n",
              "    <tr>\n",
              "      <th>2</th>\n",
              "      <td>28</td>\n",
              "      <td>male</td>\n",
              "      <td>33.000</td>\n",
              "      <td>3</td>\n",
              "      <td>no</td>\n",
              "      <td>southeast</td>\n",
              "      <td>4449.46200</td>\n",
              "    </tr>\n",
              "    <tr>\n",
              "      <th>3</th>\n",
              "      <td>33</td>\n",
              "      <td>male</td>\n",
              "      <td>22.705</td>\n",
              "      <td>0</td>\n",
              "      <td>no</td>\n",
              "      <td>northwest</td>\n",
              "      <td>21984.47061</td>\n",
              "    </tr>\n",
              "    <tr>\n",
              "      <th>4</th>\n",
              "      <td>32</td>\n",
              "      <td>male</td>\n",
              "      <td>28.880</td>\n",
              "      <td>0</td>\n",
              "      <td>no</td>\n",
              "      <td>northwest</td>\n",
              "      <td>3866.85520</td>\n",
              "    </tr>\n",
              "  </tbody>\n",
              "</table>\n",
              "</div>\n",
              "    <div class=\"colab-df-buttons\">\n",
              "\n",
              "  <div class=\"colab-df-container\">\n",
              "    <button class=\"colab-df-convert\" onclick=\"convertToInteractive('df-f0a7f735-0db6-4868-bfae-c9622dfab9a1')\"\n",
              "            title=\"Convert this dataframe to an interactive table.\"\n",
              "            style=\"display:none;\">\n",
              "\n",
              "  <svg xmlns=\"http://www.w3.org/2000/svg\" height=\"24px\" viewBox=\"0 -960 960 960\">\n",
              "    <path d=\"M120-120v-720h720v720H120Zm60-500h600v-160H180v160Zm220 220h160v-160H400v160Zm0 220h160v-160H400v160ZM180-400h160v-160H180v160Zm440 0h160v-160H620v160ZM180-180h160v-160H180v160Zm440 0h160v-160H620v160Z\"/>\n",
              "  </svg>\n",
              "    </button>\n",
              "\n",
              "  <style>\n",
              "    .colab-df-container {\n",
              "      display:flex;\n",
              "      gap: 12px;\n",
              "    }\n",
              "\n",
              "    .colab-df-convert {\n",
              "      background-color: #E8F0FE;\n",
              "      border: none;\n",
              "      border-radius: 50%;\n",
              "      cursor: pointer;\n",
              "      display: none;\n",
              "      fill: #1967D2;\n",
              "      height: 32px;\n",
              "      padding: 0 0 0 0;\n",
              "      width: 32px;\n",
              "    }\n",
              "\n",
              "    .colab-df-convert:hover {\n",
              "      background-color: #E2EBFA;\n",
              "      box-shadow: 0px 1px 2px rgba(60, 64, 67, 0.3), 0px 1px 3px 1px rgba(60, 64, 67, 0.15);\n",
              "      fill: #174EA6;\n",
              "    }\n",
              "\n",
              "    .colab-df-buttons div {\n",
              "      margin-bottom: 4px;\n",
              "    }\n",
              "\n",
              "    [theme=dark] .colab-df-convert {\n",
              "      background-color: #3B4455;\n",
              "      fill: #D2E3FC;\n",
              "    }\n",
              "\n",
              "    [theme=dark] .colab-df-convert:hover {\n",
              "      background-color: #434B5C;\n",
              "      box-shadow: 0px 1px 3px 1px rgba(0, 0, 0, 0.15);\n",
              "      filter: drop-shadow(0px 1px 2px rgba(0, 0, 0, 0.3));\n",
              "      fill: #FFFFFF;\n",
              "    }\n",
              "  </style>\n",
              "\n",
              "    <script>\n",
              "      const buttonEl =\n",
              "        document.querySelector('#df-f0a7f735-0db6-4868-bfae-c9622dfab9a1 button.colab-df-convert');\n",
              "      buttonEl.style.display =\n",
              "        google.colab.kernel.accessAllowed ? 'block' : 'none';\n",
              "\n",
              "      async function convertToInteractive(key) {\n",
              "        const element = document.querySelector('#df-f0a7f735-0db6-4868-bfae-c9622dfab9a1');\n",
              "        const dataTable =\n",
              "          await google.colab.kernel.invokeFunction('convertToInteractive',\n",
              "                                                    [key], {});\n",
              "        if (!dataTable) return;\n",
              "\n",
              "        const docLinkHtml = 'Like what you see? Visit the ' +\n",
              "          '<a target=\"_blank\" href=https://colab.research.google.com/notebooks/data_table.ipynb>data table notebook</a>'\n",
              "          + ' to learn more about interactive tables.';\n",
              "        element.innerHTML = '';\n",
              "        dataTable['output_type'] = 'display_data';\n",
              "        await google.colab.output.renderOutput(dataTable, element);\n",
              "        const docLink = document.createElement('div');\n",
              "        docLink.innerHTML = docLinkHtml;\n",
              "        element.appendChild(docLink);\n",
              "      }\n",
              "    </script>\n",
              "  </div>\n",
              "\n",
              "\n",
              "<div id=\"df-abdd0531-0be3-4104-aa46-a45d4dd5f6c0\">\n",
              "  <button class=\"colab-df-quickchart\" onclick=\"quickchart('df-abdd0531-0be3-4104-aa46-a45d4dd5f6c0')\"\n",
              "            title=\"Suggest charts.\"\n",
              "            style=\"display:none;\">\n",
              "\n",
              "<svg xmlns=\"http://www.w3.org/2000/svg\" height=\"24px\"viewBox=\"0 0 24 24\"\n",
              "     width=\"24px\">\n",
              "    <g>\n",
              "        <path d=\"M19 3H5c-1.1 0-2 .9-2 2v14c0 1.1.9 2 2 2h14c1.1 0 2-.9 2-2V5c0-1.1-.9-2-2-2zM9 17H7v-7h2v7zm4 0h-2V7h2v10zm4 0h-2v-4h2v4z\"/>\n",
              "    </g>\n",
              "</svg>\n",
              "  </button>\n",
              "\n",
              "<style>\n",
              "  .colab-df-quickchart {\n",
              "      --bg-color: #E8F0FE;\n",
              "      --fill-color: #1967D2;\n",
              "      --hover-bg-color: #E2EBFA;\n",
              "      --hover-fill-color: #174EA6;\n",
              "      --disabled-fill-color: #AAA;\n",
              "      --disabled-bg-color: #DDD;\n",
              "  }\n",
              "\n",
              "  [theme=dark] .colab-df-quickchart {\n",
              "      --bg-color: #3B4455;\n",
              "      --fill-color: #D2E3FC;\n",
              "      --hover-bg-color: #434B5C;\n",
              "      --hover-fill-color: #FFFFFF;\n",
              "      --disabled-bg-color: #3B4455;\n",
              "      --disabled-fill-color: #666;\n",
              "  }\n",
              "\n",
              "  .colab-df-quickchart {\n",
              "    background-color: var(--bg-color);\n",
              "    border: none;\n",
              "    border-radius: 50%;\n",
              "    cursor: pointer;\n",
              "    display: none;\n",
              "    fill: var(--fill-color);\n",
              "    height: 32px;\n",
              "    padding: 0;\n",
              "    width: 32px;\n",
              "  }\n",
              "\n",
              "  .colab-df-quickchart:hover {\n",
              "    background-color: var(--hover-bg-color);\n",
              "    box-shadow: 0 1px 2px rgba(60, 64, 67, 0.3), 0 1px 3px 1px rgba(60, 64, 67, 0.15);\n",
              "    fill: var(--button-hover-fill-color);\n",
              "  }\n",
              "\n",
              "  .colab-df-quickchart-complete:disabled,\n",
              "  .colab-df-quickchart-complete:disabled:hover {\n",
              "    background-color: var(--disabled-bg-color);\n",
              "    fill: var(--disabled-fill-color);\n",
              "    box-shadow: none;\n",
              "  }\n",
              "\n",
              "  .colab-df-spinner {\n",
              "    border: 2px solid var(--fill-color);\n",
              "    border-color: transparent;\n",
              "    border-bottom-color: var(--fill-color);\n",
              "    animation:\n",
              "      spin 1s steps(1) infinite;\n",
              "  }\n",
              "\n",
              "  @keyframes spin {\n",
              "    0% {\n",
              "      border-color: transparent;\n",
              "      border-bottom-color: var(--fill-color);\n",
              "      border-left-color: var(--fill-color);\n",
              "    }\n",
              "    20% {\n",
              "      border-color: transparent;\n",
              "      border-left-color: var(--fill-color);\n",
              "      border-top-color: var(--fill-color);\n",
              "    }\n",
              "    30% {\n",
              "      border-color: transparent;\n",
              "      border-left-color: var(--fill-color);\n",
              "      border-top-color: var(--fill-color);\n",
              "      border-right-color: var(--fill-color);\n",
              "    }\n",
              "    40% {\n",
              "      border-color: transparent;\n",
              "      border-right-color: var(--fill-color);\n",
              "      border-top-color: var(--fill-color);\n",
              "    }\n",
              "    60% {\n",
              "      border-color: transparent;\n",
              "      border-right-color: var(--fill-color);\n",
              "    }\n",
              "    80% {\n",
              "      border-color: transparent;\n",
              "      border-right-color: var(--fill-color);\n",
              "      border-bottom-color: var(--fill-color);\n",
              "    }\n",
              "    90% {\n",
              "      border-color: transparent;\n",
              "      border-bottom-color: var(--fill-color);\n",
              "    }\n",
              "  }\n",
              "</style>\n",
              "\n",
              "  <script>\n",
              "    async function quickchart(key) {\n",
              "      const quickchartButtonEl =\n",
              "        document.querySelector('#' + key + ' button');\n",
              "      quickchartButtonEl.disabled = true;  // To prevent multiple clicks.\n",
              "      quickchartButtonEl.classList.add('colab-df-spinner');\n",
              "      try {\n",
              "        const charts = await google.colab.kernel.invokeFunction(\n",
              "            'suggestCharts', [key], {});\n",
              "      } catch (error) {\n",
              "        console.error('Error during call to suggestCharts:', error);\n",
              "      }\n",
              "      quickchartButtonEl.classList.remove('colab-df-spinner');\n",
              "      quickchartButtonEl.classList.add('colab-df-quickchart-complete');\n",
              "    }\n",
              "    (() => {\n",
              "      let quickchartButtonEl =\n",
              "        document.querySelector('#df-abdd0531-0be3-4104-aa46-a45d4dd5f6c0 button');\n",
              "      quickchartButtonEl.style.display =\n",
              "        google.colab.kernel.accessAllowed ? 'block' : 'none';\n",
              "    })();\n",
              "  </script>\n",
              "</div>\n",
              "    </div>\n",
              "  </div>\n"
            ]
          },
          "metadata": {},
          "execution_count": 322
        }
      ]
    },
    {
      "cell_type": "code",
      "source": [
        "df.info()"
      ],
      "metadata": {
        "colab": {
          "base_uri": "https://localhost:8080/"
        },
        "id": "QjZ238gUKSs3",
        "outputId": "104a98f9-bb5f-443d-8957-103d7203654d"
      },
      "execution_count": 323,
      "outputs": [
        {
          "output_type": "stream",
          "name": "stdout",
          "text": [
            "<class 'pandas.core.frame.DataFrame'>\n",
            "RangeIndex: 1338 entries, 0 to 1337\n",
            "Data columns (total 7 columns):\n",
            " #   Column    Non-Null Count  Dtype  \n",
            "---  ------    --------------  -----  \n",
            " 0   age       1338 non-null   int64  \n",
            " 1   sex       1338 non-null   object \n",
            " 2   bmi       1338 non-null   float64\n",
            " 3   children  1338 non-null   int64  \n",
            " 4   smoker    1338 non-null   object \n",
            " 5   region    1338 non-null   object \n",
            " 6   charges   1338 non-null   float64\n",
            "dtypes: float64(2), int64(2), object(3)\n",
            "memory usage: 73.3+ KB\n"
          ]
        }
      ]
    },
    {
      "cell_type": "code",
      "source": [
        "###### Must turn Dtypes into numerical encoding\n",
        "df = pd.get_dummies(data=df, drop_first=True)\n",
        "df.head()"
      ],
      "metadata": {
        "colab": {
          "base_uri": "https://localhost:8080/",
          "height": 206
        },
        "id": "8hShNPHgKdhi",
        "outputId": "802b71fa-fd2c-49e5-b173-988e263a68fc"
      },
      "execution_count": 324,
      "outputs": [
        {
          "output_type": "execute_result",
          "data": {
            "text/plain": [
              "   age     bmi  children      charges  sex_male  smoker_yes  region_northwest  \\\n",
              "0   19  27.900         0  16884.92400         0           1                 0   \n",
              "1   18  33.770         1   1725.55230         1           0                 0   \n",
              "2   28  33.000         3   4449.46200         1           0                 0   \n",
              "3   33  22.705         0  21984.47061         1           0                 1   \n",
              "4   32  28.880         0   3866.85520         1           0                 1   \n",
              "\n",
              "   region_southeast  region_southwest  \n",
              "0                 0                 1  \n",
              "1                 1                 0  \n",
              "2                 1                 0  \n",
              "3                 0                 0  \n",
              "4                 0                 0  "
            ],
            "text/html": [
              "\n",
              "  <div id=\"df-7343aa6a-e168-4fcb-bb44-51dd98df632c\" class=\"colab-df-container\">\n",
              "    <div>\n",
              "<style scoped>\n",
              "    .dataframe tbody tr th:only-of-type {\n",
              "        vertical-align: middle;\n",
              "    }\n",
              "\n",
              "    .dataframe tbody tr th {\n",
              "        vertical-align: top;\n",
              "    }\n",
              "\n",
              "    .dataframe thead th {\n",
              "        text-align: right;\n",
              "    }\n",
              "</style>\n",
              "<table border=\"1\" class=\"dataframe\">\n",
              "  <thead>\n",
              "    <tr style=\"text-align: right;\">\n",
              "      <th></th>\n",
              "      <th>age</th>\n",
              "      <th>bmi</th>\n",
              "      <th>children</th>\n",
              "      <th>charges</th>\n",
              "      <th>sex_male</th>\n",
              "      <th>smoker_yes</th>\n",
              "      <th>region_northwest</th>\n",
              "      <th>region_southeast</th>\n",
              "      <th>region_southwest</th>\n",
              "    </tr>\n",
              "  </thead>\n",
              "  <tbody>\n",
              "    <tr>\n",
              "      <th>0</th>\n",
              "      <td>19</td>\n",
              "      <td>27.900</td>\n",
              "      <td>0</td>\n",
              "      <td>16884.92400</td>\n",
              "      <td>0</td>\n",
              "      <td>1</td>\n",
              "      <td>0</td>\n",
              "      <td>0</td>\n",
              "      <td>1</td>\n",
              "    </tr>\n",
              "    <tr>\n",
              "      <th>1</th>\n",
              "      <td>18</td>\n",
              "      <td>33.770</td>\n",
              "      <td>1</td>\n",
              "      <td>1725.55230</td>\n",
              "      <td>1</td>\n",
              "      <td>0</td>\n",
              "      <td>0</td>\n",
              "      <td>1</td>\n",
              "      <td>0</td>\n",
              "    </tr>\n",
              "    <tr>\n",
              "      <th>2</th>\n",
              "      <td>28</td>\n",
              "      <td>33.000</td>\n",
              "      <td>3</td>\n",
              "      <td>4449.46200</td>\n",
              "      <td>1</td>\n",
              "      <td>0</td>\n",
              "      <td>0</td>\n",
              "      <td>1</td>\n",
              "      <td>0</td>\n",
              "    </tr>\n",
              "    <tr>\n",
              "      <th>3</th>\n",
              "      <td>33</td>\n",
              "      <td>22.705</td>\n",
              "      <td>0</td>\n",
              "      <td>21984.47061</td>\n",
              "      <td>1</td>\n",
              "      <td>0</td>\n",
              "      <td>1</td>\n",
              "      <td>0</td>\n",
              "      <td>0</td>\n",
              "    </tr>\n",
              "    <tr>\n",
              "      <th>4</th>\n",
              "      <td>32</td>\n",
              "      <td>28.880</td>\n",
              "      <td>0</td>\n",
              "      <td>3866.85520</td>\n",
              "      <td>1</td>\n",
              "      <td>0</td>\n",
              "      <td>1</td>\n",
              "      <td>0</td>\n",
              "      <td>0</td>\n",
              "    </tr>\n",
              "  </tbody>\n",
              "</table>\n",
              "</div>\n",
              "    <div class=\"colab-df-buttons\">\n",
              "\n",
              "  <div class=\"colab-df-container\">\n",
              "    <button class=\"colab-df-convert\" onclick=\"convertToInteractive('df-7343aa6a-e168-4fcb-bb44-51dd98df632c')\"\n",
              "            title=\"Convert this dataframe to an interactive table.\"\n",
              "            style=\"display:none;\">\n",
              "\n",
              "  <svg xmlns=\"http://www.w3.org/2000/svg\" height=\"24px\" viewBox=\"0 -960 960 960\">\n",
              "    <path d=\"M120-120v-720h720v720H120Zm60-500h600v-160H180v160Zm220 220h160v-160H400v160Zm0 220h160v-160H400v160ZM180-400h160v-160H180v160Zm440 0h160v-160H620v160ZM180-180h160v-160H180v160Zm440 0h160v-160H620v160Z\"/>\n",
              "  </svg>\n",
              "    </button>\n",
              "\n",
              "  <style>\n",
              "    .colab-df-container {\n",
              "      display:flex;\n",
              "      gap: 12px;\n",
              "    }\n",
              "\n",
              "    .colab-df-convert {\n",
              "      background-color: #E8F0FE;\n",
              "      border: none;\n",
              "      border-radius: 50%;\n",
              "      cursor: pointer;\n",
              "      display: none;\n",
              "      fill: #1967D2;\n",
              "      height: 32px;\n",
              "      padding: 0 0 0 0;\n",
              "      width: 32px;\n",
              "    }\n",
              "\n",
              "    .colab-df-convert:hover {\n",
              "      background-color: #E2EBFA;\n",
              "      box-shadow: 0px 1px 2px rgba(60, 64, 67, 0.3), 0px 1px 3px 1px rgba(60, 64, 67, 0.15);\n",
              "      fill: #174EA6;\n",
              "    }\n",
              "\n",
              "    .colab-df-buttons div {\n",
              "      margin-bottom: 4px;\n",
              "    }\n",
              "\n",
              "    [theme=dark] .colab-df-convert {\n",
              "      background-color: #3B4455;\n",
              "      fill: #D2E3FC;\n",
              "    }\n",
              "\n",
              "    [theme=dark] .colab-df-convert:hover {\n",
              "      background-color: #434B5C;\n",
              "      box-shadow: 0px 1px 3px 1px rgba(0, 0, 0, 0.15);\n",
              "      filter: drop-shadow(0px 1px 2px rgba(0, 0, 0, 0.3));\n",
              "      fill: #FFFFFF;\n",
              "    }\n",
              "  </style>\n",
              "\n",
              "    <script>\n",
              "      const buttonEl =\n",
              "        document.querySelector('#df-7343aa6a-e168-4fcb-bb44-51dd98df632c button.colab-df-convert');\n",
              "      buttonEl.style.display =\n",
              "        google.colab.kernel.accessAllowed ? 'block' : 'none';\n",
              "\n",
              "      async function convertToInteractive(key) {\n",
              "        const element = document.querySelector('#df-7343aa6a-e168-4fcb-bb44-51dd98df632c');\n",
              "        const dataTable =\n",
              "          await google.colab.kernel.invokeFunction('convertToInteractive',\n",
              "                                                    [key], {});\n",
              "        if (!dataTable) return;\n",
              "\n",
              "        const docLinkHtml = 'Like what you see? Visit the ' +\n",
              "          '<a target=\"_blank\" href=https://colab.research.google.com/notebooks/data_table.ipynb>data table notebook</a>'\n",
              "          + ' to learn more about interactive tables.';\n",
              "        element.innerHTML = '';\n",
              "        dataTable['output_type'] = 'display_data';\n",
              "        await google.colab.output.renderOutput(dataTable, element);\n",
              "        const docLink = document.createElement('div');\n",
              "        docLink.innerHTML = docLinkHtml;\n",
              "        element.appendChild(docLink);\n",
              "      }\n",
              "    </script>\n",
              "  </div>\n",
              "\n",
              "\n",
              "<div id=\"df-53ed8515-aa7c-473c-ad1f-cbb94c00e12a\">\n",
              "  <button class=\"colab-df-quickchart\" onclick=\"quickchart('df-53ed8515-aa7c-473c-ad1f-cbb94c00e12a')\"\n",
              "            title=\"Suggest charts.\"\n",
              "            style=\"display:none;\">\n",
              "\n",
              "<svg xmlns=\"http://www.w3.org/2000/svg\" height=\"24px\"viewBox=\"0 0 24 24\"\n",
              "     width=\"24px\">\n",
              "    <g>\n",
              "        <path d=\"M19 3H5c-1.1 0-2 .9-2 2v14c0 1.1.9 2 2 2h14c1.1 0 2-.9 2-2V5c0-1.1-.9-2-2-2zM9 17H7v-7h2v7zm4 0h-2V7h2v10zm4 0h-2v-4h2v4z\"/>\n",
              "    </g>\n",
              "</svg>\n",
              "  </button>\n",
              "\n",
              "<style>\n",
              "  .colab-df-quickchart {\n",
              "      --bg-color: #E8F0FE;\n",
              "      --fill-color: #1967D2;\n",
              "      --hover-bg-color: #E2EBFA;\n",
              "      --hover-fill-color: #174EA6;\n",
              "      --disabled-fill-color: #AAA;\n",
              "      --disabled-bg-color: #DDD;\n",
              "  }\n",
              "\n",
              "  [theme=dark] .colab-df-quickchart {\n",
              "      --bg-color: #3B4455;\n",
              "      --fill-color: #D2E3FC;\n",
              "      --hover-bg-color: #434B5C;\n",
              "      --hover-fill-color: #FFFFFF;\n",
              "      --disabled-bg-color: #3B4455;\n",
              "      --disabled-fill-color: #666;\n",
              "  }\n",
              "\n",
              "  .colab-df-quickchart {\n",
              "    background-color: var(--bg-color);\n",
              "    border: none;\n",
              "    border-radius: 50%;\n",
              "    cursor: pointer;\n",
              "    display: none;\n",
              "    fill: var(--fill-color);\n",
              "    height: 32px;\n",
              "    padding: 0;\n",
              "    width: 32px;\n",
              "  }\n",
              "\n",
              "  .colab-df-quickchart:hover {\n",
              "    background-color: var(--hover-bg-color);\n",
              "    box-shadow: 0 1px 2px rgba(60, 64, 67, 0.3), 0 1px 3px 1px rgba(60, 64, 67, 0.15);\n",
              "    fill: var(--button-hover-fill-color);\n",
              "  }\n",
              "\n",
              "  .colab-df-quickchart-complete:disabled,\n",
              "  .colab-df-quickchart-complete:disabled:hover {\n",
              "    background-color: var(--disabled-bg-color);\n",
              "    fill: var(--disabled-fill-color);\n",
              "    box-shadow: none;\n",
              "  }\n",
              "\n",
              "  .colab-df-spinner {\n",
              "    border: 2px solid var(--fill-color);\n",
              "    border-color: transparent;\n",
              "    border-bottom-color: var(--fill-color);\n",
              "    animation:\n",
              "      spin 1s steps(1) infinite;\n",
              "  }\n",
              "\n",
              "  @keyframes spin {\n",
              "    0% {\n",
              "      border-color: transparent;\n",
              "      border-bottom-color: var(--fill-color);\n",
              "      border-left-color: var(--fill-color);\n",
              "    }\n",
              "    20% {\n",
              "      border-color: transparent;\n",
              "      border-left-color: var(--fill-color);\n",
              "      border-top-color: var(--fill-color);\n",
              "    }\n",
              "    30% {\n",
              "      border-color: transparent;\n",
              "      border-left-color: var(--fill-color);\n",
              "      border-top-color: var(--fill-color);\n",
              "      border-right-color: var(--fill-color);\n",
              "    }\n",
              "    40% {\n",
              "      border-color: transparent;\n",
              "      border-right-color: var(--fill-color);\n",
              "      border-top-color: var(--fill-color);\n",
              "    }\n",
              "    60% {\n",
              "      border-color: transparent;\n",
              "      border-right-color: var(--fill-color);\n",
              "    }\n",
              "    80% {\n",
              "      border-color: transparent;\n",
              "      border-right-color: var(--fill-color);\n",
              "      border-bottom-color: var(--fill-color);\n",
              "    }\n",
              "    90% {\n",
              "      border-color: transparent;\n",
              "      border-bottom-color: var(--fill-color);\n",
              "    }\n",
              "  }\n",
              "</style>\n",
              "\n",
              "  <script>\n",
              "    async function quickchart(key) {\n",
              "      const quickchartButtonEl =\n",
              "        document.querySelector('#' + key + ' button');\n",
              "      quickchartButtonEl.disabled = true;  // To prevent multiple clicks.\n",
              "      quickchartButtonEl.classList.add('colab-df-spinner');\n",
              "      try {\n",
              "        const charts = await google.colab.kernel.invokeFunction(\n",
              "            'suggestCharts', [key], {});\n",
              "      } catch (error) {\n",
              "        console.error('Error during call to suggestCharts:', error);\n",
              "      }\n",
              "      quickchartButtonEl.classList.remove('colab-df-spinner');\n",
              "      quickchartButtonEl.classList.add('colab-df-quickchart-complete');\n",
              "    }\n",
              "    (() => {\n",
              "      let quickchartButtonEl =\n",
              "        document.querySelector('#df-53ed8515-aa7c-473c-ad1f-cbb94c00e12a button');\n",
              "      quickchartButtonEl.style.display =\n",
              "        google.colab.kernel.accessAllowed ? 'block' : 'none';\n",
              "    })();\n",
              "  </script>\n",
              "</div>\n",
              "    </div>\n",
              "  </div>\n"
            ]
          },
          "metadata": {},
          "execution_count": 324
        }
      ]
    },
    {
      "cell_type": "code",
      "source": [
        "# Get average & median charges\n",
        "avg_charge = round(df['charges'].mean(), 2)\n",
        "median_charge = round(df['charges'].median(), 2)\n",
        "avg_charge, median_charge"
      ],
      "metadata": {
        "colab": {
          "base_uri": "https://localhost:8080/"
        },
        "id": "3Eo7x4Ffbu1H",
        "outputId": "715c5898-c975-4b38-f14a-28478fdf9e46"
      },
      "execution_count": 325,
      "outputs": [
        {
          "output_type": "execute_result",
          "data": {
            "text/plain": [
              "(13270.42, 9382.03)"
            ]
          },
          "metadata": {},
          "execution_count": 325
        }
      ]
    },
    {
      "cell_type": "code",
      "source": [
        "df.info()"
      ],
      "metadata": {
        "colab": {
          "base_uri": "https://localhost:8080/"
        },
        "id": "HiA4_MPRMNWF",
        "outputId": "4d5cd1a6-87e8-4d67-b658-788aa2aecdf3"
      },
      "execution_count": 326,
      "outputs": [
        {
          "output_type": "stream",
          "name": "stdout",
          "text": [
            "<class 'pandas.core.frame.DataFrame'>\n",
            "RangeIndex: 1338 entries, 0 to 1337\n",
            "Data columns (total 9 columns):\n",
            " #   Column            Non-Null Count  Dtype  \n",
            "---  ------            --------------  -----  \n",
            " 0   age               1338 non-null   int64  \n",
            " 1   bmi               1338 non-null   float64\n",
            " 2   children          1338 non-null   int64  \n",
            " 3   charges           1338 non-null   float64\n",
            " 4   sex_male          1338 non-null   uint8  \n",
            " 5   smoker_yes        1338 non-null   uint8  \n",
            " 6   region_northwest  1338 non-null   uint8  \n",
            " 7   region_southeast  1338 non-null   uint8  \n",
            " 8   region_southwest  1338 non-null   uint8  \n",
            "dtypes: float64(2), int64(2), uint8(5)\n",
            "memory usage: 48.5 KB\n"
          ]
        }
      ]
    },
    {
      "cell_type": "code",
      "source": [
        "# Seperate features & columns\n",
        "X = df.drop('charges', axis=1)\n",
        "y = df['charges']"
      ],
      "metadata": {
        "id": "egSTbb0PMmoD"
      },
      "execution_count": 327,
      "outputs": []
    },
    {
      "cell_type": "code",
      "source": [
        "# Create training and test sets\n",
        "X_train, X_test, y_train, y_test = train_test_split(X, y, test_size=.25, random_state=42)"
      ],
      "metadata": {
        "id": "1hebT2T1MrBj"
      },
      "execution_count": 328,
      "outputs": []
    },
    {
      "cell_type": "code",
      "source": [
        "# Create, compile, fit model\n",
        "nn_r = tf.keras.Sequential([\n",
        "    tf.keras.layers.Dense(10),\n",
        "    tf.keras.layers.Dense(1) # output layer\n",
        "])\n",
        "\n",
        "nn_r.compile(\n",
        "    loss = tf.keras.losses.mae,\n",
        "    optimizer = tf.keras.optimizers.SGD(),\n",
        "    metrics = ['mae']\n",
        ")\n",
        "\n",
        "nn_r.fit(x=tf.expand_dims(X_train, axis=-1), y=y_train, epochs=100, verbose=0)"
      ],
      "metadata": {
        "colab": {
          "base_uri": "https://localhost:8080/"
        },
        "id": "_apC0emSN9_A",
        "outputId": "2ee2f707-42f3-4044-be14-f241628b9152"
      },
      "execution_count": 329,
      "outputs": [
        {
          "output_type": "execute_result",
          "data": {
            "text/plain": [
              "<keras.callbacks.History at 0x7eca15eb8e80>"
            ]
          },
          "metadata": {},
          "execution_count": 329
        }
      ]
    },
    {
      "cell_type": "code",
      "source": [
        "# Check model performance\n",
        "nn_r.evaluate(X_test, y_test)"
      ],
      "metadata": {
        "colab": {
          "base_uri": "https://localhost:8080/"
        },
        "id": "-F9F3hS7eiDP",
        "outputId": "c0b64b94-d7c4-43d2-f300-d271702c4352"
      },
      "execution_count": 330,
      "outputs": [
        {
          "output_type": "stream",
          "name": "stdout",
          "text": [
            "11/11 [==============================] - 0s 2ms/step - loss: 8497.5195 - mae: 8497.5195\n"
          ]
        },
        {
          "output_type": "execute_result",
          "data": {
            "text/plain": [
              "[8497.51953125, 8497.51953125]"
            ]
          },
          "metadata": {},
          "execution_count": 330
        }
      ]
    },
    {
      "cell_type": "markdown",
      "source": [
        "##### Poor performing model above, can we improve?"
      ],
      "metadata": {
        "id": "G7nEfiEpgDDg"
      }
    },
    {
      "cell_type": "code",
      "source": [
        "tf.random.set_seed(seed=42)\n",
        "nn_r2 = tf.keras.Sequential([\n",
        "    tf.keras.layers.Dense(100),\n",
        "    tf.keras.layers.Dense(10),\n",
        "    tf.keras.layers.Dense(10),\n",
        "    tf.keras.layers.Dense(1) # output layer\n",
        "])\n",
        "\n",
        "nn_r2.compile(\n",
        "    loss = tf.keras.losses.mae,\n",
        "    optimizer = tf.keras.optimizers.Adam(),\n",
        "    metrics = ['mae']\n",
        ")\n",
        "\n",
        "history = nn_r2.fit(x=tf.expand_dims(X_train, axis=-1), y=y_train, epochs=100, verbose=0)"
      ],
      "metadata": {
        "id": "RmuaHHsShLCK"
      },
      "execution_count": 339,
      "outputs": []
    },
    {
      "cell_type": "code",
      "source": [
        "# Evaluate\n",
        "nn_r2.evaluate(x=X_test, y=y_test)"
      ],
      "metadata": {
        "colab": {
          "base_uri": "https://localhost:8080/"
        },
        "id": "grrJ5bjehUsT",
        "outputId": "3db19c6d-d435-4fc5-85a2-1370618e35a6"
      },
      "execution_count": 340,
      "outputs": [
        {
          "output_type": "stream",
          "name": "stdout",
          "text": [
            "11/11 [==============================] - 0s 5ms/step - loss: 8493.5986 - mae: 8493.5986\n"
          ]
        },
        {
          "output_type": "execute_result",
          "data": {
            "text/plain": [
              "[8493.5986328125, 8493.5986328125]"
            ]
          },
          "metadata": {},
          "execution_count": 340
        }
      ]
    },
    {
      "cell_type": "markdown",
      "source": [
        "##### Plot Loss Curve!"
      ],
      "metadata": {
        "id": "P5Xj6KCzjNUp"
      }
    },
    {
      "cell_type": "code",
      "source": [
        "# Plot loss curve (also known as training curve)\n",
        "pd.DataFrame(history.history).plot()\n",
        "plt.ylabel('loss')\n",
        "plt.xlabel('epochs')"
      ],
      "metadata": {
        "colab": {
          "base_uri": "https://localhost:8080/",
          "height": 466
        },
        "id": "aSnt6eWui6MT",
        "outputId": "7ad90d37-de7e-49bb-8ee1-471fc8dbcb1a"
      },
      "execution_count": 341,
      "outputs": [
        {
          "output_type": "execute_result",
          "data": {
            "text/plain": [
              "Text(0.5, 0, 'epochs')"
            ]
          },
          "metadata": {},
          "execution_count": 341
        },
        {
          "output_type": "display_data",
          "data": {
            "text/plain": [
              "<Figure size 640x480 with 1 Axes>"
            ],
            "image/png": "[encoded data removed]"
          },
          "metadata": {}
        }
      ]
    },
    {
      "cell_type": "markdown",
      "source": [
        "**How long should you train for?**\n",
        "\n",
        "One can use the [EarlyStopping Callback]('https://www.tensorflow.org/api_docs/python/tf/keras/callbacks/EarlyStopping'). It is a TensorFlow component one can add to model to stop training once it stops improving a certain metric"
      ],
      "metadata": {
        "id": "FrK58lCoj9TA"
      }
    },
    {
      "cell_type": "code",
      "source": [
        "# I just want to know how a generic random forest regressor does\n",
        "rfr = RandomForestRegressor(random_state=42)\n",
        "history = rfr.fit(X=X_train, y=y_train)\n",
        "y_pred = rfr.predict(X=X_test)\n",
        "forest_mae = round(mean_absolute_error(y_true=y_test, y_pred=y_pred), 2)\n",
        "forest_mae"
      ],
      "metadata": {
        "colab": {
          "base_uri": "https://localhost:8080/"
        },
        "id": "Uqv-p2hqa-oD",
        "outputId": "1dc7db56-e596-473e-94b7-d1d220ba5e82"
      },
      "execution_count": 344,
      "outputs": [
        {
          "output_type": "execute_result",
          "data": {
            "text/plain": [
              "2653.61"
            ]
          },
          "metadata": {},
          "execution_count": 344
        }
      ]
    },
    {
      "cell_type": "code",
      "source": [
        "# Linear model\n",
        "lin_r = ElasticNetCV(eps=0.001, n_alphas=100, l1_ratio=[.1, .3, .75, .9, .95, .99], cv=None, max_iter=1000000)\n",
        "lin_r.fit(X_train, y_train)\n",
        "y_pred = lin_r.predict(X_test)\n",
        "lin_r_mae = round(mean_absolute_error(y_true=y_test, y_pred=y_pred), 2)\n",
        "lin_r_mae"
      ],
      "metadata": {
        "colab": {
          "base_uri": "https://localhost:8080/"
        },
        "id": "3sjQbeh0c_9k",
        "outputId": "cb0a26e4-6022-42a3-ee32-8c51c02028ad"
      },
      "execution_count": 334,
      "outputs": [
        {
          "output_type": "execute_result",
          "data": {
            "text/plain": [
              "7476.66"
            ]
          },
          "metadata": {},
          "execution_count": 334
        }
      ]
    },
    {
      "cell_type": "code",
      "source": [
        "# ADA Boost model\n",
        "ada_r = AdaBoostRegressor(random_state=42)\n",
        "ada_r.fit(X_train, y_train)\n",
        "y_pred = ada_r.predict(X_test)\n",
        "ada_mae = round(mean_absolute_error(y_true=y_test, y_pred=y_pred), 2)\n",
        "ada_mae"
      ],
      "metadata": {
        "colab": {
          "base_uri": "https://localhost:8080/"
        },
        "id": "P9G3ICQfex4g",
        "outputId": "4a68df72-c73a-46c4-951b-c19ecf00bba6"
      },
      "execution_count": 335,
      "outputs": [
        {
          "output_type": "execute_result",
          "data": {
            "text/plain": [
              "3678.34"
            ]
          },
          "metadata": {},
          "execution_count": 335
        }
      ]
    },
    {
      "cell_type": "markdown",
      "source": [
        "## Preprocessing Data (Normalization & Standardization)"
      ],
      "metadata": {
        "id": "AAeoGJ_GktVU"
      }
    },
    {
      "cell_type": "markdown",
      "source": [
        "1. Turn Data into numbers\n",
        "2. Make sure tensors are correct shape\n",
        "3. Scale features (normalize or standardize, neural networks tend to prefer normalization)"
      ],
      "metadata": {
        "id": "3RlBPEuVk-NP"
      }
    },
    {
      "cell_type": "markdown",
      "source": [
        "change the values of numeric colulmns in the data set to a common scale without distorting the differences in the range of values <br>\n",
        "\n",
        "**Normalization (Scake)**\n",
        "- Converts all values to between 0 & 1 whilst preserving the original distrubition\n",
        "- *Scikit Learn Function* MinMaxScaler\n",
        "- Use as the default scaler with Neural Networks\n",
        "<br>\n",
        "\n",
        "**Standardization**\n",
        "- Removes the mean & divides each value the standard deviation\n",
        "- *Scikit Learn Function* - StandardScaler\n",
        "- Transform a feature to have close to normal distribution\n",
        "- *Warning*: This reduces the effect of outliers\n",
        "\n",
        "Can always try both & compare performance"
      ],
      "metadata": {
        "id": "zsMBug4Dqgzu"
      }
    },
    {
      "cell_type": "code",
      "source": [
        "df = pd.read_csv('https://raw.githubusercontent.com/stedy/Machine-Learning-with-R-datasets/master/insurance.csv')\n",
        "df.tail()"
      ],
      "metadata": {
        "colab": {
          "base_uri": "https://localhost:8080/",
          "height": 206
        },
        "id": "fO8gHEN9kw_F",
        "outputId": "1f521597-335d-40f6-d2a4-5dd033fee337"
      },
      "execution_count": 377,
      "outputs": [
        {
          "output_type": "execute_result",
          "data": {
            "text/plain": [
              "      age     sex    bmi  children smoker     region     charges\n",
              "1333   50    male  30.97         3     no  northwest  10600.5483\n",
              "1334   18  female  31.92         0     no  northeast   2205.9808\n",
              "1335   18  female  36.85         0     no  southeast   1629.8335\n",
              "1336   21  female  25.80         0     no  southwest   2007.9450\n",
              "1337   61  female  29.07         0    yes  northwest  29141.3603"
            ],
            "text/html": [
              "\n",
              "  <div id=\"df-a1602aa8-9544-4b76-9e42-af8ab7a84aeb\" class=\"colab-df-container\">\n",
              "    <div>\n",
              "<style scoped>\n",
              "    .dataframe tbody tr th:only-of-type {\n",
              "        vertical-align: middle;\n",
              "    }\n",
              "\n",
              "    .dataframe tbody tr th {\n",
              "        vertical-align: top;\n",
              "    }\n",
              "\n",
              "    .dataframe thead th {\n",
              "        text-align: right;\n",
              "    }\n",
              "</style>\n",
              "<table border=\"1\" class=\"dataframe\">\n",
              "  <thead>\n",
              "    <tr style=\"text-align: right;\">\n",
              "      <th></th>\n",
              "      <th>age</th>\n",
              "      <th>sex</th>\n",
              "      <th>bmi</th>\n",
              "      <th>children</th>\n",
              "      <th>smoker</th>\n",
              "      <th>region</th>\n",
              "      <th>charges</th>\n",
              "    </tr>\n",
              "  </thead>\n",
              "  <tbody>\n",
              "    <tr>\n",
              "      <th>1333</th>\n",
              "      <td>50</td>\n",
              "      <td>male</td>\n",
              "      <td>30.97</td>\n",
              "      <td>3</td>\n",
              "      <td>no</td>\n",
              "      <td>northwest</td>\n",
              "      <td>10600.5483</td>\n",
              "    </tr>\n",
              "    <tr>\n",
              "      <th>1334</th>\n",
              "      <td>18</td>\n",
              "      <td>female</td>\n",
              "      <td>31.92</td>\n",
              "      <td>0</td>\n",
              "      <td>no</td>\n",
              "      <td>northeast</td>\n",
              "      <td>2205.9808</td>\n",
              "    </tr>\n",
              "    <tr>\n",
              "      <th>1335</th>\n",
              "      <td>18</td>\n",
              "      <td>female</td>\n",
              "      <td>36.85</td>\n",
              "      <td>0</td>\n",
              "      <td>no</td>\n",
              "      <td>southeast</td>\n",
              "      <td>1629.8335</td>\n",
              "    </tr>\n",
              "    <tr>\n",
              "      <th>1336</th>\n",
              "      <td>21</td>\n",
              "      <td>female</td>\n",
              "      <td>25.80</td>\n",
              "      <td>0</td>\n",
              "      <td>no</td>\n",
              "      <td>southwest</td>\n",
              "      <td>2007.9450</td>\n",
              "    </tr>\n",
              "    <tr>\n",
              "      <th>1337</th>\n",
              "      <td>61</td>\n",
              "      <td>female</td>\n",
              "      <td>29.07</td>\n",
              "      <td>0</td>\n",
              "      <td>yes</td>\n",
              "      <td>northwest</td>\n",
              "      <td>29141.3603</td>\n",
              "    </tr>\n",
              "  </tbody>\n",
              "</table>\n",
              "</div>\n",
              "    <div class=\"colab-df-buttons\">\n",
              "\n",
              "  <div class=\"colab-df-container\">\n",
              "    <button class=\"colab-df-convert\" onclick=\"convertToInteractive('df-a1602aa8-9544-4b76-9e42-af8ab7a84aeb')\"\n",
              "            title=\"Convert this dataframe to an interactive table.\"\n",
              "            style=\"display:none;\">\n",
              "\n",
              "  <svg xmlns=\"http://www.w3.org/2000/svg\" height=\"24px\" viewBox=\"0 -960 960 960\">\n",
              "    <path d=\"M120-120v-720h720v720H120Zm60-500h600v-160H180v160Zm220 220h160v-160H400v160Zm0 220h160v-160H400v160ZM180-400h160v-160H180v160Zm440 0h160v-160H620v160ZM180-180h160v-160H180v160Zm440 0h160v-160H620v160Z\"/>\n",
              "  </svg>\n",
              "    </button>\n",
              "\n",
              "  <style>\n",
              "    .colab-df-container {\n",
              "      display:flex;\n",
              "      gap: 12px;\n",
              "    }\n",
              "\n",
              "    .colab-df-convert {\n",
              "      background-color: #E8F0FE;\n",
              "      border: none;\n",
              "      border-radius: 50%;\n",
              "      cursor: pointer;\n",
              "      display: none;\n",
              "      fill: #1967D2;\n",
              "      height: 32px;\n",
              "      padding: 0 0 0 0;\n",
              "      width: 32px;\n",
              "    }\n",
              "\n",
              "    .colab-df-convert:hover {\n",
              "      background-color: #E2EBFA;\n",
              "      box-shadow: 0px 1px 2px rgba(60, 64, 67, 0.3), 0px 1px 3px 1px rgba(60, 64, 67, 0.15);\n",
              "      fill: #174EA6;\n",
              "    }\n",
              "\n",
              "    .colab-df-buttons div {\n",
              "      margin-bottom: 4px;\n",
              "    }\n",
              "\n",
              "    [theme=dark] .colab-df-convert {\n",
              "      background-color: #3B4455;\n",
              "      fill: #D2E3FC;\n",
              "    }\n",
              "\n",
              "    [theme=dark] .colab-df-convert:hover {\n",
              "      background-color: #434B5C;\n",
              "      box-shadow: 0px 1px 3px 1px rgba(0, 0, 0, 0.15);\n",
              "      filter: drop-shadow(0px 1px 2px rgba(0, 0, 0, 0.3));\n",
              "      fill: #FFFFFF;\n",
              "    }\n",
              "  </style>\n",
              "\n",
              "    <script>\n",
              "      const buttonEl =\n",
              "        document.querySelector('#df-a1602aa8-9544-4b76-9e42-af8ab7a84aeb button.colab-df-convert');\n",
              "      buttonEl.style.display =\n",
              "        google.colab.kernel.accessAllowed ? 'block' : 'none';\n",
              "\n",
              "      async function convertToInteractive(key) {\n",
              "        const element = document.querySelector('#df-a1602aa8-9544-4b76-9e42-af8ab7a84aeb');\n",
              "        const dataTable =\n",
              "          await google.colab.kernel.invokeFunction('convertToInteractive',\n",
              "                                                    [key], {});\n",
              "        if (!dataTable) return;\n",
              "\n",
              "        const docLinkHtml = 'Like what you see? Visit the ' +\n",
              "          '<a target=\"_blank\" href=https://colab.research.google.com/notebooks/data_table.ipynb>data table notebook</a>'\n",
              "          + ' to learn more about interactive tables.';\n",
              "        element.innerHTML = '';\n",
              "        dataTable['output_type'] = 'display_data';\n",
              "        await google.colab.output.renderOutput(dataTable, element);\n",
              "        const docLink = document.createElement('div');\n",
              "        docLink.innerHTML = docLinkHtml;\n",
              "        element.appendChild(docLink);\n",
              "      }\n",
              "    </script>\n",
              "  </div>\n",
              "\n",
              "\n",
              "<div id=\"df-d7c109ae-3a7e-42d0-8a9f-59d8f002e375\">\n",
              "  <button class=\"colab-df-quickchart\" onclick=\"quickchart('df-d7c109ae-3a7e-42d0-8a9f-59d8f002e375')\"\n",
              "            title=\"Suggest charts.\"\n",
              "            style=\"display:none;\">\n",
              "\n",
              "<svg xmlns=\"http://www.w3.org/2000/svg\" height=\"24px\"viewBox=\"0 0 24 24\"\n",
              "     width=\"24px\">\n",
              "    <g>\n",
              "        <path d=\"M19 3H5c-1.1 0-2 .9-2 2v14c0 1.1.9 2 2 2h14c1.1 0 2-.9 2-2V5c0-1.1-.9-2-2-2zM9 17H7v-7h2v7zm4 0h-2V7h2v10zm4 0h-2v-4h2v4z\"/>\n",
              "    </g>\n",
              "</svg>\n",
              "  </button>\n",
              "\n",
              "<style>\n",
              "  .colab-df-quickchart {\n",
              "      --bg-color: #E8F0FE;\n",
              "      --fill-color: #1967D2;\n",
              "      --hover-bg-color: #E2EBFA;\n",
              "      --hover-fill-color: #174EA6;\n",
              "      --disabled-fill-color: #AAA;\n",
              "      --disabled-bg-color: #DDD;\n",
              "  }\n",
              "\n",
              "  [theme=dark] .colab-df-quickchart {\n",
              "      --bg-color: #3B4455;\n",
              "      --fill-color: #D2E3FC;\n",
              "      --hover-bg-color: #434B5C;\n",
              "      --hover-fill-color: #FFFFFF;\n",
              "      --disabled-bg-color: #3B4455;\n",
              "      --disabled-fill-color: #666;\n",
              "  }\n",
              "\n",
              "  .colab-df-quickchart {\n",
              "    background-color: var(--bg-color);\n",
              "    border: none;\n",
              "    border-radius: 50%;\n",
              "    cursor: pointer;\n",
              "    display: none;\n",
              "    fill: var(--fill-color);\n",
              "    height: 32px;\n",
              "    padding: 0;\n",
              "    width: 32px;\n",
              "  }\n",
              "\n",
              "  .colab-df-quickchart:hover {\n",
              "    background-color: var(--hover-bg-color);\n",
              "    box-shadow: 0 1px 2px rgba(60, 64, 67, 0.3), 0 1px 3px 1px rgba(60, 64, 67, 0.15);\n",
              "    fill: var(--button-hover-fill-color);\n",
              "  }\n",
              "\n",
              "  .colab-df-quickchart-complete:disabled,\n",
              "  .colab-df-quickchart-complete:disabled:hover {\n",
              "    background-color: var(--disabled-bg-color);\n",
              "    fill: var(--disabled-fill-color);\n",
              "    box-shadow: none;\n",
              "  }\n",
              "\n",
              "  .colab-df-spinner {\n",
              "    border: 2px solid var(--fill-color);\n",
              "    border-color: transparent;\n",
              "    border-bottom-color: var(--fill-color);\n",
              "    animation:\n",
              "      spin 1s steps(1) infinite;\n",
              "  }\n",
              "\n",
              "  @keyframes spin {\n",
              "    0% {\n",
              "      border-color: transparent;\n",
              "      border-bottom-color: var(--fill-color);\n",
              "      border-left-color: var(--fill-color);\n",
              "    }\n",
              "    20% {\n",
              "      border-color: transparent;\n",
              "      border-left-color: var(--fill-color);\n",
              "      border-top-color: var(--fill-color);\n",
              "    }\n",
              "    30% {\n",
              "      border-color: transparent;\n",
              "      border-left-color: var(--fill-color);\n",
              "      border-top-color: var(--fill-color);\n",
              "      border-right-color: var(--fill-color);\n",
              "    }\n",
              "    40% {\n",
              "      border-color: transparent;\n",
              "      border-right-color: var(--fill-color);\n",
              "      border-top-color: var(--fill-color);\n",
              "    }\n",
              "    60% {\n",
              "      border-color: transparent;\n",
              "      border-right-color: var(--fill-color);\n",
              "    }\n",
              "    80% {\n",
              "      border-color: transparent;\n",
              "      border-right-color: var(--fill-color);\n",
              "      border-bottom-color: var(--fill-color);\n",
              "    }\n",
              "    90% {\n",
              "      border-color: transparent;\n",
              "      border-bottom-color: var(--fill-color);\n",
              "    }\n",
              "  }\n",
              "</style>\n",
              "\n",
              "  <script>\n",
              "    async function quickchart(key) {\n",
              "      const quickchartButtonEl =\n",
              "        document.querySelector('#' + key + ' button');\n",
              "      quickchartButtonEl.disabled = true;  // To prevent multiple clicks.\n",
              "      quickchartButtonEl.classList.add('colab-df-spinner');\n",
              "      try {\n",
              "        const charts = await google.colab.kernel.invokeFunction(\n",
              "            'suggestCharts', [key], {});\n",
              "      } catch (error) {\n",
              "        console.error('Error during call to suggestCharts:', error);\n",
              "      }\n",
              "      quickchartButtonEl.classList.remove('colab-df-spinner');\n",
              "      quickchartButtonEl.classList.add('colab-df-quickchart-complete');\n",
              "    }\n",
              "    (() => {\n",
              "      let quickchartButtonEl =\n",
              "        document.querySelector('#df-d7c109ae-3a7e-42d0-8a9f-59d8f002e375 button');\n",
              "      quickchartButtonEl.style.display =\n",
              "        google.colab.kernel.accessAllowed ? 'block' : 'none';\n",
              "    })();\n",
              "  </script>\n",
              "</div>\n",
              "    </div>\n",
              "  </div>\n"
            ]
          },
          "metadata": {},
          "execution_count": 377
        }
      ]
    },
    {
      "cell_type": "code",
      "source": [
        "# Show difference in scale for age & bmi\n",
        "df['age'].plot(kind='hist', color='orange')"
      ],
      "metadata": {
        "colab": {
          "base_uri": "https://localhost:8080/",
          "height": 447
        },
        "id": "7TU7QmiQrCgY",
        "outputId": "eeb38dea-2539-4225-d898-65554a432788"
      },
      "execution_count": 378,
      "outputs": [
        {
          "output_type": "execute_result",
          "data": {
            "text/plain": [
              "<Axes: ylabel='Frequency'>"
            ]
          },
          "metadata": {},
          "execution_count": 378
        },
        {
          "output_type": "display_data",
          "data": {
            "text/plain": [
              "<Figure size 640x480 with 1 Axes>"
            ],
            "image/png": "[encoded data removed]"
          },
          "metadata": {}
        }
      ]
    },
    {
      "cell_type": "code",
      "source": [
        "df['bmi'].plot(kind='hist')"
      ],
      "metadata": {
        "colab": {
          "base_uri": "https://localhost:8080/",
          "height": 447
        },
        "id": "95GWiUqlrF45",
        "outputId": "59cc1ea4-306b-41f0-bf31-c9f4c33e4678"
      },
      "execution_count": 379,
      "outputs": [
        {
          "output_type": "execute_result",
          "data": {
            "text/plain": [
              "<Axes: ylabel='Frequency'>"
            ]
          },
          "metadata": {},
          "execution_count": 379
        },
        {
          "output_type": "display_data",
          "data": {
            "text/plain": [
              "<Figure size 640x480 with 1 Axes>"
            ],
            "image/png": "[encoded data removed]"
          },
          "metadata": {}
        }
      ]
    },
    {
      "cell_type": "code",
      "source": [
        "# Pass columns that we need to normalize using a column transformer AND\n",
        "# Pass columns we wish to one hot encode!\n",
        "ct = make_column_transformer(\n",
        "    (MinMaxScaler(), ['age', 'bmi', 'children']), # Turn all data in these columns to be between 0 and 1\n",
        "    (OneHotEncoder(handle_unknown=\"ignore\"), ['sex', 'smoker', 'region'])\n",
        ")"
      ],
      "metadata": {
        "id": "Tm3S_sCpt7iR"
      },
      "execution_count": 380,
      "outputs": []
    },
    {
      "cell_type": "code",
      "source": [
        "# Features & label\n",
        "X = df.drop('charges', axis=1)\n",
        "y = df['charges']"
      ],
      "metadata": {
        "id": "ug5Rn49j0LqI"
      },
      "execution_count": 381,
      "outputs": []
    },
    {
      "cell_type": "code",
      "source": [
        "# Split into train and test\n",
        "X_train, X_test, y_train, y_test = train_test_split(X, y, test_size=.2, random_state=42)"
      ],
      "metadata": {
        "colab": {
          "base_uri": "https://localhost:8080/",
          "height": 424
        },
        "id": "pI5rWLOw0bMe",
        "outputId": "05b5f99a-fc05-44fe-bd8a-1ba8111b3932"
      },
      "execution_count": 382,
      "outputs": [
        {
          "output_type": "execute_result",
          "data": {
            "text/plain": [
              "      age     sex     bmi  children smoker     region\n",
              "560    46  female  19.950         2     no  northwest\n",
              "1285   47  female  24.320         0     no  northeast\n",
              "1142   52  female  24.860         0     no  southeast\n",
              "969    39  female  34.320         5     no  southeast\n",
              "486    54  female  21.470         3     no  northwest\n",
              "...   ...     ...     ...       ...    ...        ...\n",
              "1095   18  female  31.350         4     no  northeast\n",
              "1130   39  female  23.870         5     no  southeast\n",
              "1294   58    male  25.175         0     no  northeast\n",
              "860    37  female  47.600         2    yes  southwest\n",
              "1126   55    male  29.900         0     no  southwest\n",
              "\n",
              "[1070 rows x 6 columns]"
            ],
            "text/html": [
              "\n",
              "  <div id=\"df-1e7eeef5-425a-4a2d-a34b-780c28f72af3\" class=\"colab-df-container\">\n",
              "    <div>\n",
              "<style scoped>\n",
              "    .dataframe tbody tr th:only-of-type {\n",
              "        vertical-align: middle;\n",
              "    }\n",
              "\n",
              "    .dataframe tbody tr th {\n",
              "        vertical-align: top;\n",
              "    }\n",
              "\n",
              "    .dataframe thead th {\n",
              "        text-align: right;\n",
              "    }\n",
              "</style>\n",
              "<table border=\"1\" class=\"dataframe\">\n",
              "  <thead>\n",
              "    <tr style=\"text-align: right;\">\n",
              "      <th></th>\n",
              "      <th>age</th>\n",
              "      <th>sex</th>\n",
              "      <th>bmi</th>\n",
              "      <th>children</th>\n",
              "      <th>smoker</th>\n",
              "      <th>region</th>\n",
              "    </tr>\n",
              "  </thead>\n",
              "  <tbody>\n",
              "    <tr>\n",
              "      <th>560</th>\n",
              "      <td>46</td>\n",
              "      <td>female</td>\n",
              "      <td>19.950</td>\n",
              "      <td>2</td>\n",
              "      <td>no</td>\n",
              "      <td>northwest</td>\n",
              "    </tr>\n",
              "    <tr>\n",
              "      <th>1285</th>\n",
              "      <td>47</td>\n",
              "      <td>female</td>\n",
              "      <td>24.320</td>\n",
              "      <td>0</td>\n",
              "      <td>no</td>\n",
              "      <td>northeast</td>\n",
              "    </tr>\n",
              "    <tr>\n",
              "      <th>1142</th>\n",
              "      <td>52</td>\n",
              "      <td>female</td>\n",
              "      <td>24.860</td>\n",
              "      <td>0</td>\n",
              "      <td>no</td>\n",
              "      <td>southeast</td>\n",
              "    </tr>\n",
              "    <tr>\n",
              "      <th>969</th>\n",
              "      <td>39</td>\n",
              "      <td>female</td>\n",
              "      <td>34.320</td>\n",
              "      <td>5</td>\n",
              "      <td>no</td>\n",
              "      <td>southeast</td>\n",
              "    </tr>\n",
              "    <tr>\n",
              "      <th>486</th>\n",
              "      <td>54</td>\n",
              "      <td>female</td>\n",
              "      <td>21.470</td>\n",
              "      <td>3</td>\n",
              "      <td>no</td>\n",
              "      <td>northwest</td>\n",
              "    </tr>\n",
              "    <tr>\n",
              "      <th>...</th>\n",
              "      <td>...</td>\n",
              "      <td>...</td>\n",
              "      <td>...</td>\n",
              "      <td>...</td>\n",
              "      <td>...</td>\n",
              "      <td>...</td>\n",
              "    </tr>\n",
              "    <tr>\n",
              "      <th>1095</th>\n",
              "      <td>18</td>\n",
              "      <td>female</td>\n",
              "      <td>31.350</td>\n",
              "      <td>4</td>\n",
              "      <td>no</td>\n",
              "      <td>northeast</td>\n",
              "    </tr>\n",
              "    <tr>\n",
              "      <th>1130</th>\n",
              "      <td>39</td>\n",
              "      <td>female</td>\n",
              "      <td>23.870</td>\n",
              "      <td>5</td>\n",
              "      <td>no</td>\n",
              "      <td>southeast</td>\n",
              "    </tr>\n",
              "    <tr>\n",
              "      <th>1294</th>\n",
              "      <td>58</td>\n",
              "      <td>male</td>\n",
              "      <td>25.175</td>\n",
              "      <td>0</td>\n",
              "      <td>no</td>\n",
              "      <td>northeast</td>\n",
              "    </tr>\n",
              "    <tr>\n",
              "      <th>860</th>\n",
              "      <td>37</td>\n",
              "      <td>female</td>\n",
              "      <td>47.600</td>\n",
              "      <td>2</td>\n",
              "      <td>yes</td>\n",
              "      <td>southwest</td>\n",
              "    </tr>\n",
              "    <tr>\n",
              "      <th>1126</th>\n",
              "      <td>55</td>\n",
              "      <td>male</td>\n",
              "      <td>29.900</td>\n",
              "      <td>0</td>\n",
              "      <td>no</td>\n",
              "      <td>southwest</td>\n",
              "    </tr>\n",
              "  </tbody>\n",
              "</table>\n",
              "<p>1070 rows × 6 columns</p>\n",
              "</div>\n",
              "    <div class=\"colab-df-buttons\">\n",
              "\n",
              "  <div class=\"colab-df-container\">\n",
              "    <button class=\"colab-df-convert\" onclick=\"convertToInteractive('df-1e7eeef5-425a-4a2d-a34b-780c28f72af3')\"\n",
              "            title=\"Convert this dataframe to an interactive table.\"\n",
              "            style=\"display:none;\">\n",
              "\n",
              "  <svg xmlns=\"http://www.w3.org/2000/svg\" height=\"24px\" viewBox=\"0 -960 960 960\">\n",
              "    <path d=\"M120-120v-720h720v720H120Zm60-500h600v-160H180v160Zm220 220h160v-160H400v160Zm0 220h160v-160H400v160ZM180-400h160v-160H180v160Zm440 0h160v-160H620v160ZM180-180h160v-160H180v160Zm440 0h160v-160H620v160Z\"/>\n",
              "  </svg>\n",
              "    </button>\n",
              "\n",
              "  <style>\n",
              "    .colab-df-container {\n",
              "      display:flex;\n",
              "      gap: 12px;\n",
              "    }\n",
              "\n",
              "    .colab-df-convert {\n",
              "      background-color: #E8F0FE;\n",
              "      border: none;\n",
              "      border-radius: 50%;\n",
              "      cursor: pointer;\n",
              "      display: none;\n",
              "      fill: #1967D2;\n",
              "      height: 32px;\n",
              "      padding: 0 0 0 0;\n",
              "      width: 32px;\n",
              "    }\n",
              "\n",
              "    .colab-df-convert:hover {\n",
              "      background-color: #E2EBFA;\n",
              "      box-shadow: 0px 1px 2px rgba(60, 64, 67, 0.3), 0px 1px 3px 1px rgba(60, 64, 67, 0.15);\n",
              "      fill: #174EA6;\n",
              "    }\n",
              "\n",
              "    .colab-df-buttons div {\n",
              "      margin-bottom: 4px;\n",
              "    }\n",
              "\n",
              "    [theme=dark] .colab-df-convert {\n",
              "      background-color: #3B4455;\n",
              "      fill: #D2E3FC;\n",
              "    }\n",
              "\n",
              "    [theme=dark] .colab-df-convert:hover {\n",
              "      background-color: #434B5C;\n",
              "      box-shadow: 0px 1px 3px 1px rgba(0, 0, 0, 0.15);\n",
              "      filter: drop-shadow(0px 1px 2px rgba(0, 0, 0, 0.3));\n",
              "      fill: #FFFFFF;\n",
              "    }\n",
              "  </style>\n",
              "\n",
              "    <script>\n",
              "      const buttonEl =\n",
              "        document.querySelector('#df-1e7eeef5-425a-4a2d-a34b-780c28f72af3 button.colab-df-convert');\n",
              "      buttonEl.style.display =\n",
              "        google.colab.kernel.accessAllowed ? 'block' : 'none';\n",
              "\n",
              "      async function convertToInteractive(key) {\n",
              "        const element = document.querySelector('#df-1e7eeef5-425a-4a2d-a34b-780c28f72af3');\n",
              "        const dataTable =\n",
              "          await google.colab.kernel.invokeFunction('convertToInteractive',\n",
              "                                                    [key], {});\n",
              "        if (!dataTable) return;\n",
              "\n",
              "        const docLinkHtml = 'Like what you see? Visit the ' +\n",
              "          '<a target=\"_blank\" href=https://colab.research.google.com/notebooks/data_table.ipynb>data table notebook</a>'\n",
              "          + ' to learn more about interactive tables.';\n",
              "        element.innerHTML = '';\n",
              "        dataTable['output_type'] = 'display_data';\n",
              "        await google.colab.output.renderOutput(dataTable, element);\n",
              "        const docLink = document.createElement('div');\n",
              "        docLink.innerHTML = docLinkHtml;\n",
              "        element.appendChild(docLink);\n",
              "      }\n",
              "    </script>\n",
              "  </div>\n",
              "\n",
              "\n",
              "<div id=\"df-aff7cf13-058d-40e2-813f-0e8552d42d9b\">\n",
              "  <button class=\"colab-df-quickchart\" onclick=\"quickchart('df-aff7cf13-058d-40e2-813f-0e8552d42d9b')\"\n",
              "            title=\"Suggest charts.\"\n",
              "            style=\"display:none;\">\n",
              "\n",
              "<svg xmlns=\"http://www.w3.org/2000/svg\" height=\"24px\"viewBox=\"0 0 24 24\"\n",
              "     width=\"24px\">\n",
              "    <g>\n",
              "        <path d=\"M19 3H5c-1.1 0-2 .9-2 2v14c0 1.1.9 2 2 2h14c1.1 0 2-.9 2-2V5c0-1.1-.9-2-2-2zM9 17H7v-7h2v7zm4 0h-2V7h2v10zm4 0h-2v-4h2v4z\"/>\n",
              "    </g>\n",
              "</svg>\n",
              "  </button>\n",
              "\n",
              "<style>\n",
              "  .colab-df-quickchart {\n",
              "      --bg-color: #E8F0FE;\n",
              "      --fill-color: #1967D2;\n",
              "      --hover-bg-color: #E2EBFA;\n",
              "      --hover-fill-color: #174EA6;\n",
              "      --disabled-fill-color: #AAA;\n",
              "      --disabled-bg-color: #DDD;\n",
              "  }\n",
              "\n",
              "  [theme=dark] .colab-df-quickchart {\n",
              "      --bg-color: #3B4455;\n",
              "      --fill-color: #D2E3FC;\n",
              "      --hover-bg-color: #434B5C;\n",
              "      --hover-fill-color: #FFFFFF;\n",
              "      --disabled-bg-color: #3B4455;\n",
              "      --disabled-fill-color: #666;\n",
              "  }\n",
              "\n",
              "  .colab-df-quickchart {\n",
              "    background-color: var(--bg-color);\n",
              "    border: none;\n",
              "    border-radius: 50%;\n",
              "    cursor: pointer;\n",
              "    display: none;\n",
              "    fill: var(--fill-color);\n",
              "    height: 32px;\n",
              "    padding: 0;\n",
              "    width: 32px;\n",
              "  }\n",
              "\n",
              "  .colab-df-quickchart:hover {\n",
              "    background-color: var(--hover-bg-color);\n",
              "    box-shadow: 0 1px 2px rgba(60, 64, 67, 0.3), 0 1px 3px 1px rgba(60, 64, 67, 0.15);\n",
              "    fill: var(--button-hover-fill-color);\n",
              "  }\n",
              "\n",
              "  .colab-df-quickchart-complete:disabled,\n",
              "  .colab-df-quickchart-complete:disabled:hover {\n",
              "    background-color: var(--disabled-bg-color);\n",
              "    fill: var(--disabled-fill-color);\n",
              "    box-shadow: none;\n",
              "  }\n",
              "\n",
              "  .colab-df-spinner {\n",
              "    border: 2px solid var(--fill-color);\n",
              "    border-color: transparent;\n",
              "    border-bottom-color: var(--fill-color);\n",
              "    animation:\n",
              "      spin 1s steps(1) infinite;\n",
              "  }\n",
              "\n",
              "  @keyframes spin {\n",
              "    0% {\n",
              "      border-color: transparent;\n",
              "      border-bottom-color: var(--fill-color);\n",
              "      border-left-color: var(--fill-color);\n",
              "    }\n",
              "    20% {\n",
              "      border-color: transparent;\n",
              "      border-left-color: var(--fill-color);\n",
              "      border-top-color: var(--fill-color);\n",
              "    }\n",
              "    30% {\n",
              "      border-color: transparent;\n",
              "      border-left-color: var(--fill-color);\n",
              "      border-top-color: var(--fill-color);\n",
              "      border-right-color: var(--fill-color);\n",
              "    }\n",
              "    40% {\n",
              "      border-color: transparent;\n",
              "      border-right-color: var(--fill-color);\n",
              "      border-top-color: var(--fill-color);\n",
              "    }\n",
              "    60% {\n",
              "      border-color: transparent;\n",
              "      border-right-color: var(--fill-color);\n",
              "    }\n",
              "    80% {\n",
              "      border-color: transparent;\n",
              "      border-right-color: var(--fill-color);\n",
              "      border-bottom-color: var(--fill-color);\n",
              "    }\n",
              "    90% {\n",
              "      border-color: transparent;\n",
              "      border-bottom-color: var(--fill-color);\n",
              "    }\n",
              "  }\n",
              "</style>\n",
              "\n",
              "  <script>\n",
              "    async function quickchart(key) {\n",
              "      const quickchartButtonEl =\n",
              "        document.querySelector('#' + key + ' button');\n",
              "      quickchartButtonEl.disabled = true;  // To prevent multiple clicks.\n",
              "      quickchartButtonEl.classList.add('colab-df-spinner');\n",
              "      try {\n",
              "        const charts = await google.colab.kernel.invokeFunction(\n",
              "            'suggestCharts', [key], {});\n",
              "      } catch (error) {\n",
              "        console.error('Error during call to suggestCharts:', error);\n",
              "      }\n",
              "      quickchartButtonEl.classList.remove('colab-df-spinner');\n",
              "      quickchartButtonEl.classList.add('colab-df-quickchart-complete');\n",
              "    }\n",
              "    (() => {\n",
              "      let quickchartButtonEl =\n",
              "        document.querySelector('#df-aff7cf13-058d-40e2-813f-0e8552d42d9b button');\n",
              "      quickchartButtonEl.style.display =\n",
              "        google.colab.kernel.accessAllowed ? 'block' : 'none';\n",
              "    })();\n",
              "  </script>\n",
              "</div>\n",
              "    </div>\n",
              "  </div>\n"
            ]
          },
          "metadata": {},
          "execution_count": 382
        }
      ]
    },
    {
      "cell_type": "code",
      "source": [
        "# Fit the column transformer to our training data\n",
        "ct.fit(X_train)\n",
        "\n",
        "# Transform training and test data with normalization\n",
        "X_train_normal = ct.transform(X_train)\n",
        "X_test_normal = ct.transform(X_test)\n",
        "\n",
        "# Can fit and transform in 1 line\n",
        "# ct.fit_transform(X_train)"
      ],
      "metadata": {
        "id": "pTThOGZH0k9R"
      },
      "execution_count": 384,
      "outputs": []
    },
    {
      "cell_type": "code",
      "source": [
        "# Look at normalized data\n",
        "X_train_normal[0:5]"
      ],
      "metadata": {
        "colab": {
          "base_uri": "https://localhost:8080/"
        },
        "id": "GDmJAkQ91A73",
        "outputId": "0e74c8d3-a286-4cb5-ffc3-8bc653482814"
      },
      "execution_count": 390,
      "outputs": [
        {
          "output_type": "execute_result",
          "data": {
            "text/plain": [
              "array([[0.60869565, 0.10734463, 0.4       , 1.        , 0.        ,\n",
              "        1.        , 0.        , 0.        , 1.        , 0.        ,\n",
              "        0.        ],\n",
              "       [0.63043478, 0.22491256, 0.        , 1.        , 0.        ,\n",
              "        1.        , 0.        , 1.        , 0.        , 0.        ,\n",
              "        0.        ],\n",
              "       [0.73913043, 0.23944041, 0.        , 1.        , 0.        ,\n",
              "        1.        , 0.        , 0.        , 0.        , 1.        ,\n",
              "        0.        ],\n",
              "       [0.45652174, 0.49394673, 1.        , 1.        , 0.        ,\n",
              "        1.        , 0.        , 0.        , 0.        , 1.        ,\n",
              "        0.        ],\n",
              "       [0.7826087 , 0.14823783, 0.6       , 1.        , 0.        ,\n",
              "        1.        , 0.        , 0.        , 1.        , 0.        ,\n",
              "        0.        ]])"
            ]
          },
          "metadata": {},
          "execution_count": 390
        }
      ]
    },
    {
      "cell_type": "code",
      "source": [
        "# See the new shape\n",
        "X_train_normal.shape"
      ],
      "metadata": {
        "colab": {
          "base_uri": "https://localhost:8080/"
        },
        "id": "PbGgHzmK3FcH",
        "outputId": "e9612274-1e0b-4396-b013-770d0d497d8b"
      },
      "execution_count": 392,
      "outputs": [
        {
          "output_type": "execute_result",
          "data": {
            "text/plain": [
              "(1070, 11)"
            ]
          },
          "metadata": {},
          "execution_count": 392
        }
      ]
    },
    {
      "cell_type": "markdown",
      "source": [
        "Data is normaliazed & one hot encoded. Build a neural network model to fit on normalized data"
      ],
      "metadata": {
        "id": "LE3N7ST33he0"
      }
    },
    {
      "cell_type": "code",
      "source": [
        "tf.random.set_seed(seed=42)\n",
        "\n",
        "model = tf.keras.Sequential(layers=[\n",
        "    tf.keras.layers.Dense(100),\n",
        "    tf.keras.layers.Dense(10),\n",
        "    tf.keras.layers.Dense(1)\n",
        "])\n",
        "\n",
        "model.compile(\n",
        "    loss=tf.keras.losses.mae,\n",
        "    optimizer=tf.keras.optimizers.Adam(),\n",
        "    metrics=['mae']\n",
        ")\n",
        "\n",
        "history = model.fit(x=tf.expand_dims(input=X_train_normal, axis=-1), y=y_train, epochs=100)"
      ],
      "metadata": {
        "colab": {
          "base_uri": "https://localhost:8080/"
        },
        "id": "rtd2UQXp3uqq",
        "outputId": "4ec000c0-ebfe-452e-b101-2634600f2dbc"
      },
      "execution_count": 394,
      "outputs": [
        {
          "output_type": "stream",
          "name": "stdout",
          "text": [
            "Epoch 1/100\n",
            "34/34 [==============================] - 2s 5ms/step - loss: 13345.0576 - mae: 13345.0576\n",
            "Epoch 2/100\n",
            "34/34 [==============================] - 0s 4ms/step - loss: 13341.9160 - mae: 13341.9160\n",
            "Epoch 3/100\n",
            "34/34 [==============================] - 0s 4ms/step - loss: 13334.7979 - mae: 13334.7979\n",
            "Epoch 4/100\n",
            "34/34 [==============================] - 0s 5ms/step - loss: 13320.5586 - mae: 13320.5586\n",
            "Epoch 5/100\n",
            "34/34 [==============================] - 0s 4ms/step - loss: 13296.0479 - mae: 13296.0479\n",
            "Epoch 6/100\n",
            "34/34 [==============================] - 0s 4ms/step - loss: 13258.2939 - mae: 13258.2939\n",
            "Epoch 7/100\n",
            "34/34 [==============================] - 0s 4ms/step - loss: 13204.5391 - mae: 13204.5391\n",
            "Epoch 8/100\n",
            "34/34 [==============================] - 0s 5ms/step - loss: 13132.1104 - mae: 13132.1104\n",
            "Epoch 9/100\n",
            "34/34 [==============================] - 0s 5ms/step - loss: 13038.3438 - mae: 13038.3438\n",
            "Epoch 10/100\n",
            "34/34 [==============================] - 0s 5ms/step - loss: 12920.7148 - mae: 12920.7148\n",
            "Epoch 11/100\n",
            "34/34 [==============================] - 0s 5ms/step - loss: 12776.7500 - mae: 12776.7500\n",
            "Epoch 12/100\n",
            "34/34 [==============================] - 0s 5ms/step - loss: 12604.1914 - mae: 12604.1914\n",
            "Epoch 13/100\n",
            "34/34 [==============================] - 0s 4ms/step - loss: 12403.2324 - mae: 12403.2324\n",
            "Epoch 14/100\n",
            "34/34 [==============================] - 0s 5ms/step - loss: 12174.5146 - mae: 12174.5146\n",
            "Epoch 15/100\n",
            "34/34 [==============================] - 0s 4ms/step - loss: 11926.1592 - mae: 11926.1592\n",
            "Epoch 16/100\n",
            "34/34 [==============================] - 0s 4ms/step - loss: 11660.7422 - mae: 11660.7422\n",
            "Epoch 17/100\n",
            "34/34 [==============================] - 0s 4ms/step - loss: 11383.2959 - mae: 11383.2959\n",
            "Epoch 18/100\n",
            "34/34 [==============================] - 0s 8ms/step - loss: 11095.3008 - mae: 11095.3008\n",
            "Epoch 19/100\n",
            "34/34 [==============================] - 0s 5ms/step - loss: 10808.2588 - mae: 10808.2588\n",
            "Epoch 20/100\n",
            "34/34 [==============================] - 0s 4ms/step - loss: 10532.8945 - mae: 10532.8945\n",
            "Epoch 21/100\n",
            "34/34 [==============================] - 0s 4ms/step - loss: 10269.7236 - mae: 10269.7236\n",
            "Epoch 22/100\n",
            "34/34 [==============================] - 0s 4ms/step - loss: 10020.2598 - mae: 10020.2598\n",
            "Epoch 23/100\n",
            "34/34 [==============================] - 0s 4ms/step - loss: 9784.5186 - mae: 9784.5186\n",
            "Epoch 24/100\n",
            "34/34 [==============================] - 0s 4ms/step - loss: 9564.9072 - mae: 9564.9072\n",
            "Epoch 25/100\n",
            "34/34 [==============================] - 0s 4ms/step - loss: 9379.9824 - mae: 9379.9824\n",
            "Epoch 26/100\n",
            "34/34 [==============================] - 0s 4ms/step - loss: 9206.8223 - mae: 9206.8223\n",
            "Epoch 27/100\n",
            "34/34 [==============================] - 0s 4ms/step - loss: 9064.5195 - mae: 9064.5195\n",
            "Epoch 28/100\n",
            "34/34 [==============================] - 0s 4ms/step - loss: 8946.0977 - mae: 8946.0977\n",
            "Epoch 29/100\n",
            "34/34 [==============================] - 0s 4ms/step - loss: 8850.3887 - mae: 8850.3887\n",
            "Epoch 30/100\n",
            "34/34 [==============================] - 0s 3ms/step - loss: 8774.3613 - mae: 8774.3613\n",
            "Epoch 31/100\n",
            "34/34 [==============================] - 0s 3ms/step - loss: 8713.6367 - mae: 8713.6367\n",
            "Epoch 32/100\n",
            "34/34 [==============================] - 0s 3ms/step - loss: 8669.4795 - mae: 8669.4795\n",
            "Epoch 33/100\n",
            "34/34 [==============================] - 0s 4ms/step - loss: 8633.4258 - mae: 8633.4258\n",
            "Epoch 34/100\n",
            "34/34 [==============================] - 0s 5ms/step - loss: 8606.1396 - mae: 8606.1396\n",
            "Epoch 35/100\n",
            "34/34 [==============================] - 0s 4ms/step - loss: 8583.4971 - mae: 8583.4971\n",
            "Epoch 36/100\n",
            "34/34 [==============================] - 0s 4ms/step - loss: 8565.0225 - mae: 8565.0225\n",
            "Epoch 37/100\n",
            "34/34 [==============================] - 0s 5ms/step - loss: 8550.1289 - mae: 8550.1289\n",
            "Epoch 38/100\n",
            "34/34 [==============================] - 0s 5ms/step - loss: 8537.4922 - mae: 8537.4922\n",
            "Epoch 39/100\n",
            "34/34 [==============================] - 0s 6ms/step - loss: 8525.2080 - mae: 8525.2080\n",
            "Epoch 40/100\n",
            "34/34 [==============================] - 0s 6ms/step - loss: 8514.3809 - mae: 8514.3809\n",
            "Epoch 41/100\n",
            "34/34 [==============================] - 0s 4ms/step - loss: 8504.7920 - mae: 8504.7920\n",
            "Epoch 42/100\n",
            "34/34 [==============================] - 0s 5ms/step - loss: 8495.1621 - mae: 8495.1621\n",
            "Epoch 43/100\n",
            "34/34 [==============================] - 0s 7ms/step - loss: 8485.7607 - mae: 8485.7607\n",
            "Epoch 44/100\n",
            "34/34 [==============================] - 0s 8ms/step - loss: 8476.3916 - mae: 8476.3916\n",
            "Epoch 45/100\n",
            "34/34 [==============================] - 0s 6ms/step - loss: 8468.2471 - mae: 8468.2471\n",
            "Epoch 46/100\n",
            "34/34 [==============================] - 0s 4ms/step - loss: 8459.8027 - mae: 8459.8027\n",
            "Epoch 47/100\n",
            "34/34 [==============================] - 0s 4ms/step - loss: 8452.9893 - mae: 8452.9893\n",
            "Epoch 48/100\n",
            "34/34 [==============================] - 0s 10ms/step - loss: 8443.5312 - mae: 8443.5312\n",
            "Epoch 49/100\n",
            "34/34 [==============================] - 0s 9ms/step - loss: 8436.5967 - mae: 8436.5967\n",
            "Epoch 50/100\n",
            "34/34 [==============================] - 0s 9ms/step - loss: 8428.8916 - mae: 8428.8916\n",
            "Epoch 51/100\n",
            "34/34 [==============================] - 0s 8ms/step - loss: 8424.1396 - mae: 8424.1396\n",
            "Epoch 52/100\n",
            "34/34 [==============================] - 0s 9ms/step - loss: 8415.8262 - mae: 8415.8262\n",
            "Epoch 53/100\n",
            "34/34 [==============================] - 0s 14ms/step - loss: 8409.9326 - mae: 8409.9326\n",
            "Epoch 54/100\n",
            "34/34 [==============================] - 0s 9ms/step - loss: 8403.9619 - mae: 8403.9619\n",
            "Epoch 55/100\n",
            "34/34 [==============================] - 0s 9ms/step - loss: 8398.2109 - mae: 8398.2109\n",
            "Epoch 56/100\n",
            "34/34 [==============================] - 0s 9ms/step - loss: 8392.3193 - mae: 8392.3193\n",
            "Epoch 57/100\n",
            "34/34 [==============================] - 0s 11ms/step - loss: 8386.8877 - mae: 8386.8877\n",
            "Epoch 58/100\n",
            "34/34 [==============================] - 0s 8ms/step - loss: 8381.8369 - mae: 8381.8369\n",
            "Epoch 59/100\n",
            "34/34 [==============================] - 0s 9ms/step - loss: 8377.5908 - mae: 8377.5908\n",
            "Epoch 60/100\n",
            "34/34 [==============================] - 0s 10ms/step - loss: 8372.1533 - mae: 8372.1533\n",
            "Epoch 61/100\n",
            "34/34 [==============================] - 0s 11ms/step - loss: 8367.8604 - mae: 8367.8604\n",
            "Epoch 62/100\n",
            "34/34 [==============================] - 0s 9ms/step - loss: 8362.8721 - mae: 8362.8721\n",
            "Epoch 63/100\n",
            "34/34 [==============================] - 0s 9ms/step - loss: 8358.9873 - mae: 8358.9873\n",
            "Epoch 64/100\n",
            "34/34 [==============================] - 0s 9ms/step - loss: 8354.6143 - mae: 8354.6143\n",
            "Epoch 65/100\n",
            "34/34 [==============================] - 0s 8ms/step - loss: 8350.7979 - mae: 8350.7979\n",
            "Epoch 66/100\n",
            "34/34 [==============================] - 0s 8ms/step - loss: 8347.0859 - mae: 8347.0859\n",
            "Epoch 67/100\n",
            "34/34 [==============================] - 0s 8ms/step - loss: 8343.4238 - mae: 8343.4238\n",
            "Epoch 68/100\n",
            "34/34 [==============================] - 0s 10ms/step - loss: 8339.6484 - mae: 8339.6484\n",
            "Epoch 69/100\n",
            "34/34 [==============================] - 0s 10ms/step - loss: 8336.0898 - mae: 8336.0898\n",
            "Epoch 70/100\n",
            "34/34 [==============================] - 0s 10ms/step - loss: 8333.2998 - mae: 8333.2998\n",
            "Epoch 71/100\n",
            "34/34 [==============================] - 0s 9ms/step - loss: 8329.5723 - mae: 8329.5723\n",
            "Epoch 72/100\n",
            "34/34 [==============================] - 0s 7ms/step - loss: 8326.7236 - mae: 8326.7236\n",
            "Epoch 73/100\n",
            "34/34 [==============================] - 0s 6ms/step - loss: 8323.3105 - mae: 8323.3105\n",
            "Epoch 74/100\n",
            "34/34 [==============================] - 0s 4ms/step - loss: 8320.4775 - mae: 8320.4775\n",
            "Epoch 75/100\n",
            "34/34 [==============================] - 0s 6ms/step - loss: 8317.6387 - mae: 8317.6387\n",
            "Epoch 76/100\n",
            "34/34 [==============================] - 0s 7ms/step - loss: 8315.7627 - mae: 8315.7627\n",
            "Epoch 77/100\n",
            "34/34 [==============================] - 0s 4ms/step - loss: 8312.7715 - mae: 8312.7715\n",
            "Epoch 78/100\n",
            "34/34 [==============================] - 0s 5ms/step - loss: 8310.7285 - mae: 8310.7285\n",
            "Epoch 79/100\n",
            "34/34 [==============================] - 0s 6ms/step - loss: 8308.2021 - mae: 8308.2021\n",
            "Epoch 80/100\n",
            "34/34 [==============================] - 0s 4ms/step - loss: 8305.9678 - mae: 8305.9678\n",
            "Epoch 81/100\n",
            "34/34 [==============================] - 0s 4ms/step - loss: 8304.0713 - mae: 8304.0713\n",
            "Epoch 82/100\n",
            "34/34 [==============================] - 0s 4ms/step - loss: 8305.2842 - mae: 8305.2842\n",
            "Epoch 83/100\n",
            "34/34 [==============================] - 0s 6ms/step - loss: 8301.3877 - mae: 8301.3877\n",
            "Epoch 84/100\n",
            "34/34 [==============================] - 0s 5ms/step - loss: 8298.6934 - mae: 8298.6934\n",
            "Epoch 85/100\n",
            "34/34 [==============================] - 0s 8ms/step - loss: 8298.7012 - mae: 8298.7012\n",
            "Epoch 86/100\n",
            "34/34 [==============================] - 0s 8ms/step - loss: 8296.3789 - mae: 8296.3789\n",
            "Epoch 87/100\n",
            "34/34 [==============================] - 0s 9ms/step - loss: 8295.4756 - mae: 8295.4756\n",
            "Epoch 88/100\n",
            "34/34 [==============================] - 0s 6ms/step - loss: 8293.7510 - mae: 8293.7510\n",
            "Epoch 89/100\n",
            "34/34 [==============================] - 0s 6ms/step - loss: 8292.5830 - mae: 8292.5830\n",
            "Epoch 90/100\n",
            "34/34 [==============================] - 0s 7ms/step - loss: 8292.8887 - mae: 8292.8887\n",
            "Epoch 91/100\n",
            "34/34 [==============================] - 0s 6ms/step - loss: 8290.6865 - mae: 8290.6865\n",
            "Epoch 92/100\n",
            "34/34 [==============================] - 0s 6ms/step - loss: 8290.6973 - mae: 8290.6973\n",
            "Epoch 93/100\n",
            "34/34 [==============================] - 0s 6ms/step - loss: 8289.5273 - mae: 8289.5273\n",
            "Epoch 94/100\n",
            "34/34 [==============================] - 0s 4ms/step - loss: 8289.4453 - mae: 8289.4453\n",
            "Epoch 95/100\n",
            "34/34 [==============================] - 0s 5ms/step - loss: 8288.7568 - mae: 8288.7568\n",
            "Epoch 96/100\n",
            "34/34 [==============================] - 0s 4ms/step - loss: 8287.1836 - mae: 8287.1836\n",
            "Epoch 97/100\n",
            "34/34 [==============================] - 0s 3ms/step - loss: 8287.5645 - mae: 8287.5645\n",
            "Epoch 98/100\n",
            "34/34 [==============================] - 0s 4ms/step - loss: 8286.2432 - mae: 8286.2432\n",
            "Epoch 99/100\n",
            "34/34 [==============================] - 0s 4ms/step - loss: 8286.2734 - mae: 8286.2734\n",
            "Epoch 100/100\n",
            "34/34 [==============================] - 0s 3ms/step - loss: 8285.2441 - mae: 8285.2441\n"
          ]
        }
      ]
    },
    {
      "cell_type": "code",
      "source": [
        "model.evaluate(x=X_test_normal, y=y_test)"
      ],
      "metadata": {
        "colab": {
          "base_uri": "https://localhost:8080/"
        },
        "id": "wRAqBqq-3tYP",
        "outputId": "12695892-e60f-4d3b-dbca-308311a9e2c4"
      },
      "execution_count": 395,
      "outputs": [
        {
          "output_type": "stream",
          "name": "stdout",
          "text": [
            "9/9 [==============================] - 1s 4ms/step - loss: 8621.6562 - mae: 8621.6562\n"
          ]
        },
        {
          "output_type": "execute_result",
          "data": {
            "text/plain": [
              "[8621.65625, 8621.65625]"
            ]
          },
          "metadata": {},
          "execution_count": 395
        }
      ]
    },
    {
      "cell_type": "code",
      "source": [],
      "metadata": {
        "id": "0niVJf9m4gdH"
      },
      "execution_count": null,
      "outputs": []
    }
  ]
}