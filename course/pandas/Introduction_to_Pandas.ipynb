{
 "cells": [
  {
   "cell_type": "markdown",
   "id": "d479b4a4-6abe-4f41-955a-18669475d648",
   "metadata": {},
   "source": [
    "# Adam Forestier"
   ]
  },
  {
   "cell_type": "markdown",
   "id": "5cf3116f-b439-4c2a-bccc-4fea5519fcf3",
   "metadata": {},
   "source": [
    "## Last Updated: Augsut 13, 2023"
   ]
  },
  {
   "cell_type": "code",
   "execution_count": null,
   "id": "811ae95f-ded4-436e-acce-0a4187ca7b35",
   "metadata": {},
   "outputs": [],
   "source": []
  }
 ],
 "metadata": {
  "kernelspec": {
   "display_name": "Python 3 (ipykernel)",
   "language": "python",
   "name": "python3"
  },
  "language_info": {
   "codemirror_mode": {
    "name": "ipython",
    "version": 3
   },
   "file_extension": ".py",
   "mimetype": "text/x-python",
   "name": "python",
   "nbconvert_exporter": "python",
   "pygments_lexer": "ipython3",
   "version": "3.10.11"
  }
 },
 "nbformat": 4,
 "nbformat_minor": 5
}
